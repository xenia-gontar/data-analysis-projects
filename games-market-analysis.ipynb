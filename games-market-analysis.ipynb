{
 "cells": [
  {
   "cell_type": "markdown",
   "metadata": {},
   "source": [
    "# Исследование компьютерных игр для интернет-магазина"
   ]
  },
  {
   "cell_type": "markdown",
   "metadata": {},
   "source": [
    "Из открытых источников доступны исторические данные о продажах игр, пользовательском рейтинге и оценке критиков, жанрах и платформах.\n",
    "\n",
    "**Цели исследования:**\n",
    "\n",
    "1. Изучить тренд выпуска компьютерных игр (как ситуация менялась с годами).\n",
    "2. Посмотреть изменение продаж по платформам. Выявить платформы с наибольшими суммарными продажами.\n",
    "3. Рассмотреть влияние отзывов пользователей и критиков на продажи внутри платформы.\n",
    "4. Построить распределение игр по жанрам, выявить наиболее прибыльные жанры.\n",
    "5. Составить портрет типичного пользователя каждого региона (самая популярная платформа, самые популярные жанры, влияние рейтинга ESPB на продажи в отдельном регионе).\n",
    "6. Проверить гипотезу о равенстве средних пользовательских рейтингов платформ Xbox One и PC.\n",
    "7. Проверить гипотезу о различиях в пользовательском рейтинге жанров Action и Sports.\n",
    "8. Сформулировать общий вывод по результатам исследования.\n",
    "\n",
    "**Ход исследования:**\n",
    "\n",
    "1. Обзор данных\n",
    "2. Предоработка данных\n",
    "3. Исследовательский анализ данных\n",
    "4. Типичный портрет пользователя по регионам\n",
    "5. Статистический анализ данных\n",
    "6. Заключительный вывод\n",
    "\n"
   ]
  },
  {
   "cell_type": "markdown",
   "metadata": {},
   "source": [
    "#### Обзор данных"
   ]
  },
  {
   "cell_type": "markdown",
   "metadata": {},
   "source": [
    "##### Загрузка необходимых библиотек для работы:"
   ]
  },
  {
   "cell_type": "code",
   "execution_count": 1,
   "metadata": {},
   "outputs": [],
   "source": [
    "import pandas as pd\n",
    "import matplotlib.pyplot as plt\n",
    "from scipy import stats as st\n",
    "import numpy as np"
   ]
  },
  {
   "cell_type": "markdown",
   "metadata": {},
   "source": [
    "##### Загрузка данных:"
   ]
  },
  {
   "cell_type": "code",
   "execution_count": 2,
   "metadata": {},
   "outputs": [],
   "source": [
    "data = pd.read_csv(\"/datasets/games.csv\")"
   ]
  },
  {
   "cell_type": "markdown",
   "metadata": {},
   "source": [
    "##### Обзор данных"
   ]
  },
  {
   "cell_type": "markdown",
   "metadata": {},
   "source": [
    "Выведем первые несколько строк датафрейма:"
   ]
  },
  {
   "cell_type": "code",
   "execution_count": 3,
   "metadata": {
    "scrolled": true
   },
   "outputs": [
    {
     "data": {
      "text/html": [
       "<div>\n",
       "<style scoped>\n",
       "    .dataframe tbody tr th:only-of-type {\n",
       "        vertical-align: middle;\n",
       "    }\n",
       "\n",
       "    .dataframe tbody tr th {\n",
       "        vertical-align: top;\n",
       "    }\n",
       "\n",
       "    .dataframe thead th {\n",
       "        text-align: right;\n",
       "    }\n",
       "</style>\n",
       "<table border=\"1\" class=\"dataframe\">\n",
       "  <thead>\n",
       "    <tr style=\"text-align: right;\">\n",
       "      <th></th>\n",
       "      <th>Name</th>\n",
       "      <th>Platform</th>\n",
       "      <th>Year_of_Release</th>\n",
       "      <th>Genre</th>\n",
       "      <th>NA_sales</th>\n",
       "      <th>EU_sales</th>\n",
       "      <th>JP_sales</th>\n",
       "      <th>Other_sales</th>\n",
       "      <th>Critic_Score</th>\n",
       "      <th>User_Score</th>\n",
       "      <th>Rating</th>\n",
       "    </tr>\n",
       "  </thead>\n",
       "  <tbody>\n",
       "    <tr>\n",
       "      <th>0</th>\n",
       "      <td>Wii Sports</td>\n",
       "      <td>Wii</td>\n",
       "      <td>2006.0</td>\n",
       "      <td>Sports</td>\n",
       "      <td>41.36</td>\n",
       "      <td>28.96</td>\n",
       "      <td>3.77</td>\n",
       "      <td>8.45</td>\n",
       "      <td>76.0</td>\n",
       "      <td>8</td>\n",
       "      <td>E</td>\n",
       "    </tr>\n",
       "    <tr>\n",
       "      <th>1</th>\n",
       "      <td>Super Mario Bros.</td>\n",
       "      <td>NES</td>\n",
       "      <td>1985.0</td>\n",
       "      <td>Platform</td>\n",
       "      <td>29.08</td>\n",
       "      <td>3.58</td>\n",
       "      <td>6.81</td>\n",
       "      <td>0.77</td>\n",
       "      <td>NaN</td>\n",
       "      <td>NaN</td>\n",
       "      <td>NaN</td>\n",
       "    </tr>\n",
       "    <tr>\n",
       "      <th>2</th>\n",
       "      <td>Mario Kart Wii</td>\n",
       "      <td>Wii</td>\n",
       "      <td>2008.0</td>\n",
       "      <td>Racing</td>\n",
       "      <td>15.68</td>\n",
       "      <td>12.76</td>\n",
       "      <td>3.79</td>\n",
       "      <td>3.29</td>\n",
       "      <td>82.0</td>\n",
       "      <td>8.3</td>\n",
       "      <td>E</td>\n",
       "    </tr>\n",
       "    <tr>\n",
       "      <th>3</th>\n",
       "      <td>Wii Sports Resort</td>\n",
       "      <td>Wii</td>\n",
       "      <td>2009.0</td>\n",
       "      <td>Sports</td>\n",
       "      <td>15.61</td>\n",
       "      <td>10.93</td>\n",
       "      <td>3.28</td>\n",
       "      <td>2.95</td>\n",
       "      <td>80.0</td>\n",
       "      <td>8</td>\n",
       "      <td>E</td>\n",
       "    </tr>\n",
       "    <tr>\n",
       "      <th>4</th>\n",
       "      <td>Pokemon Red/Pokemon Blue</td>\n",
       "      <td>GB</td>\n",
       "      <td>1996.0</td>\n",
       "      <td>Role-Playing</td>\n",
       "      <td>11.27</td>\n",
       "      <td>8.89</td>\n",
       "      <td>10.22</td>\n",
       "      <td>1.00</td>\n",
       "      <td>NaN</td>\n",
       "      <td>NaN</td>\n",
       "      <td>NaN</td>\n",
       "    </tr>\n",
       "  </tbody>\n",
       "</table>\n",
       "</div>"
      ],
      "text/plain": [
       "                       Name Platform  Year_of_Release         Genre  NA_sales  \\\n",
       "0                Wii Sports      Wii           2006.0        Sports     41.36   \n",
       "1         Super Mario Bros.      NES           1985.0      Platform     29.08   \n",
       "2            Mario Kart Wii      Wii           2008.0        Racing     15.68   \n",
       "3         Wii Sports Resort      Wii           2009.0        Sports     15.61   \n",
       "4  Pokemon Red/Pokemon Blue       GB           1996.0  Role-Playing     11.27   \n",
       "\n",
       "   EU_sales  JP_sales  Other_sales  Critic_Score User_Score Rating  \n",
       "0     28.96      3.77         8.45          76.0          8      E  \n",
       "1      3.58      6.81         0.77           NaN        NaN    NaN  \n",
       "2     12.76      3.79         3.29          82.0        8.3      E  \n",
       "3     10.93      3.28         2.95          80.0          8      E  \n",
       "4      8.89     10.22         1.00           NaN        NaN    NaN  "
      ]
     },
     "execution_count": 3,
     "metadata": {},
     "output_type": "execute_result"
    }
   ],
   "source": [
    "data.head(5)"
   ]
  },
  {
   "cell_type": "markdown",
   "metadata": {},
   "source": [
    "Видим 11 переменных:\n",
    "\n",
    "    1) Название игры;\n",
    "    2) Название платформы;\n",
    "    3) Год выпуска;\n",
    "    4) Жанр;\n",
    "    5) Продажи в Северной Америке (в млн проданных копий);\n",
    "    6) Продажи в Европе (в млн проданных копий);\n",
    "    7) Продажи в Японии (в млн проданных копий);\n",
    "    8) Продажи в других регионах (в млн проданных копий);\n",
    "    9) Оценка критиков;\n",
    "    10) Пользовательский рейтинг;\n",
    "    11) Рейтинг ESRB;"
   ]
  },
  {
   "cell_type": "markdown",
   "metadata": {},
   "source": [
    "Выведем так же общую информацию о размере датафрейма и типах данных:"
   ]
  },
  {
   "cell_type": "code",
   "execution_count": 4,
   "metadata": {
    "scrolled": true
   },
   "outputs": [
    {
     "name": "stdout",
     "output_type": "stream",
     "text": [
      "<class 'pandas.core.frame.DataFrame'>\n",
      "RangeIndex: 16715 entries, 0 to 16714\n",
      "Data columns (total 11 columns):\n",
      " #   Column           Non-Null Count  Dtype  \n",
      "---  ------           --------------  -----  \n",
      " 0   Name             16713 non-null  object \n",
      " 1   Platform         16715 non-null  object \n",
      " 2   Year_of_Release  16446 non-null  float64\n",
      " 3   Genre            16713 non-null  object \n",
      " 4   NA_sales         16715 non-null  float64\n",
      " 5   EU_sales         16715 non-null  float64\n",
      " 6   JP_sales         16715 non-null  float64\n",
      " 7   Other_sales      16715 non-null  float64\n",
      " 8   Critic_Score     8137 non-null   float64\n",
      " 9   User_Score       10014 non-null  object \n",
      " 10  Rating           9949 non-null   object \n",
      "dtypes: float64(6), object(5)\n",
      "memory usage: 1.4+ MB\n"
     ]
    }
   ],
   "source": [
    "data.info()"
   ]
  },
  {
   "cell_type": "markdown",
   "metadata": {},
   "source": [
    "Общие предварительныее выводы о качестве исходных данных можно сделать следующие:\n",
    "\n",
    "    1) В переменных с оценкой критиков, пользовательском рейтинге и ESRB достаточно большой процент пропусков.\n",
    "    2) В данных содержатся неправильные типы у переменных с годом выпуска (число с плавающей точкой вместо целого числа) и пользовательским рейтингом (строка вместо числа)."
   ]
  },
  {
   "cell_type": "markdown",
   "metadata": {},
   "source": [
    "#### Предобработка данных"
   ]
  },
  {
   "cell_type": "markdown",
   "metadata": {},
   "source": [
    "##### Перевод названия стоблцов датафрейма в нижний регистр"
   ]
  },
  {
   "cell_type": "markdown",
   "metadata": {},
   "source": [
    "Переименуем столбцы, переведя их в нижний регистр:"
   ]
  },
  {
   "cell_type": "code",
   "execution_count": 5,
   "metadata": {},
   "outputs": [],
   "source": [
    "data.rename(columns=lambda x: x.lower(), inplace=True)"
   ]
  },
  {
   "cell_type": "markdown",
   "metadata": {},
   "source": [
    "Проверим изменения:"
   ]
  },
  {
   "cell_type": "code",
   "execution_count": 6,
   "metadata": {
    "scrolled": true
   },
   "outputs": [
    {
     "data": {
      "text/plain": [
       "Index(['name', 'platform', 'year_of_release', 'genre', 'na_sales', 'eu_sales',\n",
       "       'jp_sales', 'other_sales', 'critic_score', 'user_score', 'rating'],\n",
       "      dtype='object')"
      ]
     },
     "execution_count": 6,
     "metadata": {},
     "output_type": "execute_result"
    }
   ],
   "source": [
    "data.columns"
   ]
  },
  {
   "cell_type": "markdown",
   "metadata": {},
   "source": [
    "##### Преобразование типов"
   ]
  },
  {
   "cell_type": "markdown",
   "metadata": {},
   "source": [
    "Проверим еще раз типы у переменных:"
   ]
  },
  {
   "cell_type": "code",
   "execution_count": 7,
   "metadata": {},
   "outputs": [
    {
     "name": "stdout",
     "output_type": "stream",
     "text": [
      "<class 'pandas.core.frame.DataFrame'>\n",
      "RangeIndex: 16715 entries, 0 to 16714\n",
      "Data columns (total 11 columns):\n",
      " #   Column           Non-Null Count  Dtype  \n",
      "---  ------           --------------  -----  \n",
      " 0   name             16713 non-null  object \n",
      " 1   platform         16715 non-null  object \n",
      " 2   year_of_release  16446 non-null  float64\n",
      " 3   genre            16713 non-null  object \n",
      " 4   na_sales         16715 non-null  float64\n",
      " 5   eu_sales         16715 non-null  float64\n",
      " 6   jp_sales         16715 non-null  float64\n",
      " 7   other_sales      16715 non-null  float64\n",
      " 8   critic_score     8137 non-null   float64\n",
      " 9   user_score       10014 non-null  object \n",
      " 10  rating           9949 non-null   object \n",
      "dtypes: float64(6), object(5)\n",
      "memory usage: 1.4+ MB\n"
     ]
    }
   ],
   "source": [
    "data.info()"
   ]
  },
  {
   "cell_type": "markdown",
   "metadata": {},
   "source": [
    "Изменим тип переменной **year_of_release** на целочисленный:"
   ]
  },
  {
   "cell_type": "code",
   "execution_count": 8,
   "metadata": {},
   "outputs": [],
   "source": [
    "data['year_of_release'] = data['year_of_release'].fillna(-1)\n",
    "data['year_of_release'] = data['year_of_release'].astype('int')"
   ]
  },
  {
   "cell_type": "markdown",
   "metadata": {},
   "source": [
    "Перед изменением строкового типа у переменной **user_score** посмотрим, какие уникальные значения там содержатся:"
   ]
  },
  {
   "cell_type": "code",
   "execution_count": 9,
   "metadata": {
    "scrolled": true
   },
   "outputs": [
    {
     "data": {
      "text/plain": [
       "array(['8', nan, '8.3', '8.5', '6.6', '8.4', '8.6', '7.7', '6.3', '7.4',\n",
       "       '8.2', '9', '7.9', '8.1', '8.7', '7.1', '3.4', '5.3', '4.8', '3.2',\n",
       "       '8.9', '6.4', '7.8', '7.5', '2.6', '7.2', '9.2', '7', '7.3', '4.3',\n",
       "       '7.6', '5.7', '5', '9.1', '6.5', 'tbd', '8.8', '6.9', '9.4', '6.8',\n",
       "       '6.1', '6.7', '5.4', '4', '4.9', '4.5', '9.3', '6.2', '4.2', '6',\n",
       "       '3.7', '4.1', '5.8', '5.6', '5.5', '4.4', '4.6', '5.9', '3.9',\n",
       "       '3.1', '2.9', '5.2', '3.3', '4.7', '5.1', '3.5', '2.5', '1.9', '3',\n",
       "       '2.7', '2.2', '2', '9.5', '2.1', '3.6', '2.8', '1.8', '3.8', '0',\n",
       "       '1.6', '9.6', '2.4', '1.7', '1.1', '0.3', '1.5', '0.7', '1.2',\n",
       "       '2.3', '0.5', '1.3', '0.2', '0.6', '1.4', '0.9', '1', '9.7'],\n",
       "      dtype=object)"
      ]
     },
     "execution_count": 9,
     "metadata": {},
     "output_type": "execute_result"
    }
   ],
   "source": [
    "data[\"user_score\"].unique()"
   ]
  },
  {
   "cell_type": "markdown",
   "metadata": {},
   "source": [
    "Среди списка значений встречается аббревиатура tbd. \n",
    "\n",
    "Данная аббревиатура обозначает To Be Determined, что с английского переводится как \"будет определено\". Иными словами, значение неизвестно, следовательно его можно заменить на NaN, что и сделаем в следующем шаге вместе с изменением типа на числа с плавающей точкой:"
   ]
  },
  {
   "cell_type": "code",
   "execution_count": 10,
   "metadata": {},
   "outputs": [],
   "source": [
    "data[\"user_score\"] = data[\"user_score\"].replace(\"tbd\", np.NaN)\n",
    "data['user_score'] = data['user_score'].astype('float')"
   ]
  },
  {
   "cell_type": "markdown",
   "metadata": {},
   "source": [
    "Проверим, как изменились типы:"
   ]
  },
  {
   "cell_type": "code",
   "execution_count": 11,
   "metadata": {
    "scrolled": true
   },
   "outputs": [
    {
     "name": "stdout",
     "output_type": "stream",
     "text": [
      "<class 'pandas.core.frame.DataFrame'>\n",
      "RangeIndex: 16715 entries, 0 to 16714\n",
      "Data columns (total 11 columns):\n",
      " #   Column           Non-Null Count  Dtype  \n",
      "---  ------           --------------  -----  \n",
      " 0   name             16713 non-null  object \n",
      " 1   platform         16715 non-null  object \n",
      " 2   year_of_release  16715 non-null  int64  \n",
      " 3   genre            16713 non-null  object \n",
      " 4   na_sales         16715 non-null  float64\n",
      " 5   eu_sales         16715 non-null  float64\n",
      " 6   jp_sales         16715 non-null  float64\n",
      " 7   other_sales      16715 non-null  float64\n",
      " 8   critic_score     8137 non-null   float64\n",
      " 9   user_score       7590 non-null   float64\n",
      " 10  rating           9949 non-null   object \n",
      "dtypes: float64(6), int64(1), object(4)\n",
      "memory usage: 1.4+ MB\n"
     ]
    }
   ],
   "source": [
    "data.info()"
   ]
  },
  {
   "cell_type": "markdown",
   "metadata": {},
   "source": [
    "Все переменные имеют правильный тип."
   ]
  },
  {
   "cell_type": "markdown",
   "metadata": {},
   "source": [
    "##### Обработка пропусков"
   ]
  },
  {
   "cell_type": "markdown",
   "metadata": {},
   "source": [
    "Оценим, сколько пропусков в каждом столбце:"
   ]
  },
  {
   "cell_type": "code",
   "execution_count": 12,
   "metadata": {},
   "outputs": [
    {
     "data": {
      "text/plain": [
       "name                  2\n",
       "platform              0\n",
       "year_of_release       0\n",
       "genre                 2\n",
       "na_sales              0\n",
       "eu_sales              0\n",
       "jp_sales              0\n",
       "other_sales           0\n",
       "critic_score       8578\n",
       "user_score         9125\n",
       "rating             6766\n",
       "dtype: int64"
      ]
     },
     "execution_count": 12,
     "metadata": {},
     "output_type": "execute_result"
    }
   ],
   "source": [
    "data.isna().sum()"
   ]
  },
  {
   "cell_type": "markdown",
   "metadata": {},
   "source": [
    "Видим, что пропуски имеются в семи стоблцах: name, year_of_release, genre, critic_score, user_score и\n",
    "rating."
   ]
  },
  {
   "cell_type": "markdown",
   "metadata": {},
   "source": [
    "Выведем так же процентное соотношение пропущенных значений от общего числа данных:"
   ]
  },
  {
   "cell_type": "code",
   "execution_count": 13,
   "metadata": {},
   "outputs": [
    {
     "data": {
      "text/html": [
       "<style  type=\"text/css\" >\n",
       "#T_d6ef3_row0_col0,#T_d6ef3_row1_col0,#T_d6ef3_row2_col0,#T_d6ef3_row3_col0,#T_d6ef3_row4_col0,#T_d6ef3_row5_col0,#T_d6ef3_row6_col0,#T_d6ef3_row7_col0{\n",
       "            background-color:  #3b4cc0;\n",
       "            color:  #f1f1f1;\n",
       "        }#T_d6ef3_row8_col0{\n",
       "            background-color:  #cd423b;\n",
       "            color:  #f1f1f1;\n",
       "        }#T_d6ef3_row9_col0{\n",
       "            background-color:  #b40426;\n",
       "            color:  #f1f1f1;\n",
       "        }#T_d6ef3_row10_col0{\n",
       "            background-color:  #f6a283;\n",
       "            color:  #000000;\n",
       "        }</style><table id=\"T_d6ef3_\" ><thead>    <tr>        <th class=\"blank level0\" ></th>        <th class=\"col_heading level0 col0\" >0</th>    </tr></thead><tbody>\n",
       "                <tr>\n",
       "                        <th id=\"T_d6ef3_level0_row0\" class=\"row_heading level0 row0\" >name</th>\n",
       "                        <td id=\"T_d6ef3_row0_col0\" class=\"data row0 col0\" >0.000000</td>\n",
       "            </tr>\n",
       "            <tr>\n",
       "                        <th id=\"T_d6ef3_level0_row1\" class=\"row_heading level0 row1\" >platform</th>\n",
       "                        <td id=\"T_d6ef3_row1_col0\" class=\"data row1 col0\" >0.000000</td>\n",
       "            </tr>\n",
       "            <tr>\n",
       "                        <th id=\"T_d6ef3_level0_row2\" class=\"row_heading level0 row2\" >year_of_release</th>\n",
       "                        <td id=\"T_d6ef3_row2_col0\" class=\"data row2 col0\" >0.000000</td>\n",
       "            </tr>\n",
       "            <tr>\n",
       "                        <th id=\"T_d6ef3_level0_row3\" class=\"row_heading level0 row3\" >genre</th>\n",
       "                        <td id=\"T_d6ef3_row3_col0\" class=\"data row3 col0\" >0.000000</td>\n",
       "            </tr>\n",
       "            <tr>\n",
       "                        <th id=\"T_d6ef3_level0_row4\" class=\"row_heading level0 row4\" >na_sales</th>\n",
       "                        <td id=\"T_d6ef3_row4_col0\" class=\"data row4 col0\" >0.000000</td>\n",
       "            </tr>\n",
       "            <tr>\n",
       "                        <th id=\"T_d6ef3_level0_row5\" class=\"row_heading level0 row5\" >eu_sales</th>\n",
       "                        <td id=\"T_d6ef3_row5_col0\" class=\"data row5 col0\" >0.000000</td>\n",
       "            </tr>\n",
       "            <tr>\n",
       "                        <th id=\"T_d6ef3_level0_row6\" class=\"row_heading level0 row6\" >jp_sales</th>\n",
       "                        <td id=\"T_d6ef3_row6_col0\" class=\"data row6 col0\" >0.000000</td>\n",
       "            </tr>\n",
       "            <tr>\n",
       "                        <th id=\"T_d6ef3_level0_row7\" class=\"row_heading level0 row7\" >other_sales</th>\n",
       "                        <td id=\"T_d6ef3_row7_col0\" class=\"data row7 col0\" >0.000000</td>\n",
       "            </tr>\n",
       "            <tr>\n",
       "                        <th id=\"T_d6ef3_level0_row8\" class=\"row_heading level0 row8\" >critic_score</th>\n",
       "                        <td id=\"T_d6ef3_row8_col0\" class=\"data row8 col0\" >51.000000</td>\n",
       "            </tr>\n",
       "            <tr>\n",
       "                        <th id=\"T_d6ef3_level0_row9\" class=\"row_heading level0 row9\" >user_score</th>\n",
       "                        <td id=\"T_d6ef3_row9_col0\" class=\"data row9 col0\" >55.000000</td>\n",
       "            </tr>\n",
       "            <tr>\n",
       "                        <th id=\"T_d6ef3_level0_row10\" class=\"row_heading level0 row10\" >rating</th>\n",
       "                        <td id=\"T_d6ef3_row10_col0\" class=\"data row10 col0\" >40.000000</td>\n",
       "            </tr>\n",
       "    </tbody></table>"
      ],
      "text/plain": [
       "<pandas.io.formats.style.Styler at 0x7f9c154dc640>"
      ]
     },
     "execution_count": 13,
     "metadata": {},
     "output_type": "execute_result"
    }
   ],
   "source": [
    "pd.DataFrame(round(data.isna().mean()*100,)).style.background_gradient('coolwarm')"
   ]
  },
  {
   "cell_type": "markdown",
   "metadata": {},
   "source": [
    "Видно, что наиболее \"проблемными\" (от 40 до 50% пропущенных значений) являются 3 столбца: critic_score, user_score и rating. Такие пропуски могли появится из-за отсутствия рейтинга у игры (в процессе исследования нам уже ранее встречалось значение tbd) на текущий момент. Например, игра вышла недавно и рейтинг не был сформирован."
   ]
  },
  {
   "cell_type": "markdown",
   "metadata": {},
   "source": [
    "Типы переменных **critic_score** и **user_score** - числовые. Разумней будет оставить пропуски, как есть, чем заполнять каким-то значением."
   ]
  },
  {
   "cell_type": "markdown",
   "metadata": {},
   "source": [
    "Переменная **rating** - строковая. Пропущенные значения могли образоваться из-за того, что рейтинг ESRB мог применяться не ко всем компьютерным играм (согласно Википедии, к началу 2003 года рейтинги ESRB получили более 8000 продуктов от 350 издателей). Неизвестный рейтинг следует заменить на значение-заглушку. Например, \"no rating\":"
   ]
  },
  {
   "cell_type": "code",
   "execution_count": 14,
   "metadata": {},
   "outputs": [],
   "source": [
    "data[\"rating\"] = data[\"rating\"].replace(np.NaN, \"no rating\")"
   ]
  },
  {
   "cell_type": "markdown",
   "metadata": {},
   "source": [
    "Аналогичным образом поступим с переменными **name** и **genre**:"
   ]
  },
  {
   "cell_type": "code",
   "execution_count": 15,
   "metadata": {},
   "outputs": [],
   "source": [
    "data[\"name\"] = data[\"name\"].replace(np.NaN, \"unknown_name\")\n",
    "data[\"genre\"] = data[\"genre\"].replace(np.NaN, \"unknown_genre\")"
   ]
  },
  {
   "cell_type": "markdown",
   "metadata": {},
   "source": [
    "Пропуски в оставшейся переменной **year_of_release** в связи с малым количеством удалим (ранее в связи c приведением типа к целочисленному, пропуски были заменены на -1):"
   ]
  },
  {
   "cell_type": "code",
   "execution_count": 16,
   "metadata": {},
   "outputs": [],
   "source": [
    "data = data[data[\"year_of_release\"] != -1]"
   ]
  },
  {
   "cell_type": "markdown",
   "metadata": {},
   "source": [
    "Проверим финальное число пропусков:"
   ]
  },
  {
   "cell_type": "code",
   "execution_count": 17,
   "metadata": {},
   "outputs": [
    {
     "data": {
      "text/plain": [
       "name                  0\n",
       "platform              0\n",
       "year_of_release       0\n",
       "genre                 0\n",
       "na_sales              0\n",
       "eu_sales              0\n",
       "jp_sales              0\n",
       "other_sales           0\n",
       "critic_score       8463\n",
       "user_score         8983\n",
       "rating                0\n",
       "dtype: int64"
      ]
     },
     "execution_count": 17,
     "metadata": {},
     "output_type": "execute_result"
    }
   ],
   "source": [
    "data.isna().sum()"
   ]
  },
  {
   "cell_type": "markdown",
   "metadata": {},
   "source": [
    "Там, где это было возможно, пропуски в данных были устранены."
   ]
  },
  {
   "cell_type": "markdown",
   "metadata": {},
   "source": [
    "##### Обработка дубликатов"
   ]
  },
  {
   "cell_type": "markdown",
   "metadata": {},
   "source": [
    "Проверим данные на наличие явных дубликатов:"
   ]
  },
  {
   "cell_type": "code",
   "execution_count": 18,
   "metadata": {
    "scrolled": true
   },
   "outputs": [
    {
     "data": {
      "text/plain": [
       "0"
      ]
     },
     "execution_count": 18,
     "metadata": {},
     "output_type": "execute_result"
    }
   ],
   "source": [
    "data.duplicated().sum()"
   ]
  },
  {
   "cell_type": "markdown",
   "metadata": {},
   "source": [
    "Явные дубликаты отсутствуют в исследуемых данных."
   ]
  },
  {
   "cell_type": "markdown",
   "metadata": {},
   "source": [
    "Проверим данные и на наличие неявных дубликатов. Посмотрим, сколько в датасете игр с одинаковыми названием, платформой, жанром и годом выпуска (из проверки исключаем данные по продажам и рейтингу - это данные могут сильно варьироваться от источника к источнику, во-первых, оценки продаж всегда приблизительные, во-вторых, рейтинг - субъективная характеристика и может зависеть от конкретного критика/группы пользователей)"
   ]
  },
  {
   "cell_type": "code",
   "execution_count": 19,
   "metadata": {},
   "outputs": [
    {
     "data": {
      "text/plain": [
       "2"
      ]
     },
     "execution_count": 19,
     "metadata": {},
     "output_type": "execute_result"
    }
   ],
   "source": [
    "data.duplicated(subset=['name', 'platform', 'genre', \"year_of_release\"]).sum()"
   ]
  },
  {
   "cell_type": "markdown",
   "metadata": {},
   "source": [
    "Таких дубликатов совсем не много, но все же есть. Устраним их: "
   ]
  },
  {
   "cell_type": "code",
   "execution_count": 20,
   "metadata": {},
   "outputs": [],
   "source": [
    "data = data.drop_duplicates(subset= ['name', 'platform', 'genre', \"year_of_release\"])"
   ]
  },
  {
   "cell_type": "markdown",
   "metadata": {},
   "source": [
    "Проверим их наличие после удаления:"
   ]
  },
  {
   "cell_type": "code",
   "execution_count": 21,
   "metadata": {},
   "outputs": [
    {
     "data": {
      "text/plain": [
       "0"
      ]
     },
     "execution_count": 21,
     "metadata": {},
     "output_type": "execute_result"
    }
   ],
   "source": [
    "data.duplicated(subset=['name', 'platform', 'genre', \"year_of_release\"]).sum()"
   ]
  },
  {
   "cell_type": "markdown",
   "metadata": {},
   "source": [
    "##### Добавление столбца с суммарными продажами по миру"
   ]
  },
  {
   "cell_type": "markdown",
   "metadata": {},
   "source": [
    "Добавим столбец с суммарными продажами по миру, сложив данные стоблцов по всем продажам:"
   ]
  },
  {
   "cell_type": "code",
   "execution_count": 22,
   "metadata": {},
   "outputs": [],
   "source": [
    "data[\"sum_sales\"] = data[\"na_sales\"] + data ['eu_sales'] + data['jp_sales'] + data['other_sales']"
   ]
  },
  {
   "cell_type": "markdown",
   "metadata": {},
   "source": [
    "Выведем измененный датафрейм:"
   ]
  },
  {
   "cell_type": "code",
   "execution_count": 23,
   "metadata": {},
   "outputs": [
    {
     "data": {
      "text/html": [
       "<div>\n",
       "<style scoped>\n",
       "    .dataframe tbody tr th:only-of-type {\n",
       "        vertical-align: middle;\n",
       "    }\n",
       "\n",
       "    .dataframe tbody tr th {\n",
       "        vertical-align: top;\n",
       "    }\n",
       "\n",
       "    .dataframe thead th {\n",
       "        text-align: right;\n",
       "    }\n",
       "</style>\n",
       "<table border=\"1\" class=\"dataframe\">\n",
       "  <thead>\n",
       "    <tr style=\"text-align: right;\">\n",
       "      <th></th>\n",
       "      <th>name</th>\n",
       "      <th>platform</th>\n",
       "      <th>year_of_release</th>\n",
       "      <th>genre</th>\n",
       "      <th>na_sales</th>\n",
       "      <th>eu_sales</th>\n",
       "      <th>jp_sales</th>\n",
       "      <th>other_sales</th>\n",
       "      <th>critic_score</th>\n",
       "      <th>user_score</th>\n",
       "      <th>rating</th>\n",
       "      <th>sum_sales</th>\n",
       "    </tr>\n",
       "  </thead>\n",
       "  <tbody>\n",
       "    <tr>\n",
       "      <th>0</th>\n",
       "      <td>Wii Sports</td>\n",
       "      <td>Wii</td>\n",
       "      <td>2006</td>\n",
       "      <td>Sports</td>\n",
       "      <td>41.36</td>\n",
       "      <td>28.96</td>\n",
       "      <td>3.77</td>\n",
       "      <td>8.45</td>\n",
       "      <td>76.0</td>\n",
       "      <td>8.0</td>\n",
       "      <td>E</td>\n",
       "      <td>82.54</td>\n",
       "    </tr>\n",
       "    <tr>\n",
       "      <th>1</th>\n",
       "      <td>Super Mario Bros.</td>\n",
       "      <td>NES</td>\n",
       "      <td>1985</td>\n",
       "      <td>Platform</td>\n",
       "      <td>29.08</td>\n",
       "      <td>3.58</td>\n",
       "      <td>6.81</td>\n",
       "      <td>0.77</td>\n",
       "      <td>NaN</td>\n",
       "      <td>NaN</td>\n",
       "      <td>no rating</td>\n",
       "      <td>40.24</td>\n",
       "    </tr>\n",
       "    <tr>\n",
       "      <th>2</th>\n",
       "      <td>Mario Kart Wii</td>\n",
       "      <td>Wii</td>\n",
       "      <td>2008</td>\n",
       "      <td>Racing</td>\n",
       "      <td>15.68</td>\n",
       "      <td>12.76</td>\n",
       "      <td>3.79</td>\n",
       "      <td>3.29</td>\n",
       "      <td>82.0</td>\n",
       "      <td>8.3</td>\n",
       "      <td>E</td>\n",
       "      <td>35.52</td>\n",
       "    </tr>\n",
       "    <tr>\n",
       "      <th>3</th>\n",
       "      <td>Wii Sports Resort</td>\n",
       "      <td>Wii</td>\n",
       "      <td>2009</td>\n",
       "      <td>Sports</td>\n",
       "      <td>15.61</td>\n",
       "      <td>10.93</td>\n",
       "      <td>3.28</td>\n",
       "      <td>2.95</td>\n",
       "      <td>80.0</td>\n",
       "      <td>8.0</td>\n",
       "      <td>E</td>\n",
       "      <td>32.77</td>\n",
       "    </tr>\n",
       "    <tr>\n",
       "      <th>4</th>\n",
       "      <td>Pokemon Red/Pokemon Blue</td>\n",
       "      <td>GB</td>\n",
       "      <td>1996</td>\n",
       "      <td>Role-Playing</td>\n",
       "      <td>11.27</td>\n",
       "      <td>8.89</td>\n",
       "      <td>10.22</td>\n",
       "      <td>1.00</td>\n",
       "      <td>NaN</td>\n",
       "      <td>NaN</td>\n",
       "      <td>no rating</td>\n",
       "      <td>31.38</td>\n",
       "    </tr>\n",
       "  </tbody>\n",
       "</table>\n",
       "</div>"
      ],
      "text/plain": [
       "                       name platform  year_of_release         genre  na_sales  \\\n",
       "0                Wii Sports      Wii             2006        Sports     41.36   \n",
       "1         Super Mario Bros.      NES             1985      Platform     29.08   \n",
       "2            Mario Kart Wii      Wii             2008        Racing     15.68   \n",
       "3         Wii Sports Resort      Wii             2009        Sports     15.61   \n",
       "4  Pokemon Red/Pokemon Blue       GB             1996  Role-Playing     11.27   \n",
       "\n",
       "   eu_sales  jp_sales  other_sales  critic_score  user_score     rating  \\\n",
       "0     28.96      3.77         8.45          76.0         8.0          E   \n",
       "1      3.58      6.81         0.77           NaN         NaN  no rating   \n",
       "2     12.76      3.79         3.29          82.0         8.3          E   \n",
       "3     10.93      3.28         2.95          80.0         8.0          E   \n",
       "4      8.89     10.22         1.00           NaN         NaN  no rating   \n",
       "\n",
       "   sum_sales  \n",
       "0      82.54  \n",
       "1      40.24  \n",
       "2      35.52  \n",
       "3      32.77  \n",
       "4      31.38  "
      ]
     },
     "execution_count": 23,
     "metadata": {},
     "output_type": "execute_result"
    }
   ],
   "source": [
    "data.head(5)"
   ]
  },
  {
   "cell_type": "markdown",
   "metadata": {},
   "source": [
    "Столбец отображается корректно. Проверим его тип:"
   ]
  },
  {
   "cell_type": "code",
   "execution_count": 24,
   "metadata": {
    "scrolled": true
   },
   "outputs": [
    {
     "name": "stdout",
     "output_type": "stream",
     "text": [
      "<class 'pandas.core.frame.DataFrame'>\n",
      "Int64Index: 16444 entries, 0 to 16714\n",
      "Data columns (total 12 columns):\n",
      " #   Column           Non-Null Count  Dtype  \n",
      "---  ------           --------------  -----  \n",
      " 0   name             16444 non-null  object \n",
      " 1   platform         16444 non-null  object \n",
      " 2   year_of_release  16444 non-null  int64  \n",
      " 3   genre            16444 non-null  object \n",
      " 4   na_sales         16444 non-null  float64\n",
      " 5   eu_sales         16444 non-null  float64\n",
      " 6   jp_sales         16444 non-null  float64\n",
      " 7   other_sales      16444 non-null  float64\n",
      " 8   critic_score     7982 non-null   float64\n",
      " 9   user_score       7462 non-null   float64\n",
      " 10  rating           16444 non-null  object \n",
      " 11  sum_sales        16444 non-null  float64\n",
      "dtypes: float64(7), int64(1), object(4)\n",
      "memory usage: 1.6+ MB\n"
     ]
    }
   ],
   "source": [
    "data.info()"
   ]
  },
  {
   "cell_type": "markdown",
   "metadata": {},
   "source": [
    "Столбец с суммарными продажами имеет корректный тип."
   ]
  },
  {
   "cell_type": "markdown",
   "metadata": {},
   "source": [
    "#### Исследовательский анализ данных"
   ]
  },
  {
   "cell_type": "markdown",
   "metadata": {},
   "source": [
    "##### Игры по году выпуска"
   ]
  },
  {
   "cell_type": "markdown",
   "metadata": {},
   "source": [
    "Построим гистограмму по количеству игру, выпущенных в каждом из годов, начиная с 1980 года и заканчивая 2016 годом:"
   ]
  },
  {
   "cell_type": "code",
   "execution_count": 25,
   "metadata": {
    "scrolled": true
   },
   "outputs": [
    {
     "data": {
      "image/png": "[encoded data removed]",
      "text/plain": [
       "<Figure size 864x360 with 1 Axes>"
      ]
     },
     "metadata": {
      "needs_background": "light"
     },
     "output_type": "display_data"
    }
   ],
   "source": [
    "data.groupby(\"year_of_release\")[\"name\"].count().plot.bar(rot=45, xlabel=\"Год выпуска игры\", title=\"Количество игр в каждом из годов с 1980 по 2016 год\", ylabel=\"К-лво\", figsize = (12,5));"
   ]
  },
  {
   "cell_type": "markdown",
   "metadata": {},
   "source": [
    "Рост выпуска компьютерных игр пришелся на 1994 год. Растущий тренд продлился вплоть до 2009 года. Затем наблюдается спад. Можно предложить, что в 2017 году масштаб выпуска компьютерных игр останется прежним или продолжит падение."
   ]
  },
  {
   "cell_type": "markdown",
   "metadata": {},
   "source": [
    "##### Продажи по платформам"
   ]
  },
  {
   "cell_type": "markdown",
   "metadata": {},
   "source": [
    "Построим гистограмму на основе количество проданных копий, сгруппируя их по платформам. Отберем самые популярные платформы (топ-10):"
   ]
  },
  {
   "cell_type": "code",
   "execution_count": 26,
   "metadata": {},
   "outputs": [
    {
     "data": {
      "image/png": "[encoded data removed]",
      "text/plain": [
       "<Figure size 864x360 with 1 Axes>"
      ]
     },
     "metadata": {
      "needs_background": "light"
     },
     "output_type": "display_data"
    }
   ],
   "source": [
    "data.groupby(\"platform\")[\"sum_sales\"].sum().sort_values(ascending=False).head(10).plot.bar(rot=45, xlabel=\"Платформы\", ylabel=\"Млн копий\", title=\"Количество проданных копий на каждую платформу в период с 1980 по 2016 год\", figsize = (12,5));"
   ]
  },
  {
   "cell_type": "markdown",
   "metadata": {},
   "source": [
    "Платформами за наибольшими суммарными продажами за всю историю компьютерных игр являются PS2, X360, PS3, Wii, DS, PS."
   ]
  },
  {
   "cell_type": "markdown",
   "metadata": {},
   "source": [
    "##### Срок жизни платформ"
   ]
  },
  {
   "cell_type": "markdown",
   "metadata": {},
   "source": [
    "Построим график изменения продаж по годам каждой из наиболее популярных платформ:"
   ]
  },
  {
   "cell_type": "code",
   "execution_count": 27,
   "metadata": {
    "scrolled": true
   },
   "outputs": [
    {
     "data": {
      "image/png": "[encoded data removed]",
      "text/plain": [
       "<Figure size 864x360 with 1 Axes>"
      ]
     },
     "metadata": {
      "needs_background": "light"
     },
     "output_type": "display_data"
    }
   ],
   "source": [
    "popular_platforms = [\"PS2\", \"X360\", \"PS3\", \"Wii\", \"DS\", \"PS\"]\n",
    "\n",
    "pd.pivot_table(data[data[\"platform\"].isin(popular_platforms)], index=\"year_of_release\", columns =\"platform\", values = \"sum_sales\", aggfunc=\"sum\").plot(title=\"Динамика продаж у топ-6 платформ за период с 1980 по 2016 гг.\", xlabel=\"Год\", ylabel=\"Млн проданных копий\", figsize = (12,5));"
   ]
  },
  {
   "cell_type": "markdown",
   "metadata": {},
   "source": [
    "Из данных видим, что наиболее ранняя платформа - PS, которая появилась примерно в 1994 году и затем прекратила существование к 2003 году.\n",
    "\n",
    "Следующая платформа - PS2, которая появился вслед за PS в 2000 году и угасла после 2011 года.\n",
    "\n",
    "Примерно одновременно появились платформы PS3, Wii, X360, DS в 2004 и 2005 году. Больший пик популярности наблюдается у Wii в 2008 году. Платформа DS прекратила существование к 2013 году. У платформы PS3, Wii, X360 продажи  упали к 2016 году примерно одинаково.\n",
    "\n",
    "Таким образом, средняя продолжительности жизни платформы около 10 лет."
   ]
  },
  {
   "cell_type": "markdown",
   "metadata": {},
   "source": [
    "##### Прибыльность по платформам на текущий период"
   ]
  },
  {
   "cell_type": "markdown",
   "metadata": {},
   "source": [
    "Для оценки текущей ситуации на рынке компьютерных игр, рассмотрим период последних 3 лет."
   ]
  },
  {
   "cell_type": "code",
   "execution_count": 28,
   "metadata": {},
   "outputs": [
    {
     "data": {
      "image/png": "[encoded data removed]",
      "text/plain": [
       "<Figure size 864x360 with 1 Axes>"
      ]
     },
     "metadata": {
      "needs_background": "light"
     },
     "output_type": "display_data"
    }
   ],
   "source": [
    "current_data = data.query(\"year_of_release >= 2013\")\n",
    "\n",
    "pd.pivot_table(current_data, index=\"year_of_release\", columns =\"platform\", values = \"sum_sales\", aggfunc=\"sum\").plot(title=\"Прибыльность у платформ за последние 3 года\", ylabel=\"Млн проданных копий\", xlabel=\"Год\", figsize = (12,5)).locator_params(integer=True);\n",
    "plt.legend(bbox_to_anchor=(1.05, 1), loc='upper left');"
   ]
  },
  {
   "cell_type": "markdown",
   "metadata": {},
   "source": [
    "Исходя из данных графика, видим, что наиболее перспективные платформы сейчас это - PS4 и XOne. Остальные платформы переживают сильнейший спад."
   ]
  },
  {
   "cell_type": "markdown",
   "metadata": {},
   "source": [
    "Построим диаграмму размаха и оценим, какая средняя общая прибыль была у каждой из платформ:"
   ]
  },
  {
   "cell_type": "code",
   "execution_count": 29,
   "metadata": {
    "scrolled": true
   },
   "outputs": [
    {
     "data": {
      "image/png": "[encoded data removed]",
      "text/plain": [
       "<Figure size 576x576 with 1 Axes>"
      ]
     },
     "metadata": {
      "needs_background": "light"
     },
     "output_type": "display_data"
    }
   ],
   "source": [
    "current_data.boxplot('sum_sales', figsize=(8, 8), by='platform').set_ylim(0, 2.5);"
   ]
  },
  {
   "cell_type": "markdown",
   "metadata": {},
   "source": [
    "Медианные продажи у всех платформ находились на уровне примерно ниже 250 тысяч проданных копий. Большинство продаж находились в диапазоне примерно до 750 тысяч проданных копий. Выбросы на графике, вероятно, связаны с выпуском высокобюджетных игр, которые оправдали себя. Наиболее стабильными платформами на протяжении последних 3 лет являлись PS4, XOne, Wii и X360."
   ]
  },
  {
   "cell_type": "markdown",
   "metadata": {},
   "source": [
    "##### Влияние оценки критиков и пользовательского рейтинга на продажи"
   ]
  },
  {
   "cell_type": "markdown",
   "metadata": {},
   "source": [
    "Для примера возьмем данные для актуальных в последние годы платформ: 3DS, PS4 и XOne:"
   ]
  },
  {
   "cell_type": "code",
   "execution_count": 30,
   "metadata": {},
   "outputs": [],
   "source": [
    "three_ds = current_data.query(\"platform == '3DS'\")\n",
    "ps4 = current_data.query(\"platform == 'PS4'\")\n",
    "xone = current_data.query(\"platform == 'XOne'\")"
   ]
  },
  {
   "cell_type": "markdown",
   "metadata": {},
   "source": [
    "Построим диаграммы рассеивания для изучения зависимости продаж от оценки критиков:"
   ]
  },
  {
   "cell_type": "code",
   "execution_count": 31,
   "metadata": {
    "scrolled": true
   },
   "outputs": [
    {
     "data": {
      "image/png": "[encoded data removed]",
      "text/plain": [
       "<Figure size 432x288 with 1 Axes>"
      ]
     },
     "metadata": {
      "needs_background": "light"
     },
     "output_type": "display_data"
    },
    {
     "data": {
      "image/png": "[encoded data removed]",
      "text/plain": [
       "<Figure size 432x288 with 1 Axes>"
      ]
     },
     "metadata": {
      "needs_background": "light"
     },
     "output_type": "display_data"
    },
    {
     "data": {
      "image/png": "[encoded data removed]",
      "text/plain": [
       "<Figure size 432x288 with 1 Axes>"
      ]
     },
     "metadata": {
      "needs_background": "light"
     },
     "output_type": "display_data"
    }
   ],
   "source": [
    "three_ds.plot(x='critic_score', y='sum_sales', kind=\"scatter\")\n",
    "plt.title('Зависимость продаж игр платформы 3DS от оценки критиков')\n",
    "plt.ylabel('Суммарные продажи')\n",
    "plt.xlabel('Оценка критиков')\n",
    "plt.show();\n",
    "\n",
    "ps4.plot(x='critic_score', y='sum_sales', kind=\"scatter\")\n",
    "plt.title('Зависимость продаж платформы PS4 от оценки критиков')\n",
    "plt.ylabel('Суммарные продажи')\n",
    "plt.xlabel('Оценка критиков')\n",
    "plt.show();\n",
    "\n",
    "xone.plot(x='critic_score', y='sum_sales', kind=\"scatter\")\n",
    "plt.title('Зависимость продаж платформы XOne от оценки критиков')\n",
    "plt.ylabel('Суммарные продажи')\n",
    "plt.xlabel('Оценка критиков')\n",
    "plt.show();"
   ]
  },
  {
   "cell_type": "markdown",
   "metadata": {},
   "source": [
    "Рассчитаем коэффициент корреляции Пирсона:"
   ]
  },
  {
   "cell_type": "code",
   "execution_count": 32,
   "metadata": {},
   "outputs": [
    {
     "name": "stdout",
     "output_type": "stream",
     "text": [
      "коэффициент корреляции для 3DS: \n",
      "0.35705661422881035\n",
      "коэффициент корреляции для PS4: \n",
      "0.406567902061781\n",
      "коэффициент корреляции для XOne: \n",
      "0.41699832800840175\n"
     ]
    }
   ],
   "source": [
    "print(\"коэффициент корреляции для 3DS: \")\n",
    "print(three_ds[\"sum_sales\"].corr(data['critic_score']))\n",
    "print(\"коэффициент корреляции для PS4: \")\n",
    "print(ps4['sum_sales'].corr(data['critic_score']))\n",
    "print(\"коэффициент корреляции для XOne: \")\n",
    "print(xone['sum_sales'].corr(data['critic_score']))"
   ]
  },
  {
   "cell_type": "markdown",
   "metadata": {},
   "source": [
    "Присутствует средняя положительная корреляция (коэффициент корреляции в районе 0.3 - 0.4). Теперь оценим взаимосвязь продаж с пользовательским рейтингом, построив диаграммы рассеивания:"
   ]
  },
  {
   "cell_type": "code",
   "execution_count": 33,
   "metadata": {
    "scrolled": true
   },
   "outputs": [
    {
     "data": {
      "image/png": "[encoded data removed]",
      "text/plain": [
       "<Figure size 432x288 with 1 Axes>"
      ]
     },
     "metadata": {
      "needs_background": "light"
     },
     "output_type": "display_data"
    },
    {
     "data": {
      "image/png": "[encoded data removed]",
      "text/plain": [
       "<Figure size 432x288 with 1 Axes>"
      ]
     },
     "metadata": {
      "needs_background": "light"
     },
     "output_type": "display_data"
    },
    {
     "data": {
      "image/png": "[encoded data removed]",
      "text/plain": [
       "<Figure size 432x288 with 1 Axes>"
      ]
     },
     "metadata": {
      "needs_background": "light"
     },
     "output_type": "display_data"
    }
   ],
   "source": [
    "three_ds.plot(x='user_score', y='sum_sales', kind=\"scatter\")\n",
    "plt.title('Зависимость продаж игр платформы 3DS от пользовательского рейтинга')\n",
    "plt.ylabel('Суммарные продажи')\n",
    "plt.xlabel('Оценка критиков')\n",
    "plt.show();\n",
    "\n",
    "ps4.plot(x='user_score', y='sum_sales', kind=\"scatter\")\n",
    "plt.title('Зависимость продаж платформы PS4 от пользовательского рейтинга')\n",
    "plt.ylabel('Суммарные продажи')\n",
    "plt.xlabel('Оценка критиков')\n",
    "plt.show();\n",
    "\n",
    "xone.plot(x='user_score', y='sum_sales', kind=\"scatter\")\n",
    "plt.title('Зависимость продаж платформы XOne от пользовательского рейтинга')\n",
    "plt.ylabel('Суммарные продажи')\n",
    "plt.xlabel('Оценка критиков')\n",
    "plt.show();"
   ]
  },
  {
   "cell_type": "markdown",
   "metadata": {},
   "source": [
    "Рассчитаем коэффициент корреляции Пирсона:"
   ]
  },
  {
   "cell_type": "code",
   "execution_count": 34,
   "metadata": {
    "scrolled": true
   },
   "outputs": [
    {
     "name": "stdout",
     "output_type": "stream",
     "text": [
      "коэффициент корреляции для 3DS: \n",
      "0.24150411773563016\n",
      "коэффициент корреляции для PS4: \n",
      "-0.031957110204556376\n",
      "коэффициент корреляции для XOne: \n",
      "-0.06892505328279412\n"
     ]
    }
   ],
   "source": [
    "print(\"коэффициент корреляции для 3DS: \")\n",
    "print(three_ds[\"sum_sales\"].corr(data['user_score']))\n",
    "print(\"коэффициент корреляции для PS4: \")\n",
    "print(ps4['sum_sales'].corr(data['user_score']))\n",
    "print(\"коэффициент корреляции для XOne: \")\n",
    "print(xone['sum_sales'].corr(data['user_score']))"
   ]
  },
  {
   "cell_type": "markdown",
   "metadata": {},
   "source": [
    "Присутствуют либо слабая положительная корреляция, либо корреляция практически отсутствует."
   ]
  },
  {
   "cell_type": "markdown",
   "metadata": {},
   "source": [
    "**Вывод**: оценки критиков влияют на продажи в положительную сторону, оценки пользователи не имеют такого влияния."
   ]
  },
  {
   "cell_type": "markdown",
   "metadata": {},
   "source": [
    "##### Самые популярные жанры игр"
   ]
  },
  {
   "cell_type": "markdown",
   "metadata": {},
   "source": [
    "Построим график по самым распространенным жанрам за последние 3 года:"
   ]
  },
  {
   "cell_type": "code",
   "execution_count": 35,
   "metadata": {
    "scrolled": true
   },
   "outputs": [
    {
     "data": {
      "image/png": "[encoded data removed]",
      "text/plain": [
       "<Figure size 432x288 with 1 Axes>"
      ]
     },
     "metadata": {
      "needs_background": "light"
     },
     "output_type": "display_data"
    }
   ],
   "source": [
    "current_data.groupby(\"genre\")[\"name\"].count().sort_values(ascending=False).plot.bar(rot=45, xlabel=\"Жанры игр\", title=\"Количество игр в каждом из жанров\", ylabel=\"К-лво игр\");"
   ]
  },
  {
   "cell_type": "markdown",
   "metadata": {},
   "source": [
    "Самые популярные жанры: \n",
    "   1. Action (сильный отрыв от прочих игр)\n",
    "   2. Role-playing\n",
    "   3. Adventure\n",
    "   4. Sports\n",
    "   5. Shooter"
   ]
  },
  {
   "cell_type": "markdown",
   "metadata": {},
   "source": [
    "##### Самые прибыльные жанры за последние 3 года"
   ]
  },
  {
   "cell_type": "markdown",
   "metadata": {},
   "source": [
    "Построим график по самым прибыльным жанрам, используя в качестве метрики медианные продажи:"
   ]
  },
  {
   "cell_type": "code",
   "execution_count": 36,
   "metadata": {},
   "outputs": [
    {
     "data": {
      "image/png": "[encoded data removed]",
      "text/plain": [
       "<Figure size 432x288 with 1 Axes>"
      ]
     },
     "metadata": {
      "needs_background": "light"
     },
     "output_type": "display_data"
    }
   ],
   "source": [
    "current_data.groupby(\"genre\")[\"sum_sales\"].median().sort_values(ascending=False).plot.bar(rot=45, xlabel=\"Жанры игр\", title=\"Самые прибыльные жанры игр за последнее десятилетие\", ylabel=\"Медианное значение продаж\");"
   ]
  },
  {
   "cell_type": "markdown",
   "metadata": {},
   "source": [
    "Согласно графику, наиболее стабильно приносят прибыль следующие жанры:\n",
    "\n",
    "    1. Shooter (с большим отрывом от остальных)\n",
    "    2. Sports\n",
    "    3. Platform\n",
    "    4. Role-Playing\n",
    "    5. Fighting"
   ]
  },
  {
   "cell_type": "markdown",
   "metadata": {},
   "source": [
    "#### Портрет пользователя каждого региона"
   ]
  },
  {
   "cell_type": "markdown",
   "metadata": {},
   "source": [
    "##### Самые популярные платформы для NA, EU, JP"
   ]
  },
  {
   "cell_type": "markdown",
   "metadata": {},
   "source": [
    "Найдем топ-5 платформ для каждого региона:"
   ]
  },
  {
   "cell_type": "code",
   "execution_count": 37,
   "metadata": {
    "scrolled": true
   },
   "outputs": [
    {
     "data": {
      "image/png": "[encoded data removed]",
      "text/plain": [
       "<Figure size 432x288 with 1 Axes>"
      ]
     },
     "metadata": {
      "needs_background": "light"
     },
     "output_type": "display_data"
    }
   ],
   "source": [
    "current_data.groupby(\"platform\")[\"na_sales\"].sum().sort_values(ascending=False).head(5).plot.bar(rot=45, xlabel=\"Платформы\", title=\"Самые популярные платформы в Северной Америке\", ylabel=\"Млн проданных копий\");"
   ]
  },
  {
   "cell_type": "code",
   "execution_count": 38,
   "metadata": {},
   "outputs": [
    {
     "data": {
      "image/png": "[encoded data removed]",
      "text/plain": [
       "<Figure size 432x288 with 1 Axes>"
      ]
     },
     "metadata": {
      "needs_background": "light"
     },
     "output_type": "display_data"
    }
   ],
   "source": [
    "current_data.groupby(\"platform\")[\"eu_sales\"].sum().sort_values(ascending=False).head(5).plot.bar(rot=45, xlabel=\"Платформы\", title=\"Самые популярные платформы в Европе\", ylabel=\"Млн проданных копий\");"
   ]
  },
  {
   "cell_type": "code",
   "execution_count": 39,
   "metadata": {},
   "outputs": [
    {
     "data": {
      "image/png": "[encoded data removed]",
      "text/plain": [
       "<Figure size 432x288 with 1 Axes>"
      ]
     },
     "metadata": {
      "needs_background": "light"
     },
     "output_type": "display_data"
    }
   ],
   "source": [
    "current_data.groupby(\"platform\")[\"jp_sales\"].sum().sort_values(ascending=False).head(5).plot.bar(rot=45, xlabel=\"Платформы\", title=\"Самые популярные платформы в Японии\", ylabel=\"Млн проданных копий\");"
   ]
  },
  {
   "cell_type": "markdown",
   "metadata": {},
   "source": [
    "Найдем долю продаж в каждом регионе:"
   ]
  },
  {
   "cell_type": "code",
   "execution_count": 40,
   "metadata": {},
   "outputs": [
    {
     "data": {
      "text/plain": [
       "platform\n",
       "PS4     0.248429\n",
       "XOne    0.212744\n",
       "X360    0.186562\n",
       "PS3     0.145073\n",
       "3DS     0.087272\n",
       "Name: na_sales, dtype: float64"
      ]
     },
     "execution_count": 40,
     "metadata": {},
     "output_type": "execute_result"
    }
   ],
   "source": [
    "current_data.groupby(\"platform\")[\"na_sales\"].sum().sort_values(ascending=False).head(5) / current_data[\"na_sales\"].sum()"
   ]
  },
  {
   "cell_type": "code",
   "execution_count": 41,
   "metadata": {},
   "outputs": [
    {
     "data": {
      "text/plain": [
       "platform\n",
       "PS4     0.359712\n",
       "PS3     0.172883\n",
       "XOne    0.131530\n",
       "X360    0.108406\n",
       "3DS     0.078933\n",
       "Name: eu_sales, dtype: float64"
      ]
     },
     "execution_count": 41,
     "metadata": {},
     "output_type": "execute_result"
    }
   ],
   "source": [
    "current_data.groupby(\"platform\")[\"eu_sales\"].sum().sort_values(ascending=False).head(5) / current_data[\"eu_sales\"].sum()"
   ]
  },
  {
   "cell_type": "code",
   "execution_count": 42,
   "metadata": {
    "scrolled": true
   },
   "outputs": [
    {
     "data": {
      "text/plain": [
       "platform\n",
       "3DS     0.481674\n",
       "PS3     0.165862\n",
       "PSV     0.132050\n",
       "PS4     0.113368\n",
       "WiiU    0.077284\n",
       "Name: jp_sales, dtype: float64"
      ]
     },
     "execution_count": 42,
     "metadata": {},
     "output_type": "execute_result"
    }
   ],
   "source": [
    "current_data.groupby(\"platform\")[\"jp_sales\"].sum().sort_values(ascending=False).head(5) / current_data[\"jp_sales\"].sum()"
   ]
  },
  {
   "cell_type": "markdown",
   "metadata": {},
   "source": [
    "**Вывод:**\n",
    "Для Северной Америки наиболее популярны две платформы - PS4 и XOne (занимают обе около 25% и 21% от общего числа продаж соответственно), далее следуют X360 и PS3 (занимают 18% и 14% соответственно от общего числа продаж), на 5 месте - 3DS (9% от общего числа продаж).\n",
    "\n",
    "Для Европы наиболее популярной платформой является PS4 (36%), далее второе место занимает PS3 (17%), третье место - XOne (13%), четвертое место - X360 (11%), пятое место - 3DS (8%).\n",
    "\n",
    "Для Японии самая популярная платформа - 3DS (48% всех продаж). Второе место - PS3 (16%), третье - PSV (13%), четвертое место делят PS4 (11%) и PS4 (7%)."
   ]
  },
  {
   "cell_type": "markdown",
   "metadata": {},
   "source": [
    "##### Самые популярные жанры для NA, EU и JP"
   ]
  },
  {
   "cell_type": "code",
   "execution_count": 43,
   "metadata": {},
   "outputs": [
    {
     "data": {
      "text/plain": [
       "genre\n",
       "Action          126.05\n",
       "Shooter         109.74\n",
       "Sports           65.27\n",
       "Role-Playing     46.40\n",
       "Misc             27.49\n",
       "Name: na_sales, dtype: float64"
      ]
     },
     "execution_count": 43,
     "metadata": {},
     "output_type": "execute_result"
    }
   ],
   "source": [
    "current_data.groupby(\"genre\")[\"na_sales\"].sum().sort_values(ascending=False).head(5)"
   ]
  },
  {
   "cell_type": "code",
   "execution_count": 44,
   "metadata": {},
   "outputs": [
    {
     "data": {
      "text/plain": [
       "genre\n",
       "Action          118.13\n",
       "Shooter          87.86\n",
       "Sports           60.52\n",
       "Role-Playing     36.97\n",
       "Racing           20.19\n",
       "Name: eu_sales, dtype: float64"
      ]
     },
     "execution_count": 44,
     "metadata": {},
     "output_type": "execute_result"
    }
   ],
   "source": [
    "current_data.groupby(\"genre\")[\"eu_sales\"].sum().sort_values(ascending=False).head(5)"
   ]
  },
  {
   "cell_type": "code",
   "execution_count": 45,
   "metadata": {
    "scrolled": true
   },
   "outputs": [
    {
     "data": {
      "text/plain": [
       "genre\n",
       "Role-Playing    51.04\n",
       "Action          40.49\n",
       "Misc             9.20\n",
       "Fighting         7.65\n",
       "Shooter          6.61\n",
       "Name: jp_sales, dtype: float64"
      ]
     },
     "execution_count": 45,
     "metadata": {},
     "output_type": "execute_result"
    }
   ],
   "source": [
    "current_data.groupby(\"genre\")[\"jp_sales\"].sum().sort_values(ascending=False).head(5)"
   ]
  },
  {
   "cell_type": "markdown",
   "metadata": {},
   "source": [
    "**Вывод:**\n",
    "\n",
    "Симпатии по регионам распределились следующим образом:\n",
    "\n",
    "Наиболее любимый жанры у американцев - Action, Shooter, Sports, Role-Playing, Misc.\n",
    "\n",
    "Фавориты европейцев в целом схожи -  Action, Shooter, Sports, Role-Playing, Racing.\n",
    "\n",
    "Предпочтения японцев распределены совершенно по-другому, Role-Playng лидирует в списке, затем идут жанры  Action, Misc, Fighting, Shooter. "
   ]
  },
  {
   "cell_type": "markdown",
   "metadata": {},
   "source": [
    "##### Влияние рейтинга ESRB на продажи"
   ]
  },
  {
   "cell_type": "markdown",
   "metadata": {},
   "source": [
    "Рассмотрим какие рейтинги существуют в исследуемом датасете:"
   ]
  },
  {
   "cell_type": "code",
   "execution_count": 46,
   "metadata": {
    "scrolled": true
   },
   "outputs": [
    {
     "data": {
      "text/plain": [
       "array(['M', 'no rating', 'E', 'T', 'E10+'], dtype=object)"
      ]
     },
     "execution_count": 46,
     "metadata": {},
     "output_type": "execute_result"
    }
   ],
   "source": [
    "current_data[\"rating\"].unique()"
   ]
  },
  {
   "cell_type": "markdown",
   "metadata": {},
   "source": [
    "Присвоим понятные значения обозначениям рейтинга:"
   ]
  },
  {
   "cell_type": "code",
   "execution_count": 47,
   "metadata": {},
   "outputs": [
    {
     "name": "stderr",
     "output_type": "stream",
     "text": [
      "/tmp/ipykernel_145/2640529002.py:3: SettingWithCopyWarning: \n",
      "A value is trying to be set on a copy of a slice from a DataFrame.\n",
      "Try using .loc[row_indexer,col_indexer] = value instead\n",
      "\n",
      "See the caveats in the documentation: https://pandas.pydata.org/pandas-docs/stable/user_guide/indexing.html#returning-a-view-versus-a-copy\n",
      "  current_data[\"rating\"] = current_data[\"rating\"].replace(ESRB)\n"
     ]
    }
   ],
   "source": [
    "ESRB = {'E': 'Для всех', 'M': '18+', 'T': 'от 13 лет', 'E10+': 'от 10 лет', 'K-A': 'Для всех', 'AO': \"18+\", 'EC': \"от 3 лет\", 'RP': \"Рейтинг ожидается\"}\n",
    "\n",
    "current_data[\"rating\"] = current_data[\"rating\"].replace(ESRB)"
   ]
  },
  {
   "cell_type": "markdown",
   "metadata": {},
   "source": [
    "Проверим, вступили ли изменения в силу:"
   ]
  },
  {
   "cell_type": "code",
   "execution_count": 48,
   "metadata": {
    "scrolled": true
   },
   "outputs": [
    {
     "data": {
      "text/plain": [
       "array(['18+', 'no rating', 'Для всех', 'от 13 лет', 'от 10 лет'],\n",
       "      dtype=object)"
      ]
     },
     "execution_count": 48,
     "metadata": {},
     "output_type": "execute_result"
    }
   ],
   "source": [
    "current_data[\"rating\"].unique()"
   ]
  },
  {
   "cell_type": "markdown",
   "metadata": {},
   "source": [
    "Построим графики продаж по возрастному рейтингу в каждом регионе:"
   ]
  },
  {
   "cell_type": "code",
   "execution_count": 49,
   "metadata": {},
   "outputs": [
    {
     "data": {
      "image/png": "[encoded data removed]",
      "text/plain": [
       "<Figure size 432x288 with 1 Axes>"
      ]
     },
     "metadata": {
      "needs_background": "light"
     },
     "output_type": "display_data"
    }
   ],
   "source": [
    "current_data.groupby(\"rating\")[\"na_sales\"].sum().sort_values(ascending=False).plot.bar(rot=45, xlabel=\"Рейтинги\", title=\"Продажи по возрастному рейтингу в Северной Америке\", ylabel=\"Млн проданных копий\");"
   ]
  },
  {
   "cell_type": "code",
   "execution_count": 50,
   "metadata": {},
   "outputs": [
    {
     "data": {
      "image/png": "[encoded data removed]",
      "text/plain": [
       "<Figure size 432x288 with 1 Axes>"
      ]
     },
     "metadata": {
      "needs_background": "light"
     },
     "output_type": "display_data"
    }
   ],
   "source": [
    "current_data.groupby(\"rating\")[\"eu_sales\"].sum().sort_values(ascending=False).plot.bar(rot=45, xlabel=\"Рейтинги\", title=\"Продажи по возрастному рейтингу в Европе\", ylabel=\"Млн проданных копий\");"
   ]
  },
  {
   "cell_type": "code",
   "execution_count": 51,
   "metadata": {
    "scrolled": true
   },
   "outputs": [
    {
     "data": {
      "image/png": "[encoded data removed]",
      "text/plain": [
       "<Figure size 432x288 with 1 Axes>"
      ]
     },
     "metadata": {
      "needs_background": "light"
     },
     "output_type": "display_data"
    }
   ],
   "source": [
    "current_data.groupby(\"rating\")[\"jp_sales\"].sum().sort_values(ascending=False).plot.bar(rot=45, xlabel=\"Рейтинги\", title=\"Продажи по возрастному рейтингу в Японии\", ylabel=\"Млн проданных копий\");"
   ]
  },
  {
   "cell_type": "markdown",
   "metadata": {},
   "source": [
    "Для Северной Америки и Европы первое место по выручке занимают игры с рейтингом \"18+\", второе место делят игры \"без рейтинга\" и \"для всех\". Наименее популярные игры для подростковой аудитории - с 10 и с 13 лет.\n",
    "\n",
    "Для Японии картина отличается: большую выручку дают игры без указанного рейтинга, поскольку рейтинг ESRB принят для компьютерных игр, выпущенных в Канаде и США."
   ]
  },
  {
   "cell_type": "markdown",
   "metadata": {},
   "source": [
    "#### Статистический анализ данных"
   ]
  },
  {
   "cell_type": "markdown",
   "metadata": {},
   "source": [
    "##### Проверка гипотезы: Средние пользовательские рейтинги платформ Xbox One и PC одинаковые"
   ]
  },
  {
   "cell_type": "markdown",
   "metadata": {},
   "source": [
    "Сформулируем нулевую и альтернативную гипотезы:\n",
    "\n",
    "**Нулевая гипотеза**: Средний пользовательский рейтинг Xbox One и PC одинаковые.\n",
    "\n",
    "**Альтернативная гипотеза**: Средний пользовательский рейтинг Xbox One и PC не одинаковые.\n",
    "\n",
    "Применим двухсторонний t-тест для независимых выборок:\n"
   ]
  },
  {
   "cell_type": "code",
   "execution_count": 52,
   "metadata": {
    "scrolled": true
   },
   "outputs": [
    {
     "name": "stdout",
     "output_type": "stream",
     "text": [
      "Не получилось отвергнуть нулевую гипотезу. p-value равен:  0.17306926618147322\n"
     ]
    }
   ],
   "source": [
    "results = st.ttest_ind(current_data.dropna().query(\"platform == 'XOne'\")[\"user_score\"], current_data.dropna().query(\"platform == 'PC'\")[\"user_score\"], alternative = 'two-sided')\n",
    "\n",
    "alpha = 0.05\n",
    "\n",
    "if results.pvalue < alpha:\n",
    "    print(\"Отвергаем нулевую гипотезу. p-value равен: \", results.pvalue)\n",
    "else:\n",
    "    print(\"Не получилось отвергнуть нулевую гипотезу. p-value равен: \", results.pvalue)"
   ]
  },
  {
   "cell_type": "markdown",
   "metadata": {},
   "source": [
    "Не получилось отвергнуть нулевую гипотезу, следовательно, нет оснований считать, что средние пользовательские рейтинги платформ Xbox One и PC значимо различаются."
   ]
  },
  {
   "cell_type": "markdown",
   "metadata": {},
   "source": [
    "##### Проверка гипотезы: Средние пользовательские рейтинги жанров Action (англ. «действие», экшен-игры) и Sports (англ. «спортивные соревнования») разные."
   ]
  },
  {
   "cell_type": "markdown",
   "metadata": {},
   "source": [
    "Сформулируем нулевую и альтернативную гипотезы:\n",
    "\n",
    "**Нулевая гипотеза**: Средние пользовательские рейтинги жанров Action и Sports  одинаковые.\n",
    "\n",
    "**Альтернативная гипотеза**: Средние пользовательские рейтинги жанров Action и Sports  разные.\n",
    "\n",
    "Применим двухсторонний t-тест для независимых выборок:\n"
   ]
  },
  {
   "cell_type": "code",
   "execution_count": 53,
   "metadata": {},
   "outputs": [
    {
     "name": "stdout",
     "output_type": "stream",
     "text": [
      "Отвергаем нулевую гипотезу. p-value равен:  1.684099430689953e-16\n"
     ]
    }
   ],
   "source": [
    "results = st.ttest_ind(current_data.dropna().query(\"genre == 'Action'\")[\"user_score\"], current_data.dropna().query(\"genre == 'Sports'\")[\"user_score\"], alternative = 'two-sided')\n",
    "\n",
    "alpha = 0.05\n",
    "\n",
    "if results.pvalue < alpha:\n",
    "    print(\"Отвергаем нулевую гипотезу. p-value равен: \", results.pvalue)\n",
    "else:\n",
    "    print(\"Не получилось отвергнуть нулевую гипотезу. p-value равен: \", results.pvalue)"
   ]
  },
  {
   "cell_type": "markdown",
   "metadata": {},
   "source": [
    "Нулевая гипотеза была отвергнута, следовательно,  есть основания считать, что средние пользовательские рейтинги статистически значимо отличаются друг от друга."
   ]
  },
  {
   "cell_type": "markdown",
   "metadata": {},
   "source": [
    "#### Заключение"
   ]
  },
  {
   "cell_type": "markdown",
   "metadata": {},
   "source": [
    "Над исходными данными были проведены различные манипуляции: был осуществлен общий обзор данных, произведена предобработка данных (удаление пропусков), исследовательский и статистический анализ данных.\n",
    "\n",
    "В результате были получены следующие выводы:\n",
    "\n",
    "1. Наблюдается общий спад продаж на рынке компьютерных игр с 2010 года.\n",
    "2. Платформами за наибольшими суммарными продажами за всю историю компьютерных игр являются PS2, X360, PS3, Wii, DS, PS.\n",
    "3. Средняя продолжительности жизни платформы около 10 лет. Сейчас наиболее популярные платформы - PS4 и XOne.\n",
    "4. На продажи игр в положительную сторону влияет оценка критиков (коэффициент корреляции Пирсона примерно равен 0.4). Пользовательский рейтинг никак не влияет.\n",
    "5. Самые прибыльные жанры, исходя из медианных продаж -  Shooter (с большим отрывом от остальных), Sports, Platform, Role-Playing и Fighting.\n",
    "6. Портреты типичного пользователя из Северной Америки и Европы более или менее совпадают, японская аудитория отличается сильней по своим предпочтениям (более подробно - см. в разделе \"Типичный портрет пользователя по регионам\")\n",
    "7. Нет оснований утверждать, что средние пользовательские рейтинги платформ Xbox One и PC значимо различаются.\n",
    "8. Есть основания считать, что средние пользовательские рейтинги жанров Action и Sports статистически значимо отличаются друг от друга.\n"
   ]
  },
  {
   "cell_type": "markdown",
   "metadata": {},
   "source": [
    "**Прогноз и рекомендации для бизнеса на 2017 год:**\n",
    "\n",
    "1. Продажи компьютерных игр, в целом, вероятно, будут падать. Следует ожидать снижение продаж.\n",
    "2. Наиболее перспективные платформы, которые выдержат удар - это PS4 и XOne. Остальные платформы, вероятно, будут угасать или совсем исчезнут.\n",
    "3. Надежный прибыльный жанр, на который можно возлагать ожидания и надежды - шутер.\n",
    "4. Исходя из этого, лучше ориентироваться на потребителей из Северной Америки и Европы: шутеры -  второй по популярности жанр у данной аудитории.\n",
    "5. Более прибыльные игры имеют более высокую оценку критиков, пользовательские оценки учитывать не стоит."
   ]
  }
 ],
 "metadata": {
  "ExecuteTimeLog": [
   {
    "duration": 50,
    "start_time": "2024-02-18T14:13:03.796Z"
   },
   {
    "duration": 397,
    "start_time": "2024-02-18T14:13:10.996Z"
   },
   {
    "duration": 178,
    "start_time": "2024-02-18T14:13:11.395Z"
   },
   {
    "duration": 19,
    "start_time": "2024-02-18T14:16:04.975Z"
   },
   {
    "duration": 20,
    "start_time": "2024-02-18T14:20:03.873Z"
   },
   {
    "duration": 77,
    "start_time": "2024-02-18T14:50:47.182Z"
   },
   {
    "duration": 13,
    "start_time": "2024-02-18T14:52:13.872Z"
   },
   {
    "duration": 3,
    "start_time": "2024-02-18T14:55:36.239Z"
   },
   {
    "duration": 4,
    "start_time": "2024-02-18T14:55:48.476Z"
   },
   {
    "duration": 15,
    "start_time": "2024-02-18T15:24:18.492Z"
   },
   {
    "duration": 10,
    "start_time": "2024-02-18T15:28:32.197Z"
   },
   {
    "duration": 1101,
    "start_time": "2024-02-18T15:43:08.862Z"
   },
   {
    "duration": 127,
    "start_time": "2024-02-18T15:43:24.014Z"
   },
   {
    "duration": 10,
    "start_time": "2024-02-18T15:44:41.440Z"
   },
   {
    "duration": 277,
    "start_time": "2024-02-18T15:57:33.616Z"
   },
   {
    "duration": 261,
    "start_time": "2024-02-18T15:57:46.941Z"
   },
   {
    "duration": 259,
    "start_time": "2024-02-18T15:58:18.352Z"
   },
   {
    "duration": 6,
    "start_time": "2024-02-18T16:01:54.183Z"
   },
   {
    "duration": 15,
    "start_time": "2024-02-18T16:02:05.812Z"
   },
   {
    "duration": 228,
    "start_time": "2024-02-18T16:04:02.474Z"
   },
   {
    "duration": 133,
    "start_time": "2024-02-18T16:04:32.493Z"
   },
   {
    "duration": 19,
    "start_time": "2024-02-18T16:05:05.193Z"
   },
   {
    "duration": 192,
    "start_time": "2024-02-18T16:05:39.273Z"
   },
   {
    "duration": 6,
    "start_time": "2024-02-18T16:06:32.394Z"
   },
   {
    "duration": 8,
    "start_time": "2024-02-18T16:06:52.083Z"
   },
   {
    "duration": 7,
    "start_time": "2024-02-18T16:07:00.045Z"
   },
   {
    "duration": 130,
    "start_time": "2024-02-18T16:08:15.509Z"
   },
   {
    "duration": 7,
    "start_time": "2024-02-18T16:15:39.368Z"
   },
   {
    "duration": 8,
    "start_time": "2024-02-18T16:16:00.031Z"
   },
   {
    "duration": 7,
    "start_time": "2024-02-18T16:16:22.927Z"
   },
   {
    "duration": 7,
    "start_time": "2024-02-18T16:16:25.421Z"
   },
   {
    "duration": 7,
    "start_time": "2024-02-18T16:19:00.472Z"
   },
   {
    "duration": 9,
    "start_time": "2024-02-18T16:19:21.230Z"
   },
   {
    "duration": 8,
    "start_time": "2024-02-18T16:19:28.671Z"
   },
   {
    "duration": 51,
    "start_time": "2024-02-21T19:57:54.857Z"
   },
   {
    "duration": 7,
    "start_time": "2024-02-21T19:58:12.077Z"
   },
   {
    "duration": 1202,
    "start_time": "2024-02-21T19:58:16.778Z"
   },
   {
    "duration": 93,
    "start_time": "2024-02-21T19:58:17.982Z"
   },
   {
    "duration": 17,
    "start_time": "2024-02-21T19:58:18.077Z"
   },
   {
    "duration": 27,
    "start_time": "2024-02-21T19:58:18.096Z"
   },
   {
    "duration": 22,
    "start_time": "2024-02-21T19:58:18.125Z"
   },
   {
    "duration": 17,
    "start_time": "2024-02-21T19:58:18.148Z"
   },
   {
    "duration": 26,
    "start_time": "2024-02-21T19:58:18.166Z"
   },
   {
    "duration": 10,
    "start_time": "2024-02-21T19:58:18.194Z"
   },
   {
    "duration": 15,
    "start_time": "2024-02-21T19:58:18.205Z"
   },
   {
    "duration": 17,
    "start_time": "2024-02-21T19:58:18.222Z"
   },
   {
    "duration": 34,
    "start_time": "2024-02-21T19:58:18.241Z"
   },
   {
    "duration": 296,
    "start_time": "2024-02-21T19:58:18.277Z"
   },
   {
    "duration": 148,
    "start_time": "2024-02-21T19:58:18.575Z"
   },
   {
    "duration": 7,
    "start_time": "2024-02-21T19:58:18.726Z"
   },
   {
    "duration": 8,
    "start_time": "2024-02-21T19:58:18.734Z"
   },
   {
    "duration": 17,
    "start_time": "2024-02-21T19:58:18.743Z"
   },
   {
    "duration": 31,
    "start_time": "2024-02-21T19:58:18.761Z"
   },
   {
    "duration": 13,
    "start_time": "2024-02-21T19:58:18.793Z"
   },
   {
    "duration": 10,
    "start_time": "2024-02-21T19:58:18.807Z"
   },
   {
    "duration": 94,
    "start_time": "2024-02-21T19:58:18.818Z"
   },
   {
    "duration": 10,
    "start_time": "2024-02-21T20:00:18.973Z"
   },
   {
    "duration": 4,
    "start_time": "2024-02-21T20:00:25.483Z"
   },
   {
    "duration": 13,
    "start_time": "2024-02-21T20:00:36.274Z"
   },
   {
    "duration": 3,
    "start_time": "2024-02-21T20:00:55.203Z"
   },
   {
    "duration": 1153,
    "start_time": "2024-02-21T20:00:58.698Z"
   },
   {
    "duration": 54,
    "start_time": "2024-02-21T20:00:59.853Z"
   },
   {
    "duration": 18,
    "start_time": "2024-02-21T20:00:59.908Z"
   },
   {
    "duration": 37,
    "start_time": "2024-02-21T20:00:59.927Z"
   },
   {
    "duration": 19,
    "start_time": "2024-02-21T20:00:59.966Z"
   },
   {
    "duration": 78,
    "start_time": "2024-02-21T20:00:59.987Z"
   },
   {
    "duration": 96,
    "start_time": "2024-02-21T20:01:00.066Z"
   },
   {
    "duration": 65,
    "start_time": "2024-02-21T20:01:00.163Z"
   },
   {
    "duration": 70,
    "start_time": "2024-02-21T20:01:00.229Z"
   },
   {
    "duration": 37,
    "start_time": "2024-02-21T20:01:00.301Z"
   },
   {
    "duration": 76,
    "start_time": "2024-02-21T20:01:00.340Z"
   },
   {
    "duration": 370,
    "start_time": "2024-02-21T20:01:00.418Z"
   },
   {
    "duration": 153,
    "start_time": "2024-02-21T20:01:00.789Z"
   },
   {
    "duration": 9,
    "start_time": "2024-02-21T20:01:00.945Z"
   },
   {
    "duration": 25,
    "start_time": "2024-02-21T20:01:00.956Z"
   },
   {
    "duration": 49,
    "start_time": "2024-02-21T20:01:00.983Z"
   },
   {
    "duration": 49,
    "start_time": "2024-02-21T20:01:01.033Z"
   },
   {
    "duration": 51,
    "start_time": "2024-02-21T20:01:01.084Z"
   },
   {
    "duration": 42,
    "start_time": "2024-02-21T20:01:01.137Z"
   },
   {
    "duration": 134,
    "start_time": "2024-02-21T20:01:01.180Z"
   },
   {
    "duration": 11,
    "start_time": "2024-02-21T20:04:52.588Z"
   },
   {
    "duration": 8,
    "start_time": "2024-02-21T20:04:58.463Z"
   },
   {
    "duration": 5,
    "start_time": "2024-02-21T20:05:02.788Z"
   },
   {
    "duration": 7,
    "start_time": "2024-02-21T20:17:59.632Z"
   },
   {
    "duration": 14,
    "start_time": "2024-02-21T20:18:36.664Z"
   },
   {
    "duration": 8,
    "start_time": "2024-02-21T20:19:45.442Z"
   },
   {
    "duration": 49,
    "start_time": "2024-02-21T20:20:15.246Z"
   },
   {
    "duration": 998,
    "start_time": "2024-02-21T20:25:57.364Z"
   },
   {
    "duration": 51,
    "start_time": "2024-02-21T20:25:58.364Z"
   },
   {
    "duration": 16,
    "start_time": "2024-02-21T20:25:58.417Z"
   },
   {
    "duration": 14,
    "start_time": "2024-02-21T20:25:58.435Z"
   },
   {
    "duration": 3,
    "start_time": "2024-02-21T20:25:58.450Z"
   },
   {
    "duration": 6,
    "start_time": "2024-02-21T20:25:58.454Z"
   },
   {
    "duration": 13,
    "start_time": "2024-02-21T20:25:58.461Z"
   },
   {
    "duration": 10,
    "start_time": "2024-02-21T20:25:58.476Z"
   },
   {
    "duration": 36,
    "start_time": "2024-02-21T20:25:58.487Z"
   },
   {
    "duration": 7,
    "start_time": "2024-02-21T20:25:58.526Z"
   },
   {
    "duration": 16,
    "start_time": "2024-02-21T20:25:58.534Z"
   },
   {
    "duration": 9,
    "start_time": "2024-02-21T20:25:58.552Z"
   },
   {
    "duration": 81,
    "start_time": "2024-02-21T20:25:58.563Z"
   },
   {
    "duration": 4,
    "start_time": "2024-02-21T20:25:58.645Z"
   },
   {
    "duration": 16,
    "start_time": "2024-02-21T20:25:58.650Z"
   },
   {
    "duration": 290,
    "start_time": "2024-02-21T20:25:58.667Z"
   },
   {
    "duration": 142,
    "start_time": "2024-02-21T20:25:58.959Z"
   },
   {
    "duration": 16,
    "start_time": "2024-02-21T20:25:59.103Z"
   },
   {
    "duration": 8,
    "start_time": "2024-02-21T20:25:59.121Z"
   },
   {
    "duration": 12,
    "start_time": "2024-02-21T20:25:59.130Z"
   },
   {
    "duration": 10,
    "start_time": "2024-02-21T20:25:59.143Z"
   },
   {
    "duration": 8,
    "start_time": "2024-02-21T20:25:59.155Z"
   },
   {
    "duration": 9,
    "start_time": "2024-02-21T20:25:59.164Z"
   },
   {
    "duration": 138,
    "start_time": "2024-02-21T20:25:59.175Z"
   },
   {
    "duration": 5,
    "start_time": "2024-02-21T20:30:04.111Z"
   },
   {
    "duration": 5,
    "start_time": "2024-02-21T20:38:43.662Z"
   },
   {
    "duration": 996,
    "start_time": "2024-02-21T20:42:34.778Z"
   },
   {
    "duration": 55,
    "start_time": "2024-02-21T20:42:35.776Z"
   },
   {
    "duration": 20,
    "start_time": "2024-02-21T20:42:35.833Z"
   },
   {
    "duration": 22,
    "start_time": "2024-02-21T20:42:35.856Z"
   },
   {
    "duration": 6,
    "start_time": "2024-02-21T20:42:35.880Z"
   },
   {
    "duration": 31,
    "start_time": "2024-02-21T20:42:35.887Z"
   },
   {
    "duration": 37,
    "start_time": "2024-02-21T20:42:35.920Z"
   },
   {
    "duration": 9,
    "start_time": "2024-02-21T20:42:35.959Z"
   },
   {
    "duration": 14,
    "start_time": "2024-02-21T20:42:35.969Z"
   },
   {
    "duration": 14,
    "start_time": "2024-02-21T20:42:35.985Z"
   },
   {
    "duration": 17,
    "start_time": "2024-02-21T20:42:36.000Z"
   },
   {
    "duration": 16,
    "start_time": "2024-02-21T20:42:36.019Z"
   },
   {
    "duration": 59,
    "start_time": "2024-02-21T20:42:36.036Z"
   },
   {
    "duration": 4,
    "start_time": "2024-02-21T20:42:36.098Z"
   },
   {
    "duration": 14,
    "start_time": "2024-02-21T20:42:36.105Z"
   },
   {
    "duration": 30,
    "start_time": "2024-02-21T20:42:36.120Z"
   },
   {
    "duration": 18,
    "start_time": "2024-02-21T20:42:36.151Z"
   },
   {
    "duration": 30,
    "start_time": "2024-02-21T20:42:36.170Z"
   },
   {
    "duration": 297,
    "start_time": "2024-02-21T20:42:36.202Z"
   },
   {
    "duration": 154,
    "start_time": "2024-02-21T20:42:36.501Z"
   },
   {
    "duration": 8,
    "start_time": "2024-02-21T20:42:36.657Z"
   },
   {
    "duration": 12,
    "start_time": "2024-02-21T20:42:36.666Z"
   },
   {
    "duration": 17,
    "start_time": "2024-02-21T20:42:36.679Z"
   },
   {
    "duration": 21,
    "start_time": "2024-02-21T20:42:36.697Z"
   },
   {
    "duration": 8,
    "start_time": "2024-02-21T20:42:36.719Z"
   },
   {
    "duration": 12,
    "start_time": "2024-02-21T20:42:36.729Z"
   },
   {
    "duration": 115,
    "start_time": "2024-02-21T20:42:36.743Z"
   },
   {
    "duration": 3,
    "start_time": "2024-02-21T20:45:22.819Z"
   },
   {
    "duration": 11,
    "start_time": "2024-02-21T20:45:45.837Z"
   },
   {
    "duration": 1064,
    "start_time": "2024-02-21T20:53:18.107Z"
   },
   {
    "duration": 59,
    "start_time": "2024-02-21T20:53:19.183Z"
   },
   {
    "duration": 25,
    "start_time": "2024-02-21T20:53:19.243Z"
   },
   {
    "duration": 21,
    "start_time": "2024-02-21T20:53:19.271Z"
   },
   {
    "duration": 3,
    "start_time": "2024-02-21T20:53:19.294Z"
   },
   {
    "duration": 28,
    "start_time": "2024-02-21T20:53:19.298Z"
   },
   {
    "duration": 29,
    "start_time": "2024-02-21T20:53:19.328Z"
   },
   {
    "duration": 9,
    "start_time": "2024-02-21T20:53:19.359Z"
   },
   {
    "duration": 4,
    "start_time": "2024-02-21T20:53:19.370Z"
   },
   {
    "duration": 7,
    "start_time": "2024-02-21T20:53:19.377Z"
   },
   {
    "duration": 22,
    "start_time": "2024-02-21T20:53:19.385Z"
   },
   {
    "duration": 27,
    "start_time": "2024-02-21T20:53:19.408Z"
   },
   {
    "duration": 48,
    "start_time": "2024-02-21T20:53:19.437Z"
   },
   {
    "duration": 4,
    "start_time": "2024-02-21T20:53:19.487Z"
   },
   {
    "duration": 5,
    "start_time": "2024-02-21T20:53:19.492Z"
   },
   {
    "duration": 31,
    "start_time": "2024-02-21T20:53:19.498Z"
   },
   {
    "duration": 5,
    "start_time": "2024-02-21T20:53:19.531Z"
   },
   {
    "duration": 10,
    "start_time": "2024-02-21T20:53:19.538Z"
   },
   {
    "duration": 5,
    "start_time": "2024-02-21T20:53:19.550Z"
   },
   {
    "duration": 14,
    "start_time": "2024-02-21T20:53:19.556Z"
   },
   {
    "duration": 340,
    "start_time": "2024-02-21T20:53:19.572Z"
   },
   {
    "duration": 152,
    "start_time": "2024-02-21T20:53:19.913Z"
   },
   {
    "duration": 7,
    "start_time": "2024-02-21T20:53:20.067Z"
   },
   {
    "duration": 8,
    "start_time": "2024-02-21T20:53:20.075Z"
   },
   {
    "duration": 6,
    "start_time": "2024-02-21T20:53:20.085Z"
   },
   {
    "duration": 26,
    "start_time": "2024-02-21T20:53:20.092Z"
   },
   {
    "duration": 11,
    "start_time": "2024-02-21T20:53:20.119Z"
   },
   {
    "duration": 7,
    "start_time": "2024-02-21T20:53:20.133Z"
   },
   {
    "duration": 112,
    "start_time": "2024-02-21T20:53:20.141Z"
   },
   {
    "duration": 265,
    "start_time": "2024-02-21T20:53:59.485Z"
   },
   {
    "duration": 22,
    "start_time": "2024-02-21T20:55:40.032Z"
   },
   {
    "duration": 16,
    "start_time": "2024-02-21T20:57:21.899Z"
   },
   {
    "duration": 1448,
    "start_time": "2024-02-21T20:59:00.063Z"
   },
   {
    "duration": 89,
    "start_time": "2024-02-21T20:59:01.513Z"
   },
   {
    "duration": 25,
    "start_time": "2024-02-21T20:59:01.603Z"
   },
   {
    "duration": 47,
    "start_time": "2024-02-21T20:59:01.630Z"
   },
   {
    "duration": 29,
    "start_time": "2024-02-21T20:59:01.679Z"
   },
   {
    "duration": 53,
    "start_time": "2024-02-21T20:59:01.710Z"
   },
   {
    "duration": 48,
    "start_time": "2024-02-21T20:59:01.764Z"
   },
   {
    "duration": 38,
    "start_time": "2024-02-21T20:59:01.813Z"
   },
   {
    "duration": 25,
    "start_time": "2024-02-21T20:59:01.852Z"
   },
   {
    "duration": 30,
    "start_time": "2024-02-21T20:59:01.879Z"
   },
   {
    "duration": 50,
    "start_time": "2024-02-21T20:59:01.910Z"
   },
   {
    "duration": 25,
    "start_time": "2024-02-21T20:59:01.961Z"
   },
   {
    "duration": 79,
    "start_time": "2024-02-21T20:59:01.987Z"
   },
   {
    "duration": 5,
    "start_time": "2024-02-21T20:59:02.067Z"
   },
   {
    "duration": 26,
    "start_time": "2024-02-21T20:59:02.073Z"
   },
   {
    "duration": 35,
    "start_time": "2024-02-21T20:59:02.100Z"
   },
   {
    "duration": 13,
    "start_time": "2024-02-21T20:59:02.137Z"
   },
   {
    "duration": 46,
    "start_time": "2024-02-21T20:59:02.151Z"
   },
   {
    "duration": 41,
    "start_time": "2024-02-21T20:59:02.198Z"
   },
   {
    "duration": 9,
    "start_time": "2024-02-21T20:59:02.241Z"
   },
   {
    "duration": 37,
    "start_time": "2024-02-21T20:59:02.251Z"
   },
   {
    "duration": 39,
    "start_time": "2024-02-21T20:59:02.290Z"
   },
   {
    "duration": 292,
    "start_time": "2024-02-21T20:59:02.331Z"
   },
   {
    "duration": 144,
    "start_time": "2024-02-21T20:59:02.625Z"
   },
   {
    "duration": 9,
    "start_time": "2024-02-21T20:59:02.770Z"
   },
   {
    "duration": 9,
    "start_time": "2024-02-21T20:59:02.780Z"
   },
   {
    "duration": 28,
    "start_time": "2024-02-21T20:59:02.790Z"
   },
   {
    "duration": 7,
    "start_time": "2024-02-21T20:59:02.822Z"
   },
   {
    "duration": 6,
    "start_time": "2024-02-21T20:59:02.831Z"
   },
   {
    "duration": 6,
    "start_time": "2024-02-21T20:59:02.838Z"
   },
   {
    "duration": 122,
    "start_time": "2024-02-21T20:59:02.845Z"
   },
   {
    "duration": 268,
    "start_time": "2024-02-21T21:03:42.770Z"
   },
   {
    "duration": 298,
    "start_time": "2024-02-21T21:04:00.808Z"
   },
   {
    "duration": 288,
    "start_time": "2024-02-21T21:04:20.297Z"
   },
   {
    "duration": 207,
    "start_time": "2024-02-21T21:06:06.240Z"
   },
   {
    "duration": 137,
    "start_time": "2024-02-21T21:06:16.815Z"
   },
   {
    "duration": 158,
    "start_time": "2024-02-21T21:06:47.515Z"
   },
   {
    "duration": 78,
    "start_time": "2024-02-21T21:09:36.699Z"
   },
   {
    "duration": 140,
    "start_time": "2024-02-21T21:09:46.397Z"
   },
   {
    "duration": 290,
    "start_time": "2024-02-21T21:10:23.902Z"
   },
   {
    "duration": 160,
    "start_time": "2024-02-21T21:10:28.340Z"
   },
   {
    "duration": 306,
    "start_time": "2024-02-21T21:10:41.563Z"
   },
   {
    "duration": 165,
    "start_time": "2024-02-21T21:11:23.713Z"
   },
   {
    "duration": 14,
    "start_time": "2024-02-21T21:21:18.126Z"
   },
   {
    "duration": 82,
    "start_time": "2024-02-21T21:23:00.770Z"
   },
   {
    "duration": 34,
    "start_time": "2024-02-21T21:23:22.127Z"
   },
   {
    "duration": 21,
    "start_time": "2024-02-21T21:25:30.337Z"
   },
   {
    "duration": 35,
    "start_time": "2024-02-21T21:25:35.524Z"
   },
   {
    "duration": 490,
    "start_time": "2024-02-21T21:26:28.941Z"
   },
   {
    "duration": 178,
    "start_time": "2024-02-21T21:27:00.177Z"
   },
   {
    "duration": 34,
    "start_time": "2024-02-21T21:27:35.893Z"
   },
   {
    "duration": 10,
    "start_time": "2024-02-21T21:27:57.009Z"
   },
   {
    "duration": 1186,
    "start_time": "2024-02-21T21:28:03.954Z"
   },
   {
    "duration": 55,
    "start_time": "2024-02-21T21:28:16.315Z"
   },
   {
    "duration": 33,
    "start_time": "2024-02-21T21:29:12.374Z"
   },
   {
    "duration": 52,
    "start_time": "2024-02-21T21:29:38.773Z"
   },
   {
    "duration": 33,
    "start_time": "2024-02-21T21:30:16.713Z"
   },
   {
    "duration": 397,
    "start_time": "2024-02-21T21:31:11.624Z"
   },
   {
    "duration": 14,
    "start_time": "2024-02-21T21:32:32.856Z"
   },
   {
    "duration": 415,
    "start_time": "2024-02-21T21:33:11.925Z"
   },
   {
    "duration": 395,
    "start_time": "2024-02-21T21:33:29.251Z"
   },
   {
    "duration": 1231,
    "start_time": "2024-02-21T21:34:27.875Z"
   },
   {
    "duration": 32,
    "start_time": "2024-02-21T21:34:36.962Z"
   },
   {
    "duration": 1063,
    "start_time": "2024-02-21T21:36:28.891Z"
   },
   {
    "duration": 52,
    "start_time": "2024-02-21T21:36:29.956Z"
   },
   {
    "duration": 19,
    "start_time": "2024-02-21T21:36:30.009Z"
   },
   {
    "duration": 21,
    "start_time": "2024-02-21T21:36:30.029Z"
   },
   {
    "duration": 3,
    "start_time": "2024-02-21T21:36:30.052Z"
   },
   {
    "duration": 41,
    "start_time": "2024-02-21T21:36:30.056Z"
   },
   {
    "duration": 61,
    "start_time": "2024-02-21T21:36:30.098Z"
   },
   {
    "duration": 25,
    "start_time": "2024-02-21T21:36:30.160Z"
   },
   {
    "duration": 20,
    "start_time": "2024-02-21T21:36:30.187Z"
   },
   {
    "duration": 39,
    "start_time": "2024-02-21T21:36:30.209Z"
   },
   {
    "duration": 39,
    "start_time": "2024-02-21T21:36:30.250Z"
   },
   {
    "duration": 16,
    "start_time": "2024-02-21T21:36:30.290Z"
   },
   {
    "duration": 94,
    "start_time": "2024-02-21T21:36:30.307Z"
   },
   {
    "duration": 4,
    "start_time": "2024-02-21T21:36:30.403Z"
   },
   {
    "duration": 19,
    "start_time": "2024-02-21T21:36:30.409Z"
   },
   {
    "duration": 27,
    "start_time": "2024-02-21T21:36:30.430Z"
   },
   {
    "duration": 31,
    "start_time": "2024-02-21T21:36:30.458Z"
   },
   {
    "duration": 40,
    "start_time": "2024-02-21T21:36:30.490Z"
   },
   {
    "duration": 52,
    "start_time": "2024-02-21T21:36:30.532Z"
   },
   {
    "duration": 35,
    "start_time": "2024-02-21T21:36:30.585Z"
   },
   {
    "duration": 51,
    "start_time": "2024-02-21T21:36:30.621Z"
   },
   {
    "duration": 341,
    "start_time": "2024-02-21T21:36:30.674Z"
   },
   {
    "duration": 157,
    "start_time": "2024-02-21T21:36:31.017Z"
   },
   {
    "duration": 52,
    "start_time": "2024-02-21T21:36:31.175Z"
   },
   {
    "duration": 7,
    "start_time": "2024-02-21T21:36:31.228Z"
   },
   {
    "duration": 42,
    "start_time": "2024-02-21T21:36:31.237Z"
   },
   {
    "duration": 28,
    "start_time": "2024-02-21T21:36:31.280Z"
   },
   {
    "duration": 26,
    "start_time": "2024-02-21T21:36:31.310Z"
   },
   {
    "duration": 32,
    "start_time": "2024-02-21T21:36:31.337Z"
   },
   {
    "duration": 68,
    "start_time": "2024-02-21T21:36:31.371Z"
   },
   {
    "duration": 124,
    "start_time": "2024-02-21T21:36:31.440Z"
   },
   {
    "duration": 353,
    "start_time": "2024-02-21T21:40:17.254Z"
   },
   {
    "duration": 27,
    "start_time": "2024-02-21T21:41:06.227Z"
   },
   {
    "duration": 173,
    "start_time": "2024-02-21T21:41:17.899Z"
   },
   {
    "duration": 181,
    "start_time": "2024-02-21T21:41:29.549Z"
   },
   {
    "duration": 23,
    "start_time": "2024-02-21T21:42:31.734Z"
   },
   {
    "duration": 171,
    "start_time": "2024-02-21T21:42:48.387Z"
   },
   {
    "duration": 192,
    "start_time": "2024-02-21T21:53:11.888Z"
   },
   {
    "duration": 268,
    "start_time": "2024-02-21T21:53:30.699Z"
   },
   {
    "duration": 185,
    "start_time": "2024-02-21T21:53:52.099Z"
   },
   {
    "duration": 183,
    "start_time": "2024-02-21T21:53:58.811Z"
   },
   {
    "duration": 8,
    "start_time": "2024-02-21T21:54:41.531Z"
   },
   {
    "duration": 286,
    "start_time": "2024-02-21T21:54:46.899Z"
   },
   {
    "duration": 309,
    "start_time": "2024-02-21T21:56:09.544Z"
   },
   {
    "duration": 23,
    "start_time": "2024-02-21T21:57:35.233Z"
   },
   {
    "duration": 290,
    "start_time": "2024-02-21T21:57:45.531Z"
   },
   {
    "duration": 22,
    "start_time": "2024-02-21T21:58:09.787Z"
   },
   {
    "duration": 302,
    "start_time": "2024-02-21T21:58:21.619Z"
   },
   {
    "duration": 248,
    "start_time": "2024-02-21T21:58:33.860Z"
   },
   {
    "duration": 241,
    "start_time": "2024-02-21T21:58:43.458Z"
   },
   {
    "duration": 1109,
    "start_time": "2024-02-21T21:59:51.341Z"
   },
   {
    "duration": 52,
    "start_time": "2024-02-21T21:59:52.452Z"
   },
   {
    "duration": 17,
    "start_time": "2024-02-21T21:59:52.505Z"
   },
   {
    "duration": 28,
    "start_time": "2024-02-21T21:59:52.524Z"
   },
   {
    "duration": 16,
    "start_time": "2024-02-21T21:59:52.553Z"
   },
   {
    "duration": 21,
    "start_time": "2024-02-21T21:59:52.570Z"
   },
   {
    "duration": 34,
    "start_time": "2024-02-21T21:59:52.592Z"
   },
   {
    "duration": 28,
    "start_time": "2024-02-21T21:59:52.627Z"
   },
   {
    "duration": 26,
    "start_time": "2024-02-21T21:59:52.656Z"
   },
   {
    "duration": 27,
    "start_time": "2024-02-21T21:59:52.684Z"
   },
   {
    "duration": 24,
    "start_time": "2024-02-21T21:59:52.712Z"
   },
   {
    "duration": 8,
    "start_time": "2024-02-21T21:59:52.737Z"
   },
   {
    "duration": 49,
    "start_time": "2024-02-21T21:59:52.746Z"
   },
   {
    "duration": 4,
    "start_time": "2024-02-21T21:59:52.797Z"
   },
   {
    "duration": 16,
    "start_time": "2024-02-21T21:59:52.802Z"
   },
   {
    "duration": 5,
    "start_time": "2024-02-21T21:59:52.820Z"
   },
   {
    "duration": 31,
    "start_time": "2024-02-21T21:59:52.826Z"
   },
   {
    "duration": 27,
    "start_time": "2024-02-21T21:59:52.858Z"
   },
   {
    "duration": 19,
    "start_time": "2024-02-21T21:59:52.886Z"
   },
   {
    "duration": 34,
    "start_time": "2024-02-21T21:59:52.906Z"
   },
   {
    "duration": 49,
    "start_time": "2024-02-21T21:59:52.942Z"
   },
   {
    "duration": 284,
    "start_time": "2024-02-21T21:59:52.992Z"
   },
   {
    "duration": 152,
    "start_time": "2024-02-21T21:59:53.277Z"
   },
   {
    "duration": 200,
    "start_time": "2024-02-21T21:59:53.432Z"
   },
   {
    "duration": 272,
    "start_time": "2024-02-21T21:59:53.634Z"
   },
   {
    "duration": 11,
    "start_time": "2024-02-21T21:59:53.908Z"
   },
   {
    "duration": 7,
    "start_time": "2024-02-21T21:59:53.920Z"
   },
   {
    "duration": 13,
    "start_time": "2024-02-21T21:59:53.930Z"
   },
   {
    "duration": 13,
    "start_time": "2024-02-21T21:59:53.944Z"
   },
   {
    "duration": 15,
    "start_time": "2024-02-21T21:59:53.959Z"
   },
   {
    "duration": 19,
    "start_time": "2024-02-21T21:59:53.976Z"
   },
   {
    "duration": 105,
    "start_time": "2024-02-21T21:59:53.997Z"
   },
   {
    "duration": 245,
    "start_time": "2024-02-21T22:00:48.956Z"
   },
   {
    "duration": 14,
    "start_time": "2024-02-21T22:02:42.492Z"
   },
   {
    "duration": 349,
    "start_time": "2024-02-21T22:03:01.375Z"
   },
   {
    "duration": 203,
    "start_time": "2024-02-21T22:04:31.110Z"
   },
   {
    "duration": 242,
    "start_time": "2024-02-21T22:07:29.394Z"
   },
   {
    "duration": 113,
    "start_time": "2024-02-21T22:07:47.594Z"
   },
   {
    "duration": 277,
    "start_time": "2024-02-21T22:08:01.452Z"
   },
   {
    "duration": 257,
    "start_time": "2024-02-21T22:09:10.261Z"
   },
   {
    "duration": 315,
    "start_time": "2024-02-21T22:09:14.582Z"
   },
   {
    "duration": 6,
    "start_time": "2024-02-21T22:16:02.523Z"
   },
   {
    "duration": 1304,
    "start_time": "2024-02-21T22:18:38.506Z"
   },
   {
    "duration": 120,
    "start_time": "2024-02-21T22:18:57.554Z"
   },
   {
    "duration": 120,
    "start_time": "2024-02-21T22:19:13.559Z"
   },
   {
    "duration": 121,
    "start_time": "2024-02-21T22:19:52.338Z"
   },
   {
    "duration": 7,
    "start_time": "2024-02-21T22:20:38.870Z"
   },
   {
    "duration": 7,
    "start_time": "2024-02-21T22:21:30.018Z"
   },
   {
    "duration": 117,
    "start_time": "2024-02-21T22:21:31.450Z"
   },
   {
    "duration": 6,
    "start_time": "2024-02-21T22:21:34.020Z"
   },
   {
    "duration": 6,
    "start_time": "2024-02-21T22:22:05.405Z"
   },
   {
    "duration": 119,
    "start_time": "2024-02-21T22:22:07.209Z"
   },
   {
    "duration": 6,
    "start_time": "2024-02-21T22:22:09.910Z"
   },
   {
    "duration": 7,
    "start_time": "2024-02-21T22:22:20.753Z"
   },
   {
    "duration": 120,
    "start_time": "2024-02-21T22:22:22.123Z"
   },
   {
    "duration": 6,
    "start_time": "2024-02-21T22:22:24.769Z"
   },
   {
    "duration": 124,
    "start_time": "2024-02-21T22:24:17.841Z"
   },
   {
    "duration": 5,
    "start_time": "2024-02-21T22:25:18.084Z"
   },
   {
    "duration": 1072,
    "start_time": "2024-02-21T22:28:06.042Z"
   },
   {
    "duration": 53,
    "start_time": "2024-02-21T22:28:07.115Z"
   },
   {
    "duration": 18,
    "start_time": "2024-02-21T22:28:07.169Z"
   },
   {
    "duration": 14,
    "start_time": "2024-02-21T22:28:07.190Z"
   },
   {
    "duration": 3,
    "start_time": "2024-02-21T22:28:07.206Z"
   },
   {
    "duration": 6,
    "start_time": "2024-02-21T22:28:07.218Z"
   },
   {
    "duration": 24,
    "start_time": "2024-02-21T22:28:07.225Z"
   },
   {
    "duration": 9,
    "start_time": "2024-02-21T22:28:07.251Z"
   },
   {
    "duration": 5,
    "start_time": "2024-02-21T22:28:07.262Z"
   },
   {
    "duration": 12,
    "start_time": "2024-02-21T22:28:07.270Z"
   },
   {
    "duration": 14,
    "start_time": "2024-02-21T22:28:07.283Z"
   },
   {
    "duration": 20,
    "start_time": "2024-02-21T22:28:07.298Z"
   },
   {
    "duration": 48,
    "start_time": "2024-02-21T22:28:07.319Z"
   },
   {
    "duration": 4,
    "start_time": "2024-02-21T22:28:07.368Z"
   },
   {
    "duration": 5,
    "start_time": "2024-02-21T22:28:07.374Z"
   },
   {
    "duration": 10,
    "start_time": "2024-02-21T22:28:07.380Z"
   },
   {
    "duration": 30,
    "start_time": "2024-02-21T22:28:07.391Z"
   },
   {
    "duration": 13,
    "start_time": "2024-02-21T22:28:07.423Z"
   },
   {
    "duration": 4,
    "start_time": "2024-02-21T22:28:07.438Z"
   },
   {
    "duration": 18,
    "start_time": "2024-02-21T22:28:07.443Z"
   },
   {
    "duration": 15,
    "start_time": "2024-02-21T22:28:07.462Z"
   },
   {
    "duration": 310,
    "start_time": "2024-02-21T22:28:07.479Z"
   },
   {
    "duration": 151,
    "start_time": "2024-02-21T22:28:07.791Z"
   },
   {
    "duration": 200,
    "start_time": "2024-02-21T22:28:07.943Z"
   },
   {
    "duration": 263,
    "start_time": "2024-02-21T22:28:08.145Z"
   },
   {
    "duration": 265,
    "start_time": "2024-02-21T22:28:08.409Z"
   },
   {
    "duration": 6,
    "start_time": "2024-02-21T22:28:08.675Z"
   },
   {
    "duration": 135,
    "start_time": "2024-02-21T22:28:08.684Z"
   },
   {
    "duration": 5,
    "start_time": "2024-02-21T22:28:08.821Z"
   },
   {
    "duration": 195,
    "start_time": "2024-02-21T22:28:08.827Z"
   },
   {
    "duration": 6,
    "start_time": "2024-02-21T22:28:09.023Z"
   },
   {
    "duration": 7,
    "start_time": "2024-02-21T22:28:09.031Z"
   },
   {
    "duration": 15,
    "start_time": "2024-02-21T22:28:09.039Z"
   },
   {
    "duration": 9,
    "start_time": "2024-02-21T22:28:09.056Z"
   },
   {
    "duration": 7,
    "start_time": "2024-02-21T22:28:09.067Z"
   },
   {
    "duration": 17,
    "start_time": "2024-02-21T22:28:09.075Z"
   },
   {
    "duration": 27,
    "start_time": "2024-02-21T22:28:09.093Z"
   },
   {
    "duration": 99,
    "start_time": "2024-02-21T22:28:09.122Z"
   },
   {
    "duration": 12,
    "start_time": "2024-02-21T22:37:20.633Z"
   },
   {
    "duration": 119,
    "start_time": "2024-02-21T22:37:29.408Z"
   },
   {
    "duration": 171,
    "start_time": "2024-02-21T22:38:34.856Z"
   },
   {
    "duration": 159,
    "start_time": "2024-02-21T22:40:37.903Z"
   },
   {
    "duration": 165,
    "start_time": "2024-02-21T22:45:11.714Z"
   },
   {
    "duration": 175,
    "start_time": "2024-02-21T22:45:19.645Z"
   },
   {
    "duration": 159,
    "start_time": "2024-02-21T22:47:25.537Z"
   },
   {
    "duration": 152,
    "start_time": "2024-02-21T22:47:38.303Z"
   },
   {
    "duration": 12,
    "start_time": "2024-02-21T22:49:55.980Z"
   },
   {
    "duration": 21,
    "start_time": "2024-02-21T22:50:07.350Z"
   },
   {
    "duration": 14,
    "start_time": "2024-02-21T22:50:44.582Z"
   },
   {
    "duration": 1091,
    "start_time": "2024-02-21T22:52:57.586Z"
   },
   {
    "duration": 51,
    "start_time": "2024-02-21T22:52:58.679Z"
   },
   {
    "duration": 17,
    "start_time": "2024-02-21T22:52:58.732Z"
   },
   {
    "duration": 17,
    "start_time": "2024-02-21T22:52:58.750Z"
   },
   {
    "duration": 3,
    "start_time": "2024-02-21T22:52:58.769Z"
   },
   {
    "duration": 5,
    "start_time": "2024-02-21T22:52:58.773Z"
   },
   {
    "duration": 15,
    "start_time": "2024-02-21T22:52:58.780Z"
   },
   {
    "duration": 24,
    "start_time": "2024-02-21T22:52:58.797Z"
   },
   {
    "duration": 4,
    "start_time": "2024-02-21T22:52:58.823Z"
   },
   {
    "duration": 10,
    "start_time": "2024-02-21T22:52:58.829Z"
   },
   {
    "duration": 12,
    "start_time": "2024-02-21T22:52:58.840Z"
   },
   {
    "duration": 7,
    "start_time": "2024-02-21T22:52:58.854Z"
   },
   {
    "duration": 74,
    "start_time": "2024-02-21T22:52:58.863Z"
   },
   {
    "duration": 4,
    "start_time": "2024-02-21T22:52:58.940Z"
   },
   {
    "duration": 25,
    "start_time": "2024-02-21T22:52:58.945Z"
   },
   {
    "duration": 6,
    "start_time": "2024-02-21T22:52:58.971Z"
   },
   {
    "duration": 8,
    "start_time": "2024-02-21T22:52:58.979Z"
   },
   {
    "duration": 16,
    "start_time": "2024-02-21T22:52:58.988Z"
   },
   {
    "duration": 6,
    "start_time": "2024-02-21T22:52:59.005Z"
   },
   {
    "duration": 18,
    "start_time": "2024-02-21T22:52:59.012Z"
   },
   {
    "duration": 19,
    "start_time": "2024-02-21T22:52:59.032Z"
   },
   {
    "duration": 309,
    "start_time": "2024-02-21T22:52:59.053Z"
   },
   {
    "duration": 144,
    "start_time": "2024-02-21T22:52:59.363Z"
   },
   {
    "duration": 200,
    "start_time": "2024-02-21T22:52:59.508Z"
   },
   {
    "duration": 250,
    "start_time": "2024-02-21T22:52:59.709Z"
   },
   {
    "duration": 254,
    "start_time": "2024-02-21T22:52:59.961Z"
   },
   {
    "duration": 6,
    "start_time": "2024-02-21T22:53:00.218Z"
   },
   {
    "duration": 161,
    "start_time": "2024-02-21T22:53:00.225Z"
   },
   {
    "duration": 8,
    "start_time": "2024-02-21T22:53:00.388Z"
   },
   {
    "duration": 203,
    "start_time": "2024-02-21T22:53:00.399Z"
   },
   {
    "duration": 6,
    "start_time": "2024-02-21T22:53:00.604Z"
   },
   {
    "duration": 176,
    "start_time": "2024-02-21T22:53:00.618Z"
   },
   {
    "duration": 167,
    "start_time": "2024-02-21T22:53:00.796Z"
   },
   {
    "duration": 15,
    "start_time": "2024-02-21T22:53:00.964Z"
   },
   {
    "duration": 31,
    "start_time": "2024-02-21T22:53:00.980Z"
   },
   {
    "duration": 34,
    "start_time": "2024-02-21T22:53:01.013Z"
   },
   {
    "duration": 23,
    "start_time": "2024-02-21T22:53:01.048Z"
   },
   {
    "duration": 15,
    "start_time": "2024-02-21T22:53:01.073Z"
   },
   {
    "duration": 33,
    "start_time": "2024-02-21T22:53:01.090Z"
   },
   {
    "duration": 16,
    "start_time": "2024-02-21T22:53:01.124Z"
   },
   {
    "duration": 104,
    "start_time": "2024-02-21T22:53:01.144Z"
   },
   {
    "duration": 19,
    "start_time": "2024-02-21T22:59:59.954Z"
   },
   {
    "duration": 15,
    "start_time": "2024-02-21T23:00:11.756Z"
   },
   {
    "duration": 16,
    "start_time": "2024-02-21T23:01:01.259Z"
   },
   {
    "duration": 1043,
    "start_time": "2024-02-21T23:05:37.527Z"
   },
   {
    "duration": 53,
    "start_time": "2024-02-21T23:05:38.572Z"
   },
   {
    "duration": 20,
    "start_time": "2024-02-21T23:05:38.627Z"
   },
   {
    "duration": 16,
    "start_time": "2024-02-21T23:05:38.648Z"
   },
   {
    "duration": 3,
    "start_time": "2024-02-21T23:05:38.666Z"
   },
   {
    "duration": 5,
    "start_time": "2024-02-21T23:05:38.671Z"
   },
   {
    "duration": 40,
    "start_time": "2024-02-21T23:05:38.678Z"
   },
   {
    "duration": 9,
    "start_time": "2024-02-21T23:05:38.720Z"
   },
   {
    "duration": 5,
    "start_time": "2024-02-21T23:05:38.731Z"
   },
   {
    "duration": 8,
    "start_time": "2024-02-21T23:05:38.738Z"
   },
   {
    "duration": 16,
    "start_time": "2024-02-21T23:05:38.747Z"
   },
   {
    "duration": 17,
    "start_time": "2024-02-21T23:05:38.765Z"
   },
   {
    "duration": 86,
    "start_time": "2024-02-21T23:05:38.784Z"
   },
   {
    "duration": 4,
    "start_time": "2024-02-21T23:05:38.872Z"
   },
   {
    "duration": 11,
    "start_time": "2024-02-21T23:05:38.877Z"
   },
   {
    "duration": 6,
    "start_time": "2024-02-21T23:05:38.890Z"
   },
   {
    "duration": 26,
    "start_time": "2024-02-21T23:05:38.898Z"
   },
   {
    "duration": 15,
    "start_time": "2024-02-21T23:05:38.926Z"
   },
   {
    "duration": 15,
    "start_time": "2024-02-21T23:05:38.942Z"
   },
   {
    "duration": 18,
    "start_time": "2024-02-21T23:05:38.959Z"
   },
   {
    "duration": 28,
    "start_time": "2024-02-21T23:05:38.979Z"
   },
   {
    "duration": 298,
    "start_time": "2024-02-21T23:05:39.009Z"
   },
   {
    "duration": 153,
    "start_time": "2024-02-21T23:05:39.308Z"
   },
   {
    "duration": 192,
    "start_time": "2024-02-21T23:05:39.462Z"
   },
   {
    "duration": 272,
    "start_time": "2024-02-21T23:05:39.655Z"
   },
   {
    "duration": 271,
    "start_time": "2024-02-21T23:05:39.929Z"
   },
   {
    "duration": 6,
    "start_time": "2024-02-21T23:05:40.202Z"
   },
   {
    "duration": 130,
    "start_time": "2024-02-21T23:05:40.220Z"
   },
   {
    "duration": 6,
    "start_time": "2024-02-21T23:05:40.351Z"
   },
   {
    "duration": 188,
    "start_time": "2024-02-21T23:05:40.359Z"
   },
   {
    "duration": 5,
    "start_time": "2024-02-21T23:05:40.548Z"
   },
   {
    "duration": 157,
    "start_time": "2024-02-21T23:05:40.555Z"
   },
   {
    "duration": 164,
    "start_time": "2024-02-21T23:05:40.713Z"
   },
   {
    "duration": 13,
    "start_time": "2024-02-21T23:05:40.879Z"
   },
   {
    "duration": 125,
    "start_time": "2024-02-21T23:05:40.893Z"
   },
   {
    "duration": 124,
    "start_time": "2024-02-21T23:05:41.020Z"
   },
   {
    "duration": 127,
    "start_time": "2024-02-21T23:05:41.146Z"
   },
   {
    "duration": 15,
    "start_time": "2024-02-21T23:05:41.274Z"
   },
   {
    "duration": 34,
    "start_time": "2024-02-21T23:05:41.291Z"
   },
   {
    "duration": 15,
    "start_time": "2024-02-21T23:05:41.327Z"
   },
   {
    "duration": 9,
    "start_time": "2024-02-21T23:05:41.344Z"
   },
   {
    "duration": 106,
    "start_time": "2024-02-21T23:05:41.354Z"
   },
   {
    "duration": 15,
    "start_time": "2024-02-21T23:08:04.096Z"
   },
   {
    "duration": 14,
    "start_time": "2024-02-21T23:08:30.969Z"
   },
   {
    "duration": 13,
    "start_time": "2024-02-21T23:08:58.676Z"
   },
   {
    "duration": 16,
    "start_time": "2024-02-21T23:10:22.619Z"
   },
   {
    "duration": 15,
    "start_time": "2024-02-21T23:10:34.517Z"
   },
   {
    "duration": 12,
    "start_time": "2024-02-21T23:10:41.244Z"
   },
   {
    "duration": 16,
    "start_time": "2024-02-21T23:11:08.567Z"
   },
   {
    "duration": 67,
    "start_time": "2024-02-21T23:12:35.477Z"
   },
   {
    "duration": 57,
    "start_time": "2024-02-21T23:12:53.526Z"
   },
   {
    "duration": 57,
    "start_time": "2024-02-21T23:13:18.757Z"
   },
   {
    "duration": 77,
    "start_time": "2024-02-21T23:14:07.747Z"
   },
   {
    "duration": 89,
    "start_time": "2024-02-21T23:14:13.506Z"
   },
   {
    "duration": 13,
    "start_time": "2024-02-21T23:16:03.931Z"
   },
   {
    "duration": 12,
    "start_time": "2024-02-21T23:16:46.877Z"
   },
   {
    "duration": 17,
    "start_time": "2024-02-21T23:16:48.835Z"
   },
   {
    "duration": 12,
    "start_time": "2024-02-21T23:17:08.871Z"
   },
   {
    "duration": 1008,
    "start_time": "2024-02-21T23:22:49.549Z"
   },
   {
    "duration": 52,
    "start_time": "2024-02-21T23:22:50.558Z"
   },
   {
    "duration": 18,
    "start_time": "2024-02-21T23:22:50.612Z"
   },
   {
    "duration": 14,
    "start_time": "2024-02-21T23:22:50.632Z"
   },
   {
    "duration": 3,
    "start_time": "2024-02-21T23:22:50.648Z"
   },
   {
    "duration": 4,
    "start_time": "2024-02-21T23:22:50.652Z"
   },
   {
    "duration": 13,
    "start_time": "2024-02-21T23:22:50.657Z"
   },
   {
    "duration": 9,
    "start_time": "2024-02-21T23:22:50.671Z"
   },
   {
    "duration": 5,
    "start_time": "2024-02-21T23:22:50.681Z"
   },
   {
    "duration": 34,
    "start_time": "2024-02-21T23:22:50.689Z"
   },
   {
    "duration": 14,
    "start_time": "2024-02-21T23:22:50.724Z"
   },
   {
    "duration": 8,
    "start_time": "2024-02-21T23:22:50.739Z"
   },
   {
    "duration": 70,
    "start_time": "2024-02-21T23:22:50.749Z"
   },
   {
    "duration": 5,
    "start_time": "2024-02-21T23:22:50.820Z"
   },
   {
    "duration": 5,
    "start_time": "2024-02-21T23:22:50.826Z"
   },
   {
    "duration": 8,
    "start_time": "2024-02-21T23:22:50.832Z"
   },
   {
    "duration": 9,
    "start_time": "2024-02-21T23:22:50.841Z"
   },
   {
    "duration": 15,
    "start_time": "2024-02-21T23:22:50.851Z"
   },
   {
    "duration": 4,
    "start_time": "2024-02-21T23:22:50.867Z"
   },
   {
    "duration": 47,
    "start_time": "2024-02-21T23:22:50.873Z"
   },
   {
    "duration": 13,
    "start_time": "2024-02-21T23:22:50.922Z"
   },
   {
    "duration": 284,
    "start_time": "2024-02-21T23:22:50.936Z"
   },
   {
    "duration": 150,
    "start_time": "2024-02-21T23:22:51.222Z"
   },
   {
    "duration": 198,
    "start_time": "2024-02-21T23:22:51.373Z"
   },
   {
    "duration": 280,
    "start_time": "2024-02-21T23:22:51.573Z"
   },
   {
    "duration": 265,
    "start_time": "2024-02-21T23:22:51.854Z"
   },
   {
    "duration": 6,
    "start_time": "2024-02-21T23:22:52.121Z"
   },
   {
    "duration": 129,
    "start_time": "2024-02-21T23:22:52.130Z"
   },
   {
    "duration": 5,
    "start_time": "2024-02-21T23:22:52.261Z"
   },
   {
    "duration": 187,
    "start_time": "2024-02-21T23:22:52.267Z"
   },
   {
    "duration": 5,
    "start_time": "2024-02-21T23:22:52.456Z"
   },
   {
    "duration": 155,
    "start_time": "2024-02-21T23:22:52.463Z"
   },
   {
    "duration": 160,
    "start_time": "2024-02-21T23:22:52.620Z"
   },
   {
    "duration": 13,
    "start_time": "2024-02-21T23:22:52.782Z"
   },
   {
    "duration": 139,
    "start_time": "2024-02-21T23:22:52.796Z"
   },
   {
    "duration": 122,
    "start_time": "2024-02-21T23:22:52.937Z"
   },
   {
    "duration": 123,
    "start_time": "2024-02-21T23:22:53.060Z"
   },
   {
    "duration": 12,
    "start_time": "2024-02-21T23:22:53.184Z"
   },
   {
    "duration": 23,
    "start_time": "2024-02-21T23:22:53.198Z"
   },
   {
    "duration": 12,
    "start_time": "2024-02-21T23:22:53.223Z"
   },
   {
    "duration": 8,
    "start_time": "2024-02-21T23:22:53.237Z"
   },
   {
    "duration": 8,
    "start_time": "2024-02-21T23:22:53.247Z"
   },
   {
    "duration": 8,
    "start_time": "2024-02-21T23:22:53.257Z"
   },
   {
    "duration": 121,
    "start_time": "2024-02-21T23:22:53.266Z"
   },
   {
    "duration": 5,
    "start_time": "2024-02-21T23:28:38.144Z"
   },
   {
    "duration": 3,
    "start_time": "2024-02-21T23:33:33.455Z"
   },
   {
    "duration": 11,
    "start_time": "2024-02-21T23:34:51.770Z"
   },
   {
    "duration": 5,
    "start_time": "2024-02-21T23:35:12.458Z"
   },
   {
    "duration": 8,
    "start_time": "2024-02-21T23:35:29.808Z"
   },
   {
    "duration": 5,
    "start_time": "2024-02-21T23:35:31.768Z"
   },
   {
    "duration": 8,
    "start_time": "2024-02-21T23:35:43.792Z"
   },
   {
    "duration": 5,
    "start_time": "2024-02-21T23:35:45.578Z"
   },
   {
    "duration": 140,
    "start_time": "2024-02-21T23:38:44.352Z"
   },
   {
    "duration": 125,
    "start_time": "2024-02-21T23:38:47.792Z"
   },
   {
    "duration": 120,
    "start_time": "2024-02-21T23:38:50.400Z"
   },
   {
    "duration": 1061,
    "start_time": "2024-02-21T23:42:13.990Z"
   },
   {
    "duration": 51,
    "start_time": "2024-02-21T23:42:15.053Z"
   },
   {
    "duration": 19,
    "start_time": "2024-02-21T23:42:15.106Z"
   },
   {
    "duration": 13,
    "start_time": "2024-02-21T23:42:15.126Z"
   },
   {
    "duration": 25,
    "start_time": "2024-02-21T23:42:15.141Z"
   },
   {
    "duration": 28,
    "start_time": "2024-02-21T23:42:15.168Z"
   },
   {
    "duration": 20,
    "start_time": "2024-02-21T23:42:15.198Z"
   },
   {
    "duration": 8,
    "start_time": "2024-02-21T23:42:15.220Z"
   },
   {
    "duration": 4,
    "start_time": "2024-02-21T23:42:15.230Z"
   },
   {
    "duration": 5,
    "start_time": "2024-02-21T23:42:15.236Z"
   },
   {
    "duration": 14,
    "start_time": "2024-02-21T23:42:15.242Z"
   },
   {
    "duration": 9,
    "start_time": "2024-02-21T23:42:15.257Z"
   },
   {
    "duration": 82,
    "start_time": "2024-02-21T23:42:15.268Z"
   },
   {
    "duration": 5,
    "start_time": "2024-02-21T23:42:15.352Z"
   },
   {
    "duration": 7,
    "start_time": "2024-02-21T23:42:15.358Z"
   },
   {
    "duration": 7,
    "start_time": "2024-02-21T23:42:15.367Z"
   },
   {
    "duration": 9,
    "start_time": "2024-02-21T23:42:15.376Z"
   },
   {
    "duration": 31,
    "start_time": "2024-02-21T23:42:15.387Z"
   },
   {
    "duration": 5,
    "start_time": "2024-02-21T23:42:15.420Z"
   },
   {
    "duration": 17,
    "start_time": "2024-02-21T23:42:15.426Z"
   },
   {
    "duration": 18,
    "start_time": "2024-02-21T23:42:15.444Z"
   },
   {
    "duration": 337,
    "start_time": "2024-02-21T23:42:15.463Z"
   },
   {
    "duration": 157,
    "start_time": "2024-02-21T23:42:15.802Z"
   },
   {
    "duration": 206,
    "start_time": "2024-02-21T23:42:15.961Z"
   },
   {
    "duration": 259,
    "start_time": "2024-02-21T23:42:16.168Z"
   },
   {
    "duration": 255,
    "start_time": "2024-02-21T23:42:16.428Z"
   },
   {
    "duration": 6,
    "start_time": "2024-02-21T23:42:16.684Z"
   },
   {
    "duration": 131,
    "start_time": "2024-02-21T23:42:16.693Z"
   },
   {
    "duration": 5,
    "start_time": "2024-02-21T23:42:16.825Z"
   },
   {
    "duration": 188,
    "start_time": "2024-02-21T23:42:16.832Z"
   },
   {
    "duration": 6,
    "start_time": "2024-02-21T23:42:17.022Z"
   },
   {
    "duration": 163,
    "start_time": "2024-02-21T23:42:17.029Z"
   },
   {
    "duration": 156,
    "start_time": "2024-02-21T23:42:17.194Z"
   },
   {
    "duration": 12,
    "start_time": "2024-02-21T23:42:17.352Z"
   },
   {
    "duration": 128,
    "start_time": "2024-02-21T23:42:17.366Z"
   },
   {
    "duration": 117,
    "start_time": "2024-02-21T23:42:17.496Z"
   },
   {
    "duration": 123,
    "start_time": "2024-02-21T23:42:17.618Z"
   },
   {
    "duration": 12,
    "start_time": "2024-02-21T23:42:17.743Z"
   },
   {
    "duration": 12,
    "start_time": "2024-02-21T23:42:17.756Z"
   },
   {
    "duration": 12,
    "start_time": "2024-02-21T23:42:17.769Z"
   },
   {
    "duration": 9,
    "start_time": "2024-02-21T23:42:17.782Z"
   },
   {
    "duration": 10,
    "start_time": "2024-02-21T23:42:17.818Z"
   },
   {
    "duration": 9,
    "start_time": "2024-02-21T23:42:17.830Z"
   },
   {
    "duration": 4,
    "start_time": "2024-02-21T23:42:17.840Z"
   },
   {
    "duration": 7,
    "start_time": "2024-02-21T23:42:17.846Z"
   },
   {
    "duration": 4,
    "start_time": "2024-02-21T23:42:17.855Z"
   },
   {
    "duration": 165,
    "start_time": "2024-02-21T23:42:17.860Z"
   },
   {
    "duration": 133,
    "start_time": "2024-02-21T23:42:18.027Z"
   },
   {
    "duration": 135,
    "start_time": "2024-02-21T23:42:18.161Z"
   },
   {
    "duration": 106,
    "start_time": "2024-02-21T23:42:18.298Z"
   },
   {
    "duration": 16,
    "start_time": "2024-02-21T23:46:12.083Z"
   },
   {
    "duration": 17,
    "start_time": "2024-02-21T23:46:51.838Z"
   },
   {
    "duration": 15,
    "start_time": "2024-02-21T23:47:15.954Z"
   },
   {
    "duration": 12,
    "start_time": "2024-02-21T23:47:39.819Z"
   },
   {
    "duration": 69,
    "start_time": "2024-02-21T23:49:22.959Z"
   },
   {
    "duration": 11,
    "start_time": "2024-02-21T23:49:56.544Z"
   },
   {
    "duration": 70,
    "start_time": "2024-02-21T23:52:33.410Z"
   },
   {
    "duration": 1059,
    "start_time": "2024-02-22T00:02:22.415Z"
   },
   {
    "duration": 53,
    "start_time": "2024-02-22T00:02:23.476Z"
   },
   {
    "duration": 21,
    "start_time": "2024-02-22T00:02:23.531Z"
   },
   {
    "duration": 26,
    "start_time": "2024-02-22T00:02:23.554Z"
   },
   {
    "duration": 3,
    "start_time": "2024-02-22T00:02:23.582Z"
   },
   {
    "duration": 17,
    "start_time": "2024-02-22T00:02:23.586Z"
   },
   {
    "duration": 34,
    "start_time": "2024-02-22T00:02:23.604Z"
   },
   {
    "duration": 12,
    "start_time": "2024-02-22T00:02:23.640Z"
   },
   {
    "duration": 13,
    "start_time": "2024-02-22T00:02:23.654Z"
   },
   {
    "duration": 7,
    "start_time": "2024-02-22T00:02:23.669Z"
   },
   {
    "duration": 17,
    "start_time": "2024-02-22T00:02:23.677Z"
   },
   {
    "duration": 8,
    "start_time": "2024-02-22T00:02:23.696Z"
   },
   {
    "duration": 60,
    "start_time": "2024-02-22T00:02:23.705Z"
   },
   {
    "duration": 4,
    "start_time": "2024-02-22T00:02:23.767Z"
   },
   {
    "duration": 6,
    "start_time": "2024-02-22T00:02:23.772Z"
   },
   {
    "duration": 10,
    "start_time": "2024-02-22T00:02:23.779Z"
   },
   {
    "duration": 9,
    "start_time": "2024-02-22T00:02:23.790Z"
   },
   {
    "duration": 15,
    "start_time": "2024-02-22T00:02:23.817Z"
   },
   {
    "duration": 3,
    "start_time": "2024-02-22T00:02:23.834Z"
   },
   {
    "duration": 17,
    "start_time": "2024-02-22T00:02:23.839Z"
   },
   {
    "duration": 18,
    "start_time": "2024-02-22T00:02:23.857Z"
   },
   {
    "duration": 314,
    "start_time": "2024-02-22T00:02:23.876Z"
   },
   {
    "duration": 157,
    "start_time": "2024-02-22T00:02:24.192Z"
   },
   {
    "duration": 198,
    "start_time": "2024-02-22T00:02:24.350Z"
   },
   {
    "duration": 274,
    "start_time": "2024-02-22T00:02:24.549Z"
   },
   {
    "duration": 266,
    "start_time": "2024-02-22T00:02:24.824Z"
   },
   {
    "duration": 6,
    "start_time": "2024-02-22T00:02:25.091Z"
   },
   {
    "duration": 127,
    "start_time": "2024-02-22T00:02:25.098Z"
   },
   {
    "duration": 5,
    "start_time": "2024-02-22T00:02:25.227Z"
   },
   {
    "duration": 179,
    "start_time": "2024-02-22T00:02:25.233Z"
   },
   {
    "duration": 7,
    "start_time": "2024-02-22T00:02:25.413Z"
   },
   {
    "duration": 149,
    "start_time": "2024-02-22T00:02:25.421Z"
   },
   {
    "duration": 158,
    "start_time": "2024-02-22T00:02:25.571Z"
   },
   {
    "duration": 12,
    "start_time": "2024-02-22T00:02:25.731Z"
   },
   {
    "duration": 123,
    "start_time": "2024-02-22T00:02:25.744Z"
   },
   {
    "duration": 119,
    "start_time": "2024-02-22T00:02:25.869Z"
   },
   {
    "duration": 127,
    "start_time": "2024-02-22T00:02:25.990Z"
   },
   {
    "duration": 13,
    "start_time": "2024-02-22T00:02:26.119Z"
   },
   {
    "duration": 37,
    "start_time": "2024-02-22T00:02:26.134Z"
   },
   {
    "duration": 28,
    "start_time": "2024-02-22T00:02:26.173Z"
   },
   {
    "duration": 11,
    "start_time": "2024-02-22T00:02:26.206Z"
   },
   {
    "duration": 9,
    "start_time": "2024-02-22T00:02:26.219Z"
   },
   {
    "duration": 10,
    "start_time": "2024-02-22T00:02:26.229Z"
   },
   {
    "duration": 5,
    "start_time": "2024-02-22T00:02:26.241Z"
   },
   {
    "duration": 26,
    "start_time": "2024-02-22T00:02:26.247Z"
   },
   {
    "duration": 26,
    "start_time": "2024-02-22T00:02:26.274Z"
   },
   {
    "duration": 153,
    "start_time": "2024-02-22T00:02:26.301Z"
   },
   {
    "duration": 125,
    "start_time": "2024-02-22T00:02:26.455Z"
   },
   {
    "duration": 139,
    "start_time": "2024-02-22T00:02:26.581Z"
   },
   {
    "duration": 10,
    "start_time": "2024-02-22T00:02:26.722Z"
   },
   {
    "duration": 13,
    "start_time": "2024-02-22T00:02:26.733Z"
   },
   {
    "duration": 1197,
    "start_time": "2024-02-22T09:57:07.600Z"
   },
   {
    "duration": 176,
    "start_time": "2024-02-22T09:57:08.799Z"
   },
   {
    "duration": 21,
    "start_time": "2024-02-22T09:57:08.977Z"
   },
   {
    "duration": 23,
    "start_time": "2024-02-22T09:57:09.000Z"
   },
   {
    "duration": 4,
    "start_time": "2024-02-22T09:57:09.024Z"
   },
   {
    "duration": 23,
    "start_time": "2024-02-22T09:57:09.029Z"
   },
   {
    "duration": 36,
    "start_time": "2024-02-22T09:57:09.054Z"
   },
   {
    "duration": 9,
    "start_time": "2024-02-22T09:57:09.091Z"
   },
   {
    "duration": 5,
    "start_time": "2024-02-22T09:57:09.102Z"
   },
   {
    "duration": 12,
    "start_time": "2024-02-22T09:57:09.109Z"
   },
   {
    "duration": 33,
    "start_time": "2024-02-22T09:57:09.122Z"
   },
   {
    "duration": 23,
    "start_time": "2024-02-22T09:57:09.156Z"
   },
   {
    "duration": 64,
    "start_time": "2024-02-22T09:57:09.180Z"
   },
   {
    "duration": 5,
    "start_time": "2024-02-22T09:57:09.245Z"
   },
   {
    "duration": 5,
    "start_time": "2024-02-22T09:57:09.251Z"
   },
   {
    "duration": 8,
    "start_time": "2024-02-22T09:57:09.258Z"
   },
   {
    "duration": 9,
    "start_time": "2024-02-22T09:57:09.281Z"
   },
   {
    "duration": 16,
    "start_time": "2024-02-22T09:57:09.291Z"
   },
   {
    "duration": 4,
    "start_time": "2024-02-22T09:57:09.309Z"
   },
   {
    "duration": 17,
    "start_time": "2024-02-22T09:57:09.314Z"
   },
   {
    "duration": 17,
    "start_time": "2024-02-22T09:57:09.332Z"
   },
   {
    "duration": 377,
    "start_time": "2024-02-22T09:57:09.350Z"
   },
   {
    "duration": 188,
    "start_time": "2024-02-22T09:57:09.728Z"
   },
   {
    "duration": 225,
    "start_time": "2024-02-22T09:57:09.918Z"
   },
   {
    "duration": 286,
    "start_time": "2024-02-22T09:57:10.144Z"
   },
   {
    "duration": 291,
    "start_time": "2024-02-22T09:57:10.432Z"
   },
   {
    "duration": 6,
    "start_time": "2024-02-22T09:57:10.725Z"
   },
   {
    "duration": 149,
    "start_time": "2024-02-22T09:57:10.735Z"
   },
   {
    "duration": 6,
    "start_time": "2024-02-22T09:57:10.886Z"
   },
   {
    "duration": 228,
    "start_time": "2024-02-22T09:57:10.894Z"
   },
   {
    "duration": 6,
    "start_time": "2024-02-22T09:57:11.123Z"
   },
   {
    "duration": 192,
    "start_time": "2024-02-22T09:57:11.130Z"
   },
   {
    "duration": 194,
    "start_time": "2024-02-22T09:57:11.324Z"
   },
   {
    "duration": 14,
    "start_time": "2024-02-22T09:57:11.520Z"
   },
   {
    "duration": 150,
    "start_time": "2024-02-22T09:57:11.535Z"
   },
   {
    "duration": 138,
    "start_time": "2024-02-22T09:57:11.687Z"
   },
   {
    "duration": 145,
    "start_time": "2024-02-22T09:57:11.826Z"
   },
   {
    "duration": 17,
    "start_time": "2024-02-22T09:57:11.972Z"
   },
   {
    "duration": 13,
    "start_time": "2024-02-22T09:57:11.990Z"
   },
   {
    "duration": 13,
    "start_time": "2024-02-22T09:57:12.004Z"
   },
   {
    "duration": 14,
    "start_time": "2024-02-22T09:57:12.019Z"
   },
   {
    "duration": 11,
    "start_time": "2024-02-22T09:57:12.035Z"
   },
   {
    "duration": 42,
    "start_time": "2024-02-22T09:57:12.048Z"
   },
   {
    "duration": 5,
    "start_time": "2024-02-22T09:57:12.092Z"
   },
   {
    "duration": 10,
    "start_time": "2024-02-22T09:57:12.099Z"
   },
   {
    "duration": 8,
    "start_time": "2024-02-22T09:57:12.110Z"
   },
   {
    "duration": 200,
    "start_time": "2024-02-22T09:57:12.121Z"
   },
   {
    "duration": 151,
    "start_time": "2024-02-22T09:57:12.323Z"
   },
   {
    "duration": 192,
    "start_time": "2024-02-22T09:57:12.476Z"
   },
   {
    "duration": 15,
    "start_time": "2024-02-22T09:57:12.670Z"
   },
   {
    "duration": 14,
    "start_time": "2024-02-22T09:57:12.687Z"
   },
   {
    "duration": 53,
    "start_time": "2024-02-22T11:56:09.121Z"
   },
   {
    "duration": 1243,
    "start_time": "2024-02-22T11:56:14.369Z"
   },
   {
    "duration": 96,
    "start_time": "2024-02-22T11:56:15.615Z"
   },
   {
    "duration": 20,
    "start_time": "2024-02-22T11:56:15.712Z"
   },
   {
    "duration": 22,
    "start_time": "2024-02-22T11:56:15.733Z"
   },
   {
    "duration": 8,
    "start_time": "2024-02-22T11:56:15.757Z"
   },
   {
    "duration": 12,
    "start_time": "2024-02-22T11:56:15.767Z"
   },
   {
    "duration": 16,
    "start_time": "2024-02-22T11:56:15.780Z"
   },
   {
    "duration": 26,
    "start_time": "2024-02-22T11:56:15.797Z"
   },
   {
    "duration": 5,
    "start_time": "2024-02-22T11:56:15.824Z"
   },
   {
    "duration": 7,
    "start_time": "2024-02-22T11:56:15.832Z"
   },
   {
    "duration": 14,
    "start_time": "2024-02-22T11:56:15.840Z"
   },
   {
    "duration": 9,
    "start_time": "2024-02-22T11:56:15.856Z"
   },
   {
    "duration": 82,
    "start_time": "2024-02-22T11:56:15.867Z"
   },
   {
    "duration": 5,
    "start_time": "2024-02-22T11:56:15.951Z"
   },
   {
    "duration": 5,
    "start_time": "2024-02-22T11:56:15.957Z"
   },
   {
    "duration": 6,
    "start_time": "2024-02-22T11:56:15.964Z"
   },
   {
    "duration": 11,
    "start_time": "2024-02-22T11:56:15.971Z"
   },
   {
    "duration": 37,
    "start_time": "2024-02-22T11:56:15.983Z"
   },
   {
    "duration": 4,
    "start_time": "2024-02-22T11:56:16.022Z"
   },
   {
    "duration": 17,
    "start_time": "2024-02-22T11:56:16.027Z"
   },
   {
    "duration": 14,
    "start_time": "2024-02-22T11:56:16.045Z"
   },
   {
    "duration": 353,
    "start_time": "2024-02-22T11:56:16.061Z"
   },
   {
    "duration": 170,
    "start_time": "2024-02-22T11:56:16.416Z"
   },
   {
    "duration": 196,
    "start_time": "2024-02-22T11:56:16.588Z"
   },
   {
    "duration": 272,
    "start_time": "2024-02-22T11:56:16.785Z"
   },
   {
    "duration": 267,
    "start_time": "2024-02-22T11:56:17.058Z"
   },
   {
    "duration": 6,
    "start_time": "2024-02-22T11:56:17.326Z"
   },
   {
    "duration": 132,
    "start_time": "2024-02-22T11:56:17.335Z"
   },
   {
    "duration": 5,
    "start_time": "2024-02-22T11:56:17.468Z"
   },
   {
    "duration": 209,
    "start_time": "2024-02-22T11:56:17.475Z"
   },
   {
    "duration": 5,
    "start_time": "2024-02-22T11:56:17.685Z"
   },
   {
    "duration": 166,
    "start_time": "2024-02-22T11:56:17.692Z"
   },
   {
    "duration": 164,
    "start_time": "2024-02-22T11:56:17.860Z"
   },
   {
    "duration": 14,
    "start_time": "2024-02-22T11:56:18.025Z"
   },
   {
    "duration": 162,
    "start_time": "2024-02-22T11:56:18.040Z"
   },
   {
    "duration": 124,
    "start_time": "2024-02-22T11:56:18.203Z"
   },
   {
    "duration": 132,
    "start_time": "2024-02-22T11:56:18.329Z"
   },
   {
    "duration": 13,
    "start_time": "2024-02-22T11:56:18.462Z"
   },
   {
    "duration": 16,
    "start_time": "2024-02-22T11:56:18.477Z"
   },
   {
    "duration": 29,
    "start_time": "2024-02-22T11:56:18.494Z"
   },
   {
    "duration": 10,
    "start_time": "2024-02-22T11:56:18.525Z"
   },
   {
    "duration": 10,
    "start_time": "2024-02-22T11:56:18.537Z"
   },
   {
    "duration": 10,
    "start_time": "2024-02-22T11:56:18.549Z"
   },
   {
    "duration": 28,
    "start_time": "2024-02-22T11:56:18.560Z"
   },
   {
    "duration": 10,
    "start_time": "2024-02-22T11:56:18.590Z"
   },
   {
    "duration": 5,
    "start_time": "2024-02-22T11:56:18.614Z"
   },
   {
    "duration": 172,
    "start_time": "2024-02-22T11:56:18.620Z"
   },
   {
    "duration": 145,
    "start_time": "2024-02-22T11:56:18.794Z"
   },
   {
    "duration": 150,
    "start_time": "2024-02-22T11:56:18.941Z"
   },
   {
    "duration": 10,
    "start_time": "2024-02-22T11:56:19.093Z"
   },
   {
    "duration": 20,
    "start_time": "2024-02-22T11:56:19.105Z"
   },
   {
    "duration": 1225,
    "start_time": "2024-02-22T23:15:10.921Z"
   },
   {
    "duration": 98,
    "start_time": "2024-02-22T23:15:12.149Z"
   },
   {
    "duration": 19,
    "start_time": "2024-02-22T23:15:12.248Z"
   },
   {
    "duration": 40,
    "start_time": "2024-02-22T23:15:12.269Z"
   },
   {
    "duration": 21,
    "start_time": "2024-02-22T23:15:12.310Z"
   },
   {
    "duration": 29,
    "start_time": "2024-02-22T23:15:12.333Z"
   },
   {
    "duration": 44,
    "start_time": "2024-02-22T23:15:12.364Z"
   },
   {
    "duration": 36,
    "start_time": "2024-02-22T23:15:12.409Z"
   },
   {
    "duration": 32,
    "start_time": "2024-02-22T23:15:12.446Z"
   },
   {
    "duration": 31,
    "start_time": "2024-02-22T23:15:12.480Z"
   },
   {
    "duration": 73,
    "start_time": "2024-02-22T23:15:12.513Z"
   },
   {
    "duration": 32,
    "start_time": "2024-02-22T23:15:12.587Z"
   },
   {
    "duration": 88,
    "start_time": "2024-02-22T23:15:12.620Z"
   },
   {
    "duration": 4,
    "start_time": "2024-02-22T23:15:12.710Z"
   },
   {
    "duration": 42,
    "start_time": "2024-02-22T23:15:12.715Z"
   },
   {
    "duration": 37,
    "start_time": "2024-02-22T23:15:12.758Z"
   },
   {
    "duration": 56,
    "start_time": "2024-02-22T23:15:12.797Z"
   },
   {
    "duration": 28,
    "start_time": "2024-02-22T23:15:12.854Z"
   },
   {
    "duration": 48,
    "start_time": "2024-02-22T23:15:12.884Z"
   },
   {
    "duration": 42,
    "start_time": "2024-02-22T23:15:12.933Z"
   },
   {
    "duration": 351,
    "start_time": "2024-02-22T23:15:12.976Z"
   },
   {
    "duration": 151,
    "start_time": "2024-02-22T23:15:13.328Z"
   },
   {
    "duration": 196,
    "start_time": "2024-02-22T23:15:13.480Z"
   },
   {
    "duration": 268,
    "start_time": "2024-02-22T23:15:13.678Z"
   },
   {
    "duration": 270,
    "start_time": "2024-02-22T23:15:13.948Z"
   },
   {
    "duration": 7,
    "start_time": "2024-02-22T23:15:14.220Z"
   },
   {
    "duration": 166,
    "start_time": "2024-02-22T23:15:14.228Z"
   },
   {
    "duration": 6,
    "start_time": "2024-02-22T23:15:14.397Z"
   },
   {
    "duration": 227,
    "start_time": "2024-02-22T23:15:14.405Z"
   },
   {
    "duration": 7,
    "start_time": "2024-02-22T23:15:14.634Z"
   },
   {
    "duration": 178,
    "start_time": "2024-02-22T23:15:14.642Z"
   },
   {
    "duration": 166,
    "start_time": "2024-02-22T23:15:14.821Z"
   },
   {
    "duration": 14,
    "start_time": "2024-02-22T23:15:14.988Z"
   },
   {
    "duration": 166,
    "start_time": "2024-02-22T23:15:15.003Z"
   },
   {
    "duration": 122,
    "start_time": "2024-02-22T23:15:15.170Z"
   },
   {
    "duration": 131,
    "start_time": "2024-02-22T23:15:15.294Z"
   },
   {
    "duration": 12,
    "start_time": "2024-02-22T23:15:15.426Z"
   },
   {
    "duration": 43,
    "start_time": "2024-02-22T23:15:15.439Z"
   },
   {
    "duration": 50,
    "start_time": "2024-02-22T23:15:15.483Z"
   },
   {
    "duration": 35,
    "start_time": "2024-02-22T23:15:15.535Z"
   },
   {
    "duration": 33,
    "start_time": "2024-02-22T23:15:15.572Z"
   },
   {
    "duration": 42,
    "start_time": "2024-02-22T23:15:15.607Z"
   },
   {
    "duration": 24,
    "start_time": "2024-02-22T23:15:15.650Z"
   },
   {
    "duration": 33,
    "start_time": "2024-02-22T23:15:15.676Z"
   },
   {
    "duration": 21,
    "start_time": "2024-02-22T23:15:15.711Z"
   },
   {
    "duration": 215,
    "start_time": "2024-02-22T23:15:15.734Z"
   },
   {
    "duration": 146,
    "start_time": "2024-02-22T23:15:15.951Z"
   },
   {
    "duration": 141,
    "start_time": "2024-02-22T23:15:16.099Z"
   },
   {
    "duration": 9,
    "start_time": "2024-02-22T23:15:16.242Z"
   },
   {
    "duration": 35,
    "start_time": "2024-02-22T23:15:16.252Z"
   },
   {
    "duration": 98,
    "start_time": "2024-02-22T23:18:43.795Z"
   },
   {
    "duration": 7,
    "start_time": "2024-02-22T23:18:50.451Z"
   },
   {
    "duration": 9,
    "start_time": "2024-02-22T23:19:04.630Z"
   },
   {
    "duration": 8,
    "start_time": "2024-02-22T23:19:15.016Z"
   },
   {
    "duration": 7,
    "start_time": "2024-02-22T23:21:39.499Z"
   },
   {
    "duration": 7,
    "start_time": "2024-02-22T23:22:02.691Z"
   },
   {
    "duration": 7,
    "start_time": "2024-02-22T23:22:07.959Z"
   },
   {
    "duration": 1064,
    "start_time": "2024-02-22T23:22:16.781Z"
   },
   {
    "duration": 55,
    "start_time": "2024-02-22T23:22:17.847Z"
   },
   {
    "duration": 17,
    "start_time": "2024-02-22T23:22:17.904Z"
   },
   {
    "duration": 25,
    "start_time": "2024-02-22T23:22:17.922Z"
   },
   {
    "duration": 16,
    "start_time": "2024-02-22T23:22:17.950Z"
   },
   {
    "duration": 15,
    "start_time": "2024-02-22T23:22:17.967Z"
   },
   {
    "duration": 18,
    "start_time": "2024-02-22T23:22:17.983Z"
   },
   {
    "duration": 9,
    "start_time": "2024-02-22T23:22:18.002Z"
   },
   {
    "duration": 7,
    "start_time": "2024-02-22T23:22:18.012Z"
   },
   {
    "duration": 15,
    "start_time": "2024-02-22T23:22:18.020Z"
   },
   {
    "duration": 18,
    "start_time": "2024-02-22T23:22:18.037Z"
   },
   {
    "duration": 13,
    "start_time": "2024-02-22T23:22:18.056Z"
   },
   {
    "duration": 54,
    "start_time": "2024-02-22T23:22:18.070Z"
   },
   {
    "duration": 4,
    "start_time": "2024-02-22T23:22:18.127Z"
   },
   {
    "duration": 26,
    "start_time": "2024-02-22T23:22:18.133Z"
   },
   {
    "duration": 23,
    "start_time": "2024-02-22T23:22:18.161Z"
   },
   {
    "duration": 36,
    "start_time": "2024-02-22T23:22:18.185Z"
   },
   {
    "duration": 11,
    "start_time": "2024-02-22T23:22:18.222Z"
   },
   {
    "duration": 34,
    "start_time": "2024-02-22T23:22:18.235Z"
   },
   {
    "duration": 27,
    "start_time": "2024-02-22T23:22:18.270Z"
   },
   {
    "duration": 24,
    "start_time": "2024-02-22T23:22:18.299Z"
   },
   {
    "duration": 30,
    "start_time": "2024-02-22T23:22:18.325Z"
   },
   {
    "duration": 328,
    "start_time": "2024-02-22T23:22:18.357Z"
   },
   {
    "duration": 158,
    "start_time": "2024-02-22T23:22:18.687Z"
   },
   {
    "duration": 201,
    "start_time": "2024-02-22T23:22:18.847Z"
   },
   {
    "duration": 281,
    "start_time": "2024-02-22T23:22:19.050Z"
   },
   {
    "duration": 294,
    "start_time": "2024-02-22T23:22:19.333Z"
   },
   {
    "duration": 7,
    "start_time": "2024-02-22T23:22:19.628Z"
   },
   {
    "duration": 176,
    "start_time": "2024-02-22T23:22:19.637Z"
   },
   {
    "duration": 6,
    "start_time": "2024-02-22T23:22:19.814Z"
   },
   {
    "duration": 221,
    "start_time": "2024-02-22T23:22:19.821Z"
   },
   {
    "duration": 5,
    "start_time": "2024-02-22T23:22:20.044Z"
   },
   {
    "duration": 195,
    "start_time": "2024-02-22T23:22:20.050Z"
   },
   {
    "duration": 169,
    "start_time": "2024-02-22T23:22:20.246Z"
   },
   {
    "duration": 12,
    "start_time": "2024-02-22T23:22:20.416Z"
   },
   {
    "duration": 159,
    "start_time": "2024-02-22T23:22:20.430Z"
   },
   {
    "duration": 124,
    "start_time": "2024-02-22T23:22:20.590Z"
   },
   {
    "duration": 134,
    "start_time": "2024-02-22T23:22:20.715Z"
   },
   {
    "duration": 19,
    "start_time": "2024-02-22T23:22:20.851Z"
   },
   {
    "duration": 48,
    "start_time": "2024-02-22T23:22:20.872Z"
   },
   {
    "duration": 36,
    "start_time": "2024-02-22T23:22:20.925Z"
   },
   {
    "duration": 36,
    "start_time": "2024-02-22T23:22:20.962Z"
   },
   {
    "duration": 55,
    "start_time": "2024-02-22T23:22:21.000Z"
   },
   {
    "duration": 53,
    "start_time": "2024-02-22T23:22:21.057Z"
   },
   {
    "duration": 37,
    "start_time": "2024-02-22T23:22:21.112Z"
   },
   {
    "duration": 47,
    "start_time": "2024-02-22T23:22:21.151Z"
   },
   {
    "duration": 87,
    "start_time": "2024-02-22T23:22:21.200Z"
   },
   {
    "duration": 195,
    "start_time": "2024-02-22T23:22:21.289Z"
   },
   {
    "duration": 145,
    "start_time": "2024-02-22T23:22:21.485Z"
   },
   {
    "duration": 146,
    "start_time": "2024-02-22T23:22:21.631Z"
   },
   {
    "duration": 9,
    "start_time": "2024-02-22T23:22:21.779Z"
   },
   {
    "duration": 90,
    "start_time": "2024-02-22T23:22:21.790Z"
   },
   {
    "duration": 1084,
    "start_time": "2024-02-22T23:22:53.128Z"
   },
   {
    "duration": 54,
    "start_time": "2024-02-22T23:22:54.214Z"
   },
   {
    "duration": 17,
    "start_time": "2024-02-22T23:22:54.270Z"
   },
   {
    "duration": 21,
    "start_time": "2024-02-22T23:22:54.289Z"
   },
   {
    "duration": 16,
    "start_time": "2024-02-22T23:22:54.311Z"
   },
   {
    "duration": 42,
    "start_time": "2024-02-22T23:22:54.328Z"
   },
   {
    "duration": 26,
    "start_time": "2024-02-22T23:22:54.372Z"
   },
   {
    "duration": 24,
    "start_time": "2024-02-22T23:22:54.399Z"
   },
   {
    "duration": 25,
    "start_time": "2024-02-22T23:22:54.424Z"
   },
   {
    "duration": 14,
    "start_time": "2024-02-22T23:22:54.451Z"
   },
   {
    "duration": 33,
    "start_time": "2024-02-22T23:22:54.467Z"
   },
   {
    "duration": 23,
    "start_time": "2024-02-22T23:22:54.502Z"
   },
   {
    "duration": 66,
    "start_time": "2024-02-22T23:22:54.526Z"
   },
   {
    "duration": 5,
    "start_time": "2024-02-22T23:22:54.594Z"
   },
   {
    "duration": 17,
    "start_time": "2024-02-22T23:22:54.601Z"
   },
   {
    "duration": 27,
    "start_time": "2024-02-22T23:22:54.619Z"
   },
   {
    "duration": 46,
    "start_time": "2024-02-22T23:22:54.647Z"
   },
   {
    "duration": 13,
    "start_time": "2024-02-22T23:22:54.695Z"
   },
   {
    "duration": 16,
    "start_time": "2024-02-22T23:22:54.709Z"
   },
   {
    "duration": 21,
    "start_time": "2024-02-22T23:22:54.727Z"
   },
   {
    "duration": 33,
    "start_time": "2024-02-22T23:22:54.749Z"
   },
   {
    "duration": 36,
    "start_time": "2024-02-22T23:22:54.784Z"
   },
   {
    "duration": 307,
    "start_time": "2024-02-22T23:22:54.821Z"
   },
   {
    "duration": 159,
    "start_time": "2024-02-22T23:22:55.129Z"
   },
   {
    "duration": 201,
    "start_time": "2024-02-22T23:22:55.290Z"
   },
   {
    "duration": 280,
    "start_time": "2024-02-22T23:22:55.493Z"
   },
   {
    "duration": 321,
    "start_time": "2024-02-22T23:22:55.774Z"
   },
   {
    "duration": 6,
    "start_time": "2024-02-22T23:22:56.098Z"
   },
   {
    "duration": 140,
    "start_time": "2024-02-22T23:22:56.106Z"
   },
   {
    "duration": 6,
    "start_time": "2024-02-22T23:22:56.247Z"
   },
   {
    "duration": 197,
    "start_time": "2024-02-22T23:22:56.254Z"
   },
   {
    "duration": 13,
    "start_time": "2024-02-22T23:22:56.452Z"
   },
   {
    "duration": 168,
    "start_time": "2024-02-22T23:22:56.467Z"
   },
   {
    "duration": 230,
    "start_time": "2024-02-22T23:22:56.637Z"
   },
   {
    "duration": 16,
    "start_time": "2024-02-22T23:22:56.869Z"
   },
   {
    "duration": 141,
    "start_time": "2024-02-22T23:22:56.887Z"
   },
   {
    "duration": 118,
    "start_time": "2024-02-22T23:22:57.030Z"
   },
   {
    "duration": 126,
    "start_time": "2024-02-22T23:22:57.149Z"
   },
   {
    "duration": 11,
    "start_time": "2024-02-22T23:22:57.277Z"
   },
   {
    "duration": 36,
    "start_time": "2024-02-22T23:22:57.289Z"
   },
   {
    "duration": 20,
    "start_time": "2024-02-22T23:22:57.326Z"
   },
   {
    "duration": 9,
    "start_time": "2024-02-22T23:22:57.348Z"
   },
   {
    "duration": 10,
    "start_time": "2024-02-22T23:22:57.359Z"
   },
   {
    "duration": 9,
    "start_time": "2024-02-22T23:22:57.371Z"
   },
   {
    "duration": 16,
    "start_time": "2024-02-22T23:22:57.382Z"
   },
   {
    "duration": 28,
    "start_time": "2024-02-22T23:22:57.400Z"
   },
   {
    "duration": 26,
    "start_time": "2024-02-22T23:22:57.429Z"
   },
   {
    "duration": 143,
    "start_time": "2024-02-22T23:22:57.456Z"
   },
   {
    "duration": 147,
    "start_time": "2024-02-22T23:22:57.601Z"
   },
   {
    "duration": 138,
    "start_time": "2024-02-22T23:22:57.749Z"
   },
   {
    "duration": 9,
    "start_time": "2024-02-22T23:22:57.889Z"
   },
   {
    "duration": 38,
    "start_time": "2024-02-22T23:22:57.899Z"
   },
   {
    "duration": 1077,
    "start_time": "2024-02-22T23:24:40.082Z"
   },
   {
    "duration": 54,
    "start_time": "2024-02-22T23:24:41.161Z"
   },
   {
    "duration": 17,
    "start_time": "2024-02-22T23:24:41.216Z"
   },
   {
    "duration": 35,
    "start_time": "2024-02-22T23:24:41.235Z"
   },
   {
    "duration": 3,
    "start_time": "2024-02-22T23:24:41.272Z"
   },
   {
    "duration": 42,
    "start_time": "2024-02-22T23:24:41.276Z"
   },
   {
    "duration": 26,
    "start_time": "2024-02-22T23:24:41.319Z"
   },
   {
    "duration": 18,
    "start_time": "2024-02-22T23:24:41.346Z"
   },
   {
    "duration": 21,
    "start_time": "2024-02-22T23:24:41.365Z"
   },
   {
    "duration": 44,
    "start_time": "2024-02-22T23:24:41.388Z"
   },
   {
    "duration": 48,
    "start_time": "2024-02-22T23:24:41.434Z"
   },
   {
    "duration": 26,
    "start_time": "2024-02-22T23:24:41.483Z"
   },
   {
    "duration": 69,
    "start_time": "2024-02-22T23:24:41.510Z"
   },
   {
    "duration": 5,
    "start_time": "2024-02-22T23:24:41.583Z"
   },
   {
    "duration": 12,
    "start_time": "2024-02-22T23:24:41.590Z"
   },
   {
    "duration": 28,
    "start_time": "2024-02-22T23:24:41.604Z"
   },
   {
    "duration": 29,
    "start_time": "2024-02-22T23:24:41.634Z"
   },
   {
    "duration": 9,
    "start_time": "2024-02-22T23:24:41.664Z"
   },
   {
    "duration": 28,
    "start_time": "2024-02-22T23:24:41.675Z"
   },
   {
    "duration": 7,
    "start_time": "2024-02-22T23:24:41.704Z"
   },
   {
    "duration": 70,
    "start_time": "2024-02-22T23:24:41.713Z"
   },
   {
    "duration": 28,
    "start_time": "2024-02-22T23:24:41.784Z"
   },
   {
    "duration": 353,
    "start_time": "2024-02-22T23:24:41.814Z"
   },
   {
    "duration": 157,
    "start_time": "2024-02-22T23:24:42.169Z"
   },
   {
    "duration": 215,
    "start_time": "2024-02-22T23:24:42.327Z"
   },
   {
    "duration": 285,
    "start_time": "2024-02-22T23:24:42.543Z"
   },
   {
    "duration": 289,
    "start_time": "2024-02-22T23:24:42.829Z"
   },
   {
    "duration": 6,
    "start_time": "2024-02-22T23:24:43.120Z"
   },
   {
    "duration": 162,
    "start_time": "2024-02-22T23:24:43.128Z"
   },
   {
    "duration": 6,
    "start_time": "2024-02-22T23:24:43.292Z"
   },
   {
    "duration": 208,
    "start_time": "2024-02-22T23:24:43.300Z"
   },
   {
    "duration": 6,
    "start_time": "2024-02-22T23:24:43.510Z"
   },
   {
    "duration": 175,
    "start_time": "2024-02-22T23:24:43.518Z"
   },
   {
    "duration": 174,
    "start_time": "2024-02-22T23:24:43.694Z"
   },
   {
    "duration": 11,
    "start_time": "2024-02-22T23:24:43.870Z"
   },
   {
    "duration": 140,
    "start_time": "2024-02-22T23:24:43.882Z"
   },
   {
    "duration": 130,
    "start_time": "2024-02-22T23:24:44.024Z"
   },
   {
    "duration": 129,
    "start_time": "2024-02-22T23:24:44.155Z"
   },
   {
    "duration": 14,
    "start_time": "2024-02-22T23:24:44.285Z"
   },
   {
    "duration": 14,
    "start_time": "2024-02-22T23:24:44.300Z"
   },
   {
    "duration": 11,
    "start_time": "2024-02-22T23:24:44.317Z"
   },
   {
    "duration": 9,
    "start_time": "2024-02-22T23:24:44.330Z"
   },
   {
    "duration": 10,
    "start_time": "2024-02-22T23:24:44.364Z"
   },
   {
    "duration": 12,
    "start_time": "2024-02-22T23:24:44.376Z"
   },
   {
    "duration": 6,
    "start_time": "2024-02-22T23:24:44.390Z"
   },
   {
    "duration": 12,
    "start_time": "2024-02-22T23:24:44.398Z"
   },
   {
    "duration": 8,
    "start_time": "2024-02-22T23:24:44.412Z"
   },
   {
    "duration": 171,
    "start_time": "2024-02-22T23:24:44.422Z"
   },
   {
    "duration": 186,
    "start_time": "2024-02-22T23:24:44.595Z"
   },
   {
    "duration": 154,
    "start_time": "2024-02-22T23:24:44.782Z"
   },
   {
    "duration": 10,
    "start_time": "2024-02-22T23:24:44.938Z"
   },
   {
    "duration": 22,
    "start_time": "2024-02-22T23:24:44.950Z"
   },
   {
    "duration": 1015,
    "start_time": "2024-02-22T23:25:20.304Z"
   },
   {
    "duration": 53,
    "start_time": "2024-02-22T23:25:21.321Z"
   },
   {
    "duration": 19,
    "start_time": "2024-02-22T23:25:21.376Z"
   },
   {
    "duration": 24,
    "start_time": "2024-02-22T23:25:21.396Z"
   },
   {
    "duration": 3,
    "start_time": "2024-02-22T23:25:21.423Z"
   },
   {
    "duration": 14,
    "start_time": "2024-02-22T23:25:21.427Z"
   },
   {
    "duration": 22,
    "start_time": "2024-02-22T23:25:21.442Z"
   },
   {
    "duration": 9,
    "start_time": "2024-02-22T23:25:21.466Z"
   },
   {
    "duration": 21,
    "start_time": "2024-02-22T23:25:21.476Z"
   },
   {
    "duration": 22,
    "start_time": "2024-02-22T23:25:21.498Z"
   },
   {
    "duration": 21,
    "start_time": "2024-02-22T23:25:21.521Z"
   },
   {
    "duration": 14,
    "start_time": "2024-02-22T23:25:21.544Z"
   },
   {
    "duration": 57,
    "start_time": "2024-02-22T23:25:21.560Z"
   },
   {
    "duration": 4,
    "start_time": "2024-02-22T23:25:21.621Z"
   },
   {
    "duration": 12,
    "start_time": "2024-02-22T23:25:21.627Z"
   },
   {
    "duration": 19,
    "start_time": "2024-02-22T23:25:21.641Z"
   },
   {
    "duration": 29,
    "start_time": "2024-02-22T23:25:21.666Z"
   },
   {
    "duration": 9,
    "start_time": "2024-02-22T23:25:21.696Z"
   },
   {
    "duration": 9,
    "start_time": "2024-02-22T23:25:21.707Z"
   },
   {
    "duration": 5,
    "start_time": "2024-02-22T23:25:21.717Z"
   },
   {
    "duration": 28,
    "start_time": "2024-02-22T23:25:21.723Z"
   },
   {
    "duration": 42,
    "start_time": "2024-02-22T23:25:21.753Z"
   },
   {
    "duration": 308,
    "start_time": "2024-02-22T23:25:21.797Z"
   },
   {
    "duration": 152,
    "start_time": "2024-02-22T23:25:22.106Z"
   },
   {
    "duration": 196,
    "start_time": "2024-02-22T23:25:22.259Z"
   },
   {
    "duration": 292,
    "start_time": "2024-02-22T23:25:22.456Z"
   },
   {
    "duration": 298,
    "start_time": "2024-02-22T23:25:22.750Z"
   },
   {
    "duration": 14,
    "start_time": "2024-02-22T23:25:23.050Z"
   },
   {
    "duration": 135,
    "start_time": "2024-02-22T23:25:23.066Z"
   },
   {
    "duration": 5,
    "start_time": "2024-02-22T23:25:23.203Z"
   },
   {
    "duration": 197,
    "start_time": "2024-02-22T23:25:23.210Z"
   },
   {
    "duration": 5,
    "start_time": "2024-02-22T23:25:23.408Z"
   },
   {
    "duration": 168,
    "start_time": "2024-02-22T23:25:23.414Z"
   },
   {
    "duration": 167,
    "start_time": "2024-02-22T23:25:23.583Z"
   },
   {
    "duration": 20,
    "start_time": "2024-02-22T23:25:23.751Z"
   },
   {
    "duration": 130,
    "start_time": "2024-02-22T23:25:23.772Z"
   },
   {
    "duration": 115,
    "start_time": "2024-02-22T23:25:23.903Z"
   },
   {
    "duration": 129,
    "start_time": "2024-02-22T23:25:24.019Z"
   },
   {
    "duration": 19,
    "start_time": "2024-02-22T23:25:24.150Z"
   },
   {
    "duration": 65,
    "start_time": "2024-02-22T23:25:24.170Z"
   },
   {
    "duration": 40,
    "start_time": "2024-02-22T23:25:24.239Z"
   },
   {
    "duration": 39,
    "start_time": "2024-02-22T23:25:24.281Z"
   },
   {
    "duration": 23,
    "start_time": "2024-02-22T23:25:24.321Z"
   },
   {
    "duration": 23,
    "start_time": "2024-02-22T23:25:24.346Z"
   },
   {
    "duration": 11,
    "start_time": "2024-02-22T23:25:24.370Z"
   },
   {
    "duration": 12,
    "start_time": "2024-02-22T23:25:24.383Z"
   },
   {
    "duration": 17,
    "start_time": "2024-02-22T23:25:24.397Z"
   },
   {
    "duration": 162,
    "start_time": "2024-02-22T23:25:24.415Z"
   },
   {
    "duration": 154,
    "start_time": "2024-02-22T23:25:24.578Z"
   },
   {
    "duration": 150,
    "start_time": "2024-02-22T23:25:24.734Z"
   },
   {
    "duration": 9,
    "start_time": "2024-02-22T23:25:24.886Z"
   },
   {
    "duration": 38,
    "start_time": "2024-02-22T23:25:24.897Z"
   },
   {
    "duration": 12,
    "start_time": "2024-02-22T23:26:55.843Z"
   },
   {
    "duration": 1223,
    "start_time": "2024-02-22T23:27:02.631Z"
   },
   {
    "duration": 56,
    "start_time": "2024-02-22T23:27:03.856Z"
   },
   {
    "duration": 18,
    "start_time": "2024-02-22T23:27:03.914Z"
   },
   {
    "duration": 28,
    "start_time": "2024-02-22T23:27:03.933Z"
   },
   {
    "duration": 31,
    "start_time": "2024-02-22T23:27:03.963Z"
   },
   {
    "duration": 45,
    "start_time": "2024-02-22T23:27:03.996Z"
   },
   {
    "duration": 27,
    "start_time": "2024-02-22T23:27:04.042Z"
   },
   {
    "duration": 29,
    "start_time": "2024-02-22T23:27:04.071Z"
   },
   {
    "duration": 28,
    "start_time": "2024-02-22T23:27:04.102Z"
   },
   {
    "duration": 29,
    "start_time": "2024-02-22T23:27:04.132Z"
   },
   {
    "duration": 52,
    "start_time": "2024-02-22T23:27:04.163Z"
   },
   {
    "duration": 28,
    "start_time": "2024-02-22T23:27:04.216Z"
   },
   {
    "duration": 86,
    "start_time": "2024-02-22T23:27:04.245Z"
   },
   {
    "duration": 4,
    "start_time": "2024-02-22T23:27:04.333Z"
   },
   {
    "duration": 50,
    "start_time": "2024-02-22T23:27:04.339Z"
   },
   {
    "duration": 31,
    "start_time": "2024-02-22T23:27:04.390Z"
   },
   {
    "duration": 27,
    "start_time": "2024-02-22T23:27:04.423Z"
   },
   {
    "duration": 41,
    "start_time": "2024-02-22T23:27:04.451Z"
   },
   {
    "duration": 16,
    "start_time": "2024-02-22T23:27:04.493Z"
   },
   {
    "duration": 32,
    "start_time": "2024-02-22T23:27:04.510Z"
   },
   {
    "duration": 65,
    "start_time": "2024-02-22T23:27:04.544Z"
   },
   {
    "duration": 28,
    "start_time": "2024-02-22T23:27:04.611Z"
   },
   {
    "duration": 343,
    "start_time": "2024-02-22T23:27:04.641Z"
   },
   {
    "duration": 165,
    "start_time": "2024-02-22T23:27:04.986Z"
   },
   {
    "duration": 227,
    "start_time": "2024-02-22T23:27:05.153Z"
   },
   {
    "duration": 289,
    "start_time": "2024-02-22T23:27:05.381Z"
   },
   {
    "duration": 345,
    "start_time": "2024-02-22T23:27:05.671Z"
   },
   {
    "duration": 7,
    "start_time": "2024-02-22T23:27:06.020Z"
   },
   {
    "duration": 163,
    "start_time": "2024-02-22T23:27:06.028Z"
   },
   {
    "duration": 6,
    "start_time": "2024-02-22T23:27:06.192Z"
   },
   {
    "duration": 208,
    "start_time": "2024-02-22T23:27:06.199Z"
   },
   {
    "duration": 6,
    "start_time": "2024-02-22T23:27:06.408Z"
   },
   {
    "duration": 210,
    "start_time": "2024-02-22T23:27:06.415Z"
   },
   {
    "duration": 184,
    "start_time": "2024-02-22T23:27:06.626Z"
   },
   {
    "duration": 13,
    "start_time": "2024-02-22T23:27:06.811Z"
   },
   {
    "duration": 142,
    "start_time": "2024-02-22T23:27:06.825Z"
   },
   {
    "duration": 124,
    "start_time": "2024-02-22T23:27:06.969Z"
   },
   {
    "duration": 128,
    "start_time": "2024-02-22T23:27:07.095Z"
   },
   {
    "duration": 13,
    "start_time": "2024-02-22T23:27:07.225Z"
   },
   {
    "duration": 26,
    "start_time": "2024-02-22T23:27:07.240Z"
   },
   {
    "duration": 12,
    "start_time": "2024-02-22T23:27:07.268Z"
   },
   {
    "duration": 10,
    "start_time": "2024-02-22T23:27:07.282Z"
   },
   {
    "duration": 11,
    "start_time": "2024-02-22T23:27:07.293Z"
   },
   {
    "duration": 12,
    "start_time": "2024-02-22T23:27:07.305Z"
   },
   {
    "duration": 6,
    "start_time": "2024-02-22T23:27:07.319Z"
   },
   {
    "duration": 41,
    "start_time": "2024-02-22T23:27:07.326Z"
   },
   {
    "duration": 5,
    "start_time": "2024-02-22T23:27:07.368Z"
   },
   {
    "duration": 152,
    "start_time": "2024-02-22T23:27:07.375Z"
   },
   {
    "duration": 158,
    "start_time": "2024-02-22T23:27:07.529Z"
   },
   {
    "duration": 137,
    "start_time": "2024-02-22T23:27:07.688Z"
   },
   {
    "duration": 10,
    "start_time": "2024-02-22T23:27:07.826Z"
   },
   {
    "duration": 18,
    "start_time": "2024-02-22T23:27:07.837Z"
   },
   {
    "duration": 11,
    "start_time": "2024-02-22T23:28:12.716Z"
   },
   {
    "duration": 1025,
    "start_time": "2024-02-22T23:28:20.521Z"
   },
   {
    "duration": 56,
    "start_time": "2024-02-22T23:28:21.547Z"
   },
   {
    "duration": 19,
    "start_time": "2024-02-22T23:28:21.605Z"
   },
   {
    "duration": 22,
    "start_time": "2024-02-22T23:28:21.626Z"
   },
   {
    "duration": 33,
    "start_time": "2024-02-22T23:28:21.651Z"
   },
   {
    "duration": 9,
    "start_time": "2024-02-22T23:28:21.686Z"
   },
   {
    "duration": 25,
    "start_time": "2024-02-22T23:28:21.697Z"
   },
   {
    "duration": 10,
    "start_time": "2024-02-22T23:28:21.723Z"
   },
   {
    "duration": 6,
    "start_time": "2024-02-22T23:28:21.734Z"
   },
   {
    "duration": 11,
    "start_time": "2024-02-22T23:28:21.741Z"
   },
   {
    "duration": 17,
    "start_time": "2024-02-22T23:28:21.754Z"
   },
   {
    "duration": 12,
    "start_time": "2024-02-22T23:28:21.772Z"
   },
   {
    "duration": 55,
    "start_time": "2024-02-22T23:28:21.785Z"
   },
   {
    "duration": 5,
    "start_time": "2024-02-22T23:28:21.843Z"
   },
   {
    "duration": 10,
    "start_time": "2024-02-22T23:28:21.849Z"
   },
   {
    "duration": 25,
    "start_time": "2024-02-22T23:28:21.861Z"
   },
   {
    "duration": 16,
    "start_time": "2024-02-22T23:28:21.887Z"
   },
   {
    "duration": 18,
    "start_time": "2024-02-22T23:28:21.904Z"
   },
   {
    "duration": 7,
    "start_time": "2024-02-22T23:28:21.923Z"
   },
   {
    "duration": 8,
    "start_time": "2024-02-22T23:28:21.931Z"
   },
   {
    "duration": 25,
    "start_time": "2024-02-22T23:28:21.941Z"
   },
   {
    "duration": 21,
    "start_time": "2024-02-22T23:28:21.967Z"
   },
   {
    "duration": 304,
    "start_time": "2024-02-22T23:28:21.990Z"
   },
   {
    "duration": 149,
    "start_time": "2024-02-22T23:28:22.295Z"
   },
   {
    "duration": 197,
    "start_time": "2024-02-22T23:28:22.446Z"
   },
   {
    "duration": 295,
    "start_time": "2024-02-22T23:28:22.645Z"
   },
   {
    "duration": 297,
    "start_time": "2024-02-22T23:28:22.942Z"
   },
   {
    "duration": 6,
    "start_time": "2024-02-22T23:28:23.241Z"
   },
   {
    "duration": 146,
    "start_time": "2024-02-22T23:28:23.248Z"
   },
   {
    "duration": 5,
    "start_time": "2024-02-22T23:28:23.396Z"
   },
   {
    "duration": 201,
    "start_time": "2024-02-22T23:28:23.402Z"
   },
   {
    "duration": 5,
    "start_time": "2024-02-22T23:28:23.604Z"
   },
   {
    "duration": 185,
    "start_time": "2024-02-22T23:28:23.611Z"
   },
   {
    "duration": 173,
    "start_time": "2024-02-22T23:28:23.797Z"
   },
   {
    "duration": 12,
    "start_time": "2024-02-22T23:28:23.971Z"
   },
   {
    "duration": 147,
    "start_time": "2024-02-22T23:28:23.984Z"
   },
   {
    "duration": 122,
    "start_time": "2024-02-22T23:28:24.132Z"
   },
   {
    "duration": 130,
    "start_time": "2024-02-22T23:28:24.256Z"
   },
   {
    "duration": 12,
    "start_time": "2024-02-22T23:28:24.388Z"
   },
   {
    "duration": 42,
    "start_time": "2024-02-22T23:28:24.402Z"
   },
   {
    "duration": 13,
    "start_time": "2024-02-22T23:28:24.448Z"
   },
   {
    "duration": 10,
    "start_time": "2024-02-22T23:28:24.462Z"
   },
   {
    "duration": 28,
    "start_time": "2024-02-22T23:28:24.474Z"
   },
   {
    "duration": 16,
    "start_time": "2024-02-22T23:28:24.504Z"
   },
   {
    "duration": 10,
    "start_time": "2024-02-22T23:28:24.522Z"
   },
   {
    "duration": 26,
    "start_time": "2024-02-22T23:28:24.533Z"
   },
   {
    "duration": 12,
    "start_time": "2024-02-22T23:28:24.561Z"
   },
   {
    "duration": 169,
    "start_time": "2024-02-22T23:28:24.574Z"
   },
   {
    "duration": 149,
    "start_time": "2024-02-22T23:28:24.745Z"
   },
   {
    "duration": 148,
    "start_time": "2024-02-22T23:28:24.896Z"
   },
   {
    "duration": 20,
    "start_time": "2024-02-22T23:28:25.046Z"
   },
   {
    "duration": 33,
    "start_time": "2024-02-22T23:28:25.068Z"
   },
   {
    "duration": 13,
    "start_time": "2024-02-22T23:30:28.243Z"
   },
   {
    "duration": 1191,
    "start_time": "2024-02-22T23:31:36.428Z"
   },
   {
    "duration": 56,
    "start_time": "2024-02-22T23:31:37.621Z"
   },
   {
    "duration": 17,
    "start_time": "2024-02-22T23:31:37.678Z"
   },
   {
    "duration": 28,
    "start_time": "2024-02-22T23:31:37.696Z"
   },
   {
    "duration": 3,
    "start_time": "2024-02-22T23:31:37.726Z"
   },
   {
    "duration": 11,
    "start_time": "2024-02-22T23:31:37.730Z"
   },
   {
    "duration": 21,
    "start_time": "2024-02-22T23:31:37.743Z"
   },
   {
    "duration": 31,
    "start_time": "2024-02-22T23:31:37.766Z"
   },
   {
    "duration": 6,
    "start_time": "2024-02-22T23:31:37.798Z"
   },
   {
    "duration": 21,
    "start_time": "2024-02-22T23:31:37.805Z"
   },
   {
    "duration": 16,
    "start_time": "2024-02-22T23:31:37.828Z"
   },
   {
    "duration": 8,
    "start_time": "2024-02-22T23:31:37.846Z"
   },
   {
    "duration": 67,
    "start_time": "2024-02-22T23:31:37.856Z"
   },
   {
    "duration": 4,
    "start_time": "2024-02-22T23:31:37.927Z"
   },
   {
    "duration": 21,
    "start_time": "2024-02-22T23:31:37.933Z"
   },
   {
    "duration": 30,
    "start_time": "2024-02-22T23:31:37.955Z"
   },
   {
    "duration": 23,
    "start_time": "2024-02-22T23:31:37.986Z"
   },
   {
    "duration": 20,
    "start_time": "2024-02-22T23:31:38.011Z"
   },
   {
    "duration": 23,
    "start_time": "2024-02-22T23:31:38.032Z"
   },
   {
    "duration": 31,
    "start_time": "2024-02-22T23:31:38.056Z"
   },
   {
    "duration": 20,
    "start_time": "2024-02-22T23:31:38.089Z"
   },
   {
    "duration": 44,
    "start_time": "2024-02-22T23:31:38.110Z"
   },
   {
    "duration": 418,
    "start_time": "2024-02-22T23:31:38.155Z"
   },
   {
    "duration": 173,
    "start_time": "2024-02-22T23:31:38.575Z"
   },
   {
    "duration": 200,
    "start_time": "2024-02-22T23:31:38.750Z"
   },
   {
    "duration": 283,
    "start_time": "2024-02-22T23:31:38.952Z"
   },
   {
    "duration": 282,
    "start_time": "2024-02-22T23:31:39.236Z"
   },
   {
    "duration": 6,
    "start_time": "2024-02-22T23:31:39.519Z"
   },
   {
    "duration": 149,
    "start_time": "2024-02-22T23:31:39.526Z"
   },
   {
    "duration": 6,
    "start_time": "2024-02-22T23:31:39.678Z"
   },
   {
    "duration": 214,
    "start_time": "2024-02-22T23:31:39.686Z"
   },
   {
    "duration": 5,
    "start_time": "2024-02-22T23:31:39.902Z"
   },
   {
    "duration": 197,
    "start_time": "2024-02-22T23:31:39.909Z"
   },
   {
    "duration": 176,
    "start_time": "2024-02-22T23:31:40.108Z"
   },
   {
    "duration": 13,
    "start_time": "2024-02-22T23:31:40.286Z"
   },
   {
    "duration": 166,
    "start_time": "2024-02-22T23:31:40.301Z"
   },
   {
    "duration": 124,
    "start_time": "2024-02-22T23:31:40.468Z"
   },
   {
    "duration": 137,
    "start_time": "2024-02-22T23:31:40.594Z"
   },
   {
    "duration": 12,
    "start_time": "2024-02-22T23:31:40.732Z"
   },
   {
    "duration": 44,
    "start_time": "2024-02-22T23:31:40.745Z"
   },
   {
    "duration": 43,
    "start_time": "2024-02-22T23:31:40.793Z"
   },
   {
    "duration": 25,
    "start_time": "2024-02-22T23:31:40.838Z"
   },
   {
    "duration": 64,
    "start_time": "2024-02-22T23:31:40.864Z"
   },
   {
    "duration": 22,
    "start_time": "2024-02-22T23:31:40.929Z"
   },
   {
    "duration": 35,
    "start_time": "2024-02-22T23:31:40.952Z"
   },
   {
    "duration": 39,
    "start_time": "2024-02-22T23:31:40.989Z"
   },
   {
    "duration": 17,
    "start_time": "2024-02-22T23:31:41.030Z"
   },
   {
    "duration": 176,
    "start_time": "2024-02-22T23:31:41.049Z"
   },
   {
    "duration": 162,
    "start_time": "2024-02-22T23:31:41.226Z"
   },
   {
    "duration": 155,
    "start_time": "2024-02-22T23:31:41.389Z"
   },
   {
    "duration": 19,
    "start_time": "2024-02-22T23:31:41.546Z"
   },
   {
    "duration": 18,
    "start_time": "2024-02-22T23:31:41.567Z"
   },
   {
    "duration": 14,
    "start_time": "2024-02-22T23:33:05.758Z"
   },
   {
    "duration": 1133,
    "start_time": "2024-02-22T23:33:19.593Z"
   },
   {
    "duration": 56,
    "start_time": "2024-02-22T23:33:20.727Z"
   },
   {
    "duration": 18,
    "start_time": "2024-02-22T23:33:20.784Z"
   },
   {
    "duration": 18,
    "start_time": "2024-02-22T23:33:20.804Z"
   },
   {
    "duration": 9,
    "start_time": "2024-02-22T23:33:20.824Z"
   },
   {
    "duration": 14,
    "start_time": "2024-02-22T23:33:20.835Z"
   },
   {
    "duration": 22,
    "start_time": "2024-02-22T23:33:20.850Z"
   },
   {
    "duration": 18,
    "start_time": "2024-02-22T23:33:20.874Z"
   },
   {
    "duration": 6,
    "start_time": "2024-02-22T23:33:20.894Z"
   },
   {
    "duration": 13,
    "start_time": "2024-02-22T23:33:20.902Z"
   },
   {
    "duration": 28,
    "start_time": "2024-02-22T23:33:20.917Z"
   },
   {
    "duration": 11,
    "start_time": "2024-02-22T23:33:20.947Z"
   },
   {
    "duration": 56,
    "start_time": "2024-02-22T23:33:20.959Z"
   },
   {
    "duration": 5,
    "start_time": "2024-02-22T23:33:21.018Z"
   },
   {
    "duration": 21,
    "start_time": "2024-02-22T23:33:21.024Z"
   },
   {
    "duration": 20,
    "start_time": "2024-02-22T23:33:21.047Z"
   },
   {
    "duration": 19,
    "start_time": "2024-02-22T23:33:21.069Z"
   },
   {
    "duration": 45,
    "start_time": "2024-02-22T23:33:21.089Z"
   },
   {
    "duration": 13,
    "start_time": "2024-02-22T23:33:21.136Z"
   },
   {
    "duration": 9,
    "start_time": "2024-02-22T23:33:21.150Z"
   },
   {
    "duration": 33,
    "start_time": "2024-02-22T23:33:21.161Z"
   },
   {
    "duration": 18,
    "start_time": "2024-02-22T23:33:21.196Z"
   },
   {
    "duration": 301,
    "start_time": "2024-02-22T23:33:21.215Z"
   },
   {
    "duration": 155,
    "start_time": "2024-02-22T23:33:21.517Z"
   },
   {
    "duration": 213,
    "start_time": "2024-02-22T23:33:21.674Z"
   },
   {
    "duration": 276,
    "start_time": "2024-02-22T23:33:21.889Z"
   },
   {
    "duration": 278,
    "start_time": "2024-02-22T23:33:22.167Z"
   },
   {
    "duration": 6,
    "start_time": "2024-02-22T23:33:22.447Z"
   },
   {
    "duration": 143,
    "start_time": "2024-02-22T23:33:22.464Z"
   },
   {
    "duration": 7,
    "start_time": "2024-02-22T23:33:22.608Z"
   },
   {
    "duration": 211,
    "start_time": "2024-02-22T23:33:22.616Z"
   },
   {
    "duration": 6,
    "start_time": "2024-02-22T23:33:22.828Z"
   },
   {
    "duration": 170,
    "start_time": "2024-02-22T23:33:22.835Z"
   },
   {
    "duration": 171,
    "start_time": "2024-02-22T23:33:23.007Z"
   },
   {
    "duration": 13,
    "start_time": "2024-02-22T23:33:23.179Z"
   },
   {
    "duration": 192,
    "start_time": "2024-02-22T23:33:23.194Z"
   },
   {
    "duration": 123,
    "start_time": "2024-02-22T23:33:23.388Z"
   },
   {
    "duration": 136,
    "start_time": "2024-02-22T23:33:23.513Z"
   },
   {
    "duration": 20,
    "start_time": "2024-02-22T23:33:23.651Z"
   },
   {
    "duration": 12,
    "start_time": "2024-02-22T23:33:23.672Z"
   },
   {
    "duration": 17,
    "start_time": "2024-02-22T23:33:23.687Z"
   },
   {
    "duration": 21,
    "start_time": "2024-02-22T23:33:23.706Z"
   },
   {
    "duration": 29,
    "start_time": "2024-02-22T23:33:23.728Z"
   },
   {
    "duration": 22,
    "start_time": "2024-02-22T23:33:23.759Z"
   },
   {
    "duration": 15,
    "start_time": "2024-02-22T23:33:23.782Z"
   },
   {
    "duration": 30,
    "start_time": "2024-02-22T23:33:23.799Z"
   },
   {
    "duration": 21,
    "start_time": "2024-02-22T23:33:23.831Z"
   },
   {
    "duration": 165,
    "start_time": "2024-02-22T23:33:23.854Z"
   },
   {
    "duration": 151,
    "start_time": "2024-02-22T23:33:24.020Z"
   },
   {
    "duration": 145,
    "start_time": "2024-02-22T23:33:24.173Z"
   },
   {
    "duration": 9,
    "start_time": "2024-02-22T23:33:24.320Z"
   },
   {
    "duration": 45,
    "start_time": "2024-02-22T23:33:24.330Z"
   },
   {
    "duration": 10,
    "start_time": "2024-02-22T23:34:43.581Z"
   },
   {
    "duration": 1080,
    "start_time": "2024-02-22T23:34:48.859Z"
   },
   {
    "duration": 56,
    "start_time": "2024-02-22T23:34:49.941Z"
   },
   {
    "duration": 19,
    "start_time": "2024-02-22T23:34:49.998Z"
   },
   {
    "duration": 22,
    "start_time": "2024-02-22T23:34:50.019Z"
   },
   {
    "duration": 17,
    "start_time": "2024-02-22T23:34:50.042Z"
   },
   {
    "duration": 13,
    "start_time": "2024-02-22T23:34:50.061Z"
   },
   {
    "duration": 38,
    "start_time": "2024-02-22T23:34:50.075Z"
   },
   {
    "duration": 52,
    "start_time": "2024-02-22T23:34:50.115Z"
   },
   {
    "duration": 43,
    "start_time": "2024-02-22T23:34:50.169Z"
   },
   {
    "duration": 30,
    "start_time": "2024-02-22T23:34:50.214Z"
   },
   {
    "duration": 51,
    "start_time": "2024-02-22T23:34:50.246Z"
   },
   {
    "duration": 35,
    "start_time": "2024-02-22T23:34:50.299Z"
   },
   {
    "duration": 70,
    "start_time": "2024-02-22T23:34:50.336Z"
   },
   {
    "duration": 5,
    "start_time": "2024-02-22T23:34:50.407Z"
   },
   {
    "duration": 24,
    "start_time": "2024-02-22T23:34:50.413Z"
   },
   {
    "duration": 25,
    "start_time": "2024-02-22T23:34:50.439Z"
   },
   {
    "duration": 35,
    "start_time": "2024-02-22T23:34:50.466Z"
   },
   {
    "duration": 64,
    "start_time": "2024-02-22T23:34:50.502Z"
   },
   {
    "duration": 9,
    "start_time": "2024-02-22T23:34:50.567Z"
   },
   {
    "duration": 16,
    "start_time": "2024-02-22T23:34:50.578Z"
   },
   {
    "duration": 19,
    "start_time": "2024-02-22T23:34:50.595Z"
   },
   {
    "duration": 38,
    "start_time": "2024-02-22T23:34:50.616Z"
   },
   {
    "duration": 14,
    "start_time": "2024-02-22T23:34:50.656Z"
   },
   {
    "duration": 332,
    "start_time": "2024-02-22T23:34:50.672Z"
   },
   {
    "duration": 157,
    "start_time": "2024-02-22T23:34:51.006Z"
   },
   {
    "duration": 205,
    "start_time": "2024-02-22T23:34:51.165Z"
   },
   {
    "duration": 301,
    "start_time": "2024-02-22T23:34:51.372Z"
   },
   {
    "duration": 282,
    "start_time": "2024-02-22T23:34:51.676Z"
   },
   {
    "duration": 7,
    "start_time": "2024-02-22T23:34:51.959Z"
   },
   {
    "duration": 200,
    "start_time": "2024-02-22T23:34:51.968Z"
   },
   {
    "duration": 5,
    "start_time": "2024-02-22T23:34:52.170Z"
   },
   {
    "duration": 236,
    "start_time": "2024-02-22T23:34:52.177Z"
   },
   {
    "duration": 6,
    "start_time": "2024-02-22T23:34:52.415Z"
   },
   {
    "duration": 189,
    "start_time": "2024-02-22T23:34:52.423Z"
   },
   {
    "duration": 191,
    "start_time": "2024-02-22T23:34:52.613Z"
   },
   {
    "duration": 13,
    "start_time": "2024-02-22T23:34:52.806Z"
   },
   {
    "duration": 175,
    "start_time": "2024-02-22T23:34:52.821Z"
   },
   {
    "duration": 124,
    "start_time": "2024-02-22T23:34:52.998Z"
   },
   {
    "duration": 246,
    "start_time": "2024-02-22T23:34:53.124Z"
   },
   {
    "duration": 12,
    "start_time": "2024-02-22T23:34:53.372Z"
   },
   {
    "duration": 110,
    "start_time": "2024-02-22T23:34:53.386Z"
   },
   {
    "duration": 63,
    "start_time": "2024-02-22T23:34:53.498Z"
   },
   {
    "duration": 111,
    "start_time": "2024-02-22T23:34:53.563Z"
   },
   {
    "duration": 35,
    "start_time": "2024-02-22T23:34:53.675Z"
   },
   {
    "duration": 36,
    "start_time": "2024-02-22T23:34:53.712Z"
   },
   {
    "duration": 34,
    "start_time": "2024-02-22T23:34:53.750Z"
   },
   {
    "duration": 29,
    "start_time": "2024-02-22T23:34:53.786Z"
   },
   {
    "duration": 38,
    "start_time": "2024-02-22T23:34:53.817Z"
   },
   {
    "duration": 168,
    "start_time": "2024-02-22T23:34:53.856Z"
   },
   {
    "duration": 159,
    "start_time": "2024-02-22T23:34:54.025Z"
   },
   {
    "duration": 149,
    "start_time": "2024-02-22T23:34:54.185Z"
   },
   {
    "duration": 10,
    "start_time": "2024-02-22T23:34:54.336Z"
   },
   {
    "duration": 34,
    "start_time": "2024-02-22T23:34:54.348Z"
   },
   {
    "duration": 1099,
    "start_time": "2024-02-22T23:35:24.526Z"
   },
   {
    "duration": 56,
    "start_time": "2024-02-22T23:35:25.626Z"
   },
   {
    "duration": 216,
    "start_time": "2024-02-22T23:35:25.684Z"
   },
   {
    "duration": 109,
    "start_time": "2024-02-22T23:35:25.902Z"
   },
   {
    "duration": 69,
    "start_time": "2024-02-22T23:35:26.012Z"
   },
   {
    "duration": 75,
    "start_time": "2024-02-22T23:35:26.083Z"
   },
   {
    "duration": 66,
    "start_time": "2024-02-22T23:35:26.159Z"
   },
   {
    "duration": 73,
    "start_time": "2024-02-22T23:35:26.227Z"
   },
   {
    "duration": 44,
    "start_time": "2024-02-22T23:35:26.302Z"
   },
   {
    "duration": 33,
    "start_time": "2024-02-22T23:35:26.349Z"
   },
   {
    "duration": 63,
    "start_time": "2024-02-22T23:35:26.384Z"
   },
   {
    "duration": 46,
    "start_time": "2024-02-22T23:35:26.449Z"
   },
   {
    "duration": 79,
    "start_time": "2024-02-22T23:35:26.497Z"
   },
   {
    "duration": 5,
    "start_time": "2024-02-22T23:35:26.577Z"
   },
   {
    "duration": 38,
    "start_time": "2024-02-22T23:35:26.583Z"
   },
   {
    "duration": 43,
    "start_time": "2024-02-22T23:35:26.622Z"
   },
   {
    "duration": 26,
    "start_time": "2024-02-22T23:35:26.666Z"
   },
   {
    "duration": 35,
    "start_time": "2024-02-22T23:35:26.694Z"
   },
   {
    "duration": 30,
    "start_time": "2024-02-22T23:35:26.731Z"
   },
   {
    "duration": 38,
    "start_time": "2024-02-22T23:35:26.763Z"
   },
   {
    "duration": 28,
    "start_time": "2024-02-22T23:35:26.802Z"
   },
   {
    "duration": 20,
    "start_time": "2024-02-22T23:35:26.831Z"
   },
   {
    "duration": 43,
    "start_time": "2024-02-22T23:35:26.853Z"
   },
   {
    "duration": 329,
    "start_time": "2024-02-22T23:35:26.898Z"
   },
   {
    "duration": 150,
    "start_time": "2024-02-22T23:35:27.229Z"
   },
   {
    "duration": 203,
    "start_time": "2024-02-22T23:35:27.380Z"
   },
   {
    "duration": 276,
    "start_time": "2024-02-22T23:35:27.585Z"
   },
   {
    "duration": 300,
    "start_time": "2024-02-22T23:35:27.865Z"
   },
   {
    "duration": 6,
    "start_time": "2024-02-22T23:35:28.167Z"
   },
   {
    "duration": 164,
    "start_time": "2024-02-22T23:35:28.175Z"
   },
   {
    "duration": 5,
    "start_time": "2024-02-22T23:35:28.341Z"
   },
   {
    "duration": 210,
    "start_time": "2024-02-22T23:35:28.347Z"
   },
   {
    "duration": 9,
    "start_time": "2024-02-22T23:35:28.559Z"
   },
   {
    "duration": 208,
    "start_time": "2024-02-22T23:35:28.570Z"
   },
   {
    "duration": 182,
    "start_time": "2024-02-22T23:35:28.780Z"
   },
   {
    "duration": 13,
    "start_time": "2024-02-22T23:35:28.964Z"
   },
   {
    "duration": 147,
    "start_time": "2024-02-22T23:35:28.978Z"
   },
   {
    "duration": 119,
    "start_time": "2024-02-22T23:35:29.126Z"
   },
   {
    "duration": 127,
    "start_time": "2024-02-22T23:35:29.246Z"
   },
   {
    "duration": 12,
    "start_time": "2024-02-22T23:35:29.375Z"
   },
   {
    "duration": 17,
    "start_time": "2024-02-22T23:35:29.388Z"
   },
   {
    "duration": 16,
    "start_time": "2024-02-22T23:35:29.406Z"
   },
   {
    "duration": 32,
    "start_time": "2024-02-22T23:35:29.423Z"
   },
   {
    "duration": 14,
    "start_time": "2024-02-22T23:35:29.456Z"
   },
   {
    "duration": 10,
    "start_time": "2024-02-22T23:35:29.472Z"
   },
   {
    "duration": 8,
    "start_time": "2024-02-22T23:35:29.483Z"
   },
   {
    "duration": 13,
    "start_time": "2024-02-22T23:35:29.492Z"
   },
   {
    "duration": 10,
    "start_time": "2024-02-22T23:35:29.506Z"
   },
   {
    "duration": 163,
    "start_time": "2024-02-22T23:35:29.517Z"
   },
   {
    "duration": 152,
    "start_time": "2024-02-22T23:35:29.681Z"
   },
   {
    "duration": 149,
    "start_time": "2024-02-22T23:35:29.835Z"
   },
   {
    "duration": 11,
    "start_time": "2024-02-22T23:35:29.986Z"
   },
   {
    "duration": 63,
    "start_time": "2024-02-22T23:35:29.998Z"
   },
   {
    "duration": 1096,
    "start_time": "2024-02-22T23:37:21.144Z"
   },
   {
    "duration": 65,
    "start_time": "2024-02-22T23:37:22.242Z"
   },
   {
    "duration": 23,
    "start_time": "2024-02-22T23:37:22.309Z"
   },
   {
    "duration": 47,
    "start_time": "2024-02-22T23:37:22.334Z"
   },
   {
    "duration": 61,
    "start_time": "2024-02-22T23:37:22.383Z"
   },
   {
    "duration": 29,
    "start_time": "2024-02-22T23:37:22.445Z"
   },
   {
    "duration": 44,
    "start_time": "2024-02-22T23:37:22.476Z"
   },
   {
    "duration": 21,
    "start_time": "2024-02-22T23:37:22.522Z"
   },
   {
    "duration": 22,
    "start_time": "2024-02-22T23:37:22.545Z"
   },
   {
    "duration": 46,
    "start_time": "2024-02-22T23:37:22.570Z"
   },
   {
    "duration": 64,
    "start_time": "2024-02-22T23:37:22.617Z"
   },
   {
    "duration": 19,
    "start_time": "2024-02-22T23:37:22.683Z"
   },
   {
    "duration": 76,
    "start_time": "2024-02-22T23:37:22.704Z"
   },
   {
    "duration": 5,
    "start_time": "2024-02-22T23:37:22.782Z"
   },
   {
    "duration": 28,
    "start_time": "2024-02-22T23:37:22.789Z"
   },
   {
    "duration": 44,
    "start_time": "2024-02-22T23:37:22.819Z"
   },
   {
    "duration": 27,
    "start_time": "2024-02-22T23:37:22.865Z"
   },
   {
    "duration": 28,
    "start_time": "2024-02-22T23:37:22.894Z"
   },
   {
    "duration": 15,
    "start_time": "2024-02-22T23:37:22.924Z"
   },
   {
    "duration": 48,
    "start_time": "2024-02-22T23:37:22.940Z"
   },
   {
    "duration": 60,
    "start_time": "2024-02-22T23:37:22.990Z"
   },
   {
    "duration": 34,
    "start_time": "2024-02-22T23:37:23.052Z"
   },
   {
    "duration": 359,
    "start_time": "2024-02-22T23:37:23.088Z"
   },
   {
    "duration": 157,
    "start_time": "2024-02-22T23:37:23.449Z"
   },
   {
    "duration": 212,
    "start_time": "2024-02-22T23:37:23.608Z"
   },
   {
    "duration": 298,
    "start_time": "2024-02-22T23:37:23.821Z"
   },
   {
    "duration": 292,
    "start_time": "2024-02-22T23:37:24.121Z"
   },
   {
    "duration": 6,
    "start_time": "2024-02-22T23:37:24.418Z"
   },
   {
    "duration": 190,
    "start_time": "2024-02-22T23:37:24.426Z"
   },
   {
    "duration": 6,
    "start_time": "2024-02-22T23:37:24.618Z"
   },
   {
    "duration": 225,
    "start_time": "2024-02-22T23:37:24.625Z"
   },
   {
    "duration": 15,
    "start_time": "2024-02-22T23:37:24.851Z"
   },
   {
    "duration": 214,
    "start_time": "2024-02-22T23:37:24.868Z"
   },
   {
    "duration": 181,
    "start_time": "2024-02-22T23:37:25.084Z"
   },
   {
    "duration": 13,
    "start_time": "2024-02-22T23:37:25.267Z"
   },
   {
    "duration": 150,
    "start_time": "2024-02-22T23:37:25.281Z"
   },
   {
    "duration": 123,
    "start_time": "2024-02-22T23:37:25.432Z"
   },
   {
    "duration": 143,
    "start_time": "2024-02-22T23:37:25.556Z"
   },
   {
    "duration": 12,
    "start_time": "2024-02-22T23:37:25.700Z"
   },
   {
    "duration": 45,
    "start_time": "2024-02-22T23:37:25.714Z"
   },
   {
    "duration": 23,
    "start_time": "2024-02-22T23:37:25.761Z"
   },
   {
    "duration": 24,
    "start_time": "2024-02-22T23:37:25.786Z"
   },
   {
    "duration": 71,
    "start_time": "2024-02-22T23:37:25.812Z"
   },
   {
    "duration": 36,
    "start_time": "2024-02-22T23:37:25.885Z"
   },
   {
    "duration": 15,
    "start_time": "2024-02-22T23:37:25.923Z"
   },
   {
    "duration": 24,
    "start_time": "2024-02-22T23:37:25.940Z"
   },
   {
    "duration": 24,
    "start_time": "2024-02-22T23:37:25.966Z"
   },
   {
    "duration": 185,
    "start_time": "2024-02-22T23:37:25.992Z"
   },
   {
    "duration": 156,
    "start_time": "2024-02-22T23:37:26.179Z"
   },
   {
    "duration": 149,
    "start_time": "2024-02-22T23:37:26.337Z"
   },
   {
    "duration": 9,
    "start_time": "2024-02-22T23:37:26.488Z"
   },
   {
    "duration": 60,
    "start_time": "2024-02-22T23:37:26.498Z"
   },
   {
    "duration": 1128,
    "start_time": "2024-02-22T23:38:24.065Z"
   },
   {
    "duration": 53,
    "start_time": "2024-02-22T23:38:25.195Z"
   },
   {
    "duration": 19,
    "start_time": "2024-02-22T23:38:25.250Z"
   },
   {
    "duration": 35,
    "start_time": "2024-02-22T23:38:25.271Z"
   },
   {
    "duration": 4,
    "start_time": "2024-02-22T23:38:25.309Z"
   },
   {
    "duration": 13,
    "start_time": "2024-02-22T23:38:25.314Z"
   },
   {
    "duration": 33,
    "start_time": "2024-02-22T23:38:25.328Z"
   },
   {
    "duration": 17,
    "start_time": "2024-02-22T23:38:25.363Z"
   },
   {
    "duration": 22,
    "start_time": "2024-02-22T23:38:25.382Z"
   },
   {
    "duration": 14,
    "start_time": "2024-02-22T23:38:25.406Z"
   },
   {
    "duration": 17,
    "start_time": "2024-02-22T23:38:25.422Z"
   },
   {
    "duration": 10,
    "start_time": "2024-02-22T23:38:25.441Z"
   },
   {
    "duration": 56,
    "start_time": "2024-02-22T23:38:25.453Z"
   },
   {
    "duration": 4,
    "start_time": "2024-02-22T23:38:25.514Z"
   },
   {
    "duration": 17,
    "start_time": "2024-02-22T23:38:25.520Z"
   },
   {
    "duration": 24,
    "start_time": "2024-02-22T23:38:25.539Z"
   },
   {
    "duration": 35,
    "start_time": "2024-02-22T23:38:25.564Z"
   },
   {
    "duration": 20,
    "start_time": "2024-02-22T23:38:25.600Z"
   },
   {
    "duration": 14,
    "start_time": "2024-02-22T23:38:25.621Z"
   },
   {
    "duration": 13,
    "start_time": "2024-02-22T23:38:25.637Z"
   },
   {
    "duration": 7,
    "start_time": "2024-02-22T23:38:25.651Z"
   },
   {
    "duration": 24,
    "start_time": "2024-02-22T23:38:25.659Z"
   },
   {
    "duration": 22,
    "start_time": "2024-02-22T23:38:25.684Z"
   },
   {
    "duration": 355,
    "start_time": "2024-02-22T23:38:25.707Z"
   },
   {
    "duration": 150,
    "start_time": "2024-02-22T23:38:26.064Z"
   },
   {
    "duration": 220,
    "start_time": "2024-02-22T23:38:26.215Z"
   },
   {
    "duration": 295,
    "start_time": "2024-02-22T23:38:26.436Z"
   },
   {
    "duration": 284,
    "start_time": "2024-02-22T23:38:26.733Z"
   },
   {
    "duration": 6,
    "start_time": "2024-02-22T23:38:27.018Z"
   },
   {
    "duration": 176,
    "start_time": "2024-02-22T23:38:27.025Z"
   },
   {
    "duration": 5,
    "start_time": "2024-02-22T23:38:27.202Z"
   },
   {
    "duration": 213,
    "start_time": "2024-02-22T23:38:27.209Z"
   },
   {
    "duration": 6,
    "start_time": "2024-02-22T23:38:27.423Z"
   },
   {
    "duration": 194,
    "start_time": "2024-02-22T23:38:27.431Z"
   },
   {
    "duration": 178,
    "start_time": "2024-02-22T23:38:27.627Z"
   },
   {
    "duration": 13,
    "start_time": "2024-02-22T23:38:27.807Z"
   },
   {
    "duration": 145,
    "start_time": "2024-02-22T23:38:27.822Z"
   },
   {
    "duration": 123,
    "start_time": "2024-02-22T23:38:27.968Z"
   },
   {
    "duration": 131,
    "start_time": "2024-02-22T23:38:28.092Z"
   },
   {
    "duration": 11,
    "start_time": "2024-02-22T23:38:28.225Z"
   },
   {
    "duration": 37,
    "start_time": "2024-02-22T23:38:28.240Z"
   },
   {
    "duration": 52,
    "start_time": "2024-02-22T23:38:28.279Z"
   },
   {
    "duration": 28,
    "start_time": "2024-02-22T23:38:28.332Z"
   },
   {
    "duration": 40,
    "start_time": "2024-02-22T23:38:28.361Z"
   },
   {
    "duration": 28,
    "start_time": "2024-02-22T23:38:28.403Z"
   },
   {
    "duration": 34,
    "start_time": "2024-02-22T23:38:28.432Z"
   },
   {
    "duration": 37,
    "start_time": "2024-02-22T23:38:28.467Z"
   },
   {
    "duration": 38,
    "start_time": "2024-02-22T23:38:28.506Z"
   },
   {
    "duration": 179,
    "start_time": "2024-02-22T23:38:28.546Z"
   },
   {
    "duration": 154,
    "start_time": "2024-02-22T23:38:28.726Z"
   },
   {
    "duration": 152,
    "start_time": "2024-02-22T23:38:28.882Z"
   },
   {
    "duration": 11,
    "start_time": "2024-02-22T23:38:29.036Z"
   },
   {
    "duration": 37,
    "start_time": "2024-02-22T23:38:29.048Z"
   },
   {
    "duration": 1102,
    "start_time": "2024-02-22T23:42:46.029Z"
   },
   {
    "duration": 54,
    "start_time": "2024-02-22T23:42:47.133Z"
   },
   {
    "duration": 17,
    "start_time": "2024-02-22T23:42:47.189Z"
   },
   {
    "duration": 18,
    "start_time": "2024-02-22T23:42:47.208Z"
   },
   {
    "duration": 5,
    "start_time": "2024-02-22T23:42:47.227Z"
   },
   {
    "duration": 9,
    "start_time": "2024-02-22T23:42:47.233Z"
   },
   {
    "duration": 28,
    "start_time": "2024-02-22T23:42:47.244Z"
   },
   {
    "duration": 8,
    "start_time": "2024-02-22T23:42:47.274Z"
   },
   {
    "duration": 9,
    "start_time": "2024-02-22T23:42:47.284Z"
   },
   {
    "duration": 17,
    "start_time": "2024-02-22T23:42:47.295Z"
   },
   {
    "duration": 18,
    "start_time": "2024-02-22T23:42:47.313Z"
   },
   {
    "duration": 9,
    "start_time": "2024-02-22T23:42:47.332Z"
   },
   {
    "duration": 64,
    "start_time": "2024-02-22T23:42:47.342Z"
   },
   {
    "duration": 4,
    "start_time": "2024-02-22T23:42:47.408Z"
   },
   {
    "duration": 18,
    "start_time": "2024-02-22T23:42:47.413Z"
   },
   {
    "duration": 12,
    "start_time": "2024-02-22T23:42:47.432Z"
   },
   {
    "duration": 21,
    "start_time": "2024-02-22T23:42:47.445Z"
   },
   {
    "duration": 18,
    "start_time": "2024-02-22T23:42:47.468Z"
   },
   {
    "duration": 10,
    "start_time": "2024-02-22T23:42:47.487Z"
   },
   {
    "duration": 12,
    "start_time": "2024-02-22T23:42:47.498Z"
   },
   {
    "duration": 4,
    "start_time": "2024-02-22T23:42:47.512Z"
   },
   {
    "duration": 42,
    "start_time": "2024-02-22T23:42:47.517Z"
   },
   {
    "duration": 22,
    "start_time": "2024-02-22T23:42:47.561Z"
   },
   {
    "duration": 308,
    "start_time": "2024-02-22T23:42:47.585Z"
   },
   {
    "duration": 173,
    "start_time": "2024-02-22T23:42:47.894Z"
   },
   {
    "duration": 203,
    "start_time": "2024-02-22T23:42:48.069Z"
   },
   {
    "duration": 274,
    "start_time": "2024-02-22T23:42:48.274Z"
   },
   {
    "duration": 273,
    "start_time": "2024-02-22T23:42:48.551Z"
   },
   {
    "duration": 6,
    "start_time": "2024-02-22T23:42:48.826Z"
   },
   {
    "duration": 149,
    "start_time": "2024-02-22T23:42:48.833Z"
   },
   {
    "duration": 6,
    "start_time": "2024-02-22T23:42:48.983Z"
   },
   {
    "duration": 205,
    "start_time": "2024-02-22T23:42:48.990Z"
   },
   {
    "duration": 5,
    "start_time": "2024-02-22T23:42:49.196Z"
   },
   {
    "duration": 172,
    "start_time": "2024-02-22T23:42:49.202Z"
   },
   {
    "duration": 170,
    "start_time": "2024-02-22T23:42:49.375Z"
   },
   {
    "duration": 21,
    "start_time": "2024-02-22T23:42:49.546Z"
   },
   {
    "duration": 134,
    "start_time": "2024-02-22T23:42:49.568Z"
   },
   {
    "duration": 124,
    "start_time": "2024-02-22T23:42:49.703Z"
   },
   {
    "duration": 127,
    "start_time": "2024-02-22T23:42:49.828Z"
   },
   {
    "duration": 17,
    "start_time": "2024-02-22T23:42:49.957Z"
   },
   {
    "duration": 33,
    "start_time": "2024-02-22T23:42:49.975Z"
   },
   {
    "duration": 26,
    "start_time": "2024-02-22T23:42:50.010Z"
   },
   {
    "duration": 17,
    "start_time": "2024-02-22T23:42:50.037Z"
   },
   {
    "duration": 9,
    "start_time": "2024-02-22T23:42:50.055Z"
   },
   {
    "duration": 10,
    "start_time": "2024-02-22T23:42:50.066Z"
   },
   {
    "duration": 4,
    "start_time": "2024-02-22T23:42:50.078Z"
   },
   {
    "duration": 9,
    "start_time": "2024-02-22T23:42:50.084Z"
   },
   {
    "duration": 6,
    "start_time": "2024-02-22T23:42:50.095Z"
   },
   {
    "duration": 163,
    "start_time": "2024-02-22T23:42:50.102Z"
   },
   {
    "duration": 138,
    "start_time": "2024-02-22T23:42:50.267Z"
   },
   {
    "duration": 136,
    "start_time": "2024-02-22T23:42:50.406Z"
   },
   {
    "duration": 10,
    "start_time": "2024-02-22T23:42:50.543Z"
   },
   {
    "duration": 11,
    "start_time": "2024-02-22T23:42:50.565Z"
   },
   {
    "duration": 5,
    "start_time": "2024-02-22T23:43:45.100Z"
   },
   {
    "duration": 99,
    "start_time": "2024-02-22T23:44:07.078Z"
   },
   {
    "duration": 1166,
    "start_time": "2024-02-22T23:46:55.255Z"
   },
   {
    "duration": 70,
    "start_time": "2024-02-22T23:46:56.423Z"
   },
   {
    "duration": 21,
    "start_time": "2024-02-22T23:46:56.495Z"
   },
   {
    "duration": 14,
    "start_time": "2024-02-22T23:46:56.518Z"
   },
   {
    "duration": 13,
    "start_time": "2024-02-22T23:46:56.534Z"
   },
   {
    "duration": 32,
    "start_time": "2024-02-22T23:46:56.549Z"
   },
   {
    "duration": 24,
    "start_time": "2024-02-22T23:46:56.583Z"
   },
   {
    "duration": 19,
    "start_time": "2024-02-22T23:46:56.608Z"
   },
   {
    "duration": 12,
    "start_time": "2024-02-22T23:46:56.628Z"
   },
   {
    "duration": 13,
    "start_time": "2024-02-22T23:46:56.642Z"
   },
   {
    "duration": 16,
    "start_time": "2024-02-22T23:46:56.658Z"
   },
   {
    "duration": 28,
    "start_time": "2024-02-22T23:46:56.676Z"
   },
   {
    "duration": 57,
    "start_time": "2024-02-22T23:46:56.706Z"
   },
   {
    "duration": 5,
    "start_time": "2024-02-22T23:46:56.767Z"
   },
   {
    "duration": 19,
    "start_time": "2024-02-22T23:46:56.774Z"
   },
   {
    "duration": 13,
    "start_time": "2024-02-22T23:46:56.795Z"
   },
   {
    "duration": 18,
    "start_time": "2024-02-22T23:46:56.810Z"
   },
   {
    "duration": 14,
    "start_time": "2024-02-22T23:46:56.830Z"
   },
   {
    "duration": 27,
    "start_time": "2024-02-22T23:46:56.846Z"
   },
   {
    "duration": 18,
    "start_time": "2024-02-22T23:46:56.875Z"
   },
   {
    "duration": 18,
    "start_time": "2024-02-22T23:46:56.895Z"
   },
   {
    "duration": 23,
    "start_time": "2024-02-22T23:46:56.915Z"
   },
   {
    "duration": 23,
    "start_time": "2024-02-22T23:46:56.940Z"
   },
   {
    "duration": 332,
    "start_time": "2024-02-22T23:46:56.964Z"
   },
   {
    "duration": 156,
    "start_time": "2024-02-22T23:46:57.298Z"
   },
   {
    "duration": 213,
    "start_time": "2024-02-22T23:46:57.456Z"
   },
   {
    "duration": 288,
    "start_time": "2024-02-22T23:46:57.672Z"
   },
   {
    "duration": 274,
    "start_time": "2024-02-22T23:46:57.962Z"
   },
   {
    "duration": 7,
    "start_time": "2024-02-22T23:46:58.238Z"
   },
   {
    "duration": 149,
    "start_time": "2024-02-22T23:46:58.246Z"
   },
   {
    "duration": 5,
    "start_time": "2024-02-22T23:46:58.397Z"
   },
   {
    "duration": 217,
    "start_time": "2024-02-22T23:46:58.403Z"
   },
   {
    "duration": 6,
    "start_time": "2024-02-22T23:46:58.621Z"
   },
   {
    "duration": 180,
    "start_time": "2024-02-22T23:46:58.628Z"
   },
   {
    "duration": 170,
    "start_time": "2024-02-22T23:46:58.810Z"
   },
   {
    "duration": 14,
    "start_time": "2024-02-22T23:46:58.982Z"
   },
   {
    "duration": 137,
    "start_time": "2024-02-22T23:46:58.997Z"
   },
   {
    "duration": 140,
    "start_time": "2024-02-22T23:46:59.136Z"
   },
   {
    "duration": 132,
    "start_time": "2024-02-22T23:46:59.278Z"
   },
   {
    "duration": 12,
    "start_time": "2024-02-22T23:46:59.412Z"
   },
   {
    "duration": 25,
    "start_time": "2024-02-22T23:46:59.428Z"
   },
   {
    "duration": 18,
    "start_time": "2024-02-22T23:46:59.455Z"
   },
   {
    "duration": 13,
    "start_time": "2024-02-22T23:46:59.475Z"
   },
   {
    "duration": 34,
    "start_time": "2024-02-22T23:46:59.489Z"
   },
   {
    "duration": 28,
    "start_time": "2024-02-22T23:46:59.524Z"
   },
   {
    "duration": 17,
    "start_time": "2024-02-22T23:46:59.554Z"
   },
   {
    "duration": 21,
    "start_time": "2024-02-22T23:46:59.573Z"
   },
   {
    "duration": 23,
    "start_time": "2024-02-22T23:46:59.595Z"
   },
   {
    "duration": 178,
    "start_time": "2024-02-22T23:46:59.620Z"
   },
   {
    "duration": 139,
    "start_time": "2024-02-22T23:46:59.800Z"
   },
   {
    "duration": 146,
    "start_time": "2024-02-22T23:46:59.941Z"
   },
   {
    "duration": 9,
    "start_time": "2024-02-22T23:47:00.089Z"
   },
   {
    "duration": 48,
    "start_time": "2024-02-22T23:47:00.100Z"
   },
   {
    "duration": 1081,
    "start_time": "2024-02-22T23:50:14.520Z"
   },
   {
    "duration": 53,
    "start_time": "2024-02-22T23:50:15.603Z"
   },
   {
    "duration": 17,
    "start_time": "2024-02-22T23:50:15.658Z"
   },
   {
    "duration": 13,
    "start_time": "2024-02-22T23:50:15.677Z"
   },
   {
    "duration": 4,
    "start_time": "2024-02-22T23:50:15.691Z"
   },
   {
    "duration": 16,
    "start_time": "2024-02-22T23:50:15.697Z"
   },
   {
    "duration": 24,
    "start_time": "2024-02-22T23:50:15.715Z"
   },
   {
    "duration": 6,
    "start_time": "2024-02-22T23:50:15.740Z"
   },
   {
    "duration": 14,
    "start_time": "2024-02-22T23:50:15.747Z"
   },
   {
    "duration": 29,
    "start_time": "2024-02-22T23:50:15.763Z"
   },
   {
    "duration": 28,
    "start_time": "2024-02-22T23:50:15.794Z"
   },
   {
    "duration": 16,
    "start_time": "2024-02-22T23:50:15.823Z"
   },
   {
    "duration": 70,
    "start_time": "2024-02-22T23:50:15.840Z"
   },
   {
    "duration": 5,
    "start_time": "2024-02-22T23:50:15.912Z"
   },
   {
    "duration": 36,
    "start_time": "2024-02-22T23:50:15.918Z"
   },
   {
    "duration": 17,
    "start_time": "2024-02-22T23:50:15.956Z"
   },
   {
    "duration": 17,
    "start_time": "2024-02-22T23:50:15.975Z"
   },
   {
    "duration": 9,
    "start_time": "2024-02-22T23:50:15.994Z"
   },
   {
    "duration": 27,
    "start_time": "2024-02-22T23:50:16.004Z"
   },
   {
    "duration": 31,
    "start_time": "2024-02-22T23:50:16.032Z"
   },
   {
    "duration": 11,
    "start_time": "2024-02-22T23:50:16.065Z"
   },
   {
    "duration": 24,
    "start_time": "2024-02-22T23:50:16.077Z"
   },
   {
    "duration": 18,
    "start_time": "2024-02-22T23:50:16.103Z"
   },
   {
    "duration": 320,
    "start_time": "2024-02-22T23:50:16.122Z"
   },
   {
    "duration": 160,
    "start_time": "2024-02-22T23:50:16.443Z"
   },
   {
    "duration": 222,
    "start_time": "2024-02-22T23:50:16.605Z"
   },
   {
    "duration": 268,
    "start_time": "2024-02-22T23:50:16.829Z"
   },
   {
    "duration": 264,
    "start_time": "2024-02-22T23:50:17.101Z"
   },
   {
    "duration": 6,
    "start_time": "2024-02-22T23:50:17.367Z"
   },
   {
    "duration": 233,
    "start_time": "2024-02-22T23:50:17.374Z"
   },
   {
    "duration": 5,
    "start_time": "2024-02-22T23:50:17.608Z"
   },
   {
    "duration": 138,
    "start_time": "2024-02-22T23:50:17.615Z"
   },
   {
    "duration": 13,
    "start_time": "2024-02-22T23:50:17.755Z"
   },
   {
    "duration": 159,
    "start_time": "2024-02-22T23:50:17.769Z"
   },
   {
    "duration": 167,
    "start_time": "2024-02-22T23:50:17.930Z"
   },
   {
    "duration": 15,
    "start_time": "2024-02-22T23:50:18.098Z"
   },
   {
    "duration": 140,
    "start_time": "2024-02-22T23:50:18.114Z"
   },
   {
    "duration": 127,
    "start_time": "2024-02-22T23:50:18.256Z"
   },
   {
    "duration": 133,
    "start_time": "2024-02-22T23:50:18.385Z"
   },
   {
    "duration": 13,
    "start_time": "2024-02-22T23:50:18.520Z"
   },
   {
    "duration": 13,
    "start_time": "2024-02-22T23:50:18.535Z"
   },
   {
    "duration": 13,
    "start_time": "2024-02-22T23:50:18.565Z"
   },
   {
    "duration": 10,
    "start_time": "2024-02-22T23:50:18.580Z"
   },
   {
    "duration": 10,
    "start_time": "2024-02-22T23:50:18.592Z"
   },
   {
    "duration": 15,
    "start_time": "2024-02-22T23:50:18.604Z"
   },
   {
    "duration": 5,
    "start_time": "2024-02-22T23:50:18.621Z"
   },
   {
    "duration": 24,
    "start_time": "2024-02-22T23:50:18.627Z"
   },
   {
    "duration": 18,
    "start_time": "2024-02-22T23:50:18.652Z"
   },
   {
    "duration": 165,
    "start_time": "2024-02-22T23:50:18.671Z"
   },
   {
    "duration": 144,
    "start_time": "2024-02-22T23:50:18.838Z"
   },
   {
    "duration": 158,
    "start_time": "2024-02-22T23:50:18.984Z"
   },
   {
    "duration": 10,
    "start_time": "2024-02-22T23:50:19.143Z"
   },
   {
    "duration": 18,
    "start_time": "2024-02-22T23:50:19.154Z"
   },
   {
    "duration": 6,
    "start_time": "2024-02-22T23:52:38.080Z"
   },
   {
    "duration": 1064,
    "start_time": "2024-02-22T23:52:44.662Z"
   },
   {
    "duration": 56,
    "start_time": "2024-02-22T23:52:45.727Z"
   },
   {
    "duration": 18,
    "start_time": "2024-02-22T23:52:45.784Z"
   },
   {
    "duration": 17,
    "start_time": "2024-02-22T23:52:45.803Z"
   },
   {
    "duration": 11,
    "start_time": "2024-02-22T23:52:45.822Z"
   },
   {
    "duration": 15,
    "start_time": "2024-02-22T23:52:45.834Z"
   },
   {
    "duration": 19,
    "start_time": "2024-02-22T23:52:45.850Z"
   },
   {
    "duration": 6,
    "start_time": "2024-02-22T23:52:45.870Z"
   },
   {
    "duration": 19,
    "start_time": "2024-02-22T23:52:45.878Z"
   },
   {
    "duration": 34,
    "start_time": "2024-02-22T23:52:45.899Z"
   },
   {
    "duration": 26,
    "start_time": "2024-02-22T23:52:45.935Z"
   },
   {
    "duration": 15,
    "start_time": "2024-02-22T23:52:45.963Z"
   },
   {
    "duration": 61,
    "start_time": "2024-02-22T23:52:45.980Z"
   },
   {
    "duration": 4,
    "start_time": "2024-02-22T23:52:46.044Z"
   },
   {
    "duration": 13,
    "start_time": "2024-02-22T23:52:46.050Z"
   },
   {
    "duration": 12,
    "start_time": "2024-02-22T23:52:46.065Z"
   },
   {
    "duration": 10,
    "start_time": "2024-02-22T23:52:46.079Z"
   },
   {
    "duration": 15,
    "start_time": "2024-02-22T23:52:46.091Z"
   },
   {
    "duration": 9,
    "start_time": "2024-02-22T23:52:46.107Z"
   },
   {
    "duration": 13,
    "start_time": "2024-02-22T23:52:46.117Z"
   },
   {
    "duration": 11,
    "start_time": "2024-02-22T23:52:46.131Z"
   },
   {
    "duration": 22,
    "start_time": "2024-02-22T23:52:46.143Z"
   },
   {
    "duration": 13,
    "start_time": "2024-02-22T23:52:46.167Z"
   },
   {
    "duration": 17,
    "start_time": "2024-02-22T23:52:46.181Z"
   },
   {
    "duration": 307,
    "start_time": "2024-02-22T23:52:46.200Z"
   },
   {
    "duration": 170,
    "start_time": "2024-02-22T23:52:46.508Z"
   },
   {
    "duration": 204,
    "start_time": "2024-02-22T23:52:46.680Z"
   },
   {
    "duration": 285,
    "start_time": "2024-02-22T23:52:46.886Z"
   },
   {
    "duration": 264,
    "start_time": "2024-02-22T23:52:47.172Z"
   },
   {
    "duration": 5,
    "start_time": "2024-02-22T23:52:47.438Z"
   },
   {
    "duration": 140,
    "start_time": "2024-02-22T23:52:47.445Z"
   },
   {
    "duration": 7,
    "start_time": "2024-02-22T23:52:47.586Z"
   },
   {
    "duration": 194,
    "start_time": "2024-02-22T23:52:47.594Z"
   },
   {
    "duration": 6,
    "start_time": "2024-02-22T23:52:47.789Z"
   },
   {
    "duration": 166,
    "start_time": "2024-02-22T23:52:47.797Z"
   },
   {
    "duration": 159,
    "start_time": "2024-02-22T23:52:47.965Z"
   },
   {
    "duration": 14,
    "start_time": "2024-02-22T23:52:48.125Z"
   },
   {
    "duration": 134,
    "start_time": "2024-02-22T23:52:48.140Z"
   },
   {
    "duration": 135,
    "start_time": "2024-02-22T23:52:48.276Z"
   },
   {
    "duration": 127,
    "start_time": "2024-02-22T23:52:48.412Z"
   },
   {
    "duration": 12,
    "start_time": "2024-02-22T23:52:48.543Z"
   },
   {
    "duration": 12,
    "start_time": "2024-02-22T23:52:48.565Z"
   },
   {
    "duration": 13,
    "start_time": "2024-02-22T23:52:48.578Z"
   },
   {
    "duration": 15,
    "start_time": "2024-02-22T23:52:48.592Z"
   },
   {
    "duration": 10,
    "start_time": "2024-02-22T23:52:48.608Z"
   },
   {
    "duration": 9,
    "start_time": "2024-02-22T23:52:48.619Z"
   },
   {
    "duration": 7,
    "start_time": "2024-02-22T23:52:48.630Z"
   },
   {
    "duration": 36,
    "start_time": "2024-02-22T23:52:48.638Z"
   },
   {
    "duration": 10,
    "start_time": "2024-02-22T23:52:48.676Z"
   },
   {
    "duration": 155,
    "start_time": "2024-02-22T23:52:48.687Z"
   },
   {
    "duration": 139,
    "start_time": "2024-02-22T23:52:48.843Z"
   },
   {
    "duration": 142,
    "start_time": "2024-02-22T23:52:48.984Z"
   },
   {
    "duration": 9,
    "start_time": "2024-02-22T23:52:49.128Z"
   },
   {
    "duration": 14,
    "start_time": "2024-02-22T23:52:49.139Z"
   },
   {
    "duration": 1096,
    "start_time": "2024-02-22T23:53:33.109Z"
   },
   {
    "duration": 54,
    "start_time": "2024-02-22T23:53:34.207Z"
   },
   {
    "duration": 18,
    "start_time": "2024-02-22T23:53:34.262Z"
   },
   {
    "duration": 22,
    "start_time": "2024-02-22T23:53:34.281Z"
   },
   {
    "duration": 5,
    "start_time": "2024-02-22T23:53:34.306Z"
   },
   {
    "duration": 13,
    "start_time": "2024-02-22T23:53:34.312Z"
   },
   {
    "duration": 24,
    "start_time": "2024-02-22T23:53:34.327Z"
   },
   {
    "duration": 5,
    "start_time": "2024-02-22T23:53:34.352Z"
   },
   {
    "duration": 9,
    "start_time": "2024-02-22T23:53:34.359Z"
   },
   {
    "duration": 16,
    "start_time": "2024-02-22T23:53:34.370Z"
   },
   {
    "duration": 28,
    "start_time": "2024-02-22T23:53:34.388Z"
   },
   {
    "duration": 38,
    "start_time": "2024-02-22T23:53:34.418Z"
   },
   {
    "duration": 72,
    "start_time": "2024-02-22T23:53:34.458Z"
   },
   {
    "duration": 4,
    "start_time": "2024-02-22T23:53:34.533Z"
   },
   {
    "duration": 24,
    "start_time": "2024-02-22T23:53:34.538Z"
   },
   {
    "duration": 29,
    "start_time": "2024-02-22T23:53:34.563Z"
   },
   {
    "duration": 29,
    "start_time": "2024-02-22T23:53:34.593Z"
   },
   {
    "duration": 37,
    "start_time": "2024-02-22T23:53:34.624Z"
   },
   {
    "duration": 10,
    "start_time": "2024-02-22T23:53:34.663Z"
   },
   {
    "duration": 19,
    "start_time": "2024-02-22T23:53:34.675Z"
   },
   {
    "duration": 11,
    "start_time": "2024-02-22T23:53:34.696Z"
   },
   {
    "duration": 7,
    "start_time": "2024-02-22T23:53:34.708Z"
   },
   {
    "duration": 19,
    "start_time": "2024-02-22T23:53:34.717Z"
   },
   {
    "duration": 32,
    "start_time": "2024-02-22T23:53:34.737Z"
   },
   {
    "duration": 339,
    "start_time": "2024-02-22T23:53:34.770Z"
   },
   {
    "duration": 149,
    "start_time": "2024-02-22T23:53:35.111Z"
   },
   {
    "duration": 192,
    "start_time": "2024-02-22T23:53:35.262Z"
   },
   {
    "duration": 255,
    "start_time": "2024-02-22T23:53:35.456Z"
   },
   {
    "duration": 292,
    "start_time": "2024-02-22T23:53:35.712Z"
   },
   {
    "duration": 5,
    "start_time": "2024-02-22T23:53:36.006Z"
   },
   {
    "duration": 152,
    "start_time": "2024-02-22T23:53:36.013Z"
   },
   {
    "duration": 5,
    "start_time": "2024-02-22T23:53:36.167Z"
   },
   {
    "duration": 203,
    "start_time": "2024-02-22T23:53:36.173Z"
   },
   {
    "duration": 6,
    "start_time": "2024-02-22T23:53:36.377Z"
   },
   {
    "duration": 165,
    "start_time": "2024-02-22T23:53:36.384Z"
   },
   {
    "duration": 172,
    "start_time": "2024-02-22T23:53:36.551Z"
   },
   {
    "duration": 12,
    "start_time": "2024-02-22T23:53:36.725Z"
   },
   {
    "duration": 128,
    "start_time": "2024-02-22T23:53:36.739Z"
   },
   {
    "duration": 121,
    "start_time": "2024-02-22T23:53:36.869Z"
   },
   {
    "duration": 135,
    "start_time": "2024-02-22T23:53:36.992Z"
   },
   {
    "duration": 12,
    "start_time": "2024-02-22T23:53:37.130Z"
   },
   {
    "duration": 21,
    "start_time": "2024-02-22T23:53:37.144Z"
   },
   {
    "duration": 13,
    "start_time": "2024-02-22T23:53:37.167Z"
   },
   {
    "duration": 16,
    "start_time": "2024-02-22T23:53:37.182Z"
   },
   {
    "duration": 13,
    "start_time": "2024-02-22T23:53:37.199Z"
   },
   {
    "duration": 26,
    "start_time": "2024-02-22T23:53:37.214Z"
   },
   {
    "duration": 9,
    "start_time": "2024-02-22T23:53:37.242Z"
   },
   {
    "duration": 18,
    "start_time": "2024-02-22T23:53:37.252Z"
   },
   {
    "duration": 25,
    "start_time": "2024-02-22T23:53:37.271Z"
   },
   {
    "duration": 160,
    "start_time": "2024-02-22T23:53:37.297Z"
   },
   {
    "duration": 136,
    "start_time": "2024-02-22T23:53:37.459Z"
   },
   {
    "duration": 141,
    "start_time": "2024-02-22T23:53:37.596Z"
   },
   {
    "duration": 9,
    "start_time": "2024-02-22T23:53:37.739Z"
   },
   {
    "duration": 24,
    "start_time": "2024-02-22T23:53:37.750Z"
   },
   {
    "duration": 155,
    "start_time": "2024-02-22T23:56:29.836Z"
   },
   {
    "duration": 213,
    "start_time": "2024-02-22T23:56:49.097Z"
   },
   {
    "duration": 392,
    "start_time": "2024-02-22T23:58:08.459Z"
   },
   {
    "duration": 242,
    "start_time": "2024-02-23T00:05:23.043Z"
   },
   {
    "duration": 301,
    "start_time": "2024-02-23T00:05:35.057Z"
   },
   {
    "duration": 268,
    "start_time": "2024-02-23T00:05:42.037Z"
   },
   {
    "duration": 255,
    "start_time": "2024-02-23T00:05:54.382Z"
   },
   {
    "duration": 282,
    "start_time": "2024-02-23T00:07:11.478Z"
   },
   {
    "duration": 10,
    "start_time": "2024-02-23T00:11:41.115Z"
   },
   {
    "duration": 6,
    "start_time": "2024-02-23T00:12:13.226Z"
   },
   {
    "duration": 117,
    "start_time": "2024-02-23T00:14:28.907Z"
   },
   {
    "duration": 207,
    "start_time": "2024-02-23T00:14:52.546Z"
   },
   {
    "duration": 278,
    "start_time": "2024-02-23T00:16:20.294Z"
   },
   {
    "duration": 202,
    "start_time": "2024-02-23T00:16:51.666Z"
   },
   {
    "duration": 219,
    "start_time": "2024-02-23T00:17:55.066Z"
   },
   {
    "duration": 202,
    "start_time": "2024-02-23T00:18:52.571Z"
   },
   {
    "duration": 189,
    "start_time": "2024-02-23T00:19:05.252Z"
   },
   {
    "duration": 206,
    "start_time": "2024-02-23T00:19:55.201Z"
   },
   {
    "duration": 243,
    "start_time": "2024-02-23T00:20:08.427Z"
   },
   {
    "duration": 9,
    "start_time": "2024-02-23T00:22:24.467Z"
   },
   {
    "duration": 19,
    "start_time": "2024-02-23T00:22:35.162Z"
   },
   {
    "duration": 18,
    "start_time": "2024-02-23T00:23:44.149Z"
   },
   {
    "duration": 19,
    "start_time": "2024-02-23T00:24:02.591Z"
   },
   {
    "duration": 19,
    "start_time": "2024-02-23T00:24:35.412Z"
   },
   {
    "duration": 18,
    "start_time": "2024-02-23T00:25:26.080Z"
   },
   {
    "duration": 15,
    "start_time": "2024-02-23T00:26:10.824Z"
   },
   {
    "duration": 12,
    "start_time": "2024-02-23T00:26:19.072Z"
   },
   {
    "duration": 8,
    "start_time": "2024-02-23T00:26:33.232Z"
   },
   {
    "duration": 106,
    "start_time": "2024-02-23T00:27:47.755Z"
   },
   {
    "duration": 158,
    "start_time": "2024-02-23T00:28:06.567Z"
   },
   {
    "duration": 42,
    "start_time": "2024-02-23T14:45:21.669Z"
   },
   {
    "duration": 1147,
    "start_time": "2024-02-23T14:45:25.759Z"
   },
   {
    "duration": 89,
    "start_time": "2024-02-23T14:45:26.907Z"
   },
   {
    "duration": 15,
    "start_time": "2024-02-23T14:45:26.998Z"
   },
   {
    "duration": 11,
    "start_time": "2024-02-23T14:45:27.014Z"
   },
   {
    "duration": 3,
    "start_time": "2024-02-23T14:45:27.027Z"
   },
   {
    "duration": 8,
    "start_time": "2024-02-23T14:45:27.031Z"
   },
   {
    "duration": 21,
    "start_time": "2024-02-23T14:45:27.040Z"
   },
   {
    "duration": 3,
    "start_time": "2024-02-23T14:45:27.062Z"
   },
   {
    "duration": 9,
    "start_time": "2024-02-23T14:45:27.067Z"
   },
   {
    "duration": 9,
    "start_time": "2024-02-23T14:45:27.078Z"
   },
   {
    "duration": 16,
    "start_time": "2024-02-23T14:45:27.088Z"
   },
   {
    "duration": 19,
    "start_time": "2024-02-23T14:45:27.105Z"
   },
   {
    "duration": 50,
    "start_time": "2024-02-23T14:45:27.125Z"
   },
   {
    "duration": 4,
    "start_time": "2024-02-23T14:45:27.178Z"
   },
   {
    "duration": 21,
    "start_time": "2024-02-23T14:45:27.183Z"
   },
   {
    "duration": 28,
    "start_time": "2024-02-23T14:45:27.205Z"
   },
   {
    "duration": 25,
    "start_time": "2024-02-23T14:45:27.234Z"
   },
   {
    "duration": 33,
    "start_time": "2024-02-23T14:45:27.260Z"
   },
   {
    "duration": 8,
    "start_time": "2024-02-23T14:45:27.295Z"
   },
   {
    "duration": 14,
    "start_time": "2024-02-23T14:45:27.304Z"
   },
   {
    "duration": 12,
    "start_time": "2024-02-23T14:45:27.319Z"
   },
   {
    "duration": 23,
    "start_time": "2024-02-23T14:45:27.332Z"
   },
   {
    "duration": 43,
    "start_time": "2024-02-23T14:45:27.356Z"
   },
   {
    "duration": 22,
    "start_time": "2024-02-23T14:45:27.401Z"
   },
   {
    "duration": 255,
    "start_time": "2024-02-23T14:45:27.424Z"
   },
   {
    "duration": 139,
    "start_time": "2024-02-23T14:45:27.681Z"
   },
   {
    "duration": 188,
    "start_time": "2024-02-23T14:45:27.822Z"
   },
   {
    "duration": 5,
    "start_time": "2024-02-23T14:45:28.011Z"
   },
   {
    "duration": 178,
    "start_time": "2024-02-23T14:45:28.017Z"
   },
   {
    "duration": 126,
    "start_time": "2024-02-23T14:45:28.197Z"
   },
   {
    "duration": 5,
    "start_time": "2024-02-23T14:45:28.325Z"
   },
   {
    "duration": 122,
    "start_time": "2024-02-23T14:45:28.331Z"
   },
   {
    "duration": 4,
    "start_time": "2024-02-23T14:45:28.454Z"
   },
   {
    "duration": 110,
    "start_time": "2024-02-23T14:45:28.460Z"
   },
   {
    "duration": 4,
    "start_time": "2024-02-23T14:45:28.572Z"
   },
   {
    "duration": 140,
    "start_time": "2024-02-23T14:45:28.577Z"
   },
   {
    "duration": 193,
    "start_time": "2024-02-23T14:45:28.718Z"
   },
   {
    "duration": 11,
    "start_time": "2024-02-23T14:45:28.913Z"
   },
   {
    "duration": 110,
    "start_time": "2024-02-23T14:45:28.925Z"
   },
   {
    "duration": 104,
    "start_time": "2024-02-23T14:45:29.037Z"
   },
   {
    "duration": 116,
    "start_time": "2024-02-23T14:45:29.145Z"
   },
   {
    "duration": 10,
    "start_time": "2024-02-23T14:45:29.263Z"
   },
   {
    "duration": 12,
    "start_time": "2024-02-23T14:45:29.274Z"
   },
   {
    "duration": 20,
    "start_time": "2024-02-23T14:45:29.287Z"
   },
   {
    "duration": 7,
    "start_time": "2024-02-23T14:45:29.308Z"
   },
   {
    "duration": 18,
    "start_time": "2024-02-23T14:45:29.316Z"
   },
   {
    "duration": 15,
    "start_time": "2024-02-23T14:45:29.335Z"
   },
   {
    "duration": 4,
    "start_time": "2024-02-23T14:45:29.351Z"
   },
   {
    "duration": 7,
    "start_time": "2024-02-23T14:45:29.356Z"
   },
   {
    "duration": 7,
    "start_time": "2024-02-23T14:45:29.364Z"
   },
   {
    "duration": 131,
    "start_time": "2024-02-23T14:45:29.372Z"
   },
   {
    "duration": 115,
    "start_time": "2024-02-23T14:45:29.504Z"
   },
   {
    "duration": 117,
    "start_time": "2024-02-23T14:45:29.620Z"
   },
   {
    "duration": 8,
    "start_time": "2024-02-23T14:45:29.738Z"
   },
   {
    "duration": 9,
    "start_time": "2024-02-23T14:45:29.747Z"
   },
   {
    "duration": 10,
    "start_time": "2024-02-23T14:50:55.205Z"
   },
   {
    "duration": 109,
    "start_time": "2024-02-23T14:50:56.833Z"
   },
   {
    "duration": 4,
    "start_time": "2024-02-23T14:51:14.410Z"
   },
   {
    "duration": 110,
    "start_time": "2024-02-23T14:51:36.369Z"
   },
   {
    "duration": 4,
    "start_time": "2024-02-23T14:51:43.969Z"
   },
   {
    "duration": 251,
    "start_time": "2024-02-23T14:52:10.236Z"
   },
   {
    "duration": 402,
    "start_time": "2024-02-23T14:53:07.068Z"
   },
   {
    "duration": 72,
    "start_time": "2024-02-23T14:55:06.500Z"
   },
   {
    "duration": 64,
    "start_time": "2024-02-23T14:57:07.374Z"
   },
   {
    "duration": 6,
    "start_time": "2024-02-23T14:57:34.316Z"
   },
   {
    "duration": 342,
    "start_time": "2024-02-23T14:58:53.581Z"
   },
   {
    "duration": 6,
    "start_time": "2024-02-23T14:59:32.449Z"
   },
   {
    "duration": 137,
    "start_time": "2024-02-23T15:04:06.263Z"
   },
   {
    "duration": 136,
    "start_time": "2024-02-23T15:05:19.853Z"
   },
   {
    "duration": 96,
    "start_time": "2024-02-23T15:07:37.144Z"
   },
   {
    "duration": 162,
    "start_time": "2024-02-23T15:08:58.812Z"
   },
   {
    "duration": 141,
    "start_time": "2024-02-23T15:09:37.211Z"
   },
   {
    "duration": 215,
    "start_time": "2024-02-23T15:10:14.852Z"
   },
   {
    "duration": 145,
    "start_time": "2024-02-23T15:10:29.610Z"
   },
   {
    "duration": 149,
    "start_time": "2024-02-23T15:10:41.256Z"
   },
   {
    "duration": 10,
    "start_time": "2024-02-23T15:12:55.531Z"
   },
   {
    "duration": 95,
    "start_time": "2024-02-23T15:14:55.882Z"
   },
   {
    "duration": 939,
    "start_time": "2024-02-23T15:15:18.072Z"
   },
   {
    "duration": 50,
    "start_time": "2024-02-23T15:15:19.013Z"
   },
   {
    "duration": 15,
    "start_time": "2024-02-23T15:15:19.064Z"
   },
   {
    "duration": 12,
    "start_time": "2024-02-23T15:15:19.080Z"
   },
   {
    "duration": 3,
    "start_time": "2024-02-23T15:15:19.094Z"
   },
   {
    "duration": 10,
    "start_time": "2024-02-23T15:15:19.098Z"
   },
   {
    "duration": 13,
    "start_time": "2024-02-23T15:15:19.109Z"
   },
   {
    "duration": 3,
    "start_time": "2024-02-23T15:15:19.123Z"
   },
   {
    "duration": 12,
    "start_time": "2024-02-23T15:15:19.127Z"
   },
   {
    "duration": 17,
    "start_time": "2024-02-23T15:15:19.140Z"
   },
   {
    "duration": 12,
    "start_time": "2024-02-23T15:15:19.158Z"
   },
   {
    "duration": 9,
    "start_time": "2024-02-23T15:15:19.172Z"
   },
   {
    "duration": 48,
    "start_time": "2024-02-23T15:15:19.182Z"
   },
   {
    "duration": 3,
    "start_time": "2024-02-23T15:15:19.233Z"
   },
   {
    "duration": 11,
    "start_time": "2024-02-23T15:15:19.238Z"
   },
   {
    "duration": 7,
    "start_time": "2024-02-23T15:15:19.250Z"
   },
   {
    "duration": 6,
    "start_time": "2024-02-23T15:15:19.258Z"
   },
   {
    "duration": 18,
    "start_time": "2024-02-23T15:15:19.265Z"
   },
   {
    "duration": 18,
    "start_time": "2024-02-23T15:15:19.284Z"
   },
   {
    "duration": 7,
    "start_time": "2024-02-23T15:15:19.304Z"
   },
   {
    "duration": 8,
    "start_time": "2024-02-23T15:15:19.312Z"
   },
   {
    "duration": 4,
    "start_time": "2024-02-23T15:15:19.321Z"
   },
   {
    "duration": 14,
    "start_time": "2024-02-23T15:15:19.326Z"
   },
   {
    "duration": 25,
    "start_time": "2024-02-23T15:15:19.341Z"
   },
   {
    "duration": 307,
    "start_time": "2024-02-23T15:15:19.367Z"
   },
   {
    "duration": 146,
    "start_time": "2024-02-23T15:15:19.676Z"
   },
   {
    "duration": 208,
    "start_time": "2024-02-23T15:15:19.823Z"
   },
   {
    "duration": 6,
    "start_time": "2024-02-23T15:15:20.033Z"
   },
   {
    "duration": 195,
    "start_time": "2024-02-23T15:15:20.040Z"
   },
   {
    "duration": 143,
    "start_time": "2024-02-23T15:15:20.236Z"
   },
   {
    "duration": 20,
    "start_time": "2024-02-23T15:15:20.381Z"
   },
   {
    "duration": 376,
    "start_time": "2024-02-23T15:15:20.403Z"
   },
   {
    "duration": 6,
    "start_time": "2024-02-23T15:15:20.781Z"
   },
   {
    "duration": 436,
    "start_time": "2024-02-23T15:15:20.789Z"
   },
   {
    "duration": 7,
    "start_time": "2024-02-23T15:15:21.226Z"
   },
   {
    "duration": 145,
    "start_time": "2024-02-23T15:15:21.234Z"
   },
   {
    "duration": 157,
    "start_time": "2024-02-23T15:15:21.380Z"
   },
   {
    "duration": 98,
    "start_time": "2024-02-23T15:15:21.539Z"
   },
   {
    "duration": 122,
    "start_time": "2024-02-23T15:15:21.638Z"
   },
   {
    "duration": 103,
    "start_time": "2024-02-23T15:15:21.761Z"
   },
   {
    "duration": 11,
    "start_time": "2024-02-23T15:15:21.867Z"
   },
   {
    "duration": 25,
    "start_time": "2024-02-23T15:15:21.879Z"
   },
   {
    "duration": 10,
    "start_time": "2024-02-23T15:15:21.905Z"
   },
   {
    "duration": 8,
    "start_time": "2024-02-23T15:15:21.916Z"
   },
   {
    "duration": 26,
    "start_time": "2024-02-23T15:15:21.925Z"
   },
   {
    "duration": 10,
    "start_time": "2024-02-23T15:15:21.954Z"
   },
   {
    "duration": 13,
    "start_time": "2024-02-23T15:15:21.966Z"
   },
   {
    "duration": 15,
    "start_time": "2024-02-23T15:15:21.981Z"
   },
   {
    "duration": 14,
    "start_time": "2024-02-23T15:15:21.997Z"
   },
   {
    "duration": 148,
    "start_time": "2024-02-23T15:15:22.012Z"
   },
   {
    "duration": 115,
    "start_time": "2024-02-23T15:15:22.162Z"
   },
   {
    "duration": 138,
    "start_time": "2024-02-23T15:15:22.279Z"
   },
   {
    "duration": 8,
    "start_time": "2024-02-23T15:15:22.419Z"
   },
   {
    "duration": 16,
    "start_time": "2024-02-23T15:15:22.429Z"
   },
   {
    "duration": 941,
    "start_time": "2024-02-23T15:16:08.860Z"
   },
   {
    "duration": 50,
    "start_time": "2024-02-23T15:16:09.803Z"
   },
   {
    "duration": 15,
    "start_time": "2024-02-23T15:16:09.854Z"
   },
   {
    "duration": 11,
    "start_time": "2024-02-23T15:16:09.870Z"
   },
   {
    "duration": 3,
    "start_time": "2024-02-23T15:16:09.882Z"
   },
   {
    "duration": 4,
    "start_time": "2024-02-23T15:16:09.886Z"
   },
   {
    "duration": 14,
    "start_time": "2024-02-23T15:16:09.891Z"
   },
   {
    "duration": 3,
    "start_time": "2024-02-23T15:16:09.906Z"
   },
   {
    "duration": 9,
    "start_time": "2024-02-23T15:16:09.910Z"
   },
   {
    "duration": 7,
    "start_time": "2024-02-23T15:16:09.920Z"
   },
   {
    "duration": 18,
    "start_time": "2024-02-23T15:16:09.928Z"
   },
   {
    "duration": 7,
    "start_time": "2024-02-23T15:16:09.947Z"
   },
   {
    "duration": 47,
    "start_time": "2024-02-23T15:16:09.955Z"
   },
   {
    "duration": 4,
    "start_time": "2024-02-23T15:16:10.004Z"
   },
   {
    "duration": 18,
    "start_time": "2024-02-23T15:16:10.009Z"
   },
   {
    "duration": 10,
    "start_time": "2024-02-23T15:16:10.028Z"
   },
   {
    "duration": 20,
    "start_time": "2024-02-23T15:16:10.040Z"
   },
   {
    "duration": 23,
    "start_time": "2024-02-23T15:16:10.062Z"
   },
   {
    "duration": 9,
    "start_time": "2024-02-23T15:16:10.086Z"
   },
   {
    "duration": 18,
    "start_time": "2024-02-23T15:16:10.096Z"
   },
   {
    "duration": 23,
    "start_time": "2024-02-23T15:16:10.116Z"
   },
   {
    "duration": 6,
    "start_time": "2024-02-23T15:16:10.140Z"
   },
   {
    "duration": 33,
    "start_time": "2024-02-23T15:16:10.147Z"
   },
   {
    "duration": 23,
    "start_time": "2024-02-23T15:16:10.182Z"
   },
   {
    "duration": 287,
    "start_time": "2024-02-23T15:16:10.206Z"
   },
   {
    "duration": 145,
    "start_time": "2024-02-23T15:16:10.495Z"
   },
   {
    "duration": 183,
    "start_time": "2024-02-23T15:16:10.641Z"
   },
   {
    "duration": 4,
    "start_time": "2024-02-23T15:16:10.826Z"
   },
   {
    "duration": 180,
    "start_time": "2024-02-23T15:16:10.831Z"
   },
   {
    "duration": 125,
    "start_time": "2024-02-23T15:16:11.012Z"
   },
   {
    "duration": 9,
    "start_time": "2024-02-23T15:16:11.139Z"
   },
   {
    "duration": 375,
    "start_time": "2024-02-23T15:16:11.149Z"
   },
   {
    "duration": 14,
    "start_time": "2024-02-23T15:16:11.526Z"
   },
   {
    "duration": 406,
    "start_time": "2024-02-23T15:16:11.541Z"
   },
   {
    "duration": 7,
    "start_time": "2024-02-23T15:16:11.948Z"
   },
   {
    "duration": 146,
    "start_time": "2024-02-23T15:16:11.957Z"
   },
   {
    "duration": 185,
    "start_time": "2024-02-23T15:16:12.105Z"
   },
   {
    "duration": 106,
    "start_time": "2024-02-23T15:16:12.292Z"
   },
   {
    "duration": 131,
    "start_time": "2024-02-23T15:16:12.402Z"
   },
   {
    "duration": 204,
    "start_time": "2024-02-23T15:16:12.534Z"
   },
   {
    "duration": 11,
    "start_time": "2024-02-23T15:16:12.741Z"
   },
   {
    "duration": 9,
    "start_time": "2024-02-23T15:16:12.753Z"
   },
   {
    "duration": 9,
    "start_time": "2024-02-23T15:16:12.764Z"
   },
   {
    "duration": 30,
    "start_time": "2024-02-23T15:16:12.774Z"
   },
   {
    "duration": 8,
    "start_time": "2024-02-23T15:16:12.805Z"
   },
   {
    "duration": 9,
    "start_time": "2024-02-23T15:16:12.814Z"
   },
   {
    "duration": 4,
    "start_time": "2024-02-23T15:16:12.824Z"
   },
   {
    "duration": 7,
    "start_time": "2024-02-23T15:16:12.829Z"
   },
   {
    "duration": 3,
    "start_time": "2024-02-23T15:16:12.838Z"
   },
   {
    "duration": 202,
    "start_time": "2024-02-23T15:16:12.843Z"
   },
   {
    "duration": 119,
    "start_time": "2024-02-23T15:16:13.046Z"
   },
   {
    "duration": 125,
    "start_time": "2024-02-23T15:16:13.166Z"
   },
   {
    "duration": 15,
    "start_time": "2024-02-23T15:16:13.292Z"
   },
   {
    "duration": 12,
    "start_time": "2024-02-23T15:16:13.308Z"
   },
   {
    "duration": 1011,
    "start_time": "2024-02-23T15:19:16.879Z"
   },
   {
    "duration": 48,
    "start_time": "2024-02-23T15:19:17.892Z"
   },
   {
    "duration": 14,
    "start_time": "2024-02-23T15:19:17.942Z"
   },
   {
    "duration": 13,
    "start_time": "2024-02-23T15:19:17.958Z"
   },
   {
    "duration": 2,
    "start_time": "2024-02-23T15:19:17.973Z"
   },
   {
    "duration": 5,
    "start_time": "2024-02-23T15:19:17.976Z"
   },
   {
    "duration": 19,
    "start_time": "2024-02-23T15:19:17.982Z"
   },
   {
    "duration": 3,
    "start_time": "2024-02-23T15:19:18.002Z"
   },
   {
    "duration": 13,
    "start_time": "2024-02-23T15:19:18.006Z"
   },
   {
    "duration": 20,
    "start_time": "2024-02-23T15:19:18.021Z"
   },
   {
    "duration": 11,
    "start_time": "2024-02-23T15:19:18.042Z"
   },
   {
    "duration": 7,
    "start_time": "2024-02-23T15:19:18.054Z"
   },
   {
    "duration": 47,
    "start_time": "2024-02-23T15:19:18.062Z"
   },
   {
    "duration": 4,
    "start_time": "2024-02-23T15:19:18.111Z"
   },
   {
    "duration": 24,
    "start_time": "2024-02-23T15:19:18.116Z"
   },
   {
    "duration": 7,
    "start_time": "2024-02-23T15:19:18.142Z"
   },
   {
    "duration": 9,
    "start_time": "2024-02-23T15:19:18.150Z"
   },
   {
    "duration": 15,
    "start_time": "2024-02-23T15:19:18.160Z"
   },
   {
    "duration": 9,
    "start_time": "2024-02-23T15:19:18.177Z"
   },
   {
    "duration": 15,
    "start_time": "2024-02-23T15:19:18.188Z"
   },
   {
    "duration": 9,
    "start_time": "2024-02-23T15:19:18.205Z"
   },
   {
    "duration": 11,
    "start_time": "2024-02-23T15:19:18.216Z"
   },
   {
    "duration": 16,
    "start_time": "2024-02-23T15:19:18.228Z"
   },
   {
    "duration": 13,
    "start_time": "2024-02-23T15:19:18.246Z"
   },
   {
    "duration": 289,
    "start_time": "2024-02-23T15:19:18.260Z"
   },
   {
    "duration": 147,
    "start_time": "2024-02-23T15:19:18.550Z"
   },
   {
    "duration": 193,
    "start_time": "2024-02-23T15:19:18.699Z"
   },
   {
    "duration": 9,
    "start_time": "2024-02-23T15:19:18.896Z"
   },
   {
    "duration": 181,
    "start_time": "2024-02-23T15:19:18.907Z"
   },
   {
    "duration": 143,
    "start_time": "2024-02-23T15:19:19.090Z"
   },
   {
    "duration": 10,
    "start_time": "2024-02-23T15:19:19.235Z"
   },
   {
    "duration": 445,
    "start_time": "2024-02-23T15:19:19.247Z"
   },
   {
    "duration": 12,
    "start_time": "2024-02-23T15:19:19.694Z"
   },
   {
    "duration": 412,
    "start_time": "2024-02-23T15:19:19.707Z"
   },
   {
    "duration": 8,
    "start_time": "2024-02-23T15:19:20.120Z"
   },
   {
    "duration": 156,
    "start_time": "2024-02-23T15:19:20.129Z"
   },
   {
    "duration": 197,
    "start_time": "2024-02-23T15:19:20.287Z"
   },
   {
    "duration": 109,
    "start_time": "2024-02-23T15:19:20.485Z"
   },
   {
    "duration": 120,
    "start_time": "2024-02-23T15:19:20.601Z"
   },
   {
    "duration": 109,
    "start_time": "2024-02-23T15:19:20.722Z"
   },
   {
    "duration": 11,
    "start_time": "2024-02-23T15:19:20.832Z"
   },
   {
    "duration": 46,
    "start_time": "2024-02-23T15:19:20.844Z"
   },
   {
    "duration": 23,
    "start_time": "2024-02-23T15:19:20.892Z"
   },
   {
    "duration": 9,
    "start_time": "2024-02-23T15:19:20.916Z"
   },
   {
    "duration": 8,
    "start_time": "2024-02-23T15:19:20.926Z"
   },
   {
    "duration": 18,
    "start_time": "2024-02-23T15:19:20.935Z"
   },
   {
    "duration": 3,
    "start_time": "2024-02-23T15:19:20.955Z"
   },
   {
    "duration": 20,
    "start_time": "2024-02-23T15:19:20.960Z"
   },
   {
    "duration": 8,
    "start_time": "2024-02-23T15:19:20.981Z"
   },
   {
    "duration": 131,
    "start_time": "2024-02-23T15:19:20.990Z"
   },
   {
    "duration": 127,
    "start_time": "2024-02-23T15:19:21.122Z"
   },
   {
    "duration": 180,
    "start_time": "2024-02-23T15:19:21.250Z"
   },
   {
    "duration": 8,
    "start_time": "2024-02-23T15:19:21.432Z"
   },
   {
    "duration": 13,
    "start_time": "2024-02-23T15:19:21.441Z"
   },
   {
    "duration": 12,
    "start_time": "2024-02-23T15:25:05.843Z"
   },
   {
    "duration": 129,
    "start_time": "2024-02-23T15:25:39.760Z"
   },
   {
    "duration": 11,
    "start_time": "2024-02-23T15:25:59.089Z"
   },
   {
    "duration": 9,
    "start_time": "2024-02-23T15:26:07.436Z"
   },
   {
    "duration": 9,
    "start_time": "2024-02-23T15:26:27.341Z"
   },
   {
    "duration": 25,
    "start_time": "2024-02-23T15:27:39.498Z"
   },
   {
    "duration": 17,
    "start_time": "2024-02-23T15:27:48.857Z"
   },
   {
    "duration": 12,
    "start_time": "2024-02-23T15:38:30.574Z"
   },
   {
    "duration": 8,
    "start_time": "2024-02-23T15:38:37.426Z"
   },
   {
    "duration": 12,
    "start_time": "2024-02-23T15:39:29.602Z"
   },
   {
    "duration": 144,
    "start_time": "2024-02-23T15:39:54.461Z"
   },
   {
    "duration": 120,
    "start_time": "2024-02-23T15:40:06.939Z"
   },
   {
    "duration": 74,
    "start_time": "2024-02-23T15:41:04.028Z"
   },
   {
    "duration": 6,
    "start_time": "2024-02-23T15:41:12.108Z"
   },
   {
    "duration": 171,
    "start_time": "2024-02-23T15:41:22.320Z"
   },
   {
    "duration": 11,
    "start_time": "2024-02-23T15:41:56.660Z"
   },
   {
    "duration": 155,
    "start_time": "2024-02-23T15:42:03.809Z"
   },
   {
    "duration": 12,
    "start_time": "2024-02-23T15:42:56.951Z"
   },
   {
    "duration": 9,
    "start_time": "2024-02-23T15:43:53.270Z"
   },
   {
    "duration": 367,
    "start_time": "2024-02-23T15:49:28.426Z"
   },
   {
    "duration": 199,
    "start_time": "2024-02-23T15:50:08.044Z"
   },
   {
    "duration": 144,
    "start_time": "2024-02-23T15:50:55.986Z"
   },
   {
    "duration": 110,
    "start_time": "2024-02-23T15:57:37.982Z"
   },
   {
    "duration": 148,
    "start_time": "2024-02-23T15:58:00.423Z"
   },
   {
    "duration": 148,
    "start_time": "2024-02-23T15:58:44.853Z"
   },
   {
    "duration": 141,
    "start_time": "2024-02-23T15:59:33.190Z"
   },
   {
    "duration": 140,
    "start_time": "2024-02-23T16:02:17.444Z"
   },
   {
    "duration": 1003,
    "start_time": "2024-02-23T16:06:33.485Z"
   },
   {
    "duration": 49,
    "start_time": "2024-02-23T16:06:34.490Z"
   },
   {
    "duration": 14,
    "start_time": "2024-02-23T16:06:34.541Z"
   },
   {
    "duration": 16,
    "start_time": "2024-02-23T16:06:34.556Z"
   },
   {
    "duration": 21,
    "start_time": "2024-02-23T16:06:34.573Z"
   },
   {
    "duration": 13,
    "start_time": "2024-02-23T16:06:34.595Z"
   },
   {
    "duration": 21,
    "start_time": "2024-02-23T16:06:34.609Z"
   },
   {
    "duration": 5,
    "start_time": "2024-02-23T16:06:34.631Z"
   },
   {
    "duration": 9,
    "start_time": "2024-02-23T16:06:34.637Z"
   },
   {
    "duration": 6,
    "start_time": "2024-02-23T16:06:34.648Z"
   },
   {
    "duration": 11,
    "start_time": "2024-02-23T16:06:34.655Z"
   },
   {
    "duration": 31,
    "start_time": "2024-02-23T16:06:34.667Z"
   },
   {
    "duration": 45,
    "start_time": "2024-02-23T16:06:34.699Z"
   },
   {
    "duration": 5,
    "start_time": "2024-02-23T16:06:34.745Z"
   },
   {
    "duration": 30,
    "start_time": "2024-02-23T16:06:34.751Z"
   },
   {
    "duration": 36,
    "start_time": "2024-02-23T16:06:34.782Z"
   },
   {
    "duration": 19,
    "start_time": "2024-02-23T16:06:34.819Z"
   },
   {
    "duration": 19,
    "start_time": "2024-02-23T16:06:34.840Z"
   },
   {
    "duration": 10,
    "start_time": "2024-02-23T16:06:34.860Z"
   },
   {
    "duration": 9,
    "start_time": "2024-02-23T16:06:34.872Z"
   },
   {
    "duration": 27,
    "start_time": "2024-02-23T16:06:34.882Z"
   },
   {
    "duration": 16,
    "start_time": "2024-02-23T16:06:34.910Z"
   },
   {
    "duration": 29,
    "start_time": "2024-02-23T16:06:34.927Z"
   },
   {
    "duration": 37,
    "start_time": "2024-02-23T16:06:34.958Z"
   },
   {
    "duration": 327,
    "start_time": "2024-02-23T16:06:34.997Z"
   },
   {
    "duration": 138,
    "start_time": "2024-02-23T16:06:35.325Z"
   },
   {
    "duration": 180,
    "start_time": "2024-02-23T16:06:35.464Z"
   },
   {
    "duration": 4,
    "start_time": "2024-02-23T16:06:35.647Z"
   },
   {
    "duration": 172,
    "start_time": "2024-02-23T16:06:35.653Z"
   },
   {
    "duration": 146,
    "start_time": "2024-02-23T16:06:35.827Z"
   },
   {
    "duration": 10,
    "start_time": "2024-02-23T16:06:35.974Z"
   },
   {
    "duration": 373,
    "start_time": "2024-02-23T16:06:35.985Z"
   },
   {
    "duration": 7,
    "start_time": "2024-02-23T16:06:36.360Z"
   },
   {
    "duration": 413,
    "start_time": "2024-02-23T16:06:36.368Z"
   },
   {
    "duration": 6,
    "start_time": "2024-02-23T16:06:36.782Z"
   },
   {
    "duration": 141,
    "start_time": "2024-02-23T16:06:36.789Z"
   },
   {
    "duration": 154,
    "start_time": "2024-02-23T16:06:36.931Z"
   },
   {
    "duration": 98,
    "start_time": "2024-02-23T16:06:37.086Z"
   },
   {
    "duration": 117,
    "start_time": "2024-02-23T16:06:37.186Z"
   },
   {
    "duration": 107,
    "start_time": "2024-02-23T16:06:37.304Z"
   },
   {
    "duration": 10,
    "start_time": "2024-02-23T16:06:37.413Z"
   },
   {
    "duration": 11,
    "start_time": "2024-02-23T16:06:37.424Z"
   },
   {
    "duration": 28,
    "start_time": "2024-02-23T16:06:37.436Z"
   },
   {
    "duration": 14,
    "start_time": "2024-02-23T16:06:37.465Z"
   },
   {
    "duration": 9,
    "start_time": "2024-02-23T16:06:37.481Z"
   },
   {
    "duration": 19,
    "start_time": "2024-02-23T16:06:37.491Z"
   },
   {
    "duration": 11,
    "start_time": "2024-02-23T16:06:37.511Z"
   },
   {
    "duration": 9,
    "start_time": "2024-02-23T16:06:37.523Z"
   },
   {
    "duration": 15,
    "start_time": "2024-02-23T16:06:37.533Z"
   },
   {
    "duration": 126,
    "start_time": "2024-02-23T16:06:37.550Z"
   },
   {
    "duration": 114,
    "start_time": "2024-02-23T16:06:37.678Z"
   },
   {
    "duration": 124,
    "start_time": "2024-02-23T16:06:37.801Z"
   },
   {
    "duration": 16,
    "start_time": "2024-02-23T16:06:37.926Z"
   },
   {
    "duration": 16,
    "start_time": "2024-02-23T16:06:37.943Z"
   },
   {
    "duration": 961,
    "start_time": "2024-02-23T16:42:10.729Z"
   },
   {
    "duration": 50,
    "start_time": "2024-02-23T16:42:11.691Z"
   },
   {
    "duration": 15,
    "start_time": "2024-02-23T16:42:11.742Z"
   },
   {
    "duration": 13,
    "start_time": "2024-02-23T16:42:11.758Z"
   },
   {
    "duration": 3,
    "start_time": "2024-02-23T16:42:11.773Z"
   },
   {
    "duration": 4,
    "start_time": "2024-02-23T16:42:11.777Z"
   },
   {
    "duration": 21,
    "start_time": "2024-02-23T16:42:11.782Z"
   },
   {
    "duration": 26,
    "start_time": "2024-02-23T16:42:11.804Z"
   },
   {
    "duration": 10,
    "start_time": "2024-02-23T16:42:11.832Z"
   },
   {
    "duration": 8,
    "start_time": "2024-02-23T16:42:11.843Z"
   },
   {
    "duration": 14,
    "start_time": "2024-02-23T16:42:11.852Z"
   },
   {
    "duration": 9,
    "start_time": "2024-02-23T16:42:11.867Z"
   },
   {
    "duration": 47,
    "start_time": "2024-02-23T16:42:11.877Z"
   },
   {
    "duration": 4,
    "start_time": "2024-02-23T16:42:11.927Z"
   },
   {
    "duration": 12,
    "start_time": "2024-02-23T16:42:11.932Z"
   },
   {
    "duration": 9,
    "start_time": "2024-02-23T16:42:11.946Z"
   },
   {
    "duration": 6,
    "start_time": "2024-02-23T16:42:11.956Z"
   },
   {
    "duration": 22,
    "start_time": "2024-02-23T16:42:11.963Z"
   },
   {
    "duration": 8,
    "start_time": "2024-02-23T16:42:11.986Z"
   },
   {
    "duration": 8,
    "start_time": "2024-02-23T16:42:12.001Z"
   },
   {
    "duration": 11,
    "start_time": "2024-02-23T16:42:12.010Z"
   },
   {
    "duration": 3,
    "start_time": "2024-02-23T16:42:12.023Z"
   },
   {
    "duration": 12,
    "start_time": "2024-02-23T16:42:12.028Z"
   },
   {
    "duration": 11,
    "start_time": "2024-02-23T16:42:12.041Z"
   },
   {
    "duration": 279,
    "start_time": "2024-02-23T16:42:12.053Z"
   },
   {
    "duration": 145,
    "start_time": "2024-02-23T16:42:12.333Z"
   },
   {
    "duration": 182,
    "start_time": "2024-02-23T16:42:12.480Z"
   },
   {
    "duration": 6,
    "start_time": "2024-02-23T16:42:12.663Z"
   },
   {
    "duration": 182,
    "start_time": "2024-02-23T16:42:12.670Z"
   },
   {
    "duration": 142,
    "start_time": "2024-02-23T16:42:12.854Z"
   },
   {
    "duration": 11,
    "start_time": "2024-02-23T16:42:12.998Z"
   },
   {
    "duration": 378,
    "start_time": "2024-02-23T16:42:13.011Z"
   },
   {
    "duration": 13,
    "start_time": "2024-02-23T16:42:13.390Z"
   },
   {
    "duration": 406,
    "start_time": "2024-02-23T16:42:13.405Z"
   },
   {
    "duration": 7,
    "start_time": "2024-02-23T16:42:13.813Z"
   },
   {
    "duration": 145,
    "start_time": "2024-02-23T16:42:13.822Z"
   },
   {
    "duration": 155,
    "start_time": "2024-02-23T16:42:13.969Z"
   },
   {
    "duration": 105,
    "start_time": "2024-02-23T16:42:14.126Z"
   },
   {
    "duration": 124,
    "start_time": "2024-02-23T16:42:14.233Z"
   },
   {
    "duration": 111,
    "start_time": "2024-02-23T16:42:14.359Z"
   },
   {
    "duration": 10,
    "start_time": "2024-02-23T16:42:14.473Z"
   },
   {
    "duration": 22,
    "start_time": "2024-02-23T16:42:14.485Z"
   },
   {
    "duration": 10,
    "start_time": "2024-02-23T16:42:14.508Z"
   },
   {
    "duration": 32,
    "start_time": "2024-02-23T16:42:14.519Z"
   },
   {
    "duration": 32,
    "start_time": "2024-02-23T16:42:14.552Z"
   },
   {
    "duration": 28,
    "start_time": "2024-02-23T16:42:14.585Z"
   },
   {
    "duration": 22,
    "start_time": "2024-02-23T16:42:14.615Z"
   },
   {
    "duration": 40,
    "start_time": "2024-02-23T16:42:14.639Z"
   },
   {
    "duration": 41,
    "start_time": "2024-02-23T16:42:14.680Z"
   },
   {
    "duration": 142,
    "start_time": "2024-02-23T16:42:14.723Z"
   },
   {
    "duration": 115,
    "start_time": "2024-02-23T16:42:14.867Z"
   },
   {
    "duration": 124,
    "start_time": "2024-02-23T16:42:14.983Z"
   },
   {
    "duration": 16,
    "start_time": "2024-02-23T16:42:15.108Z"
   },
   {
    "duration": 35,
    "start_time": "2024-02-23T16:42:15.126Z"
   },
   {
    "duration": 967,
    "start_time": "2024-02-23T16:43:52.224Z"
   },
   {
    "duration": 48,
    "start_time": "2024-02-23T16:43:53.193Z"
   },
   {
    "duration": 14,
    "start_time": "2024-02-23T16:43:53.243Z"
   },
   {
    "duration": 11,
    "start_time": "2024-02-23T16:43:53.259Z"
   },
   {
    "duration": 7,
    "start_time": "2024-02-23T16:43:53.271Z"
   },
   {
    "duration": 7,
    "start_time": "2024-02-23T16:43:53.279Z"
   },
   {
    "duration": 15,
    "start_time": "2024-02-23T16:43:53.288Z"
   },
   {
    "duration": 3,
    "start_time": "2024-02-23T16:43:53.305Z"
   },
   {
    "duration": 33,
    "start_time": "2024-02-23T16:43:53.309Z"
   },
   {
    "duration": 7,
    "start_time": "2024-02-23T16:43:53.344Z"
   },
   {
    "duration": 26,
    "start_time": "2024-02-23T16:43:53.352Z"
   },
   {
    "duration": 8,
    "start_time": "2024-02-23T16:43:53.379Z"
   },
   {
    "duration": 44,
    "start_time": "2024-02-23T16:43:53.388Z"
   },
   {
    "duration": 4,
    "start_time": "2024-02-23T16:43:53.433Z"
   },
   {
    "duration": 6,
    "start_time": "2024-02-23T16:43:53.438Z"
   },
   {
    "duration": 5,
    "start_time": "2024-02-23T16:43:53.445Z"
   },
   {
    "duration": 6,
    "start_time": "2024-02-23T16:43:53.451Z"
   },
   {
    "duration": 11,
    "start_time": "2024-02-23T16:43:53.458Z"
   },
   {
    "duration": 32,
    "start_time": "2024-02-23T16:43:53.470Z"
   },
   {
    "duration": 7,
    "start_time": "2024-02-23T16:43:53.503Z"
   },
   {
    "duration": 21,
    "start_time": "2024-02-23T16:43:53.511Z"
   },
   {
    "duration": 3,
    "start_time": "2024-02-23T16:43:53.533Z"
   },
   {
    "duration": 22,
    "start_time": "2024-02-23T16:43:53.537Z"
   },
   {
    "duration": 11,
    "start_time": "2024-02-23T16:43:53.560Z"
   },
   {
    "duration": 250,
    "start_time": "2024-02-23T16:43:53.572Z"
   },
   {
    "duration": 147,
    "start_time": "2024-02-23T16:43:53.823Z"
   },
   {
    "duration": 180,
    "start_time": "2024-02-23T16:43:53.972Z"
   },
   {
    "duration": 5,
    "start_time": "2024-02-23T16:43:54.155Z"
   },
   {
    "duration": 174,
    "start_time": "2024-02-23T16:43:54.161Z"
   },
   {
    "duration": 142,
    "start_time": "2024-02-23T16:43:54.336Z"
   },
   {
    "duration": 8,
    "start_time": "2024-02-23T16:43:54.480Z"
   },
   {
    "duration": 414,
    "start_time": "2024-02-23T16:43:54.489Z"
   },
   {
    "duration": 6,
    "start_time": "2024-02-23T16:43:54.904Z"
   },
   {
    "duration": 378,
    "start_time": "2024-02-23T16:43:54.911Z"
   },
   {
    "duration": 11,
    "start_time": "2024-02-23T16:43:55.291Z"
   },
   {
    "duration": 142,
    "start_time": "2024-02-23T16:43:55.304Z"
   },
   {
    "duration": 144,
    "start_time": "2024-02-23T16:43:55.447Z"
   },
   {
    "duration": 97,
    "start_time": "2024-02-23T16:43:55.592Z"
   },
   {
    "duration": 112,
    "start_time": "2024-02-23T16:43:55.690Z"
   },
   {
    "duration": 101,
    "start_time": "2024-02-23T16:43:55.804Z"
   },
   {
    "duration": 10,
    "start_time": "2024-02-23T16:43:55.906Z"
   },
   {
    "duration": 21,
    "start_time": "2024-02-23T16:43:55.917Z"
   },
   {
    "duration": 23,
    "start_time": "2024-02-23T16:43:55.939Z"
   },
   {
    "duration": 7,
    "start_time": "2024-02-23T16:43:55.963Z"
   },
   {
    "duration": 8,
    "start_time": "2024-02-23T16:43:55.971Z"
   },
   {
    "duration": 6,
    "start_time": "2024-02-23T16:43:55.980Z"
   },
   {
    "duration": 3,
    "start_time": "2024-02-23T16:43:55.988Z"
   },
   {
    "duration": 13,
    "start_time": "2024-02-23T16:43:55.992Z"
   },
   {
    "duration": 37,
    "start_time": "2024-02-23T16:43:56.006Z"
   },
   {
    "duration": 126,
    "start_time": "2024-02-23T16:43:56.044Z"
   },
   {
    "duration": 119,
    "start_time": "2024-02-23T16:43:56.171Z"
   },
   {
    "duration": 164,
    "start_time": "2024-02-23T16:43:56.291Z"
   },
   {
    "duration": 15,
    "start_time": "2024-02-23T16:43:56.456Z"
   },
   {
    "duration": 20,
    "start_time": "2024-02-23T16:43:56.472Z"
   },
   {
    "duration": 937,
    "start_time": "2024-02-23T16:47:36.752Z"
   },
   {
    "duration": 48,
    "start_time": "2024-02-23T16:47:37.691Z"
   },
   {
    "duration": 14,
    "start_time": "2024-02-23T16:47:37.740Z"
   },
   {
    "duration": 17,
    "start_time": "2024-02-23T16:47:37.756Z"
   },
   {
    "duration": 2,
    "start_time": "2024-02-23T16:47:37.775Z"
   },
   {
    "duration": 15,
    "start_time": "2024-02-23T16:47:37.778Z"
   },
   {
    "duration": 14,
    "start_time": "2024-02-23T16:47:37.795Z"
   },
   {
    "duration": 5,
    "start_time": "2024-02-23T16:47:37.810Z"
   },
   {
    "duration": 6,
    "start_time": "2024-02-23T16:47:37.816Z"
   },
   {
    "duration": 18,
    "start_time": "2024-02-23T16:47:37.824Z"
   },
   {
    "duration": 12,
    "start_time": "2024-02-23T16:47:37.843Z"
   },
   {
    "duration": 11,
    "start_time": "2024-02-23T16:47:37.856Z"
   },
   {
    "duration": 47,
    "start_time": "2024-02-23T16:47:37.868Z"
   },
   {
    "duration": 4,
    "start_time": "2024-02-23T16:47:37.916Z"
   },
   {
    "duration": 6,
    "start_time": "2024-02-23T16:47:37.921Z"
   },
   {
    "duration": 4,
    "start_time": "2024-02-23T16:47:37.928Z"
   },
   {
    "duration": 7,
    "start_time": "2024-02-23T16:47:37.934Z"
   },
   {
    "duration": 13,
    "start_time": "2024-02-23T16:47:37.942Z"
   },
   {
    "duration": 7,
    "start_time": "2024-02-23T16:47:37.956Z"
   },
   {
    "duration": 39,
    "start_time": "2024-02-23T16:47:37.965Z"
   },
   {
    "duration": 9,
    "start_time": "2024-02-23T16:47:38.005Z"
   },
   {
    "duration": 3,
    "start_time": "2024-02-23T16:47:38.016Z"
   },
   {
    "duration": 11,
    "start_time": "2024-02-23T16:47:38.020Z"
   },
   {
    "duration": 14,
    "start_time": "2024-02-23T16:47:38.032Z"
   },
   {
    "duration": 271,
    "start_time": "2024-02-23T16:47:38.047Z"
   },
   {
    "duration": 142,
    "start_time": "2024-02-23T16:47:38.319Z"
   },
   {
    "duration": 180,
    "start_time": "2024-02-23T16:47:38.462Z"
   },
   {
    "duration": 4,
    "start_time": "2024-02-23T16:47:38.645Z"
   },
   {
    "duration": 175,
    "start_time": "2024-02-23T16:47:38.650Z"
   },
   {
    "duration": 141,
    "start_time": "2024-02-23T16:47:38.827Z"
   },
   {
    "duration": 9,
    "start_time": "2024-02-23T16:47:38.970Z"
   },
   {
    "duration": 412,
    "start_time": "2024-02-23T16:47:38.980Z"
   },
   {
    "duration": 12,
    "start_time": "2024-02-23T16:47:39.393Z"
   },
   {
    "duration": 360,
    "start_time": "2024-02-23T16:47:39.406Z"
   },
   {
    "duration": 6,
    "start_time": "2024-02-23T16:47:39.767Z"
   },
   {
    "duration": 141,
    "start_time": "2024-02-23T16:47:39.774Z"
   },
   {
    "duration": 155,
    "start_time": "2024-02-23T16:47:39.917Z"
   },
   {
    "duration": 113,
    "start_time": "2024-02-23T16:47:40.073Z"
   },
   {
    "duration": 123,
    "start_time": "2024-02-23T16:47:40.188Z"
   },
   {
    "duration": 132,
    "start_time": "2024-02-23T16:47:40.313Z"
   },
   {
    "duration": 10,
    "start_time": "2024-02-23T16:47:40.446Z"
   },
   {
    "duration": 9,
    "start_time": "2024-02-23T16:47:40.457Z"
   },
   {
    "duration": 9,
    "start_time": "2024-02-23T16:47:40.467Z"
   },
   {
    "duration": 30,
    "start_time": "2024-02-23T16:47:40.478Z"
   },
   {
    "duration": 9,
    "start_time": "2024-02-23T16:47:40.510Z"
   },
   {
    "duration": 13,
    "start_time": "2024-02-23T16:47:40.521Z"
   },
   {
    "duration": 28,
    "start_time": "2024-02-23T16:47:40.535Z"
   },
   {
    "duration": 38,
    "start_time": "2024-02-23T16:47:40.564Z"
   },
   {
    "duration": 18,
    "start_time": "2024-02-23T16:47:40.603Z"
   },
   {
    "duration": 120,
    "start_time": "2024-02-23T16:47:40.622Z"
   },
   {
    "duration": 120,
    "start_time": "2024-02-23T16:47:40.744Z"
   },
   {
    "duration": 175,
    "start_time": "2024-02-23T16:47:40.865Z"
   },
   {
    "duration": 15,
    "start_time": "2024-02-23T16:47:41.041Z"
   },
   {
    "duration": 15,
    "start_time": "2024-02-23T16:47:41.057Z"
   },
   {
    "duration": 982,
    "start_time": "2024-02-23T16:49:09.329Z"
   },
   {
    "duration": 54,
    "start_time": "2024-02-23T16:49:10.313Z"
   },
   {
    "duration": 17,
    "start_time": "2024-02-23T16:49:10.369Z"
   },
   {
    "duration": 13,
    "start_time": "2024-02-23T16:49:10.388Z"
   },
   {
    "duration": 14,
    "start_time": "2024-02-23T16:49:10.402Z"
   },
   {
    "duration": 21,
    "start_time": "2024-02-23T16:49:10.417Z"
   },
   {
    "duration": 29,
    "start_time": "2024-02-23T16:49:10.439Z"
   },
   {
    "duration": 12,
    "start_time": "2024-02-23T16:49:10.469Z"
   },
   {
    "duration": 14,
    "start_time": "2024-02-23T16:49:10.482Z"
   },
   {
    "duration": 19,
    "start_time": "2024-02-23T16:49:10.499Z"
   },
   {
    "duration": 24,
    "start_time": "2024-02-23T16:49:10.519Z"
   },
   {
    "duration": 25,
    "start_time": "2024-02-23T16:49:10.545Z"
   },
   {
    "duration": 61,
    "start_time": "2024-02-23T16:49:10.572Z"
   },
   {
    "duration": 4,
    "start_time": "2024-02-23T16:49:10.635Z"
   },
   {
    "duration": 21,
    "start_time": "2024-02-23T16:49:10.640Z"
   },
   {
    "duration": 14,
    "start_time": "2024-02-23T16:49:10.663Z"
   },
   {
    "duration": 16,
    "start_time": "2024-02-23T16:49:10.679Z"
   },
   {
    "duration": 15,
    "start_time": "2024-02-23T16:49:10.697Z"
   },
   {
    "duration": 10,
    "start_time": "2024-02-23T16:49:10.714Z"
   },
   {
    "duration": 8,
    "start_time": "2024-02-23T16:49:10.725Z"
   },
   {
    "duration": 20,
    "start_time": "2024-02-23T16:49:10.734Z"
   },
   {
    "duration": 10,
    "start_time": "2024-02-23T16:49:10.755Z"
   },
   {
    "duration": 12,
    "start_time": "2024-02-23T16:49:10.767Z"
   },
   {
    "duration": 22,
    "start_time": "2024-02-23T16:49:10.780Z"
   },
   {
    "duration": 266,
    "start_time": "2024-02-23T16:49:10.803Z"
   },
   {
    "duration": 158,
    "start_time": "2024-02-23T16:49:11.071Z"
   },
   {
    "duration": 198,
    "start_time": "2024-02-23T16:49:11.230Z"
   },
   {
    "duration": 5,
    "start_time": "2024-02-23T16:49:11.431Z"
   },
   {
    "duration": 178,
    "start_time": "2024-02-23T16:49:11.437Z"
   },
   {
    "duration": 151,
    "start_time": "2024-02-23T16:49:11.617Z"
   },
   {
    "duration": 12,
    "start_time": "2024-02-23T16:49:11.770Z"
   },
   {
    "duration": 428,
    "start_time": "2024-02-23T16:49:11.784Z"
   },
   {
    "duration": 7,
    "start_time": "2024-02-23T16:49:12.213Z"
   },
   {
    "duration": 365,
    "start_time": "2024-02-23T16:49:12.221Z"
   },
   {
    "duration": 6,
    "start_time": "2024-02-23T16:49:12.587Z"
   },
   {
    "duration": 140,
    "start_time": "2024-02-23T16:49:12.594Z"
   },
   {
    "duration": 154,
    "start_time": "2024-02-23T16:49:12.735Z"
   },
   {
    "duration": 109,
    "start_time": "2024-02-23T16:49:12.890Z"
   },
   {
    "duration": 109,
    "start_time": "2024-02-23T16:49:13.001Z"
   },
   {
    "duration": 110,
    "start_time": "2024-02-23T16:49:13.111Z"
   },
   {
    "duration": 9,
    "start_time": "2024-02-23T16:49:13.223Z"
   },
   {
    "duration": 13,
    "start_time": "2024-02-23T16:49:13.233Z"
   },
   {
    "duration": 9,
    "start_time": "2024-02-23T16:49:13.247Z"
   },
   {
    "duration": 7,
    "start_time": "2024-02-23T16:49:13.257Z"
   },
   {
    "duration": 13,
    "start_time": "2024-02-23T16:49:13.265Z"
   },
   {
    "duration": 23,
    "start_time": "2024-02-23T16:49:13.279Z"
   },
   {
    "duration": 4,
    "start_time": "2024-02-23T16:49:13.303Z"
   },
   {
    "duration": 8,
    "start_time": "2024-02-23T16:49:13.308Z"
   },
   {
    "duration": 5,
    "start_time": "2024-02-23T16:49:13.317Z"
   },
   {
    "duration": 137,
    "start_time": "2024-02-23T16:49:13.323Z"
   },
   {
    "duration": 65,
    "start_time": "2024-02-23T16:49:13.462Z"
   },
   {
    "duration": 0,
    "start_time": "2024-02-23T16:49:13.529Z"
   },
   {
    "duration": 0,
    "start_time": "2024-02-23T16:49:13.529Z"
   },
   {
    "duration": 0,
    "start_time": "2024-02-23T16:49:13.530Z"
   },
   {
    "duration": 996,
    "start_time": "2024-02-23T16:49:26.235Z"
   },
   {
    "duration": 51,
    "start_time": "2024-02-23T16:49:27.232Z"
   },
   {
    "duration": 15,
    "start_time": "2024-02-23T16:49:27.284Z"
   },
   {
    "duration": 10,
    "start_time": "2024-02-23T16:49:27.301Z"
   },
   {
    "duration": 2,
    "start_time": "2024-02-23T16:49:27.313Z"
   },
   {
    "duration": 4,
    "start_time": "2024-02-23T16:49:27.317Z"
   },
   {
    "duration": 12,
    "start_time": "2024-02-23T16:49:27.322Z"
   },
   {
    "duration": 4,
    "start_time": "2024-02-23T16:49:27.335Z"
   },
   {
    "duration": 10,
    "start_time": "2024-02-23T16:49:27.341Z"
   },
   {
    "duration": 7,
    "start_time": "2024-02-23T16:49:27.353Z"
   },
   {
    "duration": 40,
    "start_time": "2024-02-23T16:49:27.361Z"
   },
   {
    "duration": 6,
    "start_time": "2024-02-23T16:49:27.403Z"
   },
   {
    "duration": 43,
    "start_time": "2024-02-23T16:49:27.411Z"
   },
   {
    "duration": 4,
    "start_time": "2024-02-23T16:49:27.455Z"
   },
   {
    "duration": 15,
    "start_time": "2024-02-23T16:49:27.460Z"
   },
   {
    "duration": 7,
    "start_time": "2024-02-23T16:49:27.477Z"
   },
   {
    "duration": 19,
    "start_time": "2024-02-23T16:49:27.485Z"
   },
   {
    "duration": 15,
    "start_time": "2024-02-23T16:49:27.505Z"
   },
   {
    "duration": 8,
    "start_time": "2024-02-23T16:49:27.521Z"
   },
   {
    "duration": 12,
    "start_time": "2024-02-23T16:49:27.530Z"
   },
   {
    "duration": 10,
    "start_time": "2024-02-23T16:49:27.543Z"
   },
   {
    "duration": 4,
    "start_time": "2024-02-23T16:49:27.554Z"
   },
   {
    "duration": 16,
    "start_time": "2024-02-23T16:49:27.559Z"
   },
   {
    "duration": 11,
    "start_time": "2024-02-23T16:49:27.577Z"
   },
   {
    "duration": 263,
    "start_time": "2024-02-23T16:49:27.589Z"
   },
   {
    "duration": 132,
    "start_time": "2024-02-23T16:49:27.853Z"
   },
   {
    "duration": 184,
    "start_time": "2024-02-23T16:49:27.986Z"
   },
   {
    "duration": 5,
    "start_time": "2024-02-23T16:49:28.172Z"
   },
   {
    "duration": 193,
    "start_time": "2024-02-23T16:49:28.178Z"
   },
   {
    "duration": 145,
    "start_time": "2024-02-23T16:49:28.373Z"
   },
   {
    "duration": 9,
    "start_time": "2024-02-23T16:49:28.519Z"
   },
   {
    "duration": 405,
    "start_time": "2024-02-23T16:49:28.529Z"
   },
   {
    "duration": 7,
    "start_time": "2024-02-23T16:49:28.935Z"
   },
   {
    "duration": 364,
    "start_time": "2024-02-23T16:49:28.943Z"
   },
   {
    "duration": 6,
    "start_time": "2024-02-23T16:49:29.309Z"
   },
   {
    "duration": 144,
    "start_time": "2024-02-23T16:49:29.316Z"
   },
   {
    "duration": 167,
    "start_time": "2024-02-23T16:49:29.461Z"
   },
   {
    "duration": 103,
    "start_time": "2024-02-23T16:49:29.629Z"
   },
   {
    "duration": 110,
    "start_time": "2024-02-23T16:49:29.733Z"
   },
   {
    "duration": 102,
    "start_time": "2024-02-23T16:49:29.844Z"
   },
   {
    "duration": 10,
    "start_time": "2024-02-23T16:49:29.947Z"
   },
   {
    "duration": 9,
    "start_time": "2024-02-23T16:49:29.958Z"
   },
   {
    "duration": 9,
    "start_time": "2024-02-23T16:49:29.968Z"
   },
   {
    "duration": 28,
    "start_time": "2024-02-23T16:49:29.978Z"
   },
   {
    "duration": 7,
    "start_time": "2024-02-23T16:49:30.007Z"
   },
   {
    "duration": 41,
    "start_time": "2024-02-23T16:49:30.016Z"
   },
   {
    "duration": 54,
    "start_time": "2024-02-23T16:49:30.058Z"
   },
   {
    "duration": 50,
    "start_time": "2024-02-23T16:49:30.113Z"
   },
   {
    "duration": 61,
    "start_time": "2024-02-23T16:49:30.164Z"
   },
   {
    "duration": 189,
    "start_time": "2024-02-23T16:49:30.226Z"
   },
   {
    "duration": 117,
    "start_time": "2024-02-23T16:49:30.417Z"
   },
   {
    "duration": 192,
    "start_time": "2024-02-23T16:49:30.535Z"
   },
   {
    "duration": 16,
    "start_time": "2024-02-23T16:49:30.728Z"
   },
   {
    "duration": 69,
    "start_time": "2024-02-23T16:49:30.746Z"
   },
   {
    "duration": 1319,
    "start_time": "2024-02-23T20:18:57.191Z"
   },
   {
    "duration": 97,
    "start_time": "2024-02-23T20:18:58.512Z"
   },
   {
    "duration": 18,
    "start_time": "2024-02-23T20:18:58.611Z"
   },
   {
    "duration": 14,
    "start_time": "2024-02-23T20:18:58.630Z"
   },
   {
    "duration": 3,
    "start_time": "2024-02-23T20:18:58.645Z"
   },
   {
    "duration": 5,
    "start_time": "2024-02-23T20:18:58.650Z"
   },
   {
    "duration": 14,
    "start_time": "2024-02-23T20:18:58.656Z"
   },
   {
    "duration": 8,
    "start_time": "2024-02-23T20:18:58.672Z"
   },
   {
    "duration": 7,
    "start_time": "2024-02-23T20:18:58.681Z"
   },
   {
    "duration": 7,
    "start_time": "2024-02-23T20:18:58.717Z"
   },
   {
    "duration": 15,
    "start_time": "2024-02-23T20:18:58.726Z"
   },
   {
    "duration": 9,
    "start_time": "2024-02-23T20:18:58.742Z"
   },
   {
    "duration": 67,
    "start_time": "2024-02-23T20:18:58.753Z"
   },
   {
    "duration": 4,
    "start_time": "2024-02-23T20:18:58.822Z"
   },
   {
    "duration": 8,
    "start_time": "2024-02-23T20:18:58.828Z"
   },
   {
    "duration": 7,
    "start_time": "2024-02-23T20:18:58.837Z"
   },
   {
    "duration": 8,
    "start_time": "2024-02-23T20:18:58.845Z"
   },
   {
    "duration": 14,
    "start_time": "2024-02-23T20:18:58.854Z"
   },
   {
    "duration": 9,
    "start_time": "2024-02-23T20:18:58.869Z"
   },
   {
    "duration": 40,
    "start_time": "2024-02-23T20:18:58.879Z"
   },
   {
    "duration": 10,
    "start_time": "2024-02-23T20:18:58.920Z"
   },
   {
    "duration": 4,
    "start_time": "2024-02-23T20:18:58.932Z"
   },
   {
    "duration": 22,
    "start_time": "2024-02-23T20:18:58.937Z"
   },
   {
    "duration": 18,
    "start_time": "2024-02-23T20:18:58.960Z"
   },
   {
    "duration": 310,
    "start_time": "2024-02-23T20:18:58.980Z"
   },
   {
    "duration": 154,
    "start_time": "2024-02-23T20:18:59.291Z"
   },
   {
    "duration": 210,
    "start_time": "2024-02-23T20:18:59.446Z"
   },
   {
    "duration": 6,
    "start_time": "2024-02-23T20:18:59.661Z"
   },
   {
    "duration": 268,
    "start_time": "2024-02-23T20:18:59.669Z"
   },
   {
    "duration": 167,
    "start_time": "2024-02-23T20:18:59.939Z"
   },
   {
    "duration": 16,
    "start_time": "2024-02-23T20:19:00.108Z"
   },
   {
    "duration": 485,
    "start_time": "2024-02-23T20:19:00.126Z"
   },
   {
    "duration": 10,
    "start_time": "2024-02-23T20:19:00.613Z"
   },
   {
    "duration": 432,
    "start_time": "2024-02-23T20:19:00.625Z"
   },
   {
    "duration": 9,
    "start_time": "2024-02-23T20:19:01.059Z"
   },
   {
    "duration": 197,
    "start_time": "2024-02-23T20:19:01.070Z"
   },
   {
    "duration": 189,
    "start_time": "2024-02-23T20:19:01.268Z"
   },
   {
    "duration": 121,
    "start_time": "2024-02-23T20:19:01.458Z"
   },
   {
    "duration": 150,
    "start_time": "2024-02-23T20:19:01.580Z"
   },
   {
    "duration": 116,
    "start_time": "2024-02-23T20:19:01.732Z"
   },
   {
    "duration": 11,
    "start_time": "2024-02-23T20:19:01.849Z"
   },
   {
    "duration": 88,
    "start_time": "2024-02-23T20:19:01.862Z"
   },
   {
    "duration": 89,
    "start_time": "2024-02-23T20:19:01.951Z"
   },
   {
    "duration": 64,
    "start_time": "2024-02-23T20:19:02.042Z"
   },
   {
    "duration": 37,
    "start_time": "2024-02-23T20:19:02.108Z"
   },
   {
    "duration": 80,
    "start_time": "2024-02-23T20:19:02.147Z"
   },
   {
    "duration": 46,
    "start_time": "2024-02-23T20:19:02.228Z"
   },
   {
    "duration": 22,
    "start_time": "2024-02-23T20:19:02.276Z"
   },
   {
    "duration": 6,
    "start_time": "2024-02-23T20:19:02.299Z"
   },
   {
    "duration": 146,
    "start_time": "2024-02-23T20:19:02.306Z"
   },
   {
    "duration": 151,
    "start_time": "2024-02-23T20:19:02.453Z"
   },
   {
    "duration": 219,
    "start_time": "2024-02-23T20:19:02.606Z"
   },
   {
    "duration": 20,
    "start_time": "2024-02-23T20:19:02.827Z"
   },
   {
    "duration": 19,
    "start_time": "2024-02-23T20:19:02.849Z"
   },
   {
    "duration": 48,
    "start_time": "2024-02-23T20:53:03.109Z"
   },
   {
    "duration": 1279,
    "start_time": "2024-02-23T20:53:11.287Z"
   },
   {
    "duration": 93,
    "start_time": "2024-02-23T20:53:12.568Z"
   },
   {
    "duration": 18,
    "start_time": "2024-02-23T20:53:12.663Z"
   },
   {
    "duration": 13,
    "start_time": "2024-02-23T20:53:12.682Z"
   },
   {
    "duration": 3,
    "start_time": "2024-02-23T20:53:12.697Z"
   },
   {
    "duration": 4,
    "start_time": "2024-02-23T20:53:12.702Z"
   },
   {
    "duration": 17,
    "start_time": "2024-02-23T20:53:12.707Z"
   },
   {
    "duration": 4,
    "start_time": "2024-02-23T20:53:12.726Z"
   },
   {
    "duration": 5,
    "start_time": "2024-02-23T20:53:12.731Z"
   },
   {
    "duration": 8,
    "start_time": "2024-02-23T20:53:12.737Z"
   },
   {
    "duration": 15,
    "start_time": "2024-02-23T20:53:12.746Z"
   },
   {
    "duration": 8,
    "start_time": "2024-02-23T20:53:12.762Z"
   },
   {
    "duration": 84,
    "start_time": "2024-02-23T20:53:12.771Z"
   },
   {
    "duration": 4,
    "start_time": "2024-02-23T20:53:12.857Z"
   },
   {
    "duration": 6,
    "start_time": "2024-02-23T20:53:12.863Z"
   },
   {
    "duration": 9,
    "start_time": "2024-02-23T20:53:12.870Z"
   },
   {
    "duration": 7,
    "start_time": "2024-02-23T20:53:12.881Z"
   },
   {
    "duration": 13,
    "start_time": "2024-02-23T20:53:12.890Z"
   },
   {
    "duration": 19,
    "start_time": "2024-02-23T20:53:12.904Z"
   },
   {
    "duration": 10,
    "start_time": "2024-02-23T20:53:12.924Z"
   },
   {
    "duration": 9,
    "start_time": "2024-02-23T20:53:12.935Z"
   },
   {
    "duration": 3,
    "start_time": "2024-02-23T20:53:12.946Z"
   },
   {
    "duration": 12,
    "start_time": "2024-02-23T20:53:12.951Z"
   },
   {
    "duration": 25,
    "start_time": "2024-02-23T20:53:12.965Z"
   },
   {
    "duration": 437,
    "start_time": "2024-02-23T20:53:12.992Z"
   },
   {
    "duration": 219,
    "start_time": "2024-02-23T20:53:13.430Z"
   },
   {
    "duration": 201,
    "start_time": "2024-02-23T20:53:13.651Z"
   },
   {
    "duration": 5,
    "start_time": "2024-02-23T20:53:13.853Z"
   },
   {
    "duration": 251,
    "start_time": "2024-02-23T20:53:13.860Z"
   },
   {
    "duration": 156,
    "start_time": "2024-02-23T20:53:14.112Z"
   },
   {
    "duration": 10,
    "start_time": "2024-02-23T20:53:14.270Z"
   },
   {
    "duration": 475,
    "start_time": "2024-02-23T20:53:14.281Z"
   },
   {
    "duration": 7,
    "start_time": "2024-02-23T20:53:14.758Z"
   },
   {
    "duration": 419,
    "start_time": "2024-02-23T20:53:14.767Z"
   },
   {
    "duration": 8,
    "start_time": "2024-02-23T20:53:15.188Z"
   },
   {
    "duration": 174,
    "start_time": "2024-02-23T20:53:15.197Z"
   },
   {
    "duration": 181,
    "start_time": "2024-02-23T20:53:15.372Z"
   },
   {
    "duration": 123,
    "start_time": "2024-02-23T20:53:15.554Z"
   },
   {
    "duration": 138,
    "start_time": "2024-02-23T20:53:15.679Z"
   },
   {
    "duration": 118,
    "start_time": "2024-02-23T20:53:15.819Z"
   },
   {
    "duration": 11,
    "start_time": "2024-02-23T20:53:15.941Z"
   },
   {
    "duration": 11,
    "start_time": "2024-02-23T20:53:15.953Z"
   },
   {
    "duration": 10,
    "start_time": "2024-02-23T20:53:15.966Z"
   },
   {
    "duration": 45,
    "start_time": "2024-02-23T20:53:15.977Z"
   },
   {
    "duration": 9,
    "start_time": "2024-02-23T20:53:16.023Z"
   },
   {
    "duration": 10,
    "start_time": "2024-02-23T20:53:16.033Z"
   },
   {
    "duration": 5,
    "start_time": "2024-02-23T20:53:16.045Z"
   },
   {
    "duration": 9,
    "start_time": "2024-02-23T20:53:16.052Z"
   },
   {
    "duration": 8,
    "start_time": "2024-02-23T20:53:16.063Z"
   },
   {
    "duration": 185,
    "start_time": "2024-02-23T20:53:16.073Z"
   },
   {
    "duration": 148,
    "start_time": "2024-02-23T20:53:16.260Z"
   },
   {
    "duration": 207,
    "start_time": "2024-02-23T20:53:16.417Z"
   },
   {
    "duration": 19,
    "start_time": "2024-02-23T20:53:16.626Z"
   },
   {
    "duration": 18,
    "start_time": "2024-02-23T20:53:16.646Z"
   },
   {
    "duration": 354,
    "start_time": "2024-02-23T21:00:53.565Z"
   },
   {
    "duration": 253,
    "start_time": "2024-02-23T21:01:03.436Z"
   },
   {
    "duration": 232,
    "start_time": "2024-02-23T21:02:43.095Z"
   },
   {
    "duration": 226,
    "start_time": "2024-02-23T21:04:13.868Z"
   },
   {
    "duration": 214,
    "start_time": "2024-02-23T21:06:02.536Z"
   },
   {
    "duration": 1061,
    "start_time": "2024-02-23T21:13:04.066Z"
   },
   {
    "duration": 53,
    "start_time": "2024-02-23T21:13:05.129Z"
   },
   {
    "duration": 17,
    "start_time": "2024-02-23T21:13:05.184Z"
   },
   {
    "duration": 13,
    "start_time": "2024-02-23T21:13:05.203Z"
   },
   {
    "duration": 3,
    "start_time": "2024-02-23T21:13:05.218Z"
   },
   {
    "duration": 17,
    "start_time": "2024-02-23T21:13:05.223Z"
   },
   {
    "duration": 16,
    "start_time": "2024-02-23T21:13:05.242Z"
   },
   {
    "duration": 18,
    "start_time": "2024-02-23T21:13:05.259Z"
   },
   {
    "duration": 4,
    "start_time": "2024-02-23T21:13:05.279Z"
   },
   {
    "duration": 6,
    "start_time": "2024-02-23T21:13:05.286Z"
   },
   {
    "duration": 28,
    "start_time": "2024-02-23T21:13:05.294Z"
   },
   {
    "duration": 9,
    "start_time": "2024-02-23T21:13:05.323Z"
   },
   {
    "duration": 50,
    "start_time": "2024-02-23T21:13:05.333Z"
   },
   {
    "duration": 5,
    "start_time": "2024-02-23T21:13:05.384Z"
   },
   {
    "duration": 30,
    "start_time": "2024-02-23T21:13:05.390Z"
   },
   {
    "duration": 5,
    "start_time": "2024-02-23T21:13:05.422Z"
   },
   {
    "duration": 7,
    "start_time": "2024-02-23T21:13:05.429Z"
   },
   {
    "duration": 13,
    "start_time": "2024-02-23T21:13:05.438Z"
   },
   {
    "duration": 9,
    "start_time": "2024-02-23T21:13:05.452Z"
   },
   {
    "duration": 8,
    "start_time": "2024-02-23T21:13:05.462Z"
   },
   {
    "duration": 50,
    "start_time": "2024-02-23T21:13:05.472Z"
   },
   {
    "duration": 4,
    "start_time": "2024-02-23T21:13:05.524Z"
   },
   {
    "duration": 17,
    "start_time": "2024-02-23T21:13:05.530Z"
   },
   {
    "duration": 16,
    "start_time": "2024-02-23T21:13:05.548Z"
   },
   {
    "duration": 318,
    "start_time": "2024-02-23T21:13:05.565Z"
   },
   {
    "duration": 181,
    "start_time": "2024-02-23T21:13:05.884Z"
   },
   {
    "duration": 246,
    "start_time": "2024-02-23T21:13:06.067Z"
   },
   {
    "duration": 278,
    "start_time": "2024-02-23T21:13:06.317Z"
   },
   {
    "duration": 232,
    "start_time": "2024-02-23T21:13:06.596Z"
   },
   {
    "duration": 9,
    "start_time": "2024-02-23T21:13:06.829Z"
   },
   {
    "duration": 470,
    "start_time": "2024-02-23T21:13:06.839Z"
   },
   {
    "duration": 12,
    "start_time": "2024-02-23T21:13:07.310Z"
   },
   {
    "duration": 435,
    "start_time": "2024-02-23T21:13:07.324Z"
   },
   {
    "duration": 8,
    "start_time": "2024-02-23T21:13:07.760Z"
   },
   {
    "duration": 164,
    "start_time": "2024-02-23T21:13:07.769Z"
   },
   {
    "duration": 177,
    "start_time": "2024-02-23T21:13:07.935Z"
   },
   {
    "duration": 117,
    "start_time": "2024-02-23T21:13:08.117Z"
   },
   {
    "duration": 125,
    "start_time": "2024-02-23T21:13:08.236Z"
   },
   {
    "duration": 120,
    "start_time": "2024-02-23T21:13:08.362Z"
   },
   {
    "duration": 14,
    "start_time": "2024-02-23T21:13:08.484Z"
   },
   {
    "duration": 22,
    "start_time": "2024-02-23T21:13:08.500Z"
   },
   {
    "duration": 13,
    "start_time": "2024-02-23T21:13:08.524Z"
   },
   {
    "duration": 11,
    "start_time": "2024-02-23T21:13:08.539Z"
   },
   {
    "duration": 11,
    "start_time": "2024-02-23T21:13:08.552Z"
   },
   {
    "duration": 10,
    "start_time": "2024-02-23T21:13:08.565Z"
   },
   {
    "duration": 43,
    "start_time": "2024-02-23T21:13:08.576Z"
   },
   {
    "duration": 12,
    "start_time": "2024-02-23T21:13:08.621Z"
   },
   {
    "duration": 6,
    "start_time": "2024-02-23T21:13:08.635Z"
   },
   {
    "duration": 260,
    "start_time": "2024-02-23T21:13:08.643Z"
   },
   {
    "duration": 149,
    "start_time": "2024-02-23T21:13:08.905Z"
   },
   {
    "duration": 153,
    "start_time": "2024-02-23T21:13:09.055Z"
   },
   {
    "duration": 24,
    "start_time": "2024-02-23T21:13:09.209Z"
   },
   {
    "duration": 19,
    "start_time": "2024-02-23T21:13:09.235Z"
   },
   {
    "duration": 168,
    "start_time": "2024-02-23T21:14:22.779Z"
   },
   {
    "duration": 161,
    "start_time": "2024-02-23T21:15:46.532Z"
   },
   {
    "duration": 1096,
    "start_time": "2024-02-23T21:18:13.291Z"
   },
   {
    "duration": 53,
    "start_time": "2024-02-23T21:18:14.388Z"
   },
   {
    "duration": 19,
    "start_time": "2024-02-23T21:18:14.443Z"
   },
   {
    "duration": 14,
    "start_time": "2024-02-23T21:18:14.464Z"
   },
   {
    "duration": 3,
    "start_time": "2024-02-23T21:18:14.479Z"
   },
   {
    "duration": 7,
    "start_time": "2024-02-23T21:18:14.483Z"
   },
   {
    "duration": 36,
    "start_time": "2024-02-23T21:18:14.491Z"
   },
   {
    "duration": 4,
    "start_time": "2024-02-23T21:18:14.528Z"
   },
   {
    "duration": 5,
    "start_time": "2024-02-23T21:18:14.534Z"
   },
   {
    "duration": 6,
    "start_time": "2024-02-23T21:18:14.541Z"
   },
   {
    "duration": 13,
    "start_time": "2024-02-23T21:18:14.549Z"
   },
   {
    "duration": 9,
    "start_time": "2024-02-23T21:18:14.564Z"
   },
   {
    "duration": 86,
    "start_time": "2024-02-23T21:18:14.574Z"
   },
   {
    "duration": 5,
    "start_time": "2024-02-23T21:18:14.661Z"
   },
   {
    "duration": 7,
    "start_time": "2024-02-23T21:18:14.667Z"
   },
   {
    "duration": 5,
    "start_time": "2024-02-23T21:18:14.675Z"
   },
   {
    "duration": 8,
    "start_time": "2024-02-23T21:18:14.681Z"
   },
   {
    "duration": 38,
    "start_time": "2024-02-23T21:18:14.690Z"
   },
   {
    "duration": 8,
    "start_time": "2024-02-23T21:18:14.730Z"
   },
   {
    "duration": 10,
    "start_time": "2024-02-23T21:18:14.740Z"
   },
   {
    "duration": 11,
    "start_time": "2024-02-23T21:18:14.751Z"
   },
   {
    "duration": 4,
    "start_time": "2024-02-23T21:18:14.763Z"
   },
   {
    "duration": 14,
    "start_time": "2024-02-23T21:18:14.768Z"
   },
   {
    "duration": 40,
    "start_time": "2024-02-23T21:18:14.784Z"
   },
   {
    "duration": 314,
    "start_time": "2024-02-23T21:18:14.826Z"
   },
   {
    "duration": 164,
    "start_time": "2024-02-23T21:18:15.142Z"
   },
   {
    "duration": 211,
    "start_time": "2024-02-23T21:18:15.308Z"
   },
   {
    "duration": 277,
    "start_time": "2024-02-23T21:18:15.522Z"
   },
   {
    "duration": 222,
    "start_time": "2024-02-23T21:18:15.800Z"
   },
   {
    "duration": 8,
    "start_time": "2024-02-23T21:18:16.024Z"
   },
   {
    "duration": 500,
    "start_time": "2024-02-23T21:18:16.034Z"
   },
   {
    "duration": 8,
    "start_time": "2024-02-23T21:18:16.536Z"
   },
   {
    "duration": 409,
    "start_time": "2024-02-23T21:18:16.545Z"
   },
   {
    "duration": 7,
    "start_time": "2024-02-23T21:18:16.956Z"
   },
   {
    "duration": 167,
    "start_time": "2024-02-23T21:18:16.965Z"
   },
   {
    "duration": 158,
    "start_time": "2024-02-23T21:18:17.134Z"
   },
   {
    "duration": 119,
    "start_time": "2024-02-23T21:18:17.293Z"
   },
   {
    "duration": 131,
    "start_time": "2024-02-23T21:18:17.417Z"
   },
   {
    "duration": 143,
    "start_time": "2024-02-23T21:18:17.549Z"
   },
   {
    "duration": 9,
    "start_time": "2024-02-23T21:18:17.694Z"
   },
   {
    "duration": 17,
    "start_time": "2024-02-23T21:18:17.705Z"
   },
   {
    "duration": 9,
    "start_time": "2024-02-23T21:18:17.724Z"
   },
   {
    "duration": 11,
    "start_time": "2024-02-23T21:18:17.734Z"
   },
   {
    "duration": 11,
    "start_time": "2024-02-23T21:18:17.747Z"
   },
   {
    "duration": 12,
    "start_time": "2024-02-23T21:18:17.760Z"
   },
   {
    "duration": 6,
    "start_time": "2024-02-23T21:18:17.773Z"
   },
   {
    "duration": 46,
    "start_time": "2024-02-23T21:18:17.781Z"
   },
   {
    "duration": 6,
    "start_time": "2024-02-23T21:18:17.829Z"
   },
   {
    "duration": 159,
    "start_time": "2024-02-23T21:18:17.837Z"
   },
   {
    "duration": 209,
    "start_time": "2024-02-23T21:18:17.998Z"
   },
   {
    "duration": 147,
    "start_time": "2024-02-23T21:18:18.208Z"
   },
   {
    "duration": 20,
    "start_time": "2024-02-23T21:18:18.357Z"
   },
   {
    "duration": 20,
    "start_time": "2024-02-23T21:18:18.379Z"
   },
   {
    "duration": 1073,
    "start_time": "2024-02-23T21:26:42.209Z"
   },
   {
    "duration": 54,
    "start_time": "2024-02-23T21:26:43.284Z"
   },
   {
    "duration": 18,
    "start_time": "2024-02-23T21:26:43.340Z"
   },
   {
    "duration": 24,
    "start_time": "2024-02-23T21:26:43.360Z"
   },
   {
    "duration": 3,
    "start_time": "2024-02-23T21:26:43.386Z"
   },
   {
    "duration": 27,
    "start_time": "2024-02-23T21:26:43.390Z"
   },
   {
    "duration": 18,
    "start_time": "2024-02-23T21:26:43.418Z"
   },
   {
    "duration": 30,
    "start_time": "2024-02-23T21:26:43.438Z"
   },
   {
    "duration": 35,
    "start_time": "2024-02-23T21:26:43.469Z"
   },
   {
    "duration": 17,
    "start_time": "2024-02-23T21:26:43.505Z"
   },
   {
    "duration": 49,
    "start_time": "2024-02-23T21:26:43.523Z"
   },
   {
    "duration": 42,
    "start_time": "2024-02-23T21:26:43.573Z"
   },
   {
    "duration": 67,
    "start_time": "2024-02-23T21:26:43.617Z"
   },
   {
    "duration": 5,
    "start_time": "2024-02-23T21:26:43.687Z"
   },
   {
    "duration": 22,
    "start_time": "2024-02-23T21:26:43.693Z"
   },
   {
    "duration": 23,
    "start_time": "2024-02-23T21:26:43.716Z"
   },
   {
    "duration": 22,
    "start_time": "2024-02-23T21:26:43.740Z"
   },
   {
    "duration": 21,
    "start_time": "2024-02-23T21:26:43.764Z"
   },
   {
    "duration": 22,
    "start_time": "2024-02-23T21:26:43.787Z"
   },
   {
    "duration": 23,
    "start_time": "2024-02-23T21:26:43.811Z"
   },
   {
    "duration": 26,
    "start_time": "2024-02-23T21:26:43.835Z"
   },
   {
    "duration": 30,
    "start_time": "2024-02-23T21:26:43.862Z"
   },
   {
    "duration": 40,
    "start_time": "2024-02-23T21:26:43.894Z"
   },
   {
    "duration": 41,
    "start_time": "2024-02-23T21:26:43.936Z"
   },
   {
    "duration": 314,
    "start_time": "2024-02-23T21:26:43.979Z"
   },
   {
    "duration": 172,
    "start_time": "2024-02-23T21:26:44.295Z"
   },
   {
    "duration": 219,
    "start_time": "2024-02-23T21:26:44.469Z"
   },
   {
    "duration": 269,
    "start_time": "2024-02-23T21:26:44.690Z"
   },
   {
    "duration": 224,
    "start_time": "2024-02-23T21:26:44.960Z"
   },
   {
    "duration": 10,
    "start_time": "2024-02-23T21:26:45.185Z"
   },
   {
    "duration": 501,
    "start_time": "2024-02-23T21:26:45.196Z"
   },
   {
    "duration": 8,
    "start_time": "2024-02-23T21:26:45.699Z"
   },
   {
    "duration": 434,
    "start_time": "2024-02-23T21:26:45.719Z"
   },
   {
    "duration": 7,
    "start_time": "2024-02-23T21:26:46.155Z"
   },
   {
    "duration": 187,
    "start_time": "2024-02-23T21:26:46.164Z"
   },
   {
    "duration": 171,
    "start_time": "2024-02-23T21:26:46.353Z"
   },
   {
    "duration": 128,
    "start_time": "2024-02-23T21:26:46.526Z"
   },
   {
    "duration": 128,
    "start_time": "2024-02-23T21:26:46.655Z"
   },
   {
    "duration": 135,
    "start_time": "2024-02-23T21:26:46.784Z"
   },
   {
    "duration": 7,
    "start_time": "2024-02-23T21:26:46.921Z"
   },
   {
    "duration": 24,
    "start_time": "2024-02-23T21:26:46.931Z"
   },
   {
    "duration": 23,
    "start_time": "2024-02-23T21:26:46.957Z"
   },
   {
    "duration": 35,
    "start_time": "2024-02-23T21:26:46.982Z"
   },
   {
    "duration": 33,
    "start_time": "2024-02-23T21:26:47.019Z"
   },
   {
    "duration": 27,
    "start_time": "2024-02-23T21:26:47.054Z"
   },
   {
    "duration": 29,
    "start_time": "2024-02-23T21:26:47.082Z"
   },
   {
    "duration": 34,
    "start_time": "2024-02-23T21:26:47.113Z"
   },
   {
    "duration": 56,
    "start_time": "2024-02-23T21:26:47.149Z"
   },
   {
    "duration": 156,
    "start_time": "2024-02-23T21:26:47.206Z"
   },
   {
    "duration": 210,
    "start_time": "2024-02-23T21:26:47.364Z"
   },
   {
    "duration": 158,
    "start_time": "2024-02-23T21:26:47.576Z"
   },
   {
    "duration": 20,
    "start_time": "2024-02-23T21:26:47.735Z"
   },
   {
    "duration": 22,
    "start_time": "2024-02-23T21:26:47.756Z"
   },
   {
    "duration": 1073,
    "start_time": "2024-02-23T21:28:50.002Z"
   },
   {
    "duration": 55,
    "start_time": "2024-02-23T21:28:51.077Z"
   },
   {
    "duration": 18,
    "start_time": "2024-02-23T21:28:51.133Z"
   },
   {
    "duration": 14,
    "start_time": "2024-02-23T21:28:51.153Z"
   },
   {
    "duration": 3,
    "start_time": "2024-02-23T21:28:51.169Z"
   },
   {
    "duration": 5,
    "start_time": "2024-02-23T21:28:51.173Z"
   },
   {
    "duration": 40,
    "start_time": "2024-02-23T21:28:51.179Z"
   },
   {
    "duration": 4,
    "start_time": "2024-02-23T21:28:51.221Z"
   },
   {
    "duration": 5,
    "start_time": "2024-02-23T21:28:51.226Z"
   },
   {
    "duration": 6,
    "start_time": "2024-02-23T21:28:51.233Z"
   },
   {
    "duration": 12,
    "start_time": "2024-02-23T21:28:51.240Z"
   },
   {
    "duration": 8,
    "start_time": "2024-02-23T21:28:51.254Z"
   },
   {
    "duration": 81,
    "start_time": "2024-02-23T21:28:51.263Z"
   },
   {
    "duration": 4,
    "start_time": "2024-02-23T21:28:51.346Z"
   },
   {
    "duration": 9,
    "start_time": "2024-02-23T21:28:51.351Z"
   },
   {
    "duration": 6,
    "start_time": "2024-02-23T21:28:51.361Z"
   },
   {
    "duration": 9,
    "start_time": "2024-02-23T21:28:51.368Z"
   },
   {
    "duration": 16,
    "start_time": "2024-02-23T21:28:51.378Z"
   },
   {
    "duration": 10,
    "start_time": "2024-02-23T21:28:51.417Z"
   },
   {
    "duration": 9,
    "start_time": "2024-02-23T21:28:51.428Z"
   },
   {
    "duration": 10,
    "start_time": "2024-02-23T21:28:51.439Z"
   },
   {
    "duration": 4,
    "start_time": "2024-02-23T21:28:51.450Z"
   },
   {
    "duration": 14,
    "start_time": "2024-02-23T21:28:51.455Z"
   },
   {
    "duration": 14,
    "start_time": "2024-02-23T21:28:51.471Z"
   },
   {
    "duration": 350,
    "start_time": "2024-02-23T21:28:51.487Z"
   },
   {
    "duration": 169,
    "start_time": "2024-02-23T21:28:51.839Z"
   },
   {
    "duration": 212,
    "start_time": "2024-02-23T21:28:52.010Z"
   },
   {
    "duration": 269,
    "start_time": "2024-02-23T21:28:52.226Z"
   },
   {
    "duration": 216,
    "start_time": "2024-02-23T21:28:52.497Z"
   },
   {
    "duration": 8,
    "start_time": "2024-02-23T21:28:52.718Z"
   },
   {
    "duration": 460,
    "start_time": "2024-02-23T21:28:52.728Z"
   },
   {
    "duration": 9,
    "start_time": "2024-02-23T21:28:53.190Z"
   },
   {
    "duration": 435,
    "start_time": "2024-02-23T21:28:53.201Z"
   },
   {
    "duration": 9,
    "start_time": "2024-02-23T21:28:53.638Z"
   },
   {
    "duration": 192,
    "start_time": "2024-02-23T21:28:53.649Z"
   },
   {
    "duration": 165,
    "start_time": "2024-02-23T21:28:53.843Z"
   },
   {
    "duration": 117,
    "start_time": "2024-02-23T21:28:54.010Z"
   },
   {
    "duration": 123,
    "start_time": "2024-02-23T21:28:54.129Z"
   },
   {
    "duration": 134,
    "start_time": "2024-02-23T21:28:54.254Z"
   },
   {
    "duration": 7,
    "start_time": "2024-02-23T21:28:54.390Z"
   },
   {
    "duration": 19,
    "start_time": "2024-02-23T21:28:54.399Z"
   },
   {
    "duration": 6,
    "start_time": "2024-02-23T21:28:54.420Z"
   },
   {
    "duration": 6,
    "start_time": "2024-02-23T21:28:54.427Z"
   },
   {
    "duration": 5,
    "start_time": "2024-02-23T21:28:54.434Z"
   },
   {
    "duration": 6,
    "start_time": "2024-02-23T21:28:54.441Z"
   },
   {
    "duration": 4,
    "start_time": "2024-02-23T21:28:54.448Z"
   },
   {
    "duration": 10,
    "start_time": "2024-02-23T21:28:54.453Z"
   },
   {
    "duration": 5,
    "start_time": "2024-02-23T21:28:54.464Z"
   },
   {
    "duration": 226,
    "start_time": "2024-02-23T21:28:54.470Z"
   },
   {
    "duration": 128,
    "start_time": "2024-02-23T21:28:54.698Z"
   },
   {
    "duration": 125,
    "start_time": "2024-02-23T21:28:54.828Z"
   },
   {
    "duration": 26,
    "start_time": "2024-02-23T21:28:54.954Z"
   },
   {
    "duration": 36,
    "start_time": "2024-02-23T21:28:54.982Z"
   },
   {
    "duration": 1027,
    "start_time": "2024-02-23T21:31:05.344Z"
   },
   {
    "duration": 55,
    "start_time": "2024-02-23T21:31:06.373Z"
   },
   {
    "duration": 18,
    "start_time": "2024-02-23T21:31:06.429Z"
   },
   {
    "duration": 16,
    "start_time": "2024-02-23T21:31:06.448Z"
   },
   {
    "duration": 3,
    "start_time": "2024-02-23T21:31:06.467Z"
   },
   {
    "duration": 9,
    "start_time": "2024-02-23T21:31:06.471Z"
   },
   {
    "duration": 17,
    "start_time": "2024-02-23T21:31:06.481Z"
   },
   {
    "duration": 5,
    "start_time": "2024-02-23T21:31:06.517Z"
   },
   {
    "duration": 8,
    "start_time": "2024-02-23T21:31:06.523Z"
   },
   {
    "duration": 6,
    "start_time": "2024-02-23T21:31:06.533Z"
   },
   {
    "duration": 13,
    "start_time": "2024-02-23T21:31:06.540Z"
   },
   {
    "duration": 9,
    "start_time": "2024-02-23T21:31:06.554Z"
   },
   {
    "duration": 80,
    "start_time": "2024-02-23T21:31:06.564Z"
   },
   {
    "duration": 5,
    "start_time": "2024-02-23T21:31:06.647Z"
   },
   {
    "duration": 9,
    "start_time": "2024-02-23T21:31:06.654Z"
   },
   {
    "duration": 6,
    "start_time": "2024-02-23T21:31:06.665Z"
   },
   {
    "duration": 8,
    "start_time": "2024-02-23T21:31:06.673Z"
   },
   {
    "duration": 37,
    "start_time": "2024-02-23T21:31:06.682Z"
   },
   {
    "duration": 10,
    "start_time": "2024-02-23T21:31:06.720Z"
   },
   {
    "duration": 10,
    "start_time": "2024-02-23T21:31:06.731Z"
   },
   {
    "duration": 10,
    "start_time": "2024-02-23T21:31:06.742Z"
   },
   {
    "duration": 4,
    "start_time": "2024-02-23T21:31:06.753Z"
   },
   {
    "duration": 20,
    "start_time": "2024-02-23T21:31:06.758Z"
   },
   {
    "duration": 42,
    "start_time": "2024-02-23T21:31:06.779Z"
   },
   {
    "duration": 326,
    "start_time": "2024-02-23T21:31:06.823Z"
   },
   {
    "duration": 165,
    "start_time": "2024-02-23T21:31:07.150Z"
   },
   {
    "duration": 204,
    "start_time": "2024-02-23T21:31:07.317Z"
   },
   {
    "duration": 277,
    "start_time": "2024-02-23T21:31:07.522Z"
   },
   {
    "duration": 220,
    "start_time": "2024-02-23T21:31:07.800Z"
   },
   {
    "duration": 8,
    "start_time": "2024-02-23T21:31:08.022Z"
   },
   {
    "duration": 475,
    "start_time": "2024-02-23T21:31:08.032Z"
   },
   {
    "duration": 14,
    "start_time": "2024-02-23T21:31:08.509Z"
   },
   {
    "duration": 414,
    "start_time": "2024-02-23T21:31:08.525Z"
   },
   {
    "duration": 8,
    "start_time": "2024-02-23T21:31:08.940Z"
   },
   {
    "duration": 173,
    "start_time": "2024-02-23T21:31:08.950Z"
   },
   {
    "duration": 153,
    "start_time": "2024-02-23T21:31:09.124Z"
   },
   {
    "duration": 120,
    "start_time": "2024-02-23T21:31:09.278Z"
   },
   {
    "duration": 131,
    "start_time": "2024-02-23T21:31:09.400Z"
   },
   {
    "duration": 135,
    "start_time": "2024-02-23T21:31:09.533Z"
   },
   {
    "duration": 8,
    "start_time": "2024-02-23T21:31:09.669Z"
   },
   {
    "duration": 19,
    "start_time": "2024-02-23T21:31:09.680Z"
   },
   {
    "duration": 7,
    "start_time": "2024-02-23T21:31:09.701Z"
   },
   {
    "duration": 6,
    "start_time": "2024-02-23T21:31:09.718Z"
   },
   {
    "duration": 6,
    "start_time": "2024-02-23T21:31:09.725Z"
   },
   {
    "duration": 11,
    "start_time": "2024-02-23T21:31:09.732Z"
   },
   {
    "duration": 5,
    "start_time": "2024-02-23T21:31:09.744Z"
   },
   {
    "duration": 86,
    "start_time": "2024-02-23T21:31:09.750Z"
   },
   {
    "duration": 0,
    "start_time": "2024-02-23T21:31:09.837Z"
   },
   {
    "duration": 0,
    "start_time": "2024-02-23T21:31:09.839Z"
   },
   {
    "duration": 0,
    "start_time": "2024-02-23T21:31:09.839Z"
   },
   {
    "duration": 1,
    "start_time": "2024-02-23T21:31:09.840Z"
   },
   {
    "duration": 1,
    "start_time": "2024-02-23T21:31:09.841Z"
   },
   {
    "duration": 0,
    "start_time": "2024-02-23T21:31:09.843Z"
   },
   {
    "duration": 1105,
    "start_time": "2024-02-23T21:32:00.112Z"
   },
   {
    "duration": 53,
    "start_time": "2024-02-23T21:32:01.219Z"
   },
   {
    "duration": 17,
    "start_time": "2024-02-23T21:32:01.273Z"
   },
   {
    "duration": 35,
    "start_time": "2024-02-23T21:32:01.292Z"
   },
   {
    "duration": 15,
    "start_time": "2024-02-23T21:32:01.330Z"
   },
   {
    "duration": 62,
    "start_time": "2024-02-23T21:32:01.347Z"
   },
   {
    "duration": 64,
    "start_time": "2024-02-23T21:32:01.410Z"
   },
   {
    "duration": 67,
    "start_time": "2024-02-23T21:32:01.475Z"
   },
   {
    "duration": 44,
    "start_time": "2024-02-23T21:32:01.544Z"
   },
   {
    "duration": 36,
    "start_time": "2024-02-23T21:32:01.589Z"
   },
   {
    "duration": 48,
    "start_time": "2024-02-23T21:32:01.626Z"
   },
   {
    "duration": 66,
    "start_time": "2024-02-23T21:32:01.676Z"
   },
   {
    "duration": 97,
    "start_time": "2024-02-23T21:32:01.743Z"
   },
   {
    "duration": 4,
    "start_time": "2024-02-23T21:32:01.843Z"
   },
   {
    "duration": 14,
    "start_time": "2024-02-23T21:32:01.849Z"
   },
   {
    "duration": 44,
    "start_time": "2024-02-23T21:32:01.865Z"
   },
   {
    "duration": 31,
    "start_time": "2024-02-23T21:32:01.911Z"
   },
   {
    "duration": 50,
    "start_time": "2024-02-23T21:32:01.944Z"
   },
   {
    "duration": 19,
    "start_time": "2024-02-23T21:32:01.996Z"
   },
   {
    "duration": 29,
    "start_time": "2024-02-23T21:32:02.017Z"
   },
   {
    "duration": 33,
    "start_time": "2024-02-23T21:32:02.048Z"
   },
   {
    "duration": 24,
    "start_time": "2024-02-23T21:32:02.083Z"
   },
   {
    "duration": 38,
    "start_time": "2024-02-23T21:32:02.109Z"
   },
   {
    "duration": 57,
    "start_time": "2024-02-23T21:32:02.149Z"
   },
   {
    "duration": 320,
    "start_time": "2024-02-23T21:32:02.208Z"
   },
   {
    "duration": 162,
    "start_time": "2024-02-23T21:32:02.530Z"
   },
   {
    "duration": 200,
    "start_time": "2024-02-23T21:32:02.693Z"
   },
   {
    "duration": 264,
    "start_time": "2024-02-23T21:32:02.895Z"
   },
   {
    "duration": 226,
    "start_time": "2024-02-23T21:32:03.160Z"
   },
   {
    "duration": 8,
    "start_time": "2024-02-23T21:32:03.388Z"
   },
   {
    "duration": 524,
    "start_time": "2024-02-23T21:32:03.397Z"
   },
   {
    "duration": 8,
    "start_time": "2024-02-23T21:32:03.923Z"
   },
   {
    "duration": 422,
    "start_time": "2024-02-23T21:32:03.932Z"
   },
   {
    "duration": 8,
    "start_time": "2024-02-23T21:32:04.355Z"
   },
   {
    "duration": 175,
    "start_time": "2024-02-23T21:32:04.365Z"
   },
   {
    "duration": 154,
    "start_time": "2024-02-23T21:32:04.542Z"
   },
   {
    "duration": 121,
    "start_time": "2024-02-23T21:32:04.698Z"
   },
   {
    "duration": 144,
    "start_time": "2024-02-23T21:32:04.820Z"
   },
   {
    "duration": 128,
    "start_time": "2024-02-23T21:32:04.966Z"
   },
   {
    "duration": 7,
    "start_time": "2024-02-23T21:32:05.096Z"
   },
   {
    "duration": 29,
    "start_time": "2024-02-23T21:32:05.117Z"
   },
   {
    "duration": 50,
    "start_time": "2024-02-23T21:32:05.147Z"
   },
   {
    "duration": 26,
    "start_time": "2024-02-23T21:32:05.198Z"
   },
   {
    "duration": 40,
    "start_time": "2024-02-23T21:32:05.225Z"
   },
   {
    "duration": 20,
    "start_time": "2024-02-23T21:32:05.267Z"
   },
   {
    "duration": 26,
    "start_time": "2024-02-23T21:32:05.289Z"
   },
   {
    "duration": 36,
    "start_time": "2024-02-23T21:32:05.316Z"
   },
   {
    "duration": 40,
    "start_time": "2024-02-23T21:32:05.354Z"
   },
   {
    "duration": 146,
    "start_time": "2024-02-23T21:32:05.395Z"
   },
   {
    "duration": 208,
    "start_time": "2024-02-23T21:32:05.543Z"
   },
   {
    "duration": 133,
    "start_time": "2024-02-23T21:32:05.752Z"
   },
   {
    "duration": 20,
    "start_time": "2024-02-23T21:32:05.887Z"
   },
   {
    "duration": 36,
    "start_time": "2024-02-23T21:32:05.918Z"
   },
   {
    "duration": 4,
    "start_time": "2024-02-23T21:34:20.843Z"
   },
   {
    "duration": 1051,
    "start_time": "2024-02-23T21:38:04.417Z"
   },
   {
    "duration": 53,
    "start_time": "2024-02-23T21:38:05.470Z"
   },
   {
    "duration": 17,
    "start_time": "2024-02-23T21:38:05.525Z"
   },
   {
    "duration": 13,
    "start_time": "2024-02-23T21:38:05.545Z"
   },
   {
    "duration": 3,
    "start_time": "2024-02-23T21:38:05.559Z"
   },
   {
    "duration": 5,
    "start_time": "2024-02-23T21:38:05.564Z"
   },
   {
    "duration": 12,
    "start_time": "2024-02-23T21:38:05.570Z"
   },
   {
    "duration": 35,
    "start_time": "2024-02-23T21:38:05.583Z"
   },
   {
    "duration": 6,
    "start_time": "2024-02-23T21:38:05.619Z"
   },
   {
    "duration": 7,
    "start_time": "2024-02-23T21:38:05.628Z"
   },
   {
    "duration": 14,
    "start_time": "2024-02-23T21:38:05.636Z"
   },
   {
    "duration": 11,
    "start_time": "2024-02-23T21:38:05.652Z"
   },
   {
    "duration": 79,
    "start_time": "2024-02-23T21:38:05.664Z"
   },
   {
    "duration": 5,
    "start_time": "2024-02-23T21:38:05.745Z"
   },
   {
    "duration": 7,
    "start_time": "2024-02-23T21:38:05.752Z"
   },
   {
    "duration": 7,
    "start_time": "2024-02-23T21:38:05.760Z"
   },
   {
    "duration": 9,
    "start_time": "2024-02-23T21:38:05.768Z"
   },
   {
    "duration": 42,
    "start_time": "2024-02-23T21:38:05.779Z"
   },
   {
    "duration": 8,
    "start_time": "2024-02-23T21:38:05.823Z"
   },
   {
    "duration": 9,
    "start_time": "2024-02-23T21:38:05.832Z"
   },
   {
    "duration": 9,
    "start_time": "2024-02-23T21:38:05.843Z"
   },
   {
    "duration": 4,
    "start_time": "2024-02-23T21:38:05.854Z"
   },
   {
    "duration": 14,
    "start_time": "2024-02-23T21:38:05.859Z"
   },
   {
    "duration": 44,
    "start_time": "2024-02-23T21:38:05.874Z"
   },
   {
    "duration": 298,
    "start_time": "2024-02-23T21:38:05.920Z"
   },
   {
    "duration": 169,
    "start_time": "2024-02-23T21:38:06.220Z"
   },
   {
    "duration": 209,
    "start_time": "2024-02-23T21:38:06.391Z"
   },
   {
    "duration": 275,
    "start_time": "2024-02-23T21:38:06.604Z"
   },
   {
    "duration": 225,
    "start_time": "2024-02-23T21:38:06.881Z"
   },
   {
    "duration": 14,
    "start_time": "2024-02-23T21:38:07.108Z"
   },
   {
    "duration": 479,
    "start_time": "2024-02-23T21:38:07.124Z"
   },
   {
    "duration": 16,
    "start_time": "2024-02-23T21:38:07.604Z"
   },
   {
    "duration": 397,
    "start_time": "2024-02-23T21:38:07.622Z"
   },
   {
    "duration": 8,
    "start_time": "2024-02-23T21:38:08.021Z"
   },
   {
    "duration": 203,
    "start_time": "2024-02-23T21:38:08.030Z"
   },
   {
    "duration": 167,
    "start_time": "2024-02-23T21:38:08.234Z"
   },
   {
    "duration": 125,
    "start_time": "2024-02-23T21:38:08.402Z"
   },
   {
    "duration": 145,
    "start_time": "2024-02-23T21:38:08.529Z"
   },
   {
    "duration": 132,
    "start_time": "2024-02-23T21:38:08.675Z"
   },
   {
    "duration": 11,
    "start_time": "2024-02-23T21:38:08.808Z"
   },
   {
    "duration": 9,
    "start_time": "2024-02-23T21:38:08.820Z"
   },
   {
    "duration": 9,
    "start_time": "2024-02-23T21:38:08.831Z"
   },
   {
    "duration": 6,
    "start_time": "2024-02-23T21:38:08.842Z"
   },
   {
    "duration": 7,
    "start_time": "2024-02-23T21:38:08.849Z"
   },
   {
    "duration": 6,
    "start_time": "2024-02-23T21:38:08.857Z"
   },
   {
    "duration": 5,
    "start_time": "2024-02-23T21:38:08.864Z"
   },
   {
    "duration": 6,
    "start_time": "2024-02-23T21:38:08.870Z"
   },
   {
    "duration": 42,
    "start_time": "2024-02-23T21:38:08.877Z"
   },
   {
    "duration": 137,
    "start_time": "2024-02-23T21:38:08.921Z"
   },
   {
    "duration": 209,
    "start_time": "2024-02-23T21:38:09.059Z"
   },
   {
    "duration": 146,
    "start_time": "2024-02-23T21:38:09.269Z"
   },
   {
    "duration": 17,
    "start_time": "2024-02-23T21:38:09.417Z"
   },
   {
    "duration": 15,
    "start_time": "2024-02-23T21:38:09.435Z"
   },
   {
    "duration": 1146,
    "start_time": "2024-02-24T09:03:44.078Z"
   },
   {
    "duration": 100,
    "start_time": "2024-02-24T09:03:45.226Z"
   },
   {
    "duration": 18,
    "start_time": "2024-02-24T09:03:45.327Z"
   },
   {
    "duration": 77,
    "start_time": "2024-02-24T09:03:45.347Z"
   },
   {
    "duration": 6,
    "start_time": "2024-02-24T09:03:45.426Z"
   },
   {
    "duration": 13,
    "start_time": "2024-02-24T09:03:45.433Z"
   },
   {
    "duration": 22,
    "start_time": "2024-02-24T09:03:45.448Z"
   },
   {
    "duration": 13,
    "start_time": "2024-02-24T09:03:45.472Z"
   },
   {
    "duration": 18,
    "start_time": "2024-02-24T09:03:45.486Z"
   },
   {
    "duration": 32,
    "start_time": "2024-02-24T09:03:45.507Z"
   },
   {
    "duration": 36,
    "start_time": "2024-02-24T09:03:45.541Z"
   },
   {
    "duration": 9,
    "start_time": "2024-02-24T09:03:45.579Z"
   },
   {
    "duration": 56,
    "start_time": "2024-02-24T09:03:45.589Z"
   },
   {
    "duration": 5,
    "start_time": "2024-02-24T09:03:45.647Z"
   },
   {
    "duration": 38,
    "start_time": "2024-02-24T09:03:45.666Z"
   },
   {
    "duration": 18,
    "start_time": "2024-02-24T09:03:45.705Z"
   },
   {
    "duration": 11,
    "start_time": "2024-02-24T09:03:45.724Z"
   },
   {
    "duration": 18,
    "start_time": "2024-02-24T09:03:45.737Z"
   },
   {
    "duration": 15,
    "start_time": "2024-02-24T09:03:45.757Z"
   },
   {
    "duration": 18,
    "start_time": "2024-02-24T09:03:45.773Z"
   },
   {
    "duration": 11,
    "start_time": "2024-02-24T09:03:45.793Z"
   },
   {
    "duration": 12,
    "start_time": "2024-02-24T09:03:45.806Z"
   },
   {
    "duration": 30,
    "start_time": "2024-02-24T09:03:45.820Z"
   },
   {
    "duration": 16,
    "start_time": "2024-02-24T09:03:45.852Z"
   },
   {
    "duration": 346,
    "start_time": "2024-02-24T09:03:45.870Z"
   },
   {
    "duration": 159,
    "start_time": "2024-02-24T09:03:46.218Z"
   },
   {
    "duration": 219,
    "start_time": "2024-02-24T09:03:46.379Z"
   },
   {
    "duration": 269,
    "start_time": "2024-02-24T09:03:46.602Z"
   },
   {
    "duration": 257,
    "start_time": "2024-02-24T09:03:46.872Z"
   },
   {
    "duration": 9,
    "start_time": "2024-02-24T09:03:47.130Z"
   },
   {
    "duration": 487,
    "start_time": "2024-02-24T09:03:47.140Z"
   },
   {
    "duration": 8,
    "start_time": "2024-02-24T09:03:47.628Z"
   },
   {
    "duration": 411,
    "start_time": "2024-02-24T09:03:47.637Z"
   },
   {
    "duration": 15,
    "start_time": "2024-02-24T09:03:48.050Z"
   },
   {
    "duration": 165,
    "start_time": "2024-02-24T09:03:48.067Z"
   },
   {
    "duration": 164,
    "start_time": "2024-02-24T09:03:48.234Z"
   },
   {
    "duration": 124,
    "start_time": "2024-02-24T09:03:48.400Z"
   },
   {
    "duration": 127,
    "start_time": "2024-02-24T09:03:48.525Z"
   },
   {
    "duration": 154,
    "start_time": "2024-02-24T09:03:48.653Z"
   },
   {
    "duration": 7,
    "start_time": "2024-02-24T09:03:48.809Z"
   },
   {
    "duration": 10,
    "start_time": "2024-02-24T09:03:48.817Z"
   },
   {
    "duration": 7,
    "start_time": "2024-02-24T09:03:48.829Z"
   },
   {
    "duration": 8,
    "start_time": "2024-02-24T09:03:48.838Z"
   },
   {
    "duration": 21,
    "start_time": "2024-02-24T09:03:48.847Z"
   },
   {
    "duration": 9,
    "start_time": "2024-02-24T09:03:48.869Z"
   },
   {
    "duration": 6,
    "start_time": "2024-02-24T09:03:48.880Z"
   },
   {
    "duration": 8,
    "start_time": "2024-02-24T09:03:48.887Z"
   },
   {
    "duration": 5,
    "start_time": "2024-02-24T09:03:48.897Z"
   },
   {
    "duration": 224,
    "start_time": "2024-02-24T09:03:48.904Z"
   },
   {
    "duration": 135,
    "start_time": "2024-02-24T09:03:49.130Z"
   },
   {
    "duration": 125,
    "start_time": "2024-02-24T09:03:49.267Z"
   },
   {
    "duration": 13,
    "start_time": "2024-02-24T09:03:49.393Z"
   },
   {
    "duration": 13,
    "start_time": "2024-02-24T09:03:49.408Z"
   }
  ],
  "kernelspec": {
   "display_name": "Python 3 (ipykernel)",
   "language": "python",
   "name": "python3"
  },
  "language_info": {
   "codemirror_mode": {
    "name": "ipython",
    "version": 3
   },
   "file_extension": ".py",
   "mimetype": "text/x-python",
   "name": "python",
   "nbconvert_exporter": "python",
   "pygments_lexer": "ipython3",
   "version": "3.11.5"
  },
  "toc": {
   "base_numbering": 1,
   "nav_menu": {},
   "number_sections": true,
   "sideBar": true,
   "skip_h1_title": true,
   "title_cell": "Table of Contents",
   "title_sidebar": "Contents",
   "toc_cell": false,
   "toc_position": {},
   "toc_section_display": true,
   "toc_window_display": false
  }
 },
 "nbformat": 4,
 "nbformat_minor": 4
}
