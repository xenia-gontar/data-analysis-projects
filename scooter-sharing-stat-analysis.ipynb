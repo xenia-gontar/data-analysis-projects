{
 "cells": [
  {
   "cell_type": "markdown",
   "id": "d3436d4c",
   "metadata": {},
   "source": [
    "# Исследование поведения пользователей сервиса аренды самокатов GoFast\n",
    "\n",
    "Для анализа поступили данные о выборке пользователей сервиса аренды самокатов GoFast из нескольких городов. \n",
    "\n",
    "\n",
    "**Цели исследования:**\n",
    "1. Описать и визуализировать общую информацию о пользователях и поездках.\n",
    "2. Проверить гипотезу о том, тратят ли пользователи с подпиской больше времени на поездки или нет.\n",
    "3. Проверить гипотезу о том, не превышает ли среднее расстояние, которое проезжают пользователи с подпиской, 3130 метров (оптимальное расстояние с точки зрения износа самоката).\n",
    "4. Проверить гипотезу о том, будет ли помесячная выручка по месяцам от пользователей с подпиской выше, чем от пользователей без подписки.\n",
    "\n",
    "\n",
    "**Ход исследования:**\n",
    "1. Обзор данных\n",
    "2. Предобработка данных\n",
    "3. Исследовательский анализ данных\n",
    "4. Объединение данных\n",
    "5. Подсчет выручки\n",
    "6. Проверка гипотез\n",
    "7. Заключение\n"
   ]
  },
  {
   "cell_type": "markdown",
   "id": "c42cbe00",
   "metadata": {},
   "source": [
    "#### Обзор данных"
   ]
  },
  {
   "cell_type": "markdown",
   "id": "2831f6d7",
   "metadata": {},
   "source": [
    "##### Загрузка библиотек"
   ]
  },
  {
   "cell_type": "markdown",
   "id": "ebc73459",
   "metadata": {},
   "source": [
    "Импортируем необходимые библиотеки для работы:"
   ]
  },
  {
   "cell_type": "code",
   "execution_count": 1,
   "id": "eff9f206",
   "metadata": {},
   "outputs": [],
   "source": [
    "import pandas as pd\n",
    "import matplotlib.pyplot as plt \n",
    "from scipy import stats as st\n",
    "import numpy as np"
   ]
  },
  {
   "cell_type": "markdown",
   "id": "8af920c3",
   "metadata": {},
   "source": [
    "##### Загрузка файлов"
   ]
  },
  {
   "cell_type": "markdown",
   "id": "6faf7a07",
   "metadata": {},
   "source": [
    "Загрузим файлы с данными о пользователях, поездках и подписках:"
   ]
  },
  {
   "cell_type": "code",
   "execution_count": 2,
   "id": "4ea4e5a1",
   "metadata": {},
   "outputs": [],
   "source": [
    "users = pd.read_csv(\"/datasets/users_go.csv\")\n",
    "rides = pd.read_csv(\"/datasets/rides_go.csv\")\n",
    "subsciptions = pd.read_csv(\"/datasets/subscriptions_go.csv\")"
   ]
  },
  {
   "cell_type": "markdown",
   "id": "c0a6f54f",
   "metadata": {},
   "source": [
    "##### Обзор данных"
   ]
  },
  {
   "cell_type": "markdown",
   "id": "9e4c6a58",
   "metadata": {},
   "source": [
    "Выведем на экран первые несколько строк каждого датафрейма, изучив содержимое:"
   ]
  },
  {
   "cell_type": "code",
   "execution_count": 3,
   "id": "8fce87bc",
   "metadata": {},
   "outputs": [
    {
     "data": {
      "text/html": [
       "<div>\n",
       "<style scoped>\n",
       "    .dataframe tbody tr th:only-of-type {\n",
       "        vertical-align: middle;\n",
       "    }\n",
       "\n",
       "    .dataframe tbody tr th {\n",
       "        vertical-align: top;\n",
       "    }\n",
       "\n",
       "    .dataframe thead th {\n",
       "        text-align: right;\n",
       "    }\n",
       "</style>\n",
       "<table border=\"1\" class=\"dataframe\">\n",
       "  <thead>\n",
       "    <tr style=\"text-align: right;\">\n",
       "      <th></th>\n",
       "      <th>user_id</th>\n",
       "      <th>name</th>\n",
       "      <th>age</th>\n",
       "      <th>city</th>\n",
       "      <th>subscription_type</th>\n",
       "    </tr>\n",
       "  </thead>\n",
       "  <tbody>\n",
       "    <tr>\n",
       "      <th>0</th>\n",
       "      <td>1</td>\n",
       "      <td>Кира</td>\n",
       "      <td>22</td>\n",
       "      <td>Тюмень</td>\n",
       "      <td>ultra</td>\n",
       "    </tr>\n",
       "    <tr>\n",
       "      <th>1</th>\n",
       "      <td>2</td>\n",
       "      <td>Станислав</td>\n",
       "      <td>31</td>\n",
       "      <td>Омск</td>\n",
       "      <td>ultra</td>\n",
       "    </tr>\n",
       "    <tr>\n",
       "      <th>2</th>\n",
       "      <td>3</td>\n",
       "      <td>Алексей</td>\n",
       "      <td>20</td>\n",
       "      <td>Москва</td>\n",
       "      <td>ultra</td>\n",
       "    </tr>\n",
       "    <tr>\n",
       "      <th>3</th>\n",
       "      <td>4</td>\n",
       "      <td>Константин</td>\n",
       "      <td>26</td>\n",
       "      <td>Ростов-на-Дону</td>\n",
       "      <td>ultra</td>\n",
       "    </tr>\n",
       "    <tr>\n",
       "      <th>4</th>\n",
       "      <td>5</td>\n",
       "      <td>Адель</td>\n",
       "      <td>28</td>\n",
       "      <td>Омск</td>\n",
       "      <td>ultra</td>\n",
       "    </tr>\n",
       "    <tr>\n",
       "      <th>5</th>\n",
       "      <td>6</td>\n",
       "      <td>Регина</td>\n",
       "      <td>25</td>\n",
       "      <td>Краснодар</td>\n",
       "      <td>ultra</td>\n",
       "    </tr>\n",
       "    <tr>\n",
       "      <th>6</th>\n",
       "      <td>7</td>\n",
       "      <td>Игорь</td>\n",
       "      <td>23</td>\n",
       "      <td>Омск</td>\n",
       "      <td>ultra</td>\n",
       "    </tr>\n",
       "    <tr>\n",
       "      <th>7</th>\n",
       "      <td>8</td>\n",
       "      <td>Юрий</td>\n",
       "      <td>23</td>\n",
       "      <td>Краснодар</td>\n",
       "      <td>ultra</td>\n",
       "    </tr>\n",
       "    <tr>\n",
       "      <th>8</th>\n",
       "      <td>9</td>\n",
       "      <td>Ян</td>\n",
       "      <td>21</td>\n",
       "      <td>Пятигорск</td>\n",
       "      <td>ultra</td>\n",
       "    </tr>\n",
       "    <tr>\n",
       "      <th>9</th>\n",
       "      <td>10</td>\n",
       "      <td>Валерий</td>\n",
       "      <td>18</td>\n",
       "      <td>Екатеринбург</td>\n",
       "      <td>ultra</td>\n",
       "    </tr>\n",
       "  </tbody>\n",
       "</table>\n",
       "</div>"
      ],
      "text/plain": [
       "   user_id        name  age            city subscription_type\n",
       "0        1        Кира   22          Тюмень             ultra\n",
       "1        2   Станислав   31            Омск             ultra\n",
       "2        3     Алексей   20          Москва             ultra\n",
       "3        4  Константин   26  Ростов-на-Дону             ultra\n",
       "4        5       Адель   28            Омск             ultra\n",
       "5        6      Регина   25       Краснодар             ultra\n",
       "6        7       Игорь   23            Омск             ultra\n",
       "7        8        Юрий   23       Краснодар             ultra\n",
       "8        9          Ян   21       Пятигорск             ultra\n",
       "9       10     Валерий   18    Екатеринбург             ultra"
      ]
     },
     "execution_count": 3,
     "metadata": {},
     "output_type": "execute_result"
    }
   ],
   "source": [
    "users.head(10)"
   ]
  },
  {
   "cell_type": "markdown",
   "id": "21cea274",
   "metadata": {},
   "source": [
    "Датафрейм с пользователями содержит следующую информацию: \n",
    "1. id пользователя \n",
    "2. Имя\n",
    "3. Возраст\n",
    "4. Город \n",
    "5. Тип подписки"
   ]
  },
  {
   "cell_type": "code",
   "execution_count": 4,
   "id": "a136801b",
   "metadata": {
    "scrolled": true
   },
   "outputs": [
    {
     "data": {
      "text/html": [
       "<div>\n",
       "<style scoped>\n",
       "    .dataframe tbody tr th:only-of-type {\n",
       "        vertical-align: middle;\n",
       "    }\n",
       "\n",
       "    .dataframe tbody tr th {\n",
       "        vertical-align: top;\n",
       "    }\n",
       "\n",
       "    .dataframe thead th {\n",
       "        text-align: right;\n",
       "    }\n",
       "</style>\n",
       "<table border=\"1\" class=\"dataframe\">\n",
       "  <thead>\n",
       "    <tr style=\"text-align: right;\">\n",
       "      <th></th>\n",
       "      <th>user_id</th>\n",
       "      <th>distance</th>\n",
       "      <th>duration</th>\n",
       "      <th>date</th>\n",
       "    </tr>\n",
       "  </thead>\n",
       "  <tbody>\n",
       "    <tr>\n",
       "      <th>0</th>\n",
       "      <td>1</td>\n",
       "      <td>4409.919140</td>\n",
       "      <td>25.599769</td>\n",
       "      <td>2021-01-01</td>\n",
       "    </tr>\n",
       "    <tr>\n",
       "      <th>1</th>\n",
       "      <td>1</td>\n",
       "      <td>2617.592153</td>\n",
       "      <td>15.816871</td>\n",
       "      <td>2021-01-18</td>\n",
       "    </tr>\n",
       "    <tr>\n",
       "      <th>2</th>\n",
       "      <td>1</td>\n",
       "      <td>754.159807</td>\n",
       "      <td>6.232113</td>\n",
       "      <td>2021-04-20</td>\n",
       "    </tr>\n",
       "    <tr>\n",
       "      <th>3</th>\n",
       "      <td>1</td>\n",
       "      <td>2694.783254</td>\n",
       "      <td>18.511000</td>\n",
       "      <td>2021-08-11</td>\n",
       "    </tr>\n",
       "    <tr>\n",
       "      <th>4</th>\n",
       "      <td>1</td>\n",
       "      <td>4028.687306</td>\n",
       "      <td>26.265803</td>\n",
       "      <td>2021-08-28</td>\n",
       "    </tr>\n",
       "    <tr>\n",
       "      <th>5</th>\n",
       "      <td>1</td>\n",
       "      <td>2770.890808</td>\n",
       "      <td>16.650138</td>\n",
       "      <td>2021-10-09</td>\n",
       "    </tr>\n",
       "    <tr>\n",
       "      <th>6</th>\n",
       "      <td>1</td>\n",
       "      <td>3039.020292</td>\n",
       "      <td>14.927879</td>\n",
       "      <td>2021-10-19</td>\n",
       "    </tr>\n",
       "    <tr>\n",
       "      <th>7</th>\n",
       "      <td>1</td>\n",
       "      <td>2842.118050</td>\n",
       "      <td>23.117468</td>\n",
       "      <td>2021-11-06</td>\n",
       "    </tr>\n",
       "    <tr>\n",
       "      <th>8</th>\n",
       "      <td>1</td>\n",
       "      <td>3412.690668</td>\n",
       "      <td>15.238072</td>\n",
       "      <td>2021-11-14</td>\n",
       "    </tr>\n",
       "    <tr>\n",
       "      <th>9</th>\n",
       "      <td>1</td>\n",
       "      <td>748.690645</td>\n",
       "      <td>15.041884</td>\n",
       "      <td>2021-11-22</td>\n",
       "    </tr>\n",
       "  </tbody>\n",
       "</table>\n",
       "</div>"
      ],
      "text/plain": [
       "   user_id     distance   duration        date\n",
       "0        1  4409.919140  25.599769  2021-01-01\n",
       "1        1  2617.592153  15.816871  2021-01-18\n",
       "2        1   754.159807   6.232113  2021-04-20\n",
       "3        1  2694.783254  18.511000  2021-08-11\n",
       "4        1  4028.687306  26.265803  2021-08-28\n",
       "5        1  2770.890808  16.650138  2021-10-09\n",
       "6        1  3039.020292  14.927879  2021-10-19\n",
       "7        1  2842.118050  23.117468  2021-11-06\n",
       "8        1  3412.690668  15.238072  2021-11-14\n",
       "9        1   748.690645  15.041884  2021-11-22"
      ]
     },
     "execution_count": 4,
     "metadata": {},
     "output_type": "execute_result"
    }
   ],
   "source": [
    "rides.head(10)"
   ]
  },
  {
   "cell_type": "markdown",
   "id": "11791ae1",
   "metadata": {},
   "source": [
    "Датафрейм с поездками содержит следующую информацию: \n",
    "\n",
    "1. id пользователя, совершившего поездку\n",
    "2. Расстояние, которое преодолел пользователь в течение поездки\n",
    "3. Продолжительность поездки \n",
    "4. Дата поездки"
   ]
  },
  {
   "cell_type": "code",
   "execution_count": 5,
   "id": "c5a78149",
   "metadata": {},
   "outputs": [
    {
     "data": {
      "text/html": [
       "<div>\n",
       "<style scoped>\n",
       "    .dataframe tbody tr th:only-of-type {\n",
       "        vertical-align: middle;\n",
       "    }\n",
       "\n",
       "    .dataframe tbody tr th {\n",
       "        vertical-align: top;\n",
       "    }\n",
       "\n",
       "    .dataframe thead th {\n",
       "        text-align: right;\n",
       "    }\n",
       "</style>\n",
       "<table border=\"1\" class=\"dataframe\">\n",
       "  <thead>\n",
       "    <tr style=\"text-align: right;\">\n",
       "      <th></th>\n",
       "      <th>subscription_type</th>\n",
       "      <th>minute_price</th>\n",
       "      <th>start_ride_price</th>\n",
       "      <th>subscription_fee</th>\n",
       "    </tr>\n",
       "  </thead>\n",
       "  <tbody>\n",
       "    <tr>\n",
       "      <th>0</th>\n",
       "      <td>free</td>\n",
       "      <td>8</td>\n",
       "      <td>50</td>\n",
       "      <td>0</td>\n",
       "    </tr>\n",
       "    <tr>\n",
       "      <th>1</th>\n",
       "      <td>ultra</td>\n",
       "      <td>6</td>\n",
       "      <td>0</td>\n",
       "      <td>199</td>\n",
       "    </tr>\n",
       "  </tbody>\n",
       "</table>\n",
       "</div>"
      ],
      "text/plain": [
       "  subscription_type  minute_price  start_ride_price  subscription_fee\n",
       "0              free             8                50                 0\n",
       "1             ultra             6                 0               199"
      ]
     },
     "execution_count": 5,
     "metadata": {},
     "output_type": "execute_result"
    }
   ],
   "source": [
    "subsciptions.head(2)"
   ]
  },
  {
   "cell_type": "markdown",
   "id": "3f0ec643",
   "metadata": {},
   "source": [
    "Датафрейм с подписками содержит следующую информацию:\n",
    "1. Тип подписки\n",
    "2. Стоимость минуты поездки\n",
    "3. Стоимость начала поездки\n",
    "4. Стоимость подписки"
   ]
  },
  {
   "cell_type": "markdown",
   "id": "d2206301",
   "metadata": {},
   "source": [
    "**Вывод:** На первый взгляд, аномалии в данных не обнаружены."
   ]
  },
  {
   "cell_type": "markdown",
   "id": "e95ebca7",
   "metadata": {},
   "source": [
    "#### Шаг 2. Предобработка данных"
   ]
  },
  {
   "cell_type": "markdown",
   "id": "fbee993a",
   "metadata": {},
   "source": [
    "##### Приведение столбца date к типу даты в pandas"
   ]
  },
  {
   "cell_type": "markdown",
   "id": "933bb650",
   "metadata": {},
   "source": [
    "Проверим, какие типы есть в датафрейме с поездкам:"
   ]
  },
  {
   "cell_type": "code",
   "execution_count": 6,
   "id": "213a313c",
   "metadata": {},
   "outputs": [
    {
     "name": "stdout",
     "output_type": "stream",
     "text": [
      "<class 'pandas.core.frame.DataFrame'>\n",
      "RangeIndex: 18068 entries, 0 to 18067\n",
      "Data columns (total 4 columns):\n",
      " #   Column    Non-Null Count  Dtype  \n",
      "---  ------    --------------  -----  \n",
      " 0   user_id   18068 non-null  int64  \n",
      " 1   distance  18068 non-null  float64\n",
      " 2   duration  18068 non-null  float64\n",
      " 3   date      18068 non-null  object \n",
      "dtypes: float64(2), int64(1), object(1)\n",
      "memory usage: 564.8+ KB\n"
     ]
    }
   ],
   "source": [
    "rides.info()"
   ]
  },
  {
   "cell_type": "markdown",
   "id": "455aeabe",
   "metadata": {},
   "source": [
    "Сейчас тип переменной date - object. Необходимо привести данную переменную к типу даты:"
   ]
  },
  {
   "cell_type": "code",
   "execution_count": 7,
   "id": "8c86c16d",
   "metadata": {},
   "outputs": [],
   "source": [
    "rides[\"date\"] = pd.to_datetime(rides[\"date\"])"
   ]
  },
  {
   "cell_type": "markdown",
   "id": "370639d8",
   "metadata": {},
   "source": [
    "Убедимся, что переменная имеет правильный тип:"
   ]
  },
  {
   "cell_type": "code",
   "execution_count": 8,
   "id": "4ec27760",
   "metadata": {},
   "outputs": [
    {
     "name": "stdout",
     "output_type": "stream",
     "text": [
      "<class 'pandas.core.frame.DataFrame'>\n",
      "RangeIndex: 18068 entries, 0 to 18067\n",
      "Data columns (total 4 columns):\n",
      " #   Column    Non-Null Count  Dtype         \n",
      "---  ------    --------------  -----         \n",
      " 0   user_id   18068 non-null  int64         \n",
      " 1   distance  18068 non-null  float64       \n",
      " 2   duration  18068 non-null  float64       \n",
      " 3   date      18068 non-null  datetime64[ns]\n",
      "dtypes: datetime64[ns](1), float64(2), int64(1)\n",
      "memory usage: 564.8 KB\n"
     ]
    }
   ],
   "source": [
    "rides.info()"
   ]
  },
  {
   "cell_type": "markdown",
   "id": "342f1dac",
   "metadata": {},
   "source": [
    "##### Создание нового столбца с номером месяца"
   ]
  },
  {
   "cell_type": "markdown",
   "id": "625598c1",
   "metadata": {},
   "source": [
    "Создадим новый столбец с номером месяца в датафрейме в поездке:"
   ]
  },
  {
   "cell_type": "code",
   "execution_count": 9,
   "id": "5a18d5e6",
   "metadata": {},
   "outputs": [],
   "source": [
    "rides[\"month\"] = rides[\"date\"].dt.month"
   ]
  },
  {
   "cell_type": "markdown",
   "id": "eeb738ed",
   "metadata": {},
   "source": [
    "Убедимся, что новый столбец был создан:"
   ]
  },
  {
   "cell_type": "code",
   "execution_count": 10,
   "id": "cffabdad",
   "metadata": {
    "scrolled": true
   },
   "outputs": [
    {
     "data": {
      "text/html": [
       "<div>\n",
       "<style scoped>\n",
       "    .dataframe tbody tr th:only-of-type {\n",
       "        vertical-align: middle;\n",
       "    }\n",
       "\n",
       "    .dataframe tbody tr th {\n",
       "        vertical-align: top;\n",
       "    }\n",
       "\n",
       "    .dataframe thead th {\n",
       "        text-align: right;\n",
       "    }\n",
       "</style>\n",
       "<table border=\"1\" class=\"dataframe\">\n",
       "  <thead>\n",
       "    <tr style=\"text-align: right;\">\n",
       "      <th></th>\n",
       "      <th>date</th>\n",
       "      <th>month</th>\n",
       "    </tr>\n",
       "  </thead>\n",
       "  <tbody>\n",
       "    <tr>\n",
       "      <th>0</th>\n",
       "      <td>2021-01-01</td>\n",
       "      <td>1</td>\n",
       "    </tr>\n",
       "    <tr>\n",
       "      <th>1</th>\n",
       "      <td>2021-01-18</td>\n",
       "      <td>1</td>\n",
       "    </tr>\n",
       "    <tr>\n",
       "      <th>2</th>\n",
       "      <td>2021-04-20</td>\n",
       "      <td>4</td>\n",
       "    </tr>\n",
       "    <tr>\n",
       "      <th>3</th>\n",
       "      <td>2021-08-11</td>\n",
       "      <td>8</td>\n",
       "    </tr>\n",
       "    <tr>\n",
       "      <th>4</th>\n",
       "      <td>2021-08-28</td>\n",
       "      <td>8</td>\n",
       "    </tr>\n",
       "    <tr>\n",
       "      <th>5</th>\n",
       "      <td>2021-10-09</td>\n",
       "      <td>10</td>\n",
       "    </tr>\n",
       "    <tr>\n",
       "      <th>6</th>\n",
       "      <td>2021-10-19</td>\n",
       "      <td>10</td>\n",
       "    </tr>\n",
       "    <tr>\n",
       "      <th>7</th>\n",
       "      <td>2021-11-06</td>\n",
       "      <td>11</td>\n",
       "    </tr>\n",
       "    <tr>\n",
       "      <th>8</th>\n",
       "      <td>2021-11-14</td>\n",
       "      <td>11</td>\n",
       "    </tr>\n",
       "    <tr>\n",
       "      <th>9</th>\n",
       "      <td>2021-11-22</td>\n",
       "      <td>11</td>\n",
       "    </tr>\n",
       "  </tbody>\n",
       "</table>\n",
       "</div>"
      ],
      "text/plain": [
       "        date  month\n",
       "0 2021-01-01      1\n",
       "1 2021-01-18      1\n",
       "2 2021-04-20      4\n",
       "3 2021-08-11      8\n",
       "4 2021-08-28      8\n",
       "5 2021-10-09     10\n",
       "6 2021-10-19     10\n",
       "7 2021-11-06     11\n",
       "8 2021-11-14     11\n",
       "9 2021-11-22     11"
      ]
     },
     "execution_count": 10,
     "metadata": {},
     "output_type": "execute_result"
    }
   ],
   "source": [
    "rides[[\"date\", \"month\"]].head(10)"
   ]
  },
  {
   "cell_type": "markdown",
   "id": "c07750f1",
   "metadata": {},
   "source": [
    "##### Обработка пропущенных значений"
   ]
  },
  {
   "cell_type": "markdown",
   "id": "bbe80968",
   "metadata": {},
   "source": [
    "Оценим количество пропусков в каждом из датафреймов:"
   ]
  },
  {
   "cell_type": "code",
   "execution_count": 11,
   "id": "b3830569",
   "metadata": {},
   "outputs": [
    {
     "data": {
      "text/plain": [
       "user_id              0\n",
       "name                 0\n",
       "age                  0\n",
       "city                 0\n",
       "subscription_type    0\n",
       "dtype: int64"
      ]
     },
     "execution_count": 11,
     "metadata": {},
     "output_type": "execute_result"
    }
   ],
   "source": [
    "users.isna().sum()"
   ]
  },
  {
   "cell_type": "code",
   "execution_count": 12,
   "id": "3fe16751",
   "metadata": {},
   "outputs": [
    {
     "data": {
      "text/plain": [
       "user_id     0\n",
       "distance    0\n",
       "duration    0\n",
       "date        0\n",
       "month       0\n",
       "dtype: int64"
      ]
     },
     "execution_count": 12,
     "metadata": {},
     "output_type": "execute_result"
    }
   ],
   "source": [
    "rides.isna().sum()"
   ]
  },
  {
   "cell_type": "markdown",
   "id": "91a69b7c",
   "metadata": {},
   "source": [
    "Пропуски не были обнаружены, обработка не потребовалась."
   ]
  },
  {
   "cell_type": "markdown",
   "id": "61b90d17",
   "metadata": {},
   "source": [
    "##### Обработка дубликатов"
   ]
  },
  {
   "cell_type": "markdown",
   "id": "e9cc0108",
   "metadata": {},
   "source": [
    "Оценим количество явных дубликатов в датафрейме с пользователями:"
   ]
  },
  {
   "cell_type": "code",
   "execution_count": 13,
   "id": "c5833d50",
   "metadata": {
    "scrolled": true
   },
   "outputs": [
    {
     "data": {
      "text/plain": [
       "31"
      ]
     },
     "execution_count": 13,
     "metadata": {},
     "output_type": "execute_result"
    }
   ],
   "source": [
    "users.duplicated().sum()"
   ]
  },
  {
   "cell_type": "markdown",
   "id": "958e6d29",
   "metadata": {},
   "source": [
    "Удалим найденные дубликаты:"
   ]
  },
  {
   "cell_type": "code",
   "execution_count": 14,
   "id": "6dcc7f36",
   "metadata": {
    "scrolled": true
   },
   "outputs": [],
   "source": [
    "users = users.drop_duplicates()"
   ]
  },
  {
   "cell_type": "markdown",
   "id": "632b180d",
   "metadata": {},
   "source": [
    "Проверим, что дубликаты были устранены:"
   ]
  },
  {
   "cell_type": "code",
   "execution_count": 15,
   "id": "d31e783a",
   "metadata": {},
   "outputs": [
    {
     "data": {
      "text/plain": [
       "0"
      ]
     },
     "execution_count": 15,
     "metadata": {},
     "output_type": "execute_result"
    }
   ],
   "source": [
    "users.duplicated().sum()"
   ]
  },
  {
   "cell_type": "markdown",
   "id": "569b9b1e",
   "metadata": {},
   "source": [
    "Оценим количество явных дубликатов в датафрейме с пользователями:"
   ]
  },
  {
   "cell_type": "code",
   "execution_count": 16,
   "id": "36e46255",
   "metadata": {
    "scrolled": true
   },
   "outputs": [
    {
     "data": {
      "text/plain": [
       "0"
      ]
     },
     "execution_count": 16,
     "metadata": {},
     "output_type": "execute_result"
    }
   ],
   "source": [
    "rides.duplicated().sum()"
   ]
  },
  {
   "cell_type": "markdown",
   "id": "0dc1ac4f",
   "metadata": {},
   "source": [
    "Дубликаты отсутствуют."
   ]
  },
  {
   "cell_type": "markdown",
   "id": "7d161b08",
   "metadata": {},
   "source": [
    "Начнем поиск неявных дубликатов: "
   ]
  },
  {
   "cell_type": "code",
   "execution_count": 17,
   "id": "8be18017",
   "metadata": {},
   "outputs": [
    {
     "data": {
      "text/plain": [
       "array(['Тюмень', 'Омск', 'Москва', 'Ростов-на-Дону', 'Краснодар',\n",
       "       'Пятигорск', 'Екатеринбург', 'Сочи'], dtype=object)"
      ]
     },
     "execution_count": 17,
     "metadata": {},
     "output_type": "execute_result"
    }
   ],
   "source": [
    "users[\"city\"].unique()"
   ]
  },
  {
   "cell_type": "markdown",
   "id": "e7ebe4cc",
   "metadata": {},
   "source": [
    "Среди городов неявные дубликаты не обнаружены."
   ]
  },
  {
   "cell_type": "markdown",
   "id": "f5a0ecb1",
   "metadata": {},
   "source": [
    "**Вывод:** Качество исходных данных оказалось высоким: пропущенные значения отсутствовали, явные дубликаты наблюдались в небольшом количестве, неявные дубликаты не были обнаружены."
   ]
  },
  {
   "cell_type": "markdown",
   "id": "212593c7",
   "metadata": {},
   "source": [
    "#### Шаг 3. Исследовательский анализ данных"
   ]
  },
  {
   "cell_type": "markdown",
   "id": "004abd5c",
   "metadata": {},
   "source": [
    "##### Частота встречаемости городов"
   ]
  },
  {
   "cell_type": "markdown",
   "id": "0d54ab78",
   "metadata": {},
   "source": [
    "Построим столбиковую диаграмму:"
   ]
  },
  {
   "cell_type": "code",
   "execution_count": 18,
   "id": "7c1319f4",
   "metadata": {},
   "outputs": [
    {
     "data": {
      "image/png": "[encoded data removed]",
      "text/plain": [
       "<Figure size 432x288 with 1 Axes>"
      ]
     },
     "metadata": {
      "needs_background": "light"
     },
     "output_type": "display_data"
    }
   ],
   "source": [
    "users[\"city\"].value_counts().plot.bar(rot=45, title = \"Частота встречаемости городов\");"
   ]
  },
  {
   "cell_type": "markdown",
   "id": "64bc6ad9",
   "metadata": {},
   "source": [
    "Согласно диаграмме, города встречаются примерно одинаково."
   ]
  },
  {
   "cell_type": "markdown",
   "id": "21721d85",
   "metadata": {},
   "source": [
    "##### Соотношение пользователей с подпиской и без подписки"
   ]
  },
  {
   "cell_type": "markdown",
   "id": "1c4c2f3f",
   "metadata": {},
   "source": [
    "Построим круговую диаграмму:"
   ]
  },
  {
   "cell_type": "code",
   "execution_count": 19,
   "id": "80059a88",
   "metadata": {},
   "outputs": [
    {
     "data": {
      "image/png": "[encoded data removed]",
      "text/plain": [
       "<Figure size 432x288 with 1 Axes>"
      ]
     },
     "metadata": {},
     "output_type": "display_data"
    }
   ],
   "source": [
    "users.groupby(\"subscription_type\")[\"user_id\"].count().plot.pie(autopct='%1.0f%%', labels = [\"Без подписки\", \"С подпиской\"], ylabel=\"\")\n",
    "plt.title(\"Соотношение пользователей с подпиской и без подписки\");"
   ]
  },
  {
   "cell_type": "markdown",
   "id": "1a15fc4b",
   "metadata": {},
   "source": [
    "Видим, что чуть больше половины (54%) пользователей пользуются сервисом без подписки."
   ]
  },
  {
   "cell_type": "markdown",
   "id": "0dac656f",
   "metadata": {},
   "source": [
    "##### Возраст пользователей"
   ]
  },
  {
   "cell_type": "markdown",
   "id": "cf387bec",
   "metadata": {},
   "source": [
    "Построим диаграмму частот:"
   ]
  },
  {
   "cell_type": "code",
   "execution_count": 20,
   "id": "3f6b4778",
   "metadata": {},
   "outputs": [
    {
     "data": {
      "image/png": "[encoded data removed]",
      "text/plain": [
       "<Figure size 432x288 with 1 Axes>"
      ]
     },
     "metadata": {
      "needs_background": "light"
     },
     "output_type": "display_data"
    }
   ],
   "source": [
    "plt.hist(users[\"age\"]) \n",
    "plt.title(\"Возраст пользователей\")\n",
    "plt.xlabel(\"Количество лет\")\n",
    "plt.ylabel(\"Частота\")\n",
    "plt.show();"
   ]
  },
  {
   "cell_type": "markdown",
   "id": "44ece5aa",
   "metadata": {},
   "source": [
    "Построим диаграмму размаха:"
   ]
  },
  {
   "cell_type": "code",
   "execution_count": 21,
   "id": "c6311aa2",
   "metadata": {
    "scrolled": true
   },
   "outputs": [
    {
     "data": {
      "image/png": "[encoded data removed]",
      "text/plain": [
       "<Figure size 432x288 with 1 Axes>"
      ]
     },
     "metadata": {
      "needs_background": "light"
     },
     "output_type": "display_data"
    }
   ],
   "source": [
    "plt.boxplot(users[\"age\"])\n",
    "plt.title(\"Возраст пользователей\")\n",
    "plt.show()"
   ]
  },
  {
   "cell_type": "markdown",
   "id": "d5b1b5ac",
   "metadata": {},
   "source": [
    "Вычислим статистические показатели:"
   ]
  },
  {
   "cell_type": "code",
   "execution_count": 22,
   "id": "361c5757",
   "metadata": {},
   "outputs": [
    {
     "data": {
      "text/plain": [
       "count    1534.000000\n",
       "mean       24.903520\n",
       "std         4.572367\n",
       "min        12.000000\n",
       "25%        22.000000\n",
       "50%        25.000000\n",
       "75%        28.000000\n",
       "max        43.000000\n",
       "Name: age, dtype: float64"
      ]
     },
     "execution_count": 22,
     "metadata": {},
     "output_type": "execute_result"
    }
   ],
   "source": [
    "users[\"age\"].describe()"
   ]
  },
  {
   "cell_type": "markdown",
   "id": "5c25f5f2",
   "metadata": {},
   "source": [
    "На основе графиков и вычисленных статистических показателей, можно увидеть, что возраст большинства пользователей сервиса от 22 до 28 лет, максимальный возраст составляет 43 года, минимальный возраст - 12 лет."
   ]
  },
  {
   "cell_type": "markdown",
   "id": "9ef06421",
   "metadata": {},
   "source": [
    "##### Расстояние, которое пользователь преодолел за одну поездку"
   ]
  },
  {
   "cell_type": "markdown",
   "id": "2d9e4ece",
   "metadata": {},
   "source": [
    "Построим гистограмму:"
   ]
  },
  {
   "cell_type": "code",
   "execution_count": 23,
   "id": "51cfb5cb",
   "metadata": {},
   "outputs": [
    {
     "data": {
      "image/png": "[encoded data removed]",
      "text/plain": [
       "<Figure size 432x288 with 1 Axes>"
      ]
     },
     "metadata": {
      "needs_background": "light"
     },
     "output_type": "display_data"
    }
   ],
   "source": [
    "plt.hist(rides[\"distance\"])\n",
    "plt.title(\"Расстояние, которое пользователь преодолел за 1 поездку\")\n",
    "plt.xlabel(\"метров\")\n",
    "plt.ylabel(\"Частота\")\n",
    "plt.show();"
   ]
  },
  {
   "cell_type": "code",
   "execution_count": 24,
   "id": "21a4cc12",
   "metadata": {
    "scrolled": true
   },
   "outputs": [
    {
     "data": {
      "image/png": "[encoded data removed]",
      "text/plain": [
       "<Figure size 432x288 with 1 Axes>"
      ]
     },
     "metadata": {
      "needs_background": "light"
     },
     "output_type": "display_data"
    }
   ],
   "source": [
    "plt.boxplot(rides[\"distance\"])\n",
    "plt.title(\"Расстояние, которое пользователь преодолел за 1 поездку\")\n",
    "plt.ylabel(\"Метров\")\n",
    "plt.show()"
   ]
  },
  {
   "cell_type": "code",
   "execution_count": 25,
   "id": "af833fc4",
   "metadata": {
    "scrolled": true
   },
   "outputs": [
    {
     "data": {
      "text/plain": [
       "count    18068.000000\n",
       "mean      3070.659976\n",
       "std       1116.831209\n",
       "min          0.855683\n",
       "25%       2543.226360\n",
       "50%       3133.609994\n",
       "75%       3776.222735\n",
       "max       7211.007745\n",
       "Name: distance, dtype: float64"
      ]
     },
     "execution_count": 25,
     "metadata": {},
     "output_type": "execute_result"
    }
   ],
   "source": [
    "rides[\"distance\"].describe()"
   ]
  },
  {
   "cell_type": "markdown",
   "id": "06496428",
   "metadata": {},
   "source": [
    "Согласно данных, среднее расстояние за одну поездку составляет 3070 метров, большинство значений находятся в пределах 2543 метров и 3776 метров. "
   ]
  },
  {
   "cell_type": "markdown",
   "id": "88f2a73a",
   "metadata": {},
   "source": [
    "##### Продолжительность поездок"
   ]
  },
  {
   "cell_type": "markdown",
   "id": "e963bffd",
   "metadata": {},
   "source": [
    "Построим гистограмму частот:"
   ]
  },
  {
   "cell_type": "code",
   "execution_count": 26,
   "id": "318c684d",
   "metadata": {
    "scrolled": true
   },
   "outputs": [
    {
     "data": {
      "image/png": "[encoded data removed]",
      "text/plain": [
       "<Figure size 432x288 with 1 Axes>"
      ]
     },
     "metadata": {
      "needs_background": "light"
     },
     "output_type": "display_data"
    }
   ],
   "source": [
    "rides[\"duration\"].hist()\n",
    "plt.title(\"Продолжительность поедки\")\n",
    "plt.xlabel(\"Мин\")\n",
    "plt.ylabel(\"Частота\")\n",
    "plt.show();"
   ]
  },
  {
   "cell_type": "markdown",
   "id": "b186a9ba",
   "metadata": {},
   "source": [
    "Построим диаграмму размаха: "
   ]
  },
  {
   "cell_type": "code",
   "execution_count": 27,
   "id": "d7d7fd05",
   "metadata": {},
   "outputs": [
    {
     "data": {
      "image/png": "[encoded data removed]",
      "text/plain": [
       "<Figure size 432x288 with 1 Axes>"
      ]
     },
     "metadata": {
      "needs_background": "light"
     },
     "output_type": "display_data"
    }
   ],
   "source": [
    "plt.boxplot(rides[\"duration\"])\n",
    "plt.title(\"Продолжительность поедки\")\n",
    "plt.ylabel(\"Мин\")\n",
    "plt.show()"
   ]
  },
  {
   "cell_type": "markdown",
   "id": "55a00baa",
   "metadata": {},
   "source": [
    "Вычислим статистические показатели:"
   ]
  },
  {
   "cell_type": "code",
   "execution_count": 28,
   "id": "8f5f4ef7",
   "metadata": {
    "scrolled": true
   },
   "outputs": [
    {
     "data": {
      "text/plain": [
       "count    18068.000000\n",
       "mean        17.805011\n",
       "std          6.091051\n",
       "min          0.500000\n",
       "25%         13.597563\n",
       "50%         17.678395\n",
       "75%         21.724800\n",
       "max         40.823963\n",
       "Name: duration, dtype: float64"
      ]
     },
     "execution_count": 28,
     "metadata": {},
     "output_type": "execute_result"
    }
   ],
   "source": [
    "rides[\"duration\"].describe()"
   ]
  },
  {
   "cell_type": "markdown",
   "id": "59e8275c",
   "metadata": {},
   "source": [
    "Среднее расстояние за поездку составляет 17 минут, большинство поездок длятся от 13 до 21 минуты."
   ]
  },
  {
   "cell_type": "markdown",
   "id": "4ef51331",
   "metadata": {},
   "source": [
    "#### Шаг 4. Объединение данных"
   ]
  },
  {
   "cell_type": "markdown",
   "id": "d2189d1d",
   "metadata": {},
   "source": [
    "##### Объединение данных в один датафрейм"
   ]
  },
  {
   "cell_type": "markdown",
   "id": "89e49daf",
   "metadata": {},
   "source": [
    "Оценим размеры датасетов до объединения:"
   ]
  },
  {
   "cell_type": "code",
   "execution_count": 29,
   "id": "97a0daaf",
   "metadata": {
    "scrolled": true
   },
   "outputs": [
    {
     "data": {
      "text/plain": [
       "1534"
      ]
     },
     "execution_count": 29,
     "metadata": {},
     "output_type": "execute_result"
    }
   ],
   "source": [
    "users.shape[0]"
   ]
  },
  {
   "cell_type": "code",
   "execution_count": 30,
   "id": "b650919c",
   "metadata": {},
   "outputs": [
    {
     "data": {
      "text/plain": [
       "18068"
      ]
     },
     "execution_count": 30,
     "metadata": {},
     "output_type": "execute_result"
    }
   ],
   "source": [
    "rides.shape[0]"
   ]
  },
  {
   "cell_type": "code",
   "execution_count": 31,
   "id": "dc9831cb",
   "metadata": {},
   "outputs": [
    {
     "data": {
      "text/plain": [
       "2"
      ]
     },
     "execution_count": 31,
     "metadata": {},
     "output_type": "execute_result"
    }
   ],
   "source": [
    "subsciptions.shape[0]"
   ]
  },
  {
   "cell_type": "markdown",
   "id": "c8c44ebf",
   "metadata": {},
   "source": [
    "Объединим датафрейм с пользователями и подписками в один:"
   ]
  },
  {
   "cell_type": "code",
   "execution_count": 32,
   "id": "6bf288b5",
   "metadata": {
    "scrolled": true
   },
   "outputs": [],
   "source": [
    "data = users.merge(subsciptions)"
   ]
  },
  {
   "cell_type": "markdown",
   "id": "30a8cfce",
   "metadata": {},
   "source": [
    "Оценим результат объединения:"
   ]
  },
  {
   "cell_type": "code",
   "execution_count": 33,
   "id": "ab603afc",
   "metadata": {
    "scrolled": true
   },
   "outputs": [
    {
     "data": {
      "text/html": [
       "<div>\n",
       "<style scoped>\n",
       "    .dataframe tbody tr th:only-of-type {\n",
       "        vertical-align: middle;\n",
       "    }\n",
       "\n",
       "    .dataframe tbody tr th {\n",
       "        vertical-align: top;\n",
       "    }\n",
       "\n",
       "    .dataframe thead th {\n",
       "        text-align: right;\n",
       "    }\n",
       "</style>\n",
       "<table border=\"1\" class=\"dataframe\">\n",
       "  <thead>\n",
       "    <tr style=\"text-align: right;\">\n",
       "      <th></th>\n",
       "      <th>user_id</th>\n",
       "      <th>name</th>\n",
       "      <th>age</th>\n",
       "      <th>city</th>\n",
       "      <th>subscription_type</th>\n",
       "      <th>minute_price</th>\n",
       "      <th>start_ride_price</th>\n",
       "      <th>subscription_fee</th>\n",
       "    </tr>\n",
       "  </thead>\n",
       "  <tbody>\n",
       "    <tr>\n",
       "      <th>0</th>\n",
       "      <td>1</td>\n",
       "      <td>Кира</td>\n",
       "      <td>22</td>\n",
       "      <td>Тюмень</td>\n",
       "      <td>ultra</td>\n",
       "      <td>6</td>\n",
       "      <td>0</td>\n",
       "      <td>199</td>\n",
       "    </tr>\n",
       "    <tr>\n",
       "      <th>1</th>\n",
       "      <td>2</td>\n",
       "      <td>Станислав</td>\n",
       "      <td>31</td>\n",
       "      <td>Омск</td>\n",
       "      <td>ultra</td>\n",
       "      <td>6</td>\n",
       "      <td>0</td>\n",
       "      <td>199</td>\n",
       "    </tr>\n",
       "    <tr>\n",
       "      <th>2</th>\n",
       "      <td>3</td>\n",
       "      <td>Алексей</td>\n",
       "      <td>20</td>\n",
       "      <td>Москва</td>\n",
       "      <td>ultra</td>\n",
       "      <td>6</td>\n",
       "      <td>0</td>\n",
       "      <td>199</td>\n",
       "    </tr>\n",
       "    <tr>\n",
       "      <th>3</th>\n",
       "      <td>4</td>\n",
       "      <td>Константин</td>\n",
       "      <td>26</td>\n",
       "      <td>Ростов-на-Дону</td>\n",
       "      <td>ultra</td>\n",
       "      <td>6</td>\n",
       "      <td>0</td>\n",
       "      <td>199</td>\n",
       "    </tr>\n",
       "    <tr>\n",
       "      <th>4</th>\n",
       "      <td>5</td>\n",
       "      <td>Адель</td>\n",
       "      <td>28</td>\n",
       "      <td>Омск</td>\n",
       "      <td>ultra</td>\n",
       "      <td>6</td>\n",
       "      <td>0</td>\n",
       "      <td>199</td>\n",
       "    </tr>\n",
       "    <tr>\n",
       "      <th>5</th>\n",
       "      <td>6</td>\n",
       "      <td>Регина</td>\n",
       "      <td>25</td>\n",
       "      <td>Краснодар</td>\n",
       "      <td>ultra</td>\n",
       "      <td>6</td>\n",
       "      <td>0</td>\n",
       "      <td>199</td>\n",
       "    </tr>\n",
       "    <tr>\n",
       "      <th>6</th>\n",
       "      <td>7</td>\n",
       "      <td>Игорь</td>\n",
       "      <td>23</td>\n",
       "      <td>Омск</td>\n",
       "      <td>ultra</td>\n",
       "      <td>6</td>\n",
       "      <td>0</td>\n",
       "      <td>199</td>\n",
       "    </tr>\n",
       "    <tr>\n",
       "      <th>7</th>\n",
       "      <td>8</td>\n",
       "      <td>Юрий</td>\n",
       "      <td>23</td>\n",
       "      <td>Краснодар</td>\n",
       "      <td>ultra</td>\n",
       "      <td>6</td>\n",
       "      <td>0</td>\n",
       "      <td>199</td>\n",
       "    </tr>\n",
       "    <tr>\n",
       "      <th>8</th>\n",
       "      <td>9</td>\n",
       "      <td>Ян</td>\n",
       "      <td>21</td>\n",
       "      <td>Пятигорск</td>\n",
       "      <td>ultra</td>\n",
       "      <td>6</td>\n",
       "      <td>0</td>\n",
       "      <td>199</td>\n",
       "    </tr>\n",
       "    <tr>\n",
       "      <th>9</th>\n",
       "      <td>10</td>\n",
       "      <td>Валерий</td>\n",
       "      <td>18</td>\n",
       "      <td>Екатеринбург</td>\n",
       "      <td>ultra</td>\n",
       "      <td>6</td>\n",
       "      <td>0</td>\n",
       "      <td>199</td>\n",
       "    </tr>\n",
       "    <tr>\n",
       "      <th>10</th>\n",
       "      <td>11</td>\n",
       "      <td>Агата</td>\n",
       "      <td>31</td>\n",
       "      <td>Краснодар</td>\n",
       "      <td>ultra</td>\n",
       "      <td>6</td>\n",
       "      <td>0</td>\n",
       "      <td>199</td>\n",
       "    </tr>\n",
       "    <tr>\n",
       "      <th>11</th>\n",
       "      <td>12</td>\n",
       "      <td>Марк</td>\n",
       "      <td>27</td>\n",
       "      <td>Тюмень</td>\n",
       "      <td>ultra</td>\n",
       "      <td>6</td>\n",
       "      <td>0</td>\n",
       "      <td>199</td>\n",
       "    </tr>\n",
       "    <tr>\n",
       "      <th>12</th>\n",
       "      <td>13</td>\n",
       "      <td>Ева</td>\n",
       "      <td>24</td>\n",
       "      <td>Краснодар</td>\n",
       "      <td>ultra</td>\n",
       "      <td>6</td>\n",
       "      <td>0</td>\n",
       "      <td>199</td>\n",
       "    </tr>\n",
       "    <tr>\n",
       "      <th>13</th>\n",
       "      <td>14</td>\n",
       "      <td>Антонина</td>\n",
       "      <td>18</td>\n",
       "      <td>Пятигорск</td>\n",
       "      <td>ultra</td>\n",
       "      <td>6</td>\n",
       "      <td>0</td>\n",
       "      <td>199</td>\n",
       "    </tr>\n",
       "    <tr>\n",
       "      <th>14</th>\n",
       "      <td>15</td>\n",
       "      <td>Валерия</td>\n",
       "      <td>24</td>\n",
       "      <td>Тюмень</td>\n",
       "      <td>ultra</td>\n",
       "      <td>6</td>\n",
       "      <td>0</td>\n",
       "      <td>199</td>\n",
       "    </tr>\n",
       "  </tbody>\n",
       "</table>\n",
       "</div>"
      ],
      "text/plain": [
       "    user_id        name  age            city subscription_type  minute_price  \\\n",
       "0         1        Кира   22          Тюмень             ultra             6   \n",
       "1         2   Станислав   31            Омск             ultra             6   \n",
       "2         3     Алексей   20          Москва             ultra             6   \n",
       "3         4  Константин   26  Ростов-на-Дону             ultra             6   \n",
       "4         5       Адель   28            Омск             ultra             6   \n",
       "5         6      Регина   25       Краснодар             ultra             6   \n",
       "6         7       Игорь   23            Омск             ultra             6   \n",
       "7         8        Юрий   23       Краснодар             ultra             6   \n",
       "8         9          Ян   21       Пятигорск             ultra             6   \n",
       "9        10     Валерий   18    Екатеринбург             ultra             6   \n",
       "10       11       Агата   31       Краснодар             ultra             6   \n",
       "11       12        Марк   27          Тюмень             ultra             6   \n",
       "12       13         Ева   24       Краснодар             ultra             6   \n",
       "13       14    Антонина   18       Пятигорск             ultra             6   \n",
       "14       15     Валерия   24          Тюмень             ultra             6   \n",
       "\n",
       "    start_ride_price  subscription_fee  \n",
       "0                  0               199  \n",
       "1                  0               199  \n",
       "2                  0               199  \n",
       "3                  0               199  \n",
       "4                  0               199  \n",
       "5                  0               199  \n",
       "6                  0               199  \n",
       "7                  0               199  \n",
       "8                  0               199  \n",
       "9                  0               199  \n",
       "10                 0               199  \n",
       "11                 0               199  \n",
       "12                 0               199  \n",
       "13                 0               199  \n",
       "14                 0               199  "
      ]
     },
     "execution_count": 33,
     "metadata": {},
     "output_type": "execute_result"
    }
   ],
   "source": [
    "data.head(15)"
   ]
  },
  {
   "cell_type": "markdown",
   "id": "93027a22",
   "metadata": {},
   "source": [
    "К получившемуся датафрейму присоединим датафрейм с поездками:"
   ]
  },
  {
   "cell_type": "code",
   "execution_count": 34,
   "id": "a3ed244f",
   "metadata": {},
   "outputs": [],
   "source": [
    "data = data.merge(rides)"
   ]
  },
  {
   "cell_type": "markdown",
   "id": "6c769172",
   "metadata": {},
   "source": [
    "Убедимся, что объединение всех датафреймов прошло успешно:"
   ]
  },
  {
   "cell_type": "code",
   "execution_count": 35,
   "id": "2131e89a",
   "metadata": {},
   "outputs": [
    {
     "data": {
      "text/html": [
       "<div>\n",
       "<style scoped>\n",
       "    .dataframe tbody tr th:only-of-type {\n",
       "        vertical-align: middle;\n",
       "    }\n",
       "\n",
       "    .dataframe tbody tr th {\n",
       "        vertical-align: top;\n",
       "    }\n",
       "\n",
       "    .dataframe thead th {\n",
       "        text-align: right;\n",
       "    }\n",
       "</style>\n",
       "<table border=\"1\" class=\"dataframe\">\n",
       "  <thead>\n",
       "    <tr style=\"text-align: right;\">\n",
       "      <th></th>\n",
       "      <th>user_id</th>\n",
       "      <th>name</th>\n",
       "      <th>age</th>\n",
       "      <th>city</th>\n",
       "      <th>subscription_type</th>\n",
       "      <th>minute_price</th>\n",
       "      <th>start_ride_price</th>\n",
       "      <th>subscription_fee</th>\n",
       "      <th>distance</th>\n",
       "      <th>duration</th>\n",
       "      <th>date</th>\n",
       "      <th>month</th>\n",
       "    </tr>\n",
       "  </thead>\n",
       "  <tbody>\n",
       "    <tr>\n",
       "      <th>0</th>\n",
       "      <td>1</td>\n",
       "      <td>Кира</td>\n",
       "      <td>22</td>\n",
       "      <td>Тюмень</td>\n",
       "      <td>ultra</td>\n",
       "      <td>6</td>\n",
       "      <td>0</td>\n",
       "      <td>199</td>\n",
       "      <td>4409.919140</td>\n",
       "      <td>25.599769</td>\n",
       "      <td>2021-01-01</td>\n",
       "      <td>1</td>\n",
       "    </tr>\n",
       "    <tr>\n",
       "      <th>1</th>\n",
       "      <td>1</td>\n",
       "      <td>Кира</td>\n",
       "      <td>22</td>\n",
       "      <td>Тюмень</td>\n",
       "      <td>ultra</td>\n",
       "      <td>6</td>\n",
       "      <td>0</td>\n",
       "      <td>199</td>\n",
       "      <td>2617.592153</td>\n",
       "      <td>15.816871</td>\n",
       "      <td>2021-01-18</td>\n",
       "      <td>1</td>\n",
       "    </tr>\n",
       "    <tr>\n",
       "      <th>2</th>\n",
       "      <td>1</td>\n",
       "      <td>Кира</td>\n",
       "      <td>22</td>\n",
       "      <td>Тюмень</td>\n",
       "      <td>ultra</td>\n",
       "      <td>6</td>\n",
       "      <td>0</td>\n",
       "      <td>199</td>\n",
       "      <td>754.159807</td>\n",
       "      <td>6.232113</td>\n",
       "      <td>2021-04-20</td>\n",
       "      <td>4</td>\n",
       "    </tr>\n",
       "    <tr>\n",
       "      <th>3</th>\n",
       "      <td>1</td>\n",
       "      <td>Кира</td>\n",
       "      <td>22</td>\n",
       "      <td>Тюмень</td>\n",
       "      <td>ultra</td>\n",
       "      <td>6</td>\n",
       "      <td>0</td>\n",
       "      <td>199</td>\n",
       "      <td>2694.783254</td>\n",
       "      <td>18.511000</td>\n",
       "      <td>2021-08-11</td>\n",
       "      <td>8</td>\n",
       "    </tr>\n",
       "    <tr>\n",
       "      <th>4</th>\n",
       "      <td>1</td>\n",
       "      <td>Кира</td>\n",
       "      <td>22</td>\n",
       "      <td>Тюмень</td>\n",
       "      <td>ultra</td>\n",
       "      <td>6</td>\n",
       "      <td>0</td>\n",
       "      <td>199</td>\n",
       "      <td>4028.687306</td>\n",
       "      <td>26.265803</td>\n",
       "      <td>2021-08-28</td>\n",
       "      <td>8</td>\n",
       "    </tr>\n",
       "  </tbody>\n",
       "</table>\n",
       "</div>"
      ],
      "text/plain": [
       "   user_id  name  age    city subscription_type  minute_price  \\\n",
       "0        1  Кира   22  Тюмень             ultra             6   \n",
       "1        1  Кира   22  Тюмень             ultra             6   \n",
       "2        1  Кира   22  Тюмень             ultra             6   \n",
       "3        1  Кира   22  Тюмень             ultra             6   \n",
       "4        1  Кира   22  Тюмень             ultra             6   \n",
       "\n",
       "   start_ride_price  subscription_fee     distance   duration       date  \\\n",
       "0                 0               199  4409.919140  25.599769 2021-01-01   \n",
       "1                 0               199  2617.592153  15.816871 2021-01-18   \n",
       "2                 0               199   754.159807   6.232113 2021-04-20   \n",
       "3                 0               199  2694.783254  18.511000 2021-08-11   \n",
       "4                 0               199  4028.687306  26.265803 2021-08-28   \n",
       "\n",
       "   month  \n",
       "0      1  \n",
       "1      1  \n",
       "2      4  \n",
       "3      8  \n",
       "4      8  "
      ]
     },
     "execution_count": 35,
     "metadata": {},
     "output_type": "execute_result"
    }
   ],
   "source": [
    "data.head(5)"
   ]
  },
  {
   "cell_type": "markdown",
   "id": "2f73cd74",
   "metadata": {},
   "source": [
    "Оценим размерность нового датасета:"
   ]
  },
  {
   "cell_type": "code",
   "execution_count": 36,
   "id": "322d8d06",
   "metadata": {
    "scrolled": true
   },
   "outputs": [
    {
     "data": {
      "text/plain": [
       "18068"
      ]
     },
     "execution_count": 36,
     "metadata": {},
     "output_type": "execute_result"
    }
   ],
   "source": [
    "data.shape[0]"
   ]
  },
  {
   "cell_type": "markdown",
   "id": "a6361fea",
   "metadata": {},
   "source": [
    "Значение соответствует ожидаемому."
   ]
  },
  {
   "cell_type": "markdown",
   "id": "58c618d6",
   "metadata": {},
   "source": [
    "##### Разделение полученного датафрейма на два с информацией о пользователей с подпиской и без"
   ]
  },
  {
   "cell_type": "markdown",
   "id": "da1b96ff",
   "metadata": {},
   "source": [
    "Отфильтруем получившийся объединенный датафрейм с информацией о пользователях с подпиской:"
   ]
  },
  {
   "cell_type": "code",
   "execution_count": 37,
   "id": "3c9f0067",
   "metadata": {},
   "outputs": [],
   "source": [
    "ultra = data.query(\"subscription_type == 'ultra'\")"
   ]
  },
  {
   "cell_type": "markdown",
   "id": "d3592b8c",
   "metadata": {},
   "source": [
    "Убедимся в успешности процесса фильтрации:"
   ]
  },
  {
   "cell_type": "code",
   "execution_count": 38,
   "id": "56ac73bf",
   "metadata": {
    "scrolled": true
   },
   "outputs": [
    {
     "data": {
      "text/html": [
       "<div>\n",
       "<style scoped>\n",
       "    .dataframe tbody tr th:only-of-type {\n",
       "        vertical-align: middle;\n",
       "    }\n",
       "\n",
       "    .dataframe tbody tr th {\n",
       "        vertical-align: top;\n",
       "    }\n",
       "\n",
       "    .dataframe thead th {\n",
       "        text-align: right;\n",
       "    }\n",
       "</style>\n",
       "<table border=\"1\" class=\"dataframe\">\n",
       "  <thead>\n",
       "    <tr style=\"text-align: right;\">\n",
       "      <th></th>\n",
       "      <th>user_id</th>\n",
       "      <th>name</th>\n",
       "      <th>age</th>\n",
       "      <th>city</th>\n",
       "      <th>subscription_type</th>\n",
       "      <th>minute_price</th>\n",
       "      <th>start_ride_price</th>\n",
       "      <th>subscription_fee</th>\n",
       "      <th>distance</th>\n",
       "      <th>duration</th>\n",
       "      <th>date</th>\n",
       "      <th>month</th>\n",
       "    </tr>\n",
       "  </thead>\n",
       "  <tbody>\n",
       "    <tr>\n",
       "      <th>0</th>\n",
       "      <td>1</td>\n",
       "      <td>Кира</td>\n",
       "      <td>22</td>\n",
       "      <td>Тюмень</td>\n",
       "      <td>ultra</td>\n",
       "      <td>6</td>\n",
       "      <td>0</td>\n",
       "      <td>199</td>\n",
       "      <td>4409.919140</td>\n",
       "      <td>25.599769</td>\n",
       "      <td>2021-01-01</td>\n",
       "      <td>1</td>\n",
       "    </tr>\n",
       "    <tr>\n",
       "      <th>1</th>\n",
       "      <td>1</td>\n",
       "      <td>Кира</td>\n",
       "      <td>22</td>\n",
       "      <td>Тюмень</td>\n",
       "      <td>ultra</td>\n",
       "      <td>6</td>\n",
       "      <td>0</td>\n",
       "      <td>199</td>\n",
       "      <td>2617.592153</td>\n",
       "      <td>15.816871</td>\n",
       "      <td>2021-01-18</td>\n",
       "      <td>1</td>\n",
       "    </tr>\n",
       "    <tr>\n",
       "      <th>2</th>\n",
       "      <td>1</td>\n",
       "      <td>Кира</td>\n",
       "      <td>22</td>\n",
       "      <td>Тюмень</td>\n",
       "      <td>ultra</td>\n",
       "      <td>6</td>\n",
       "      <td>0</td>\n",
       "      <td>199</td>\n",
       "      <td>754.159807</td>\n",
       "      <td>6.232113</td>\n",
       "      <td>2021-04-20</td>\n",
       "      <td>4</td>\n",
       "    </tr>\n",
       "    <tr>\n",
       "      <th>3</th>\n",
       "      <td>1</td>\n",
       "      <td>Кира</td>\n",
       "      <td>22</td>\n",
       "      <td>Тюмень</td>\n",
       "      <td>ultra</td>\n",
       "      <td>6</td>\n",
       "      <td>0</td>\n",
       "      <td>199</td>\n",
       "      <td>2694.783254</td>\n",
       "      <td>18.511000</td>\n",
       "      <td>2021-08-11</td>\n",
       "      <td>8</td>\n",
       "    </tr>\n",
       "    <tr>\n",
       "      <th>4</th>\n",
       "      <td>1</td>\n",
       "      <td>Кира</td>\n",
       "      <td>22</td>\n",
       "      <td>Тюмень</td>\n",
       "      <td>ultra</td>\n",
       "      <td>6</td>\n",
       "      <td>0</td>\n",
       "      <td>199</td>\n",
       "      <td>4028.687306</td>\n",
       "      <td>26.265803</td>\n",
       "      <td>2021-08-28</td>\n",
       "      <td>8</td>\n",
       "    </tr>\n",
       "  </tbody>\n",
       "</table>\n",
       "</div>"
      ],
      "text/plain": [
       "   user_id  name  age    city subscription_type  minute_price  \\\n",
       "0        1  Кира   22  Тюмень             ultra             6   \n",
       "1        1  Кира   22  Тюмень             ultra             6   \n",
       "2        1  Кира   22  Тюмень             ultra             6   \n",
       "3        1  Кира   22  Тюмень             ultra             6   \n",
       "4        1  Кира   22  Тюмень             ultra             6   \n",
       "\n",
       "   start_ride_price  subscription_fee     distance   duration       date  \\\n",
       "0                 0               199  4409.919140  25.599769 2021-01-01   \n",
       "1                 0               199  2617.592153  15.816871 2021-01-18   \n",
       "2                 0               199   754.159807   6.232113 2021-04-20   \n",
       "3                 0               199  2694.783254  18.511000 2021-08-11   \n",
       "4                 0               199  4028.687306  26.265803 2021-08-28   \n",
       "\n",
       "   month  \n",
       "0      1  \n",
       "1      1  \n",
       "2      4  \n",
       "3      8  \n",
       "4      8  "
      ]
     },
     "execution_count": 38,
     "metadata": {},
     "output_type": "execute_result"
    }
   ],
   "source": [
    "ultra.head(5)"
   ]
  },
  {
   "cell_type": "markdown",
   "id": "198bcb31",
   "metadata": {},
   "source": [
    "Отфильтруем получившийся объединенный датафрейм с информацией о пользователях без подписки:"
   ]
  },
  {
   "cell_type": "code",
   "execution_count": 39,
   "id": "63732bb1",
   "metadata": {},
   "outputs": [],
   "source": [
    "free = data.query(\"subscription_type == 'free'\")"
   ]
  },
  {
   "cell_type": "markdown",
   "id": "aef78473",
   "metadata": {},
   "source": [
    "Убедимся в успешности процесса фильтрации:"
   ]
  },
  {
   "cell_type": "code",
   "execution_count": 40,
   "id": "37e2ee79",
   "metadata": {
    "scrolled": true
   },
   "outputs": [
    {
     "data": {
      "text/html": [
       "<div>\n",
       "<style scoped>\n",
       "    .dataframe tbody tr th:only-of-type {\n",
       "        vertical-align: middle;\n",
       "    }\n",
       "\n",
       "    .dataframe tbody tr th {\n",
       "        vertical-align: top;\n",
       "    }\n",
       "\n",
       "    .dataframe thead th {\n",
       "        text-align: right;\n",
       "    }\n",
       "</style>\n",
       "<table border=\"1\" class=\"dataframe\">\n",
       "  <thead>\n",
       "    <tr style=\"text-align: right;\">\n",
       "      <th></th>\n",
       "      <th>user_id</th>\n",
       "      <th>name</th>\n",
       "      <th>age</th>\n",
       "      <th>city</th>\n",
       "      <th>subscription_type</th>\n",
       "      <th>minute_price</th>\n",
       "      <th>start_ride_price</th>\n",
       "      <th>subscription_fee</th>\n",
       "      <th>distance</th>\n",
       "      <th>duration</th>\n",
       "      <th>date</th>\n",
       "      <th>month</th>\n",
       "    </tr>\n",
       "  </thead>\n",
       "  <tbody>\n",
       "    <tr>\n",
       "      <th>6500</th>\n",
       "      <td>700</td>\n",
       "      <td>Айдар</td>\n",
       "      <td>22</td>\n",
       "      <td>Омск</td>\n",
       "      <td>free</td>\n",
       "      <td>8</td>\n",
       "      <td>50</td>\n",
       "      <td>0</td>\n",
       "      <td>2515.690719</td>\n",
       "      <td>14.944286</td>\n",
       "      <td>2021-01-02</td>\n",
       "      <td>1</td>\n",
       "    </tr>\n",
       "    <tr>\n",
       "      <th>6501</th>\n",
       "      <td>700</td>\n",
       "      <td>Айдар</td>\n",
       "      <td>22</td>\n",
       "      <td>Омск</td>\n",
       "      <td>free</td>\n",
       "      <td>8</td>\n",
       "      <td>50</td>\n",
       "      <td>0</td>\n",
       "      <td>846.932642</td>\n",
       "      <td>16.234663</td>\n",
       "      <td>2021-02-01</td>\n",
       "      <td>2</td>\n",
       "    </tr>\n",
       "    <tr>\n",
       "      <th>6502</th>\n",
       "      <td>700</td>\n",
       "      <td>Айдар</td>\n",
       "      <td>22</td>\n",
       "      <td>Омск</td>\n",
       "      <td>free</td>\n",
       "      <td>8</td>\n",
       "      <td>50</td>\n",
       "      <td>0</td>\n",
       "      <td>4004.434142</td>\n",
       "      <td>20.016628</td>\n",
       "      <td>2021-02-04</td>\n",
       "      <td>2</td>\n",
       "    </tr>\n",
       "    <tr>\n",
       "      <th>6503</th>\n",
       "      <td>700</td>\n",
       "      <td>Айдар</td>\n",
       "      <td>22</td>\n",
       "      <td>Омск</td>\n",
       "      <td>free</td>\n",
       "      <td>8</td>\n",
       "      <td>50</td>\n",
       "      <td>0</td>\n",
       "      <td>1205.911290</td>\n",
       "      <td>9.782872</td>\n",
       "      <td>2021-02-10</td>\n",
       "      <td>2</td>\n",
       "    </tr>\n",
       "    <tr>\n",
       "      <th>6504</th>\n",
       "      <td>700</td>\n",
       "      <td>Айдар</td>\n",
       "      <td>22</td>\n",
       "      <td>Омск</td>\n",
       "      <td>free</td>\n",
       "      <td>8</td>\n",
       "      <td>50</td>\n",
       "      <td>0</td>\n",
       "      <td>3047.379435</td>\n",
       "      <td>17.427673</td>\n",
       "      <td>2021-02-14</td>\n",
       "      <td>2</td>\n",
       "    </tr>\n",
       "  </tbody>\n",
       "</table>\n",
       "</div>"
      ],
      "text/plain": [
       "      user_id   name  age  city subscription_type  minute_price  \\\n",
       "6500      700  Айдар   22  Омск              free             8   \n",
       "6501      700  Айдар   22  Омск              free             8   \n",
       "6502      700  Айдар   22  Омск              free             8   \n",
       "6503      700  Айдар   22  Омск              free             8   \n",
       "6504      700  Айдар   22  Омск              free             8   \n",
       "\n",
       "      start_ride_price  subscription_fee     distance   duration       date  \\\n",
       "6500                50                 0  2515.690719  14.944286 2021-01-02   \n",
       "6501                50                 0   846.932642  16.234663 2021-02-01   \n",
       "6502                50                 0  4004.434142  20.016628 2021-02-04   \n",
       "6503                50                 0  1205.911290   9.782872 2021-02-10   \n",
       "6504                50                 0  3047.379435  17.427673 2021-02-14   \n",
       "\n",
       "      month  \n",
       "6500      1  \n",
       "6501      2  \n",
       "6502      2  \n",
       "6503      2  \n",
       "6504      2  "
      ]
     },
     "execution_count": 40,
     "metadata": {},
     "output_type": "execute_result"
    }
   ],
   "source": [
    "free.head(5)"
   ]
  },
  {
   "cell_type": "markdown",
   "id": "41932229",
   "metadata": {},
   "source": [
    "##### Расстояние и время поездок для каждой из категории пользователей (с подпиской и без)"
   ]
  },
  {
   "cell_type": "markdown",
   "id": "d93d69ed",
   "metadata": {},
   "source": [
    "Построим гистограммы по расстоянию для обеих категорий пользователей:"
   ]
  },
  {
   "cell_type": "code",
   "execution_count": 41,
   "id": "ac94b77f",
   "metadata": {},
   "outputs": [
    {
     "data": {
      "image/png": "[encoded data removed]",
      "text/plain": [
       "<Figure size 432x288 with 2 Axes>"
      ]
     },
     "metadata": {
      "needs_background": "light"
     },
     "output_type": "display_data"
    }
   ],
   "source": [
    "fig, axes = plt.subplots(1, 2)\n",
    "\n",
    "ultra[\"distance\"].hist(ax=axes[0])\n",
    "free[\"distance\"].hist(ax=axes[1])\n",
    "axes[0].title.set_text('Расстояние для юзеров с подпиской')\n",
    "plt.subplots_adjust(left=0.1,\n",
    "                    bottom=0.1, \n",
    "                    right=0.99, \n",
    "                    top=0.9, \n",
    "                    wspace=0.9, \n",
    "                    hspace=0.4)\n",
    "\n",
    "axes[1].title.set_text('Расстояние для юзеров без подписки')\n",
    "axes[0].set_xlabel('метров')\n",
    "axes[0].set_ylabel('частота')\n",
    "axes[1].set_xlabel('метров')\n",
    "axes[1].set_ylabel('частота');"
   ]
  },
  {
   "cell_type": "markdown",
   "id": "1b427378",
   "metadata": {},
   "source": [
    "Рассчитаем статистические показатели:"
   ]
  },
  {
   "cell_type": "code",
   "execution_count": 42,
   "id": "0837cd89",
   "metadata": {
    "scrolled": true
   },
   "outputs": [
    {
     "name": "stdout",
     "output_type": "stream",
     "text": [
      "Стат.показатели расстояния для пользователей с подпиской: \n",
      "count    6500.000000\n",
      "mean     3115.445388\n",
      "std       836.895330\n",
      "min       244.210438\n",
      "25%      2785.444017\n",
      "50%      3148.637229\n",
      "75%      3560.574425\n",
      "max      5699.769662\n",
      "Name: distance, dtype: float64\n",
      "\n",
      "\n",
      "Стат.показатели расстояния для пользователей без подписки: \n",
      "count    11568.000000\n",
      "mean      3045.495282\n",
      "std       1246.173806\n",
      "min          0.855683\n",
      "25%       2366.562689\n",
      "50%       3114.648465\n",
      "75%       3905.697894\n",
      "max       7211.007745\n",
      "Name: distance, dtype: float64\n"
     ]
    }
   ],
   "source": [
    "print(\"Стат.показатели расстояния для пользователей с подпиской: \")\n",
    "print(ultra[\"distance\"].describe())\n",
    "print(\"\\n\")\n",
    "print(\"Стат.показатели расстояния для пользователей без подписки: \")\n",
    "print(free[\"distance\"].describe())"
   ]
  },
  {
   "cell_type": "markdown",
   "id": "947ae34d",
   "metadata": {},
   "source": [
    "Для пользователей с подпиской среднее расстояние составило 3115 метров, большая часть поездок имеет расстояние от 2785 метров до 3560 метров.\n",
    "\n",
    "Для пользователей без подписки среднее расстояние составляет 3045 метров, большая часть поездок имеет расстояние от 2366 метров до 3905 метров."
   ]
  },
  {
   "cell_type": "markdown",
   "id": "ce97cead",
   "metadata": {},
   "source": [
    "Построим гистограммы по времени поездок для обеих категорий пользователей:"
   ]
  },
  {
   "cell_type": "code",
   "execution_count": 43,
   "id": "66367542",
   "metadata": {},
   "outputs": [
    {
     "data": {
      "image/png": "[encoded data removed]",
      "text/plain": [
       "<Figure size 432x288 with 2 Axes>"
      ]
     },
     "metadata": {
      "needs_background": "light"
     },
     "output_type": "display_data"
    }
   ],
   "source": [
    "fig, axes = plt.subplots(1, 2)\n",
    "\n",
    "ultra[\"duration\"].hist(ax=axes[0])\n",
    "free[\"duration\"].hist(ax=axes[1])\n",
    "axes[0].title.set_text('Время поездки для подписчиков')\n",
    "plt.subplots_adjust(left=0.1,\n",
    "                    bottom=0.1, \n",
    "                    right=0.99, \n",
    "                    top=0.9, \n",
    "                    wspace=0.9, \n",
    "                    hspace=0.4)\n",
    "\n",
    "axes[1].title.set_text('Время поездки для юзеров без подписки')\n",
    "axes[0].set_xlabel('мин')\n",
    "axes[0].set_ylabel('частота')\n",
    "axes[1].set_xlabel('мин')\n",
    "axes[1].set_ylabel('частота');"
   ]
  },
  {
   "cell_type": "markdown",
   "id": "97af64ca",
   "metadata": {},
   "source": [
    "Вычислим статистические показатели:"
   ]
  },
  {
   "cell_type": "code",
   "execution_count": 44,
   "id": "9594de28",
   "metadata": {
    "scrolled": true
   },
   "outputs": [
    {
     "name": "stdout",
     "output_type": "stream",
     "text": [
      "Стат.показатели для времени поездки для подписчиков: \n",
      "count    6500.000000\n",
      "mean       18.541985\n",
      "std         5.572048\n",
      "min         3.760353\n",
      "25%        14.524654\n",
      "50%        18.178153\n",
      "75%        21.884129\n",
      "max        40.823963\n",
      "Name: duration, dtype: float64\n",
      "\n",
      "\n",
      "Стат.показатели для времени поездки для пользователей без подписки: \n",
      "count    11568.000000\n",
      "mean        17.390909\n",
      "std          6.326803\n",
      "min          0.500000\n",
      "25%         12.958437\n",
      "50%         17.326890\n",
      "75%         21.594071\n",
      "max         34.948498\n",
      "Name: duration, dtype: float64\n"
     ]
    }
   ],
   "source": [
    "print(\"Стат.показатели для времени поездки для подписчиков: \")\n",
    "print(ultra[\"duration\"].describe())\n",
    "print(\"\\n\")\n",
    "print(\"Стат.показатели для времени поездки для пользователей без подписки: \")\n",
    "print(free[\"duration\"].describe())"
   ]
  },
  {
   "cell_type": "markdown",
   "id": "7d63cb32",
   "metadata": {},
   "source": [
    "Для пользователей с подпиской среднее время поездки составило 18 минут, большинство поездок имеют продолжительность от 14 до 21 минуты. Минимальное значение равно 3 минутам, максимальное значение равно 40 минутам.\n",
    "\n",
    "Для пользователей без подписки среднее время поездки составило 17 минут, большинство поездок имеют продолжительность от 12 до 21 минуты. Минимальное значение равно полминуты, максимально значение составляет 35 минут."
   ]
  },
  {
   "cell_type": "markdown",
   "id": "402d620f",
   "metadata": {},
   "source": [
    "#### Шаг 5. Подсчёт выручки"
   ]
  },
  {
   "cell_type": "markdown",
   "id": "60162825",
   "metadata": {},
   "source": [
    "##### Cуммарное расстояние, количество поездок и суммарное время для каждого пользователя за каждый месяц."
   ]
  },
  {
   "cell_type": "markdown",
   "id": "00ba6fef",
   "metadata": {},
   "source": [
    "Округлим значение каждой поездки:"
   ]
  },
  {
   "cell_type": "code",
   "execution_count": 45,
   "id": "d48d7354",
   "metadata": {},
   "outputs": [],
   "source": [
    "data['duration'] = np.ceil(data['duration']) "
   ]
  },
  {
   "cell_type": "markdown",
   "id": "0c4328c3",
   "metadata": {},
   "source": [
    "Создадим новый датафрейм с суммарным расстоянием, количеством поездок и суммарным временем для каждого пользователя за каждый месяц:"
   ]
  },
  {
   "cell_type": "code",
   "execution_count": 46,
   "id": "53049e0a",
   "metadata": {
    "scrolled": true
   },
   "outputs": [
    {
     "data": {
      "text/html": [
       "<div>\n",
       "<style scoped>\n",
       "    .dataframe tbody tr th:only-of-type {\n",
       "        vertical-align: middle;\n",
       "    }\n",
       "\n",
       "    .dataframe tbody tr th {\n",
       "        vertical-align: top;\n",
       "    }\n",
       "\n",
       "    .dataframe thead th {\n",
       "        text-align: right;\n",
       "    }\n",
       "</style>\n",
       "<table border=\"1\" class=\"dataframe\">\n",
       "  <thead>\n",
       "    <tr style=\"text-align: right;\">\n",
       "      <th></th>\n",
       "      <th></th>\n",
       "      <th>age</th>\n",
       "      <th>distance</th>\n",
       "      <th>duration</th>\n",
       "      <th>subscription_type</th>\n",
       "    </tr>\n",
       "    <tr>\n",
       "      <th>user_id</th>\n",
       "      <th>month</th>\n",
       "      <th></th>\n",
       "      <th></th>\n",
       "      <th></th>\n",
       "      <th></th>\n",
       "    </tr>\n",
       "  </thead>\n",
       "  <tbody>\n",
       "    <tr>\n",
       "      <th rowspan=\"5\" valign=\"top\">1</th>\n",
       "      <th>1</th>\n",
       "      <td>2</td>\n",
       "      <td>7027.511294</td>\n",
       "      <td>42.0</td>\n",
       "      <td>ultra</td>\n",
       "    </tr>\n",
       "    <tr>\n",
       "      <th>4</th>\n",
       "      <td>1</td>\n",
       "      <td>754.159807</td>\n",
       "      <td>7.0</td>\n",
       "      <td>ultra</td>\n",
       "    </tr>\n",
       "    <tr>\n",
       "      <th>8</th>\n",
       "      <td>2</td>\n",
       "      <td>6723.470560</td>\n",
       "      <td>46.0</td>\n",
       "      <td>ultra</td>\n",
       "    </tr>\n",
       "    <tr>\n",
       "      <th>10</th>\n",
       "      <td>2</td>\n",
       "      <td>5809.911100</td>\n",
       "      <td>32.0</td>\n",
       "      <td>ultra</td>\n",
       "    </tr>\n",
       "    <tr>\n",
       "      <th>11</th>\n",
       "      <td>3</td>\n",
       "      <td>7003.499363</td>\n",
       "      <td>56.0</td>\n",
       "      <td>ultra</td>\n",
       "    </tr>\n",
       "    <tr>\n",
       "      <th>...</th>\n",
       "      <th>...</th>\n",
       "      <td>...</td>\n",
       "      <td>...</td>\n",
       "      <td>...</td>\n",
       "      <td>...</td>\n",
       "    </tr>\n",
       "    <tr>\n",
       "      <th rowspan=\"5\" valign=\"top\">1534</th>\n",
       "      <th>6</th>\n",
       "      <td>2</td>\n",
       "      <td>3409.468534</td>\n",
       "      <td>26.0</td>\n",
       "      <td>free</td>\n",
       "    </tr>\n",
       "    <tr>\n",
       "      <th>8</th>\n",
       "      <td>2</td>\n",
       "      <td>7622.453034</td>\n",
       "      <td>48.0</td>\n",
       "      <td>free</td>\n",
       "    </tr>\n",
       "    <tr>\n",
       "      <th>9</th>\n",
       "      <td>1</td>\n",
       "      <td>4928.173852</td>\n",
       "      <td>23.0</td>\n",
       "      <td>free</td>\n",
       "    </tr>\n",
       "    <tr>\n",
       "      <th>11</th>\n",
       "      <td>4</td>\n",
       "      <td>13350.015305</td>\n",
       "      <td>78.0</td>\n",
       "      <td>free</td>\n",
       "    </tr>\n",
       "    <tr>\n",
       "      <th>12</th>\n",
       "      <td>1</td>\n",
       "      <td>2371.711192</td>\n",
       "      <td>16.0</td>\n",
       "      <td>free</td>\n",
       "    </tr>\n",
       "  </tbody>\n",
       "</table>\n",
       "<p>11331 rows × 4 columns</p>\n",
       "</div>"
      ],
      "text/plain": [
       "               age      distance  duration subscription_type\n",
       "user_id month                                               \n",
       "1       1        2   7027.511294      42.0             ultra\n",
       "        4        1    754.159807       7.0             ultra\n",
       "        8        2   6723.470560      46.0             ultra\n",
       "        10       2   5809.911100      32.0             ultra\n",
       "        11       3   7003.499363      56.0             ultra\n",
       "...            ...           ...       ...               ...\n",
       "1534    6        2   3409.468534      26.0              free\n",
       "        8        2   7622.453034      48.0              free\n",
       "        9        1   4928.173852      23.0              free\n",
       "        11       4  13350.015305      78.0              free\n",
       "        12       1   2371.711192      16.0              free\n",
       "\n",
       "[11331 rows x 4 columns]"
      ]
     },
     "execution_count": 46,
     "metadata": {},
     "output_type": "execute_result"
    }
   ],
   "source": [
    "monthly_data = pd.pivot_table(data, index=[\"user_id\", \"month\"], values =[\"distance\", \"duration\", \"age\", \"subscription_type\"], aggfunc= {\"distance\": sum, \"duration\": sum, \"age\": len, \"subscription_type\": min})\n",
    "monthly_data"
   ]
  },
  {
   "cell_type": "markdown",
   "id": "fc71ef39",
   "metadata": {},
   "source": [
    "Переименуем название столбцов на подходящие:"
   ]
  },
  {
   "cell_type": "code",
   "execution_count": 47,
   "id": "e083f2e6",
   "metadata": {
    "scrolled": true
   },
   "outputs": [],
   "source": [
    "monthly_data = monthly_data.rename(columns={'age':'rides'})"
   ]
  },
  {
   "cell_type": "markdown",
   "id": "c411e5da",
   "metadata": {},
   "source": [
    "##### Подсчет выручки"
   ]
  },
  {
   "cell_type": "markdown",
   "id": "2213453a",
   "metadata": {},
   "source": [
    "Добавим столбец с ежемесячной выручкой для каждого пользователя. Напишем функцию, которая возвращает значение выручки, в зависимости от типа подписки:"
   ]
  },
  {
   "cell_type": "code",
   "execution_count": 48,
   "id": "11bf8fff",
   "metadata": {},
   "outputs": [],
   "source": [
    "def user_profit(data):\n",
    "    if data[\"subscription_type\"] == 'ultra':\n",
    "        return data[\"duration\"] * 6 + 199\n",
    "    else:\n",
    "        return data[\"duration\"] * 8 + data[\"rides\"] * 50"
   ]
  },
  {
   "cell_type": "markdown",
   "id": "92ecf1e4",
   "metadata": {},
   "source": [
    "Применим данную функцию к датафрейму, создав новый столбец:"
   ]
  },
  {
   "cell_type": "code",
   "execution_count": 49,
   "id": "5453000f",
   "metadata": {},
   "outputs": [],
   "source": [
    "monthly_data[\"profit\"] = monthly_data.apply(user_profit, axis = 1)"
   ]
  },
  {
   "cell_type": "markdown",
   "id": "0301e5fb",
   "metadata": {},
   "source": [
    "Проверим успешность создания нового столбца:"
   ]
  },
  {
   "cell_type": "code",
   "execution_count": 50,
   "id": "83a9e015",
   "metadata": {},
   "outputs": [
    {
     "data": {
      "text/html": [
       "<div>\n",
       "<style scoped>\n",
       "    .dataframe tbody tr th:only-of-type {\n",
       "        vertical-align: middle;\n",
       "    }\n",
       "\n",
       "    .dataframe tbody tr th {\n",
       "        vertical-align: top;\n",
       "    }\n",
       "\n",
       "    .dataframe thead th {\n",
       "        text-align: right;\n",
       "    }\n",
       "</style>\n",
       "<table border=\"1\" class=\"dataframe\">\n",
       "  <thead>\n",
       "    <tr style=\"text-align: right;\">\n",
       "      <th></th>\n",
       "      <th></th>\n",
       "      <th>rides</th>\n",
       "      <th>distance</th>\n",
       "      <th>duration</th>\n",
       "      <th>subscription_type</th>\n",
       "      <th>profit</th>\n",
       "    </tr>\n",
       "    <tr>\n",
       "      <th>user_id</th>\n",
       "      <th>month</th>\n",
       "      <th></th>\n",
       "      <th></th>\n",
       "      <th></th>\n",
       "      <th></th>\n",
       "      <th></th>\n",
       "    </tr>\n",
       "  </thead>\n",
       "  <tbody>\n",
       "    <tr>\n",
       "      <th rowspan=\"5\" valign=\"top\">1</th>\n",
       "      <th>1</th>\n",
       "      <td>2</td>\n",
       "      <td>7027.511294</td>\n",
       "      <td>42.0</td>\n",
       "      <td>ultra</td>\n",
       "      <td>451.0</td>\n",
       "    </tr>\n",
       "    <tr>\n",
       "      <th>4</th>\n",
       "      <td>1</td>\n",
       "      <td>754.159807</td>\n",
       "      <td>7.0</td>\n",
       "      <td>ultra</td>\n",
       "      <td>241.0</td>\n",
       "    </tr>\n",
       "    <tr>\n",
       "      <th>8</th>\n",
       "      <td>2</td>\n",
       "      <td>6723.470560</td>\n",
       "      <td>46.0</td>\n",
       "      <td>ultra</td>\n",
       "      <td>475.0</td>\n",
       "    </tr>\n",
       "    <tr>\n",
       "      <th>10</th>\n",
       "      <td>2</td>\n",
       "      <td>5809.911100</td>\n",
       "      <td>32.0</td>\n",
       "      <td>ultra</td>\n",
       "      <td>391.0</td>\n",
       "    </tr>\n",
       "    <tr>\n",
       "      <th>11</th>\n",
       "      <td>3</td>\n",
       "      <td>7003.499363</td>\n",
       "      <td>56.0</td>\n",
       "      <td>ultra</td>\n",
       "      <td>535.0</td>\n",
       "    </tr>\n",
       "    <tr>\n",
       "      <th>...</th>\n",
       "      <th>...</th>\n",
       "      <td>...</td>\n",
       "      <td>...</td>\n",
       "      <td>...</td>\n",
       "      <td>...</td>\n",
       "      <td>...</td>\n",
       "    </tr>\n",
       "    <tr>\n",
       "      <th rowspan=\"5\" valign=\"top\">1534</th>\n",
       "      <th>6</th>\n",
       "      <td>2</td>\n",
       "      <td>3409.468534</td>\n",
       "      <td>26.0</td>\n",
       "      <td>free</td>\n",
       "      <td>308.0</td>\n",
       "    </tr>\n",
       "    <tr>\n",
       "      <th>8</th>\n",
       "      <td>2</td>\n",
       "      <td>7622.453034</td>\n",
       "      <td>48.0</td>\n",
       "      <td>free</td>\n",
       "      <td>484.0</td>\n",
       "    </tr>\n",
       "    <tr>\n",
       "      <th>9</th>\n",
       "      <td>1</td>\n",
       "      <td>4928.173852</td>\n",
       "      <td>23.0</td>\n",
       "      <td>free</td>\n",
       "      <td>234.0</td>\n",
       "    </tr>\n",
       "    <tr>\n",
       "      <th>11</th>\n",
       "      <td>4</td>\n",
       "      <td>13350.015305</td>\n",
       "      <td>78.0</td>\n",
       "      <td>free</td>\n",
       "      <td>824.0</td>\n",
       "    </tr>\n",
       "    <tr>\n",
       "      <th>12</th>\n",
       "      <td>1</td>\n",
       "      <td>2371.711192</td>\n",
       "      <td>16.0</td>\n",
       "      <td>free</td>\n",
       "      <td>178.0</td>\n",
       "    </tr>\n",
       "  </tbody>\n",
       "</table>\n",
       "<p>11331 rows × 5 columns</p>\n",
       "</div>"
      ],
      "text/plain": [
       "               rides      distance  duration subscription_type  profit\n",
       "user_id month                                                         \n",
       "1       1          2   7027.511294      42.0             ultra   451.0\n",
       "        4          1    754.159807       7.0             ultra   241.0\n",
       "        8          2   6723.470560      46.0             ultra   475.0\n",
       "        10         2   5809.911100      32.0             ultra   391.0\n",
       "        11         3   7003.499363      56.0             ultra   535.0\n",
       "...              ...           ...       ...               ...     ...\n",
       "1534    6          2   3409.468534      26.0              free   308.0\n",
       "        8          2   7622.453034      48.0              free   484.0\n",
       "        9          1   4928.173852      23.0              free   234.0\n",
       "        11         4  13350.015305      78.0              free   824.0\n",
       "        12         1   2371.711192      16.0              free   178.0\n",
       "\n",
       "[11331 rows x 5 columns]"
      ]
     },
     "execution_count": 50,
     "metadata": {},
     "output_type": "execute_result"
    }
   ],
   "source": [
    "monthly_data"
   ]
  },
  {
   "cell_type": "markdown",
   "id": "41545ac0",
   "metadata": {},
   "source": [
    "#### Шаг 6. Проверка гипотез"
   ]
  },
  {
   "cell_type": "markdown",
   "id": "1540add1",
   "metadata": {},
   "source": [
    "##### Проверка того, тратят ли пользователи с подпиской больше времени, чем пользователи без подписки."
   ]
  },
  {
   "cell_type": "markdown",
   "id": "be2255eb",
   "metadata": {},
   "source": [
    "Формулируем нулевую и альтернативную гипотезу:\n",
    "\n",
    "**H0: Среднее время, которое тратят пользоваели с подпиской, равно среднему времени, которое тратят пользователи без подписки.**\n",
    "\n",
    "**H1: Среднее время, которое тратят пользователи с подпиской, больше среднего времени, которое тратят пользователи без подписки.**\n",
    "\n",
    "\n",
    "\n",
    "Для проверки данной гипотезы используется правосторонний статистический t-тест для независимых выборок:"
   ]
  },
  {
   "cell_type": "code",
   "execution_count": 51,
   "id": "586544e9",
   "metadata": {},
   "outputs": [
    {
     "name": "stdout",
     "output_type": "stream",
     "text": [
      "Отвергаем нулевую гипотезу. p-value равен:  1.2804098316645618e-34\n"
     ]
    }
   ],
   "source": [
    "results = st.ttest_ind(ultra[\"duration\"], free[\"duration\"], alternative = 'greater')\n",
    "\n",
    "alpha = 0.05\n",
    "\n",
    "if results.pvalue < alpha:\n",
    "    print(\"Отвергаем нулевую гипотезу. p-value равен: \", results.pvalue)\n",
    "else:\n",
    "    print(\"Не получилось отвергнуть нулевую гипотезу. p-value равен: \", results.pvalue)"
   ]
  },
  {
   "cell_type": "markdown",
   "id": "1597aaa3",
   "metadata": {},
   "source": [
    "**Вывод**: Нулевая гипотеза была отвергнута. Следовательно, пользователи с подпиской тратят больше времени на поездки, чем пользователи без подписки."
   ]
  },
  {
   "cell_type": "markdown",
   "id": "3d7d5212",
   "metadata": {},
   "source": [
    "##### Проверка того, что среднее расстояние, которое проезжают пользователи с подпиской за одну поездку, не превышает 3130 метров"
   ]
  },
  {
   "cell_type": "markdown",
   "id": "7431003b",
   "metadata": {},
   "source": [
    "Формулируем нулевую и альтернативную гипотезы:\n",
    "\n",
    "**Н0: Среднее расстояние, которое проезжает пользователи с подпиской за одну поездку, равно 3130 метров.**\n",
    "\n",
    "**H1: Среднее расстояние, которое проезжают пользователи с подпиской за одну поездку, превышает 310 метров.**\n",
    "\n",
    "\n",
    "Для проверки данной гипотезы используется правосторонний статистический t-тест для одной выборки:"
   ]
  },
  {
   "cell_type": "code",
   "execution_count": 52,
   "id": "b025969d",
   "metadata": {},
   "outputs": [
    {
     "name": "stdout",
     "output_type": "stream",
     "text": [
      "Не получилось отвергнуть нулевую гипотезу. p-value равен:  0.9195368847849785\n"
     ]
    }
   ],
   "source": [
    "value = 3130\n",
    "alpha = 0.05\n",
    "\n",
    "results = st.ttest_1samp(ultra[\"distance\"], value, alternative=\"greater\")\n",
    "\n",
    "if results.pvalue < alpha:\n",
    "    print(\"Отвергаем нулевую гипотезу. p-value равен: \", results.pvalue)\n",
    "else:\n",
    "    print(\"Не получилось отвергнуть нулевую гипотезу. p-value равен: \", results.pvalue)"
   ]
  },
  {
   "cell_type": "markdown",
   "id": "12360f6d",
   "metadata": {},
   "source": [
    "Недостаточно данных, чтобы отвергнуть нулевую гипотезу, следовательно, среднее расстояние, которое проезжают пользователи с подпиской за одну поездку не превышает 3130 метров."
   ]
  },
  {
   "cell_type": "markdown",
   "id": "25d6d629",
   "metadata": {},
   "source": [
    "##### Проверка того, что помесячная выручка от пользователей с подпиской превышает таковую от пользователей без подписки"
   ]
  },
  {
   "cell_type": "markdown",
   "id": "12540f97",
   "metadata": {},
   "source": [
    "Сформулируем нулевую и альтернативную гипотезы:\n",
    "\n",
    "**H0: Среднее значение помесячной выручки от пользователей с подпиской равна среднему значению помесячной выручки от пользователей без подписки.**\n",
    "\n",
    "**H1: Среднее значение помесячной выручки от пользователей с подпиской превышает таковую от пользоватеей без подписки.**\n",
    "\n",
    "Для проверки данной гипотезы используется правосторонний статистический t-тест для независимых выборок:"
   ]
  },
  {
   "cell_type": "code",
   "execution_count": 53,
   "id": "0843ae76",
   "metadata": {
    "scrolled": true
   },
   "outputs": [
    {
     "name": "stdout",
     "output_type": "stream",
     "text": [
      "Отвергаем нулевую гипотезу. p-value равен:  1.8850394384715216e-31\n"
     ]
    }
   ],
   "source": [
    "results = st.ttest_ind(monthly_data.query(\"subscription_type == 'ultra'\")[\"profit\"], monthly_data.query(\"subscription_type == 'free'\")[\"profit\"], alternative = 'greater')\n",
    "alpha = 0.05\n",
    "if results.pvalue < alpha:\n",
    "    print(\"Отвергаем нулевую гипотезу. p-value равен: \", results.pvalue)\n",
    "else:\n",
    "    print(\"Не получилось отвергнуть нулевую гипотезу. p-value равен: \", results.pvalue)"
   ]
  },
  {
   "cell_type": "markdown",
   "id": "cfab13b1",
   "metadata": {},
   "source": [
    "Нулевая гипотеза была опровергнута. Следовательно, помесячная выручка от пользователей с подпиской превышает таковую от пользователей без подписки."
   ]
  },
  {
   "cell_type": "markdown",
   "id": "f2ad317c",
   "metadata": {},
   "source": [
    "##### Предложение для статистического теста для проверки снижения обращения в техподдержку"
   ]
  },
  {
   "cell_type": "markdown",
   "id": "43b8ea98",
   "metadata": {},
   "source": [
    "Нужно использовать статистический левосторонний t-test для зависимых выборок, до и после изменений. \n",
    "\n",
    "Формулировки нулевой и альтернативных гипотез звучат следующим образом:\n",
    "\n",
    "**H0: Среднее количество обращений в техподдержку после изменений равно среднему количеству обращений в техподдержку до изменений.**\n",
    "\n",
    "**H1:  Среднее количество обращений в техподдержку после изменений меньше среднего количества обращений в техподдержку до изменений.**\n",
    "\n",
    "Пример реализация теста:\n"
   ]
  },
  {
   "cell_type": "code",
   "execution_count": 54,
   "id": "da2c5935",
   "metadata": {},
   "outputs": [
    {
     "name": "stdout",
     "output_type": "stream",
     "text": [
      "Не получилось отвергнуть нулевую гипотезу\n"
     ]
    }
   ],
   "source": [
    "from scipy import stats as st\n",
    "   \n",
    "sample1 = [] # выборка до изменений\n",
    "sample2 = [] # выборка после изменений\n",
    "\n",
    "alpha = 0.05 # выбранный уровень статистической значимости\n",
    " \n",
    "results = st.ttest_rel(sample1, sample2, alternative=\"less\")\n",
    "    \n",
    "if results.pvalue < alpha: \n",
    "   \n",
    "    print(\"Отвергнуть нулевую гипотезу\")\n",
    "    \n",
    "else:\n",
    "    \n",
    "    print(\"Не получилось отвергнуть нулевую гипотезу\")\n",
    "    "
   ]
  },
  {
   "cell_type": "markdown",
   "id": "27cab7b3",
   "metadata": {},
   "source": [
    "#### Заключение"
   ]
  },
  {
   "cell_type": "markdown",
   "id": "59c544e2",
   "metadata": {},
   "source": [
    "В ходе исследования был проведен поэтапный исследовательский и статистический анализ данных. Этап предобработки показал высокое качество исходных данных. На этапе исследовательского анализа были визуализированы ключевые характеристики данных: частота встречаемости городов, соотношение пользователей с подпиской и без подписки, возраст пользователей, расстояние, которое преодолел пользователь за одну поездку и продолжительность поездок.\n",
    "\n",
    "Общие выводы по разделу с исследовательским анализом таковы:\n",
    "\n",
    "**1) Точки во всех городах развиты примерно одинаково (в абсолютных цифрах): примерно одинаковое количество юзеров пользуются ими.**\n",
    "\n",
    "*Потенциальная точка роста для бизнеса в этом аспекте: возможно, следует оценить реальную эффективность точек по городам, поскольку население городов разное, среди подборки есть так и крупные города-миллионники, а так и есть населением менее 300 тысяч.*\n",
    "\n",
    "**2) Количество пользователей с подпиской составляет меньший процент, чем пользователи без подписки. Однако, это тоже существенный процент - чуть меньше половины (46%).**\n",
    "\n",
    "**3) Большинство пользователей достаточно молоды: их возраст составляет от 22 до 28 лет.**\n",
    "\n",
    "*Потенциальная точка роста для бизнеса:* \n",
    "1) Оценить какая возрастная категория приносит больше прибыли.\n",
    "\n",
    "2) Исходя из результатов пункта 1, перестроить маркетинговые стратегии таким образом, чтобы сервис был максимально привлекательным для молодежи, либо пытаться привлечь другую возрастную аудиторию (но здесь есть риски, так как самокат приспособлен для более активных физически людей, что больше характерно именно для молодых людей).\n",
    "\n",
    "**4) Основная часть поездок занимает от 2500 до 3800 метров. Медианное значение - 3133 метров.**\n",
    "\n",
    "*Потенциальная точка роста для бизнеса: воспользоваться этой информацией, чтобы выявить, какой тип самоката оптимален по соотношению изностойкости/его цены/прибыли, которую он приносит.*\n",
    "\n",
    "\n",
    "**5) Среднее расстояние за поездку составляет 17 минут, большинство поездок длятся от 13 до 21 минуты.**\n",
    "\n",
    "*Потенциальная точка роста для бизнеса: использовать информацию по реальному времени поездок для тестирования новых вариантов тарификации для закрепления лояльности клиентов и повышения выручки.* \n",
    "\n",
    "\n",
    "Дальнейшие манипуляции с данными включали расчет различных месячных показателей для каждого пользователя: суммарного расстояния, количество поездок, суммарного времени и помесячной выручки.\n",
    "\n",
    "Результатом статистического анализа данных стало подтверждение следующих гипотез:\n",
    "\n",
    "**1. Гипотеза \"Пользователи с подпиской тратят больше времени, чем пользователи без подписки\" верна (p-value < 0.05, нулевая гипотеза была отвергнута).**\n",
    "\n",
    "**2. Гипотеза \"Среднее расстояние, которое проезжают пользователи с подпиской за одну поездку, не превышает 3130 метров\" верна (p-value > 0.05, нулевую гипотезу не получилось отвергнуть).**\n",
    "\n",
    "**3. Гипотеза \"Помесячная выручка от пользователей с подпиской превышает таковую от пользователей без подписки\" верна (p-value < 0.05, нулевая гипотеза была отвергнута).**\n",
    "\n",
    "Исходя из данных, для бизнеса необходимо увеличивать количество пользователей с подпиской, так как они дают более высокую выручку и оптимально, с точки зрения износа самоката, совершают поездки.\n",
    "\n",
    "Также дополнительной рекомендацией для бизнеса является то, что **необходимо использовать статистический тест равенства средних для зависимых выборок, до и после изменений в случае, если необходимо проверить, снизилось количество обращений в техподдержку или нет.**\n"
   ]
  }
 ],
 "metadata": {
  "ExecuteTimeLog": [
   {
    "duration": 363,
    "start_time": "2024-02-07T18:32:44.556Z"
   },
   {
    "duration": 289,
    "start_time": "2024-02-07T18:32:44.921Z"
   },
   {
    "duration": 14,
    "start_time": "2024-02-07T18:33:01.044Z"
   },
   {
    "duration": 8,
    "start_time": "2024-02-07T18:34:00.845Z"
   },
   {
    "duration": 59,
    "start_time": "2024-02-07T18:34:26.107Z"
   },
   {
    "duration": 7,
    "start_time": "2024-02-07T18:35:07.133Z"
   },
   {
    "duration": 401,
    "start_time": "2024-02-08T14:14:21.967Z"
   },
   {
    "duration": 182,
    "start_time": "2024-02-08T14:14:22.370Z"
   },
   {
    "duration": 15,
    "start_time": "2024-02-08T14:14:22.554Z"
   },
   {
    "duration": 26,
    "start_time": "2024-02-08T14:14:22.571Z"
   },
   {
    "duration": 24,
    "start_time": "2024-02-08T14:14:22.599Z"
   },
   {
    "duration": 410,
    "start_time": "2024-02-08T14:17:39.119Z"
   },
   {
    "duration": 66,
    "start_time": "2024-02-08T14:17:39.531Z"
   },
   {
    "duration": 18,
    "start_time": "2024-02-08T14:17:39.598Z"
   },
   {
    "duration": 13,
    "start_time": "2024-02-08T14:17:39.617Z"
   },
   {
    "duration": 10,
    "start_time": "2024-02-08T14:17:39.632Z"
   },
   {
    "duration": 13,
    "start_time": "2024-02-08T15:43:34.305Z"
   },
   {
    "duration": 11,
    "start_time": "2024-02-08T15:43:48.166Z"
   },
   {
    "duration": 7,
    "start_time": "2024-02-08T15:44:37.584Z"
   },
   {
    "duration": 6,
    "start_time": "2024-02-08T15:44:54.283Z"
   },
   {
    "duration": 64,
    "start_time": "2024-02-08T15:49:41.839Z"
   },
   {
    "duration": 11,
    "start_time": "2024-02-08T15:49:53.908Z"
   },
   {
    "duration": 6,
    "start_time": "2024-02-08T15:50:01.829Z"
   },
   {
    "duration": 1156,
    "start_time": "2024-02-08T15:50:28.596Z"
   },
   {
    "duration": 10,
    "start_time": "2024-02-08T15:51:42.128Z"
   },
   {
    "duration": 8,
    "start_time": "2024-02-08T15:51:58.266Z"
   },
   {
    "duration": 8,
    "start_time": "2024-02-08T15:53:27.003Z"
   },
   {
    "duration": 6,
    "start_time": "2024-02-08T15:53:41.293Z"
   },
   {
    "duration": 6,
    "start_time": "2024-02-08T15:55:40.267Z"
   },
   {
    "duration": 7,
    "start_time": "2024-02-08T15:55:58.657Z"
   },
   {
    "duration": 8,
    "start_time": "2024-02-08T15:56:10.107Z"
   },
   {
    "duration": 6,
    "start_time": "2024-02-08T15:56:31.128Z"
   },
   {
    "duration": 8,
    "start_time": "2024-02-08T15:56:55.751Z"
   },
   {
    "duration": 11,
    "start_time": "2024-02-08T15:59:14.387Z"
   },
   {
    "duration": 5,
    "start_time": "2024-02-08T15:59:41.906Z"
   },
   {
    "duration": 13,
    "start_time": "2024-02-08T16:01:24.631Z"
   },
   {
    "duration": 5,
    "start_time": "2024-02-08T16:01:39.174Z"
   },
   {
    "duration": 378,
    "start_time": "2024-02-08T16:01:55.936Z"
   },
   {
    "duration": 64,
    "start_time": "2024-02-08T16:01:56.316Z"
   },
   {
    "duration": 14,
    "start_time": "2024-02-08T16:01:56.381Z"
   },
   {
    "duration": 8,
    "start_time": "2024-02-08T16:01:56.397Z"
   },
   {
    "duration": 14,
    "start_time": "2024-02-08T16:01:56.406Z"
   },
   {
    "duration": 8,
    "start_time": "2024-02-08T16:01:56.422Z"
   },
   {
    "duration": 9,
    "start_time": "2024-02-08T16:01:56.431Z"
   },
   {
    "duration": 4,
    "start_time": "2024-02-08T16:01:56.442Z"
   },
   {
    "duration": 8,
    "start_time": "2024-02-08T16:01:56.447Z"
   },
   {
    "duration": 11,
    "start_time": "2024-02-08T16:01:56.457Z"
   },
   {
    "duration": 6,
    "start_time": "2024-02-08T16:01:56.469Z"
   },
   {
    "duration": 5,
    "start_time": "2024-02-08T16:01:56.476Z"
   },
   {
    "duration": 42,
    "start_time": "2024-02-08T16:01:56.483Z"
   },
   {
    "duration": 4,
    "start_time": "2024-02-08T16:01:56.527Z"
   },
   {
    "duration": 367,
    "start_time": "2024-02-08T16:03:28.680Z"
   },
   {
    "duration": 64,
    "start_time": "2024-02-08T16:03:29.049Z"
   },
   {
    "duration": 14,
    "start_time": "2024-02-08T16:03:29.115Z"
   },
   {
    "duration": 8,
    "start_time": "2024-02-08T16:03:29.130Z"
   },
   {
    "duration": 10,
    "start_time": "2024-02-08T16:03:29.140Z"
   },
   {
    "duration": 8,
    "start_time": "2024-02-08T16:03:29.151Z"
   },
   {
    "duration": 9,
    "start_time": "2024-02-08T16:03:29.160Z"
   },
   {
    "duration": 4,
    "start_time": "2024-02-08T16:03:29.171Z"
   },
   {
    "duration": 8,
    "start_time": "2024-02-08T16:03:29.176Z"
   },
   {
    "duration": 36,
    "start_time": "2024-02-08T16:03:29.185Z"
   },
   {
    "duration": 16,
    "start_time": "2024-02-08T16:03:29.222Z"
   },
   {
    "duration": 7,
    "start_time": "2024-02-08T16:03:29.240Z"
   },
   {
    "duration": 4,
    "start_time": "2024-02-08T16:03:29.248Z"
   },
   {
    "duration": 5,
    "start_time": "2024-02-08T16:03:29.255Z"
   },
   {
    "duration": 8,
    "start_time": "2024-02-08T16:03:58.039Z"
   },
   {
    "duration": 64,
    "start_time": "2024-02-08T16:04:48.659Z"
   },
   {
    "duration": 11,
    "start_time": "2024-02-08T16:04:54.014Z"
   },
   {
    "duration": 5,
    "start_time": "2024-02-08T16:05:10.489Z"
   },
   {
    "duration": 5,
    "start_time": "2024-02-08T16:06:11.479Z"
   },
   {
    "duration": 5,
    "start_time": "2024-02-08T16:06:17.055Z"
   },
   {
    "duration": 8,
    "start_time": "2024-02-08T16:06:37.904Z"
   },
   {
    "duration": 9,
    "start_time": "2024-02-08T16:11:08.054Z"
   },
   {
    "duration": 4,
    "start_time": "2024-02-08T16:11:19.479Z"
   },
   {
    "duration": 6,
    "start_time": "2024-02-08T16:11:25.329Z"
   },
   {
    "duration": 7,
    "start_time": "2024-02-08T16:18:45.189Z"
   },
   {
    "duration": 533,
    "start_time": "2024-02-08T16:18:51.571Z"
   },
   {
    "duration": 143,
    "start_time": "2024-02-08T16:19:08.097Z"
   },
   {
    "duration": 138,
    "start_time": "2024-02-08T16:19:55.766Z"
   },
   {
    "duration": 138,
    "start_time": "2024-02-08T16:20:49.181Z"
   },
   {
    "duration": 2,
    "start_time": "2024-02-08T16:21:32.214Z"
   },
   {
    "duration": 16,
    "start_time": "2024-02-08T16:23:08.741Z"
   },
   {
    "duration": 13,
    "start_time": "2024-02-08T16:23:14.889Z"
   },
   {
    "duration": 10,
    "start_time": "2024-02-08T16:24:07.723Z"
   },
   {
    "duration": 9,
    "start_time": "2024-02-08T16:24:39.792Z"
   },
   {
    "duration": 6,
    "start_time": "2024-02-08T16:25:06.095Z"
   },
   {
    "duration": 111,
    "start_time": "2024-02-08T16:26:45.142Z"
   },
   {
    "duration": 57,
    "start_time": "2024-02-08T16:27:07.023Z"
   },
   {
    "duration": 408,
    "start_time": "2024-02-08T16:27:13.090Z"
   },
   {
    "duration": 65,
    "start_time": "2024-02-08T16:27:13.499Z"
   },
   {
    "duration": 13,
    "start_time": "2024-02-08T16:27:13.565Z"
   },
   {
    "duration": 12,
    "start_time": "2024-02-08T16:27:13.580Z"
   },
   {
    "duration": 16,
    "start_time": "2024-02-08T16:27:13.593Z"
   },
   {
    "duration": 9,
    "start_time": "2024-02-08T16:27:13.611Z"
   },
   {
    "duration": 11,
    "start_time": "2024-02-08T16:27:13.621Z"
   },
   {
    "duration": 6,
    "start_time": "2024-02-08T16:27:13.633Z"
   },
   {
    "duration": 13,
    "start_time": "2024-02-08T16:27:13.640Z"
   },
   {
    "duration": 6,
    "start_time": "2024-02-08T16:27:13.654Z"
   },
   {
    "duration": 6,
    "start_time": "2024-02-08T16:27:13.662Z"
   },
   {
    "duration": 8,
    "start_time": "2024-02-08T16:27:13.669Z"
   },
   {
    "duration": 39,
    "start_time": "2024-02-08T16:27:13.679Z"
   },
   {
    "duration": 6,
    "start_time": "2024-02-08T16:27:13.720Z"
   },
   {
    "duration": 8,
    "start_time": "2024-02-08T16:27:13.727Z"
   },
   {
    "duration": 5,
    "start_time": "2024-02-08T16:27:13.736Z"
   },
   {
    "duration": 356,
    "start_time": "2024-02-08T16:27:13.743Z"
   },
   {
    "duration": 91,
    "start_time": "2024-02-08T16:27:14.101Z"
   },
   {
    "duration": 108,
    "start_time": "2024-02-08T16:30:34.757Z"
   },
   {
    "duration": 108,
    "start_time": "2024-02-08T16:31:29.186Z"
   },
   {
    "duration": 7,
    "start_time": "2024-02-08T16:33:47.477Z"
   },
   {
    "duration": 124,
    "start_time": "2024-02-08T16:47:01.256Z"
   },
   {
    "duration": 362,
    "start_time": "2024-02-08T16:50:57.244Z"
   },
   {
    "duration": 67,
    "start_time": "2024-02-08T16:50:57.608Z"
   },
   {
    "duration": 14,
    "start_time": "2024-02-08T16:50:57.677Z"
   },
   {
    "duration": 8,
    "start_time": "2024-02-08T16:50:57.693Z"
   },
   {
    "duration": 7,
    "start_time": "2024-02-08T16:50:57.702Z"
   },
   {
    "duration": 8,
    "start_time": "2024-02-08T16:50:57.710Z"
   },
   {
    "duration": 10,
    "start_time": "2024-02-08T16:50:57.719Z"
   },
   {
    "duration": 4,
    "start_time": "2024-02-08T16:50:57.731Z"
   },
   {
    "duration": 11,
    "start_time": "2024-02-08T16:50:57.736Z"
   },
   {
    "duration": 5,
    "start_time": "2024-02-08T16:50:57.749Z"
   },
   {
    "duration": 7,
    "start_time": "2024-02-08T16:50:57.755Z"
   },
   {
    "duration": 5,
    "start_time": "2024-02-08T16:50:57.764Z"
   },
   {
    "duration": 11,
    "start_time": "2024-02-08T16:50:57.770Z"
   },
   {
    "duration": 8,
    "start_time": "2024-02-08T16:50:57.782Z"
   },
   {
    "duration": 33,
    "start_time": "2024-02-08T16:50:57.791Z"
   },
   {
    "duration": 5,
    "start_time": "2024-02-08T16:50:57.825Z"
   },
   {
    "duration": 351,
    "start_time": "2024-02-08T16:50:57.831Z"
   },
   {
    "duration": 74,
    "start_time": "2024-02-08T16:50:58.184Z"
   },
   {
    "duration": 125,
    "start_time": "2024-02-08T16:50:58.259Z"
   },
   {
    "duration": 8,
    "start_time": "2024-02-08T16:50:58.385Z"
   },
   {
    "duration": 145,
    "start_time": "2024-02-08T16:50:58.394Z"
   },
   {
    "duration": 138,
    "start_time": "2024-02-08T16:50:58.541Z"
   },
   {
    "duration": 424,
    "start_time": "2024-02-10T11:02:09.597Z"
   },
   {
    "duration": 194,
    "start_time": "2024-02-10T11:02:10.023Z"
   },
   {
    "duration": 28,
    "start_time": "2024-02-10T11:02:10.219Z"
   },
   {
    "duration": 12,
    "start_time": "2024-02-10T11:02:10.250Z"
   },
   {
    "duration": 8,
    "start_time": "2024-02-10T11:02:10.263Z"
   },
   {
    "duration": 9,
    "start_time": "2024-02-10T11:02:10.272Z"
   },
   {
    "duration": 12,
    "start_time": "2024-02-10T11:02:10.282Z"
   },
   {
    "duration": 35,
    "start_time": "2024-02-10T11:02:10.295Z"
   },
   {
    "duration": 12,
    "start_time": "2024-02-10T11:02:10.338Z"
   },
   {
    "duration": 7,
    "start_time": "2024-02-10T11:02:10.353Z"
   },
   {
    "duration": 7,
    "start_time": "2024-02-10T11:02:10.362Z"
   },
   {
    "duration": 9,
    "start_time": "2024-02-10T11:02:10.371Z"
   },
   {
    "duration": 7,
    "start_time": "2024-02-10T11:02:10.382Z"
   },
   {
    "duration": 43,
    "start_time": "2024-02-10T11:02:10.391Z"
   },
   {
    "duration": 12,
    "start_time": "2024-02-10T11:02:10.442Z"
   },
   {
    "duration": 7,
    "start_time": "2024-02-10T11:02:10.455Z"
   },
   {
    "duration": 712,
    "start_time": "2024-02-10T11:02:10.464Z"
   },
   {
    "duration": 95,
    "start_time": "2024-02-10T11:02:11.179Z"
   },
   {
    "duration": 164,
    "start_time": "2024-02-10T11:02:11.276Z"
   },
   {
    "duration": 10,
    "start_time": "2024-02-10T11:02:11.442Z"
   },
   {
    "duration": 195,
    "start_time": "2024-02-10T11:02:11.454Z"
   },
   {
    "duration": 226,
    "start_time": "2024-02-10T11:02:11.651Z"
   },
   {
    "duration": 16,
    "start_time": "2024-02-10T11:07:02.399Z"
   },
   {
    "duration": 441,
    "start_time": "2024-02-10T11:07:08.617Z"
   },
   {
    "duration": 70,
    "start_time": "2024-02-10T11:07:09.061Z"
   },
   {
    "duration": 23,
    "start_time": "2024-02-10T11:07:09.135Z"
   },
   {
    "duration": 12,
    "start_time": "2024-02-10T11:07:09.159Z"
   },
   {
    "duration": 13,
    "start_time": "2024-02-10T11:07:09.174Z"
   },
   {
    "duration": 14,
    "start_time": "2024-02-10T11:07:09.189Z"
   },
   {
    "duration": 12,
    "start_time": "2024-02-10T11:07:09.222Z"
   },
   {
    "duration": 12,
    "start_time": "2024-02-10T11:07:09.240Z"
   },
   {
    "duration": 5,
    "start_time": "2024-02-10T11:07:09.254Z"
   },
   {
    "duration": 24,
    "start_time": "2024-02-10T11:07:09.261Z"
   },
   {
    "duration": 7,
    "start_time": "2024-02-10T11:07:09.287Z"
   },
   {
    "duration": 38,
    "start_time": "2024-02-10T11:07:09.296Z"
   },
   {
    "duration": 12,
    "start_time": "2024-02-10T11:07:09.339Z"
   },
   {
    "duration": 5,
    "start_time": "2024-02-10T11:07:09.353Z"
   },
   {
    "duration": 7,
    "start_time": "2024-02-10T11:07:09.360Z"
   },
   {
    "duration": 11,
    "start_time": "2024-02-10T11:07:09.368Z"
   },
   {
    "duration": 6,
    "start_time": "2024-02-10T11:07:09.380Z"
   },
   {
    "duration": 553,
    "start_time": "2024-02-10T11:07:09.387Z"
   },
   {
    "duration": 73,
    "start_time": "2024-02-10T11:07:09.942Z"
   },
   {
    "duration": 144,
    "start_time": "2024-02-10T11:07:10.023Z"
   },
   {
    "duration": 9,
    "start_time": "2024-02-10T11:07:10.169Z"
   },
   {
    "duration": 185,
    "start_time": "2024-02-10T11:07:10.180Z"
   },
   {
    "duration": 153,
    "start_time": "2024-02-10T11:07:10.366Z"
   },
   {
    "duration": 462,
    "start_time": "2024-02-10T11:09:34.597Z"
   },
   {
    "duration": 74,
    "start_time": "2024-02-10T11:09:35.061Z"
   },
   {
    "duration": 16,
    "start_time": "2024-02-10T11:09:35.138Z"
   },
   {
    "duration": 10,
    "start_time": "2024-02-10T11:09:35.157Z"
   },
   {
    "duration": 8,
    "start_time": "2024-02-10T11:09:35.169Z"
   },
   {
    "duration": 12,
    "start_time": "2024-02-10T11:09:35.179Z"
   },
   {
    "duration": 34,
    "start_time": "2024-02-10T11:09:35.193Z"
   },
   {
    "duration": 14,
    "start_time": "2024-02-10T11:09:35.228Z"
   },
   {
    "duration": 5,
    "start_time": "2024-02-10T11:09:35.244Z"
   },
   {
    "duration": 10,
    "start_time": "2024-02-10T11:09:35.252Z"
   },
   {
    "duration": 7,
    "start_time": "2024-02-10T11:09:35.264Z"
   },
   {
    "duration": 17,
    "start_time": "2024-02-10T11:09:35.272Z"
   },
   {
    "duration": 21,
    "start_time": "2024-02-10T11:09:35.291Z"
   },
   {
    "duration": 15,
    "start_time": "2024-02-10T11:09:35.323Z"
   },
   {
    "duration": 11,
    "start_time": "2024-02-10T11:09:35.342Z"
   },
   {
    "duration": 14,
    "start_time": "2024-02-10T11:09:35.355Z"
   },
   {
    "duration": 7,
    "start_time": "2024-02-10T11:09:35.371Z"
   },
   {
    "duration": 470,
    "start_time": "2024-02-10T11:09:35.379Z"
   },
   {
    "duration": 92,
    "start_time": "2024-02-10T11:09:35.851Z"
   },
   {
    "duration": 161,
    "start_time": "2024-02-10T11:09:35.945Z"
   },
   {
    "duration": 21,
    "start_time": "2024-02-10T11:09:36.108Z"
   },
   {
    "duration": 158,
    "start_time": "2024-02-10T11:09:36.137Z"
   },
   {
    "duration": 177,
    "start_time": "2024-02-10T11:09:36.297Z"
   },
   {
    "duration": 5,
    "start_time": "2024-02-10T11:18:14.911Z"
   },
   {
    "duration": 92,
    "start_time": "2024-02-10T11:33:08.059Z"
   },
   {
    "duration": 8,
    "start_time": "2024-02-10T11:33:38.672Z"
   },
   {
    "duration": 710,
    "start_time": "2024-02-10T11:33:42.512Z"
   },
   {
    "duration": 70,
    "start_time": "2024-02-10T11:33:43.228Z"
   },
   {
    "duration": 13,
    "start_time": "2024-02-10T11:33:43.300Z"
   },
   {
    "duration": 33,
    "start_time": "2024-02-10T11:33:43.315Z"
   },
   {
    "duration": 21,
    "start_time": "2024-02-10T11:33:43.351Z"
   },
   {
    "duration": 28,
    "start_time": "2024-02-10T11:33:43.373Z"
   },
   {
    "duration": 7,
    "start_time": "2024-02-10T11:33:43.403Z"
   },
   {
    "duration": 33,
    "start_time": "2024-02-10T11:33:43.411Z"
   },
   {
    "duration": 6,
    "start_time": "2024-02-10T11:33:43.449Z"
   },
   {
    "duration": 19,
    "start_time": "2024-02-10T11:33:43.457Z"
   },
   {
    "duration": 14,
    "start_time": "2024-02-10T11:33:43.477Z"
   },
   {
    "duration": 26,
    "start_time": "2024-02-10T11:33:43.492Z"
   },
   {
    "duration": 27,
    "start_time": "2024-02-10T11:33:43.520Z"
   },
   {
    "duration": 27,
    "start_time": "2024-02-10T11:33:43.549Z"
   },
   {
    "duration": 22,
    "start_time": "2024-02-10T11:33:43.578Z"
   },
   {
    "duration": 21,
    "start_time": "2024-02-10T11:33:43.602Z"
   },
   {
    "duration": 24,
    "start_time": "2024-02-10T11:33:43.624Z"
   },
   {
    "duration": 149,
    "start_time": "2024-02-10T11:33:43.650Z"
   },
   {
    "duration": 101,
    "start_time": "2024-02-10T11:33:43.800Z"
   },
   {
    "duration": 163,
    "start_time": "2024-02-10T11:33:43.903Z"
   },
   {
    "duration": 9,
    "start_time": "2024-02-10T11:33:44.068Z"
   },
   {
    "duration": 177,
    "start_time": "2024-02-10T11:33:44.079Z"
   },
   {
    "duration": 213,
    "start_time": "2024-02-10T11:33:44.258Z"
   },
   {
    "duration": 170,
    "start_time": "2024-02-10T11:35:05.385Z"
   },
   {
    "duration": 219,
    "start_time": "2024-02-10T11:35:28.065Z"
   },
   {
    "duration": 149,
    "start_time": "2024-02-10T11:35:39.291Z"
   },
   {
    "duration": 150,
    "start_time": "2024-02-10T11:36:26.105Z"
   },
   {
    "duration": 145,
    "start_time": "2024-02-10T11:38:21.072Z"
   },
   {
    "duration": 93,
    "start_time": "2024-02-10T11:41:30.171Z"
   },
   {
    "duration": 94,
    "start_time": "2024-02-10T11:41:38.380Z"
   },
   {
    "duration": 81,
    "start_time": "2024-02-10T11:44:12.792Z"
   },
   {
    "duration": 102,
    "start_time": "2024-02-10T11:44:23.749Z"
   },
   {
    "duration": 7,
    "start_time": "2024-02-10T11:44:52.768Z"
   },
   {
    "duration": 85,
    "start_time": "2024-02-10T11:49:07.259Z"
   },
   {
    "duration": 94,
    "start_time": "2024-02-10T11:49:16.554Z"
   },
   {
    "duration": 93,
    "start_time": "2024-02-10T11:49:23.598Z"
   },
   {
    "duration": 234,
    "start_time": "2024-02-10T12:10:54.339Z"
   },
   {
    "duration": 147,
    "start_time": "2024-02-10T12:11:01.332Z"
   },
   {
    "duration": 141,
    "start_time": "2024-02-10T12:11:11.273Z"
   },
   {
    "duration": 144,
    "start_time": "2024-02-10T12:11:25.647Z"
   },
   {
    "duration": 146,
    "start_time": "2024-02-10T12:11:32.373Z"
   },
   {
    "duration": 139,
    "start_time": "2024-02-10T12:11:36.748Z"
   },
   {
    "duration": 136,
    "start_time": "2024-02-10T12:12:09.742Z"
   },
   {
    "duration": 150,
    "start_time": "2024-02-10T12:12:15.139Z"
   },
   {
    "duration": 139,
    "start_time": "2024-02-10T12:13:28.539Z"
   },
   {
    "duration": 125,
    "start_time": "2024-02-10T12:13:37.660Z"
   },
   {
    "duration": 130,
    "start_time": "2024-02-10T12:14:48.529Z"
   },
   {
    "duration": 214,
    "start_time": "2024-02-10T12:15:07.145Z"
   },
   {
    "duration": 51,
    "start_time": "2024-02-10T14:53:38.213Z"
   },
   {
    "duration": 897,
    "start_time": "2024-02-10T14:53:45.993Z"
   },
   {
    "duration": 186,
    "start_time": "2024-02-10T14:53:46.893Z"
   },
   {
    "duration": 13,
    "start_time": "2024-02-10T14:53:47.081Z"
   },
   {
    "duration": 9,
    "start_time": "2024-02-10T14:53:47.096Z"
   },
   {
    "duration": 8,
    "start_time": "2024-02-10T14:53:47.106Z"
   },
   {
    "duration": 14,
    "start_time": "2024-02-10T14:53:47.116Z"
   },
   {
    "duration": 7,
    "start_time": "2024-02-10T14:53:47.133Z"
   },
   {
    "duration": 11,
    "start_time": "2024-02-10T14:53:47.142Z"
   },
   {
    "duration": 5,
    "start_time": "2024-02-10T14:53:47.154Z"
   },
   {
    "duration": 9,
    "start_time": "2024-02-10T14:53:47.163Z"
   },
   {
    "duration": 6,
    "start_time": "2024-02-10T14:53:47.173Z"
   },
   {
    "duration": 43,
    "start_time": "2024-02-10T14:53:47.181Z"
   },
   {
    "duration": 6,
    "start_time": "2024-02-10T14:53:47.226Z"
   },
   {
    "duration": 6,
    "start_time": "2024-02-10T14:53:47.233Z"
   },
   {
    "duration": 6,
    "start_time": "2024-02-10T14:53:47.240Z"
   },
   {
    "duration": 11,
    "start_time": "2024-02-10T14:53:47.248Z"
   },
   {
    "duration": 4,
    "start_time": "2024-02-10T14:53:47.261Z"
   },
   {
    "duration": 16,
    "start_time": "2024-02-10T14:53:47.266Z"
   },
   {
    "duration": 171,
    "start_time": "2024-02-10T14:53:47.284Z"
   },
   {
    "duration": 114,
    "start_time": "2024-02-10T14:53:47.456Z"
   },
   {
    "duration": 131,
    "start_time": "2024-02-10T14:53:47.572Z"
   },
   {
    "duration": 7,
    "start_time": "2024-02-10T14:53:47.705Z"
   },
   {
    "duration": 146,
    "start_time": "2024-02-10T14:53:47.723Z"
   },
   {
    "duration": 216,
    "start_time": "2024-02-10T14:53:47.871Z"
   },
   {
    "duration": 755,
    "start_time": "2024-02-10T14:56:29.764Z"
   },
   {
    "duration": 68,
    "start_time": "2024-02-10T14:56:30.521Z"
   },
   {
    "duration": 13,
    "start_time": "2024-02-10T14:56:30.590Z"
   },
   {
    "duration": 17,
    "start_time": "2024-02-10T14:56:30.605Z"
   },
   {
    "duration": 38,
    "start_time": "2024-02-10T14:56:30.624Z"
   },
   {
    "duration": 61,
    "start_time": "2024-02-10T14:56:30.663Z"
   },
   {
    "duration": 30,
    "start_time": "2024-02-10T14:56:30.732Z"
   },
   {
    "duration": 19,
    "start_time": "2024-02-10T14:56:30.764Z"
   },
   {
    "duration": 20,
    "start_time": "2024-02-10T14:56:30.785Z"
   },
   {
    "duration": 38,
    "start_time": "2024-02-10T14:56:30.807Z"
   },
   {
    "duration": 23,
    "start_time": "2024-02-10T14:56:30.847Z"
   },
   {
    "duration": 24,
    "start_time": "2024-02-10T14:56:30.871Z"
   },
   {
    "duration": 46,
    "start_time": "2024-02-10T14:56:30.897Z"
   },
   {
    "duration": 32,
    "start_time": "2024-02-10T14:56:30.944Z"
   },
   {
    "duration": 26,
    "start_time": "2024-02-10T14:56:30.978Z"
   },
   {
    "duration": 39,
    "start_time": "2024-02-10T14:56:31.005Z"
   },
   {
    "duration": 20,
    "start_time": "2024-02-10T14:56:31.046Z"
   },
   {
    "duration": 40,
    "start_time": "2024-02-10T14:56:31.067Z"
   },
   {
    "duration": 235,
    "start_time": "2024-02-10T14:56:31.109Z"
   },
   {
    "duration": 106,
    "start_time": "2024-02-10T14:56:31.345Z"
   },
   {
    "duration": 1120,
    "start_time": "2024-02-10T14:56:31.452Z"
   },
   {
    "duration": 5256,
    "start_time": "2024-02-10T14:56:32.574Z"
   },
   {
    "duration": 867,
    "start_time": "2024-02-10T14:56:37.831Z"
   },
   {
    "duration": 191,
    "start_time": "2024-02-10T14:56:38.700Z"
   },
   {
    "duration": 139,
    "start_time": "2024-02-10T14:59:34.885Z"
   },
   {
    "duration": 148,
    "start_time": "2024-02-10T14:59:59.425Z"
   },
   {
    "duration": 123,
    "start_time": "2024-02-10T15:00:19.680Z"
   },
   {
    "duration": 75,
    "start_time": "2024-02-10T15:01:35.700Z"
   },
   {
    "duration": 94,
    "start_time": "2024-02-10T15:02:39.218Z"
   },
   {
    "duration": 15,
    "start_time": "2024-02-10T15:04:57.227Z"
   },
   {
    "duration": 13,
    "start_time": "2024-02-10T15:05:04.349Z"
   },
   {
    "duration": 130,
    "start_time": "2024-02-10T15:05:58.235Z"
   },
   {
    "duration": 1230,
    "start_time": "2024-02-10T15:09:11.345Z"
   },
   {
    "duration": 68,
    "start_time": "2024-02-10T15:09:12.576Z"
   },
   {
    "duration": 13,
    "start_time": "2024-02-10T15:09:12.646Z"
   },
   {
    "duration": 9,
    "start_time": "2024-02-10T15:09:12.661Z"
   },
   {
    "duration": 13,
    "start_time": "2024-02-10T15:09:12.673Z"
   },
   {
    "duration": 15,
    "start_time": "2024-02-10T15:09:12.688Z"
   },
   {
    "duration": 21,
    "start_time": "2024-02-10T15:09:12.705Z"
   },
   {
    "duration": 13,
    "start_time": "2024-02-10T15:09:12.728Z"
   },
   {
    "duration": 7,
    "start_time": "2024-02-10T15:09:12.743Z"
   },
   {
    "duration": 10,
    "start_time": "2024-02-10T15:09:12.754Z"
   },
   {
    "duration": 7,
    "start_time": "2024-02-10T15:09:12.766Z"
   },
   {
    "duration": 10,
    "start_time": "2024-02-10T15:09:12.775Z"
   },
   {
    "duration": 7,
    "start_time": "2024-02-10T15:09:12.823Z"
   },
   {
    "duration": 11,
    "start_time": "2024-02-10T15:09:12.832Z"
   },
   {
    "duration": 30,
    "start_time": "2024-02-10T15:09:12.846Z"
   },
   {
    "duration": 9,
    "start_time": "2024-02-10T15:09:12.878Z"
   },
   {
    "duration": 5,
    "start_time": "2024-02-10T15:09:12.889Z"
   },
   {
    "duration": 157,
    "start_time": "2024-02-10T15:09:12.896Z"
   },
   {
    "duration": 104,
    "start_time": "2024-02-10T15:09:13.055Z"
   },
   {
    "duration": 137,
    "start_time": "2024-02-10T15:09:13.161Z"
   },
   {
    "duration": 99,
    "start_time": "2024-02-10T15:09:13.300Z"
   },
   {
    "duration": 8,
    "start_time": "2024-02-10T15:09:13.400Z"
   },
   {
    "duration": 169,
    "start_time": "2024-02-10T15:09:13.410Z"
   },
   {
    "duration": 158,
    "start_time": "2024-02-10T15:09:13.581Z"
   },
   {
    "duration": 8,
    "start_time": "2024-02-10T15:21:28.654Z"
   },
   {
    "duration": 152,
    "start_time": "2024-02-10T15:21:38.413Z"
   },
   {
    "duration": 251,
    "start_time": "2024-02-10T15:22:03.904Z"
   },
   {
    "duration": 1182,
    "start_time": "2024-02-10T15:22:12.576Z"
   },
   {
    "duration": 67,
    "start_time": "2024-02-10T15:22:13.760Z"
   },
   {
    "duration": 13,
    "start_time": "2024-02-10T15:22:13.828Z"
   },
   {
    "duration": 9,
    "start_time": "2024-02-10T15:22:13.843Z"
   },
   {
    "duration": 8,
    "start_time": "2024-02-10T15:22:13.853Z"
   },
   {
    "duration": 16,
    "start_time": "2024-02-10T15:22:13.863Z"
   },
   {
    "duration": 7,
    "start_time": "2024-02-10T15:22:13.881Z"
   },
   {
    "duration": 34,
    "start_time": "2024-02-10T15:22:13.889Z"
   },
   {
    "duration": 5,
    "start_time": "2024-02-10T15:22:13.925Z"
   },
   {
    "duration": 10,
    "start_time": "2024-02-10T15:22:13.933Z"
   },
   {
    "duration": 11,
    "start_time": "2024-02-10T15:22:13.944Z"
   },
   {
    "duration": 5,
    "start_time": "2024-02-10T15:22:13.957Z"
   },
   {
    "duration": 6,
    "start_time": "2024-02-10T15:22:13.964Z"
   },
   {
    "duration": 10,
    "start_time": "2024-02-10T15:22:13.971Z"
   },
   {
    "duration": 12,
    "start_time": "2024-02-10T15:22:13.982Z"
   },
   {
    "duration": 34,
    "start_time": "2024-02-10T15:22:13.995Z"
   },
   {
    "duration": 5,
    "start_time": "2024-02-10T15:22:14.031Z"
   },
   {
    "duration": 182,
    "start_time": "2024-02-10T15:22:14.038Z"
   },
   {
    "duration": 103,
    "start_time": "2024-02-10T15:22:14.222Z"
   },
   {
    "duration": 149,
    "start_time": "2024-02-10T15:22:14.327Z"
   },
   {
    "duration": 99,
    "start_time": "2024-02-10T15:22:14.478Z"
   },
   {
    "duration": 8,
    "start_time": "2024-02-10T15:22:14.578Z"
   },
   {
    "duration": 169,
    "start_time": "2024-02-10T15:22:14.587Z"
   },
   {
    "duration": 151,
    "start_time": "2024-02-10T15:22:14.757Z"
   },
   {
    "duration": 6,
    "start_time": "2024-02-10T15:22:46.349Z"
   },
   {
    "duration": 109,
    "start_time": "2024-02-10T15:24:32.028Z"
   },
   {
    "duration": 7,
    "start_time": "2024-02-10T15:24:36.418Z"
   },
   {
    "duration": 12,
    "start_time": "2024-02-10T15:24:47.447Z"
   },
   {
    "duration": 3,
    "start_time": "2024-02-10T15:24:56.227Z"
   },
   {
    "duration": 7,
    "start_time": "2024-02-10T15:25:02.084Z"
   },
   {
    "duration": 1226,
    "start_time": "2024-02-10T15:25:12.060Z"
   },
   {
    "duration": 69,
    "start_time": "2024-02-10T15:25:13.287Z"
   },
   {
    "duration": 13,
    "start_time": "2024-02-10T15:25:13.358Z"
   },
   {
    "duration": 9,
    "start_time": "2024-02-10T15:25:13.373Z"
   },
   {
    "duration": 11,
    "start_time": "2024-02-10T15:25:13.384Z"
   },
   {
    "duration": 20,
    "start_time": "2024-02-10T15:25:13.397Z"
   },
   {
    "duration": 7,
    "start_time": "2024-02-10T15:25:13.419Z"
   },
   {
    "duration": 11,
    "start_time": "2024-02-10T15:25:13.428Z"
   },
   {
    "duration": 5,
    "start_time": "2024-02-10T15:25:13.440Z"
   },
   {
    "duration": 19,
    "start_time": "2024-02-10T15:25:13.446Z"
   },
   {
    "duration": 6,
    "start_time": "2024-02-10T15:25:13.467Z"
   },
   {
    "duration": 18,
    "start_time": "2024-02-10T15:25:13.474Z"
   },
   {
    "duration": 7,
    "start_time": "2024-02-10T15:25:13.495Z"
   },
   {
    "duration": 6,
    "start_time": "2024-02-10T15:25:13.524Z"
   },
   {
    "duration": 6,
    "start_time": "2024-02-10T15:25:13.531Z"
   },
   {
    "duration": 9,
    "start_time": "2024-02-10T15:25:13.540Z"
   },
   {
    "duration": 4,
    "start_time": "2024-02-10T15:25:13.551Z"
   },
   {
    "duration": 191,
    "start_time": "2024-02-10T15:25:13.557Z"
   },
   {
    "duration": 99,
    "start_time": "2024-02-10T15:25:13.750Z"
   },
   {
    "duration": 136,
    "start_time": "2024-02-10T15:25:13.851Z"
   },
   {
    "duration": 96,
    "start_time": "2024-02-10T15:25:13.988Z"
   },
   {
    "duration": 8,
    "start_time": "2024-02-10T15:25:14.085Z"
   },
   {
    "duration": 160,
    "start_time": "2024-02-10T15:25:14.095Z"
   },
   {
    "duration": 168,
    "start_time": "2024-02-10T15:25:14.257Z"
   },
   {
    "duration": 140,
    "start_time": "2024-02-10T15:25:23.086Z"
   },
   {
    "duration": 148,
    "start_time": "2024-02-10T15:25:51.527Z"
   },
   {
    "duration": 710,
    "start_time": "2024-02-10T15:25:59.617Z"
   },
   {
    "duration": 69,
    "start_time": "2024-02-10T15:26:00.328Z"
   },
   {
    "duration": 13,
    "start_time": "2024-02-10T15:26:00.399Z"
   },
   {
    "duration": 32,
    "start_time": "2024-02-10T15:26:00.414Z"
   },
   {
    "duration": 31,
    "start_time": "2024-02-10T15:26:00.447Z"
   },
   {
    "duration": 42,
    "start_time": "2024-02-10T15:26:00.480Z"
   },
   {
    "duration": 20,
    "start_time": "2024-02-10T15:26:00.523Z"
   },
   {
    "duration": 90,
    "start_time": "2024-02-10T15:26:00.544Z"
   },
   {
    "duration": 128,
    "start_time": "2024-02-10T15:26:00.636Z"
   },
   {
    "duration": 17,
    "start_time": "2024-02-10T15:26:00.767Z"
   },
   {
    "duration": 27,
    "start_time": "2024-02-10T15:26:00.786Z"
   },
   {
    "duration": 30,
    "start_time": "2024-02-10T15:26:00.815Z"
   },
   {
    "duration": 28,
    "start_time": "2024-02-10T15:26:00.846Z"
   },
   {
    "duration": 26,
    "start_time": "2024-02-10T15:26:00.876Z"
   },
   {
    "duration": 26,
    "start_time": "2024-02-10T15:26:00.903Z"
   },
   {
    "duration": 20,
    "start_time": "2024-02-10T15:26:00.931Z"
   },
   {
    "duration": 18,
    "start_time": "2024-02-10T15:26:00.953Z"
   },
   {
    "duration": 178,
    "start_time": "2024-02-10T15:26:00.973Z"
   },
   {
    "duration": 94,
    "start_time": "2024-02-10T15:26:01.153Z"
   },
   {
    "duration": 138,
    "start_time": "2024-02-10T15:26:01.249Z"
   },
   {
    "duration": 95,
    "start_time": "2024-02-10T15:26:01.389Z"
   },
   {
    "duration": 9,
    "start_time": "2024-02-10T15:26:01.486Z"
   },
   {
    "duration": 237,
    "start_time": "2024-02-10T15:26:01.497Z"
   },
   {
    "duration": 166,
    "start_time": "2024-02-10T15:26:01.735Z"
   },
   {
    "duration": 7,
    "start_time": "2024-02-10T15:26:26.037Z"
   },
   {
    "duration": 56,
    "start_time": "2024-02-10T15:28:19.276Z"
   },
   {
    "duration": 132,
    "start_time": "2024-02-10T15:28:44.839Z"
   },
   {
    "duration": 149,
    "start_time": "2024-02-10T15:28:51.563Z"
   },
   {
    "duration": 6,
    "start_time": "2024-02-10T15:29:55.499Z"
   },
   {
    "duration": 7,
    "start_time": "2024-02-10T15:30:04.242Z"
   },
   {
    "duration": 6,
    "start_time": "2024-02-10T15:30:10.816Z"
   },
   {
    "duration": 143,
    "start_time": "2024-02-10T15:30:33.350Z"
   },
   {
    "duration": 80,
    "start_time": "2024-02-10T15:31:48.230Z"
   },
   {
    "duration": 7,
    "start_time": "2024-02-10T15:33:36.551Z"
   },
   {
    "duration": 145,
    "start_time": "2024-02-10T15:33:42.049Z"
   },
   {
    "duration": 12,
    "start_time": "2024-02-10T15:34:26.608Z"
   },
   {
    "duration": 143,
    "start_time": "2024-02-10T15:34:33.658Z"
   },
   {
    "duration": 6,
    "start_time": "2024-02-10T15:34:42.214Z"
   },
   {
    "duration": 628,
    "start_time": "2024-02-10T15:35:05.580Z"
   },
   {
    "duration": 69,
    "start_time": "2024-02-10T15:35:06.210Z"
   },
   {
    "duration": 13,
    "start_time": "2024-02-10T15:35:06.281Z"
   },
   {
    "duration": 10,
    "start_time": "2024-02-10T15:35:06.296Z"
   },
   {
    "duration": 7,
    "start_time": "2024-02-10T15:35:06.308Z"
   },
   {
    "duration": 12,
    "start_time": "2024-02-10T15:35:06.317Z"
   },
   {
    "duration": 8,
    "start_time": "2024-02-10T15:35:06.331Z"
   },
   {
    "duration": 12,
    "start_time": "2024-02-10T15:35:06.341Z"
   },
   {
    "duration": 6,
    "start_time": "2024-02-10T15:35:06.356Z"
   },
   {
    "duration": 9,
    "start_time": "2024-02-10T15:35:06.365Z"
   },
   {
    "duration": 6,
    "start_time": "2024-02-10T15:35:06.375Z"
   },
   {
    "duration": 42,
    "start_time": "2024-02-10T15:35:06.382Z"
   },
   {
    "duration": 8,
    "start_time": "2024-02-10T15:35:06.425Z"
   },
   {
    "duration": 5,
    "start_time": "2024-02-10T15:35:06.436Z"
   },
   {
    "duration": 7,
    "start_time": "2024-02-10T15:35:06.442Z"
   },
   {
    "duration": 9,
    "start_time": "2024-02-10T15:35:06.451Z"
   },
   {
    "duration": 5,
    "start_time": "2024-02-10T15:35:06.462Z"
   },
   {
    "duration": 6,
    "start_time": "2024-02-10T15:35:06.469Z"
   },
   {
    "duration": 109,
    "start_time": "2024-02-10T15:35:06.524Z"
   },
   {
    "duration": 140,
    "start_time": "2024-02-10T15:35:06.635Z"
   },
   {
    "duration": 95,
    "start_time": "2024-02-10T15:35:06.777Z"
   },
   {
    "duration": 8,
    "start_time": "2024-02-10T15:35:06.873Z"
   },
   {
    "duration": 147,
    "start_time": "2024-02-10T15:35:06.883Z"
   },
   {
    "duration": 200,
    "start_time": "2024-02-10T15:35:07.032Z"
   },
   {
    "duration": 151,
    "start_time": "2024-02-10T15:39:50.622Z"
   },
   {
    "duration": 81,
    "start_time": "2024-02-10T15:40:20.258Z"
   },
   {
    "duration": 135,
    "start_time": "2024-02-10T15:40:32.249Z"
   },
   {
    "duration": 138,
    "start_time": "2024-02-10T16:04:25.009Z"
   },
   {
    "duration": 134,
    "start_time": "2024-02-10T16:04:34.514Z"
   },
   {
    "duration": 12,
    "start_time": "2024-02-10T16:19:43.226Z"
   },
   {
    "duration": 88,
    "start_time": "2024-02-10T16:19:59.163Z"
   },
   {
    "duration": 104,
    "start_time": "2024-02-10T16:20:09.821Z"
   },
   {
    "duration": 9,
    "start_time": "2024-02-10T16:21:08.065Z"
   },
   {
    "duration": 7,
    "start_time": "2024-02-10T16:25:37.340Z"
   },
   {
    "duration": 20,
    "start_time": "2024-02-10T16:25:59.818Z"
   },
   {
    "duration": 13,
    "start_time": "2024-02-10T16:26:15.690Z"
   },
   {
    "duration": 13,
    "start_time": "2024-02-10T16:26:20.058Z"
   },
   {
    "duration": 8,
    "start_time": "2024-02-10T16:26:32.459Z"
   },
   {
    "duration": 10,
    "start_time": "2024-02-10T16:26:43.431Z"
   },
   {
    "duration": 13,
    "start_time": "2024-02-10T16:26:59.332Z"
   },
   {
    "duration": 32,
    "start_time": "2024-02-10T16:27:23.143Z"
   },
   {
    "duration": 8,
    "start_time": "2024-02-10T16:27:56.571Z"
   },
   {
    "duration": 12,
    "start_time": "2024-02-10T16:28:05.613Z"
   },
   {
    "duration": 18,
    "start_time": "2024-02-10T16:30:15.418Z"
   },
   {
    "duration": 16,
    "start_time": "2024-02-10T16:30:28.867Z"
   },
   {
    "duration": 16,
    "start_time": "2024-02-10T16:30:59.137Z"
   },
   {
    "duration": 27,
    "start_time": "2024-02-10T16:32:48.970Z"
   },
   {
    "duration": 6,
    "start_time": "2024-02-10T16:33:04.840Z"
   },
   {
    "duration": 13,
    "start_time": "2024-02-10T16:33:16.180Z"
   },
   {
    "duration": 6,
    "start_time": "2024-02-10T16:41:06.467Z"
   },
   {
    "duration": 11,
    "start_time": "2024-02-10T16:41:14.037Z"
   },
   {
    "duration": 9,
    "start_time": "2024-02-10T16:41:34.721Z"
   },
   {
    "duration": 16,
    "start_time": "2024-02-10T16:42:31.474Z"
   },
   {
    "duration": 13,
    "start_time": "2024-02-10T16:42:43.376Z"
   },
   {
    "duration": 14,
    "start_time": "2024-02-10T16:42:46.733Z"
   },
   {
    "duration": 685,
    "start_time": "2024-02-10T16:42:55.847Z"
   },
   {
    "duration": 68,
    "start_time": "2024-02-10T16:42:56.534Z"
   },
   {
    "duration": 13,
    "start_time": "2024-02-10T16:42:56.604Z"
   },
   {
    "duration": 10,
    "start_time": "2024-02-10T16:42:56.618Z"
   },
   {
    "duration": 7,
    "start_time": "2024-02-10T16:42:56.630Z"
   },
   {
    "duration": 18,
    "start_time": "2024-02-10T16:42:56.638Z"
   },
   {
    "duration": 8,
    "start_time": "2024-02-10T16:42:56.658Z"
   },
   {
    "duration": 12,
    "start_time": "2024-02-10T16:42:56.668Z"
   },
   {
    "duration": 4,
    "start_time": "2024-02-10T16:42:56.682Z"
   },
   {
    "duration": 9,
    "start_time": "2024-02-10T16:42:56.688Z"
   },
   {
    "duration": 6,
    "start_time": "2024-02-10T16:42:56.724Z"
   },
   {
    "duration": 11,
    "start_time": "2024-02-10T16:42:56.732Z"
   },
   {
    "duration": 17,
    "start_time": "2024-02-10T16:42:56.744Z"
   },
   {
    "duration": 12,
    "start_time": "2024-02-10T16:42:56.764Z"
   },
   {
    "duration": 9,
    "start_time": "2024-02-10T16:42:56.778Z"
   },
   {
    "duration": 9,
    "start_time": "2024-02-10T16:42:56.788Z"
   },
   {
    "duration": 7,
    "start_time": "2024-02-10T16:42:56.798Z"
   },
   {
    "duration": 166,
    "start_time": "2024-02-10T16:42:56.807Z"
   },
   {
    "duration": 97,
    "start_time": "2024-02-10T16:42:56.975Z"
   },
   {
    "duration": 144,
    "start_time": "2024-02-10T16:42:57.074Z"
   },
   {
    "duration": 97,
    "start_time": "2024-02-10T16:42:57.219Z"
   },
   {
    "duration": 8,
    "start_time": "2024-02-10T16:42:57.324Z"
   },
   {
    "duration": 233,
    "start_time": "2024-02-10T16:42:57.334Z"
   },
   {
    "duration": 118,
    "start_time": "2024-02-10T16:42:57.569Z"
   },
   {
    "duration": 8,
    "start_time": "2024-02-10T16:42:57.689Z"
   },
   {
    "duration": 153,
    "start_time": "2024-02-10T16:42:57.699Z"
   },
   {
    "duration": 8,
    "start_time": "2024-02-10T16:42:57.854Z"
   },
   {
    "duration": 13,
    "start_time": "2024-02-10T16:42:57.864Z"
   },
   {
    "duration": 14,
    "start_time": "2024-02-10T16:42:57.879Z"
   },
   {
    "duration": 31,
    "start_time": "2024-02-10T16:42:57.895Z"
   },
   {
    "duration": 10,
    "start_time": "2024-02-10T16:42:57.928Z"
   },
   {
    "duration": 16,
    "start_time": "2024-02-10T16:42:57.940Z"
   },
   {
    "duration": 30,
    "start_time": "2024-02-10T16:42:57.958Z"
   },
   {
    "duration": 14,
    "start_time": "2024-02-10T16:43:40.449Z"
   },
   {
    "duration": 12,
    "start_time": "2024-02-10T16:43:51.293Z"
   },
   {
    "duration": 6,
    "start_time": "2024-02-10T16:44:07.115Z"
   },
   {
    "duration": 13,
    "start_time": "2024-02-10T16:44:12.579Z"
   },
   {
    "duration": 123,
    "start_time": "2024-02-10T16:46:07.772Z"
   },
   {
    "duration": 160,
    "start_time": "2024-02-10T16:46:21.611Z"
   },
   {
    "duration": 132,
    "start_time": "2024-02-10T16:47:54.130Z"
   },
   {
    "duration": 124,
    "start_time": "2024-02-10T16:47:57.750Z"
   },
   {
    "duration": 247,
    "start_time": "2024-02-10T16:48:54.473Z"
   },
   {
    "duration": 1389,
    "start_time": "2024-02-10T16:49:12.148Z"
   },
   {
    "duration": 209,
    "start_time": "2024-02-10T16:49:40.009Z"
   },
   {
    "duration": 224,
    "start_time": "2024-02-10T16:50:06.854Z"
   },
   {
    "duration": 10,
    "start_time": "2024-02-10T16:52:33.714Z"
   },
   {
    "duration": 8,
    "start_time": "2024-02-10T16:53:01.547Z"
   },
   {
    "duration": 8,
    "start_time": "2024-02-10T16:53:08.281Z"
   },
   {
    "duration": 658,
    "start_time": "2024-02-10T16:53:58.048Z"
   },
   {
    "duration": 203,
    "start_time": "2024-02-10T16:53:58.708Z"
   },
   {
    "duration": 13,
    "start_time": "2024-02-10T16:53:58.913Z"
   },
   {
    "duration": 19,
    "start_time": "2024-02-10T16:53:58.928Z"
   },
   {
    "duration": 14,
    "start_time": "2024-02-10T16:53:58.949Z"
   },
   {
    "duration": 11,
    "start_time": "2024-02-10T16:53:58.965Z"
   },
   {
    "duration": 23,
    "start_time": "2024-02-10T16:53:58.977Z"
   },
   {
    "duration": 27,
    "start_time": "2024-02-10T16:53:59.002Z"
   },
   {
    "duration": 12,
    "start_time": "2024-02-10T16:53:59.031Z"
   },
   {
    "duration": 9,
    "start_time": "2024-02-10T16:53:59.045Z"
   },
   {
    "duration": 7,
    "start_time": "2024-02-10T16:53:59.055Z"
   },
   {
    "duration": 6,
    "start_time": "2024-02-10T16:53:59.063Z"
   },
   {
    "duration": 6,
    "start_time": "2024-02-10T16:53:59.071Z"
   },
   {
    "duration": 4,
    "start_time": "2024-02-10T16:53:59.079Z"
   },
   {
    "duration": 39,
    "start_time": "2024-02-10T16:53:59.085Z"
   },
   {
    "duration": 9,
    "start_time": "2024-02-10T16:53:59.125Z"
   },
   {
    "duration": 5,
    "start_time": "2024-02-10T16:53:59.136Z"
   },
   {
    "duration": 168,
    "start_time": "2024-02-10T16:53:59.142Z"
   },
   {
    "duration": 100,
    "start_time": "2024-02-10T16:53:59.312Z"
   },
   {
    "duration": 147,
    "start_time": "2024-02-10T16:53:59.423Z"
   },
   {
    "duration": 105,
    "start_time": "2024-02-10T16:53:59.571Z"
   },
   {
    "duration": 8,
    "start_time": "2024-02-10T16:53:59.677Z"
   },
   {
    "duration": 200,
    "start_time": "2024-02-10T16:53:59.687Z"
   },
   {
    "duration": 107,
    "start_time": "2024-02-10T16:53:59.889Z"
   },
   {
    "duration": 9,
    "start_time": "2024-02-10T16:53:59.999Z"
   },
   {
    "duration": 151,
    "start_time": "2024-02-10T16:54:00.024Z"
   },
   {
    "duration": 8,
    "start_time": "2024-02-10T16:54:00.176Z"
   },
   {
    "duration": 48,
    "start_time": "2024-02-10T16:54:00.187Z"
   },
   {
    "duration": 50,
    "start_time": "2024-02-10T16:54:00.237Z"
   },
   {
    "duration": 26,
    "start_time": "2024-02-10T16:54:00.289Z"
   },
   {
    "duration": 26,
    "start_time": "2024-02-10T16:54:00.316Z"
   },
   {
    "duration": 25,
    "start_time": "2024-02-10T16:54:00.344Z"
   },
   {
    "duration": 26,
    "start_time": "2024-02-10T16:54:00.370Z"
   },
   {
    "duration": 14,
    "start_time": "2024-02-10T16:54:00.397Z"
   },
   {
    "duration": 220,
    "start_time": "2024-02-10T16:54:00.413Z"
   },
   {
    "duration": 270,
    "start_time": "2024-02-10T16:54:00.635Z"
   },
   {
    "duration": 4500,
    "start_time": "2024-02-10T16:54:00.907Z"
   },
   {
    "duration": 16,
    "start_time": "2024-02-10T16:55:37.737Z"
   },
   {
    "duration": 97,
    "start_time": "2024-02-10T16:57:06.518Z"
   },
   {
    "duration": 16,
    "start_time": "2024-02-10T16:57:11.831Z"
   },
   {
    "duration": 14,
    "start_time": "2024-02-10T16:57:26.119Z"
   },
   {
    "duration": 83,
    "start_time": "2024-02-10T16:58:23.341Z"
   },
   {
    "duration": 14,
    "start_time": "2024-02-10T16:58:36.970Z"
   },
   {
    "duration": 667,
    "start_time": "2024-02-10T16:59:21.947Z"
   },
   {
    "duration": 68,
    "start_time": "2024-02-10T16:59:22.615Z"
   },
   {
    "duration": 14,
    "start_time": "2024-02-10T16:59:22.685Z"
   },
   {
    "duration": 10,
    "start_time": "2024-02-10T16:59:22.700Z"
   },
   {
    "duration": 13,
    "start_time": "2024-02-10T16:59:22.712Z"
   },
   {
    "duration": 24,
    "start_time": "2024-02-10T16:59:22.726Z"
   },
   {
    "duration": 8,
    "start_time": "2024-02-10T16:59:22.751Z"
   },
   {
    "duration": 15,
    "start_time": "2024-02-10T16:59:22.761Z"
   },
   {
    "duration": 4,
    "start_time": "2024-02-10T16:59:22.778Z"
   },
   {
    "duration": 9,
    "start_time": "2024-02-10T16:59:22.784Z"
   },
   {
    "duration": 32,
    "start_time": "2024-02-10T16:59:22.795Z"
   },
   {
    "duration": 8,
    "start_time": "2024-02-10T16:59:22.829Z"
   },
   {
    "duration": 6,
    "start_time": "2024-02-10T16:59:22.839Z"
   },
   {
    "duration": 5,
    "start_time": "2024-02-10T16:59:22.848Z"
   },
   {
    "duration": 7,
    "start_time": "2024-02-10T16:59:22.855Z"
   },
   {
    "duration": 9,
    "start_time": "2024-02-10T16:59:22.863Z"
   },
   {
    "duration": 4,
    "start_time": "2024-02-10T16:59:22.873Z"
   },
   {
    "duration": 184,
    "start_time": "2024-02-10T16:59:22.879Z"
   },
   {
    "duration": 96,
    "start_time": "2024-02-10T16:59:23.065Z"
   },
   {
    "duration": 136,
    "start_time": "2024-02-10T16:59:23.163Z"
   },
   {
    "duration": 101,
    "start_time": "2024-02-10T16:59:23.301Z"
   },
   {
    "duration": 8,
    "start_time": "2024-02-10T16:59:23.403Z"
   },
   {
    "duration": 214,
    "start_time": "2024-02-10T16:59:23.413Z"
   },
   {
    "duration": 104,
    "start_time": "2024-02-10T16:59:23.629Z"
   },
   {
    "duration": 8,
    "start_time": "2024-02-10T16:59:23.735Z"
   },
   {
    "duration": 157,
    "start_time": "2024-02-10T16:59:23.744Z"
   },
   {
    "duration": 8,
    "start_time": "2024-02-10T16:59:23.902Z"
   },
   {
    "duration": 39,
    "start_time": "2024-02-10T16:59:23.922Z"
   },
   {
    "duration": 41,
    "start_time": "2024-02-10T16:59:23.963Z"
   },
   {
    "duration": 19,
    "start_time": "2024-02-10T16:59:24.006Z"
   },
   {
    "duration": 17,
    "start_time": "2024-02-10T16:59:24.026Z"
   },
   {
    "duration": 17,
    "start_time": "2024-02-10T16:59:24.046Z"
   },
   {
    "duration": 7,
    "start_time": "2024-02-10T16:59:24.065Z"
   },
   {
    "duration": 14,
    "start_time": "2024-02-10T16:59:24.073Z"
   },
   {
    "duration": 224,
    "start_time": "2024-02-10T16:59:24.089Z"
   },
   {
    "duration": 231,
    "start_time": "2024-02-10T16:59:24.315Z"
   },
   {
    "duration": 14,
    "start_time": "2024-02-10T16:59:24.548Z"
   },
   {
    "duration": 19,
    "start_time": "2024-02-10T16:59:24.564Z"
   },
   {
    "duration": 43,
    "start_time": "2024-02-10T16:59:24.585Z"
   },
   {
    "duration": 1142,
    "start_time": "2024-02-10T17:04:06.590Z"
   },
   {
    "duration": 70,
    "start_time": "2024-02-10T17:04:07.734Z"
   },
   {
    "duration": 13,
    "start_time": "2024-02-10T17:04:07.805Z"
   },
   {
    "duration": 10,
    "start_time": "2024-02-10T17:04:07.820Z"
   },
   {
    "duration": 21,
    "start_time": "2024-02-10T17:04:07.831Z"
   },
   {
    "duration": 21,
    "start_time": "2024-02-10T17:04:07.853Z"
   },
   {
    "duration": 8,
    "start_time": "2024-02-10T17:04:07.875Z"
   },
   {
    "duration": 25,
    "start_time": "2024-02-10T17:04:07.884Z"
   },
   {
    "duration": 5,
    "start_time": "2024-02-10T17:04:07.910Z"
   },
   {
    "duration": 17,
    "start_time": "2024-02-10T17:04:07.917Z"
   },
   {
    "duration": 6,
    "start_time": "2024-02-10T17:04:07.935Z"
   },
   {
    "duration": 6,
    "start_time": "2024-02-10T17:04:07.942Z"
   },
   {
    "duration": 6,
    "start_time": "2024-02-10T17:04:07.950Z"
   },
   {
    "duration": 5,
    "start_time": "2024-02-10T17:04:07.957Z"
   },
   {
    "duration": 16,
    "start_time": "2024-02-10T17:04:07.963Z"
   },
   {
    "duration": 9,
    "start_time": "2024-02-10T17:04:07.980Z"
   },
   {
    "duration": 33,
    "start_time": "2024-02-10T17:04:07.991Z"
   },
   {
    "duration": 157,
    "start_time": "2024-02-10T17:04:08.026Z"
   },
   {
    "duration": 99,
    "start_time": "2024-02-10T17:04:08.185Z"
   },
   {
    "duration": 137,
    "start_time": "2024-02-10T17:04:08.285Z"
   },
   {
    "duration": 88,
    "start_time": "2024-02-10T17:04:08.423Z"
   },
   {
    "duration": 8,
    "start_time": "2024-02-10T17:04:08.523Z"
   },
   {
    "duration": 162,
    "start_time": "2024-02-10T17:04:08.533Z"
   },
   {
    "duration": 100,
    "start_time": "2024-02-10T17:04:08.697Z"
   },
   {
    "duration": 9,
    "start_time": "2024-02-10T17:04:08.799Z"
   },
   {
    "duration": 168,
    "start_time": "2024-02-10T17:04:08.809Z"
   },
   {
    "duration": 9,
    "start_time": "2024-02-10T17:04:08.979Z"
   },
   {
    "duration": 22,
    "start_time": "2024-02-10T17:04:08.991Z"
   },
   {
    "duration": 11,
    "start_time": "2024-02-10T17:04:09.023Z"
   },
   {
    "duration": 13,
    "start_time": "2024-02-10T17:04:09.035Z"
   },
   {
    "duration": 10,
    "start_time": "2024-02-10T17:04:09.050Z"
   },
   {
    "duration": 14,
    "start_time": "2024-02-10T17:04:09.062Z"
   },
   {
    "duration": 14,
    "start_time": "2024-02-10T17:04:09.077Z"
   },
   {
    "duration": 14,
    "start_time": "2024-02-10T17:04:09.123Z"
   },
   {
    "duration": 227,
    "start_time": "2024-02-10T17:04:09.139Z"
   },
   {
    "duration": 303,
    "start_time": "2024-02-10T17:04:09.367Z"
   },
   {
    "duration": 13,
    "start_time": "2024-02-10T17:04:09.671Z"
   },
   {
    "duration": 11,
    "start_time": "2024-02-10T17:04:09.686Z"
   },
   {
    "duration": 31,
    "start_time": "2024-02-10T17:04:09.699Z"
   },
   {
    "duration": 106,
    "start_time": "2024-02-10T17:04:09.732Z"
   },
   {
    "duration": 12,
    "start_time": "2024-02-10T17:08:28.658Z"
   },
   {
    "duration": 5,
    "start_time": "2024-02-10T17:08:57.835Z"
   },
   {
    "duration": 5,
    "start_time": "2024-02-10T17:13:10.884Z"
   },
   {
    "duration": 4,
    "start_time": "2024-02-10T17:17:58.982Z"
   },
   {
    "duration": 4,
    "start_time": "2024-02-10T17:18:24.671Z"
   },
   {
    "duration": 6,
    "start_time": "2024-02-10T17:18:40.989Z"
   },
   {
    "duration": 5,
    "start_time": "2024-02-10T17:18:45.142Z"
   },
   {
    "duration": 6,
    "start_time": "2024-02-10T17:24:22.732Z"
   },
   {
    "duration": 63,
    "start_time": "2024-02-12T17:09:06.180Z"
   },
   {
    "duration": 7,
    "start_time": "2024-02-12T17:09:39.241Z"
   },
   {
    "duration": 1593,
    "start_time": "2024-02-12T17:10:01.437Z"
   },
   {
    "duration": 324,
    "start_time": "2024-02-12T17:10:03.033Z"
   },
   {
    "duration": 19,
    "start_time": "2024-02-12T17:10:03.359Z"
   },
   {
    "duration": 68,
    "start_time": "2024-02-12T17:10:03.380Z"
   },
   {
    "duration": 29,
    "start_time": "2024-02-12T17:10:03.451Z"
   },
   {
    "duration": 48,
    "start_time": "2024-02-12T17:10:03.481Z"
   },
   {
    "duration": 28,
    "start_time": "2024-02-12T17:10:03.531Z"
   },
   {
    "duration": 19,
    "start_time": "2024-02-12T17:10:03.561Z"
   },
   {
    "duration": 45,
    "start_time": "2024-02-12T17:10:03.583Z"
   },
   {
    "duration": 35,
    "start_time": "2024-02-12T17:10:03.630Z"
   },
   {
    "duration": 46,
    "start_time": "2024-02-12T17:10:03.667Z"
   },
   {
    "duration": 25,
    "start_time": "2024-02-12T17:10:03.716Z"
   },
   {
    "duration": 34,
    "start_time": "2024-02-12T17:10:03.743Z"
   },
   {
    "duration": 30,
    "start_time": "2024-02-12T17:10:03.781Z"
   },
   {
    "duration": 22,
    "start_time": "2024-02-12T17:10:03.813Z"
   },
   {
    "duration": 13,
    "start_time": "2024-02-12T17:10:03.837Z"
   },
   {
    "duration": 18,
    "start_time": "2024-02-12T17:10:03.851Z"
   },
   {
    "duration": 205,
    "start_time": "2024-02-12T17:10:03.870Z"
   },
   {
    "duration": 100,
    "start_time": "2024-02-12T17:10:04.077Z"
   },
   {
    "duration": 165,
    "start_time": "2024-02-12T17:10:04.179Z"
   },
   {
    "duration": 108,
    "start_time": "2024-02-12T17:10:04.346Z"
   },
   {
    "duration": 8,
    "start_time": "2024-02-12T17:10:04.456Z"
   },
   {
    "duration": 197,
    "start_time": "2024-02-12T17:10:04.466Z"
   },
   {
    "duration": 145,
    "start_time": "2024-02-12T17:10:04.665Z"
   },
   {
    "duration": 27,
    "start_time": "2024-02-12T17:10:04.812Z"
   },
   {
    "duration": 181,
    "start_time": "2024-02-12T17:10:04.842Z"
   },
   {
    "duration": 109,
    "start_time": "2024-02-12T17:10:05.024Z"
   },
   {
    "duration": 9,
    "start_time": "2024-02-12T17:10:05.135Z"
   },
   {
    "duration": 17,
    "start_time": "2024-02-12T17:10:05.145Z"
   },
   {
    "duration": 34,
    "start_time": "2024-02-12T17:10:05.163Z"
   },
   {
    "duration": 31,
    "start_time": "2024-02-12T17:10:05.199Z"
   },
   {
    "duration": 24,
    "start_time": "2024-02-12T17:10:05.232Z"
   },
   {
    "duration": 10,
    "start_time": "2024-02-12T17:10:05.257Z"
   },
   {
    "duration": 20,
    "start_time": "2024-02-12T17:10:05.268Z"
   },
   {
    "duration": 28,
    "start_time": "2024-02-12T17:10:05.289Z"
   },
   {
    "duration": 21,
    "start_time": "2024-02-12T17:10:05.319Z"
   },
   {
    "duration": 229,
    "start_time": "2024-02-12T17:10:05.342Z"
   },
   {
    "duration": 345,
    "start_time": "2024-02-12T17:10:05.573Z"
   },
   {
    "duration": 15,
    "start_time": "2024-02-12T17:10:05.920Z"
   },
   {
    "duration": 33,
    "start_time": "2024-02-12T17:10:05.937Z"
   },
   {
    "duration": 32,
    "start_time": "2024-02-12T17:10:05.974Z"
   },
   {
    "duration": 17,
    "start_time": "2024-02-12T17:10:06.009Z"
   },
   {
    "duration": 26,
    "start_time": "2024-02-12T17:10:06.027Z"
   },
   {
    "duration": 81,
    "start_time": "2024-02-12T17:16:18.021Z"
   },
   {
    "duration": 342,
    "start_time": "2024-02-12T17:16:30.786Z"
   },
   {
    "duration": 220,
    "start_time": "2024-02-12T17:18:00.841Z"
   },
   {
    "duration": 469,
    "start_time": "2024-02-12T17:18:59.496Z"
   },
   {
    "duration": 358,
    "start_time": "2024-02-12T17:19:14.802Z"
   },
   {
    "duration": 391,
    "start_time": "2024-02-12T17:19:19.436Z"
   },
   {
    "duration": 373,
    "start_time": "2024-02-12T17:19:29.111Z"
   },
   {
    "duration": 217,
    "start_time": "2024-02-12T17:19:47.212Z"
   },
   {
    "duration": 248,
    "start_time": "2024-02-12T17:20:03.186Z"
   },
   {
    "duration": 13,
    "start_time": "2024-02-12T17:21:49.249Z"
   },
   {
    "duration": 12,
    "start_time": "2024-02-12T17:22:10.705Z"
   },
   {
    "duration": 15,
    "start_time": "2024-02-12T17:24:50.085Z"
   },
   {
    "duration": 129,
    "start_time": "2024-02-12T17:31:21.462Z"
   },
   {
    "duration": 29,
    "start_time": "2024-02-12T17:31:26.749Z"
   },
   {
    "duration": 13,
    "start_time": "2024-02-12T17:32:04.972Z"
   },
   {
    "duration": 36,
    "start_time": "2024-02-12T17:32:22.244Z"
   },
   {
    "duration": 29,
    "start_time": "2024-02-12T17:33:07.324Z"
   },
   {
    "duration": 37,
    "start_time": "2024-02-12T17:33:31.967Z"
   },
   {
    "duration": 43,
    "start_time": "2024-02-12T17:38:13.689Z"
   },
   {
    "duration": 16,
    "start_time": "2024-02-12T17:38:23.415Z"
   },
   {
    "duration": 39,
    "start_time": "2024-02-12T17:39:56.824Z"
   },
   {
    "duration": 26,
    "start_time": "2024-02-12T17:40:11.492Z"
   },
   {
    "duration": 45,
    "start_time": "2024-02-12T17:40:55.222Z"
   },
   {
    "duration": 40,
    "start_time": "2024-02-12T17:41:10.384Z"
   },
   {
    "duration": 29,
    "start_time": "2024-02-12T17:41:14.456Z"
   },
   {
    "duration": 43,
    "start_time": "2024-02-12T17:41:23.964Z"
   },
   {
    "duration": 4,
    "start_time": "2024-02-12T17:46:10.174Z"
   },
   {
    "duration": 19,
    "start_time": "2024-02-12T17:49:07.781Z"
   },
   {
    "duration": 68,
    "start_time": "2024-02-12T17:51:57.222Z"
   },
   {
    "duration": 13,
    "start_time": "2024-02-12T17:52:02.643Z"
   },
   {
    "duration": 13,
    "start_time": "2024-02-12T17:52:12.888Z"
   },
   {
    "duration": 98,
    "start_time": "2024-02-12T17:53:45.483Z"
   },
   {
    "duration": 12,
    "start_time": "2024-02-12T17:53:56.149Z"
   },
   {
    "duration": 77,
    "start_time": "2024-02-12T17:58:08.244Z"
   },
   {
    "duration": 15,
    "start_time": "2024-02-12T17:59:16.388Z"
   },
   {
    "duration": 16,
    "start_time": "2024-02-12T18:00:07.162Z"
   },
   {
    "duration": 18,
    "start_time": "2024-02-12T18:00:41.187Z"
   },
   {
    "duration": 26,
    "start_time": "2024-02-12T18:01:13.632Z"
   },
   {
    "duration": 1332,
    "start_time": "2024-02-12T18:01:34.001Z"
   },
   {
    "duration": 73,
    "start_time": "2024-02-12T18:01:35.335Z"
   },
   {
    "duration": 16,
    "start_time": "2024-02-12T18:01:35.410Z"
   },
   {
    "duration": 10,
    "start_time": "2024-02-12T18:01:35.430Z"
   },
   {
    "duration": 9,
    "start_time": "2024-02-12T18:01:35.441Z"
   },
   {
    "duration": 13,
    "start_time": "2024-02-12T18:01:35.452Z"
   },
   {
    "duration": 8,
    "start_time": "2024-02-12T18:01:35.467Z"
   },
   {
    "duration": 24,
    "start_time": "2024-02-12T18:01:35.494Z"
   },
   {
    "duration": 5,
    "start_time": "2024-02-12T18:01:35.520Z"
   },
   {
    "duration": 14,
    "start_time": "2024-02-12T18:01:35.528Z"
   },
   {
    "duration": 6,
    "start_time": "2024-02-12T18:01:35.544Z"
   },
   {
    "duration": 7,
    "start_time": "2024-02-12T18:01:35.551Z"
   },
   {
    "duration": 6,
    "start_time": "2024-02-12T18:01:35.560Z"
   },
   {
    "duration": 7,
    "start_time": "2024-02-12T18:01:35.593Z"
   },
   {
    "duration": 19,
    "start_time": "2024-02-12T18:01:35.603Z"
   },
   {
    "duration": 8,
    "start_time": "2024-02-12T18:01:35.624Z"
   },
   {
    "duration": 4,
    "start_time": "2024-02-12T18:01:35.633Z"
   },
   {
    "duration": 194,
    "start_time": "2024-02-12T18:01:35.639Z"
   },
   {
    "duration": 107,
    "start_time": "2024-02-12T18:01:35.834Z"
   },
   {
    "duration": 179,
    "start_time": "2024-02-12T18:01:35.943Z"
   },
   {
    "duration": 110,
    "start_time": "2024-02-12T18:01:36.123Z"
   },
   {
    "duration": 9,
    "start_time": "2024-02-12T18:01:36.235Z"
   },
   {
    "duration": 185,
    "start_time": "2024-02-12T18:01:36.245Z"
   },
   {
    "duration": 120,
    "start_time": "2024-02-12T18:01:36.431Z"
   },
   {
    "duration": 9,
    "start_time": "2024-02-12T18:01:36.553Z"
   },
   {
    "duration": 184,
    "start_time": "2024-02-12T18:01:36.564Z"
   },
   {
    "duration": 125,
    "start_time": "2024-02-12T18:01:36.750Z"
   },
   {
    "duration": 24,
    "start_time": "2024-02-12T18:01:36.879Z"
   },
   {
    "duration": 13,
    "start_time": "2024-02-12T18:01:36.906Z"
   },
   {
    "duration": 13,
    "start_time": "2024-02-12T18:01:36.921Z"
   },
   {
    "duration": 19,
    "start_time": "2024-02-12T18:01:36.936Z"
   },
   {
    "duration": 46,
    "start_time": "2024-02-12T18:01:36.957Z"
   },
   {
    "duration": 21,
    "start_time": "2024-02-12T18:01:37.006Z"
   },
   {
    "duration": 13,
    "start_time": "2024-02-12T18:01:37.029Z"
   },
   {
    "duration": 9,
    "start_time": "2024-02-12T18:01:37.044Z"
   },
   {
    "duration": 23,
    "start_time": "2024-02-12T18:01:37.055Z"
   },
   {
    "duration": 273,
    "start_time": "2024-02-12T18:01:37.080Z"
   },
   {
    "duration": 13,
    "start_time": "2024-02-12T18:01:37.354Z"
   },
   {
    "duration": 365,
    "start_time": "2024-02-12T18:01:37.368Z"
   },
   {
    "duration": 12,
    "start_time": "2024-02-12T18:01:37.734Z"
   },
   {
    "duration": 152,
    "start_time": "2024-02-12T18:01:37.747Z"
   },
   {
    "duration": 0,
    "start_time": "2024-02-12T18:01:37.902Z"
   },
   {
    "duration": 0,
    "start_time": "2024-02-12T18:01:37.904Z"
   },
   {
    "duration": 0,
    "start_time": "2024-02-12T18:01:37.914Z"
   },
   {
    "duration": 0,
    "start_time": "2024-02-12T18:01:37.916Z"
   },
   {
    "duration": 15,
    "start_time": "2024-02-12T18:02:05.295Z"
   },
   {
    "duration": 32,
    "start_time": "2024-02-12T18:02:14.787Z"
   },
   {
    "duration": 1099,
    "start_time": "2024-02-12T18:03:11.134Z"
   },
   {
    "duration": 1225,
    "start_time": "2024-02-12T18:08:20.870Z"
   },
   {
    "duration": 69,
    "start_time": "2024-02-12T18:08:22.097Z"
   },
   {
    "duration": 17,
    "start_time": "2024-02-12T18:08:22.167Z"
   },
   {
    "duration": 9,
    "start_time": "2024-02-12T18:08:22.186Z"
   },
   {
    "duration": 8,
    "start_time": "2024-02-12T18:08:22.197Z"
   },
   {
    "duration": 21,
    "start_time": "2024-02-12T18:08:22.206Z"
   },
   {
    "duration": 8,
    "start_time": "2024-02-12T18:08:22.228Z"
   },
   {
    "duration": 13,
    "start_time": "2024-02-12T18:08:22.237Z"
   },
   {
    "duration": 6,
    "start_time": "2024-02-12T18:08:22.252Z"
   },
   {
    "duration": 35,
    "start_time": "2024-02-12T18:08:22.261Z"
   },
   {
    "duration": 7,
    "start_time": "2024-02-12T18:08:22.297Z"
   },
   {
    "duration": 22,
    "start_time": "2024-02-12T18:08:22.306Z"
   },
   {
    "duration": 8,
    "start_time": "2024-02-12T18:08:22.330Z"
   },
   {
    "duration": 6,
    "start_time": "2024-02-12T18:08:22.340Z"
   },
   {
    "duration": 6,
    "start_time": "2024-02-12T18:08:22.347Z"
   },
   {
    "duration": 11,
    "start_time": "2024-02-12T18:08:22.355Z"
   },
   {
    "duration": 24,
    "start_time": "2024-02-12T18:08:22.368Z"
   },
   {
    "duration": 161,
    "start_time": "2024-02-12T18:08:22.394Z"
   },
   {
    "duration": 99,
    "start_time": "2024-02-12T18:08:22.556Z"
   },
   {
    "duration": 139,
    "start_time": "2024-02-12T18:08:22.657Z"
   },
   {
    "duration": 105,
    "start_time": "2024-02-12T18:08:22.797Z"
   },
   {
    "duration": 8,
    "start_time": "2024-02-12T18:08:22.904Z"
   },
   {
    "duration": 170,
    "start_time": "2024-02-12T18:08:22.914Z"
   },
   {
    "duration": 114,
    "start_time": "2024-02-12T18:08:23.091Z"
   },
   {
    "duration": 11,
    "start_time": "2024-02-12T18:08:23.207Z"
   },
   {
    "duration": 187,
    "start_time": "2024-02-12T18:08:23.220Z"
   },
   {
    "duration": 123,
    "start_time": "2024-02-12T18:08:23.410Z"
   },
   {
    "duration": 8,
    "start_time": "2024-02-12T18:08:23.537Z"
   },
   {
    "duration": 7,
    "start_time": "2024-02-12T18:08:23.547Z"
   },
   {
    "duration": 19,
    "start_time": "2024-02-12T18:08:23.556Z"
   },
   {
    "duration": 12,
    "start_time": "2024-02-12T18:08:23.591Z"
   },
   {
    "duration": 13,
    "start_time": "2024-02-12T18:08:23.604Z"
   },
   {
    "duration": 14,
    "start_time": "2024-02-12T18:08:23.619Z"
   },
   {
    "duration": 13,
    "start_time": "2024-02-12T18:08:23.634Z"
   },
   {
    "duration": 16,
    "start_time": "2024-02-12T18:08:23.649Z"
   },
   {
    "duration": 28,
    "start_time": "2024-02-12T18:08:23.667Z"
   },
   {
    "duration": 230,
    "start_time": "2024-02-12T18:08:23.697Z"
   },
   {
    "duration": 13,
    "start_time": "2024-02-12T18:08:23.929Z"
   },
   {
    "duration": 314,
    "start_time": "2024-02-12T18:08:23.943Z"
   },
   {
    "duration": 13,
    "start_time": "2024-02-12T18:08:24.258Z"
   },
   {
    "duration": 1011,
    "start_time": "2024-02-12T18:08:24.273Z"
   },
   {
    "duration": 5,
    "start_time": "2024-02-12T18:08:25.291Z"
   },
   {
    "duration": 39,
    "start_time": "2024-02-12T18:08:25.298Z"
   },
   {
    "duration": 1181,
    "start_time": "2024-02-12T18:09:26.086Z"
   },
   {
    "duration": 72,
    "start_time": "2024-02-12T18:09:27.269Z"
   },
   {
    "duration": 13,
    "start_time": "2024-02-12T18:09:27.342Z"
   },
   {
    "duration": 10,
    "start_time": "2024-02-12T18:09:27.357Z"
   },
   {
    "duration": 24,
    "start_time": "2024-02-12T18:09:27.369Z"
   },
   {
    "duration": 15,
    "start_time": "2024-02-12T18:09:27.394Z"
   },
   {
    "duration": 8,
    "start_time": "2024-02-12T18:09:27.410Z"
   },
   {
    "duration": 14,
    "start_time": "2024-02-12T18:09:27.419Z"
   },
   {
    "duration": 5,
    "start_time": "2024-02-12T18:09:27.435Z"
   },
   {
    "duration": 13,
    "start_time": "2024-02-12T18:09:27.441Z"
   },
   {
    "duration": 8,
    "start_time": "2024-02-12T18:09:27.456Z"
   },
   {
    "duration": 31,
    "start_time": "2024-02-12T18:09:27.466Z"
   },
   {
    "duration": 8,
    "start_time": "2024-02-12T18:09:27.499Z"
   },
   {
    "duration": 24,
    "start_time": "2024-02-12T18:09:27.510Z"
   },
   {
    "duration": 21,
    "start_time": "2024-02-12T18:09:27.536Z"
   },
   {
    "duration": 10,
    "start_time": "2024-02-12T18:09:27.558Z"
   },
   {
    "duration": 4,
    "start_time": "2024-02-12T18:09:27.569Z"
   },
   {
    "duration": 163,
    "start_time": "2024-02-12T18:09:27.575Z"
   },
   {
    "duration": 89,
    "start_time": "2024-02-12T18:09:27.742Z"
   },
   {
    "duration": 133,
    "start_time": "2024-02-12T18:09:27.833Z"
   },
   {
    "duration": 106,
    "start_time": "2024-02-12T18:09:27.968Z"
   },
   {
    "duration": 17,
    "start_time": "2024-02-12T18:09:28.075Z"
   },
   {
    "duration": 158,
    "start_time": "2024-02-12T18:09:28.094Z"
   },
   {
    "duration": 100,
    "start_time": "2024-02-12T18:09:28.253Z"
   },
   {
    "duration": 9,
    "start_time": "2024-02-12T18:09:28.354Z"
   },
   {
    "duration": 158,
    "start_time": "2024-02-12T18:09:28.365Z"
   },
   {
    "duration": 109,
    "start_time": "2024-02-12T18:09:28.525Z"
   },
   {
    "duration": 9,
    "start_time": "2024-02-12T18:09:28.636Z"
   },
   {
    "duration": 26,
    "start_time": "2024-02-12T18:09:28.646Z"
   },
   {
    "duration": 59,
    "start_time": "2024-02-12T18:09:28.674Z"
   },
   {
    "duration": 33,
    "start_time": "2024-02-12T18:09:28.734Z"
   },
   {
    "duration": 24,
    "start_time": "2024-02-12T18:09:28.768Z"
   },
   {
    "duration": 37,
    "start_time": "2024-02-12T18:09:28.793Z"
   },
   {
    "duration": 37,
    "start_time": "2024-02-12T18:09:28.832Z"
   },
   {
    "duration": 27,
    "start_time": "2024-02-12T18:09:28.870Z"
   },
   {
    "duration": 39,
    "start_time": "2024-02-12T18:09:28.899Z"
   },
   {
    "duration": 245,
    "start_time": "2024-02-12T18:09:28.939Z"
   },
   {
    "duration": 15,
    "start_time": "2024-02-12T18:09:29.186Z"
   },
   {
    "duration": 309,
    "start_time": "2024-02-12T18:09:29.202Z"
   },
   {
    "duration": 12,
    "start_time": "2024-02-12T18:09:29.513Z"
   },
   {
    "duration": 4,
    "start_time": "2024-02-12T18:09:29.529Z"
   },
   {
    "duration": 1028,
    "start_time": "2024-02-12T18:09:29.534Z"
   },
   {
    "duration": 5,
    "start_time": "2024-02-12T18:09:30.564Z"
   },
   {
    "duration": 40,
    "start_time": "2024-02-12T18:09:30.571Z"
   },
   {
    "duration": 1445,
    "start_time": "2024-02-12T20:08:30.830Z"
   },
   {
    "duration": 80,
    "start_time": "2024-02-12T20:08:32.277Z"
   },
   {
    "duration": 391,
    "start_time": "2024-02-12T20:08:32.358Z"
   },
   {
    "duration": 15,
    "start_time": "2024-02-12T20:08:32.751Z"
   },
   {
    "duration": 8,
    "start_time": "2024-02-12T20:08:32.767Z"
   },
   {
    "duration": 13,
    "start_time": "2024-02-12T20:08:32.777Z"
   },
   {
    "duration": 16,
    "start_time": "2024-02-12T20:08:32.791Z"
   },
   {
    "duration": 17,
    "start_time": "2024-02-12T20:08:32.809Z"
   },
   {
    "duration": 7,
    "start_time": "2024-02-12T20:08:32.828Z"
   },
   {
    "duration": 13,
    "start_time": "2024-02-12T20:08:32.838Z"
   },
   {
    "duration": 11,
    "start_time": "2024-02-12T20:08:32.853Z"
   },
   {
    "duration": 46,
    "start_time": "2024-02-12T20:08:32.866Z"
   },
   {
    "duration": 25,
    "start_time": "2024-02-12T20:08:32.914Z"
   },
   {
    "duration": 6,
    "start_time": "2024-02-12T20:08:32.945Z"
   },
   {
    "duration": 17,
    "start_time": "2024-02-12T20:08:32.953Z"
   },
   {
    "duration": 11,
    "start_time": "2024-02-12T20:08:32.972Z"
   },
   {
    "duration": 5,
    "start_time": "2024-02-12T20:08:32.984Z"
   },
   {
    "duration": 253,
    "start_time": "2024-02-12T20:08:32.991Z"
   },
   {
    "duration": 131,
    "start_time": "2024-02-12T20:08:33.250Z"
   },
   {
    "duration": 167,
    "start_time": "2024-02-12T20:08:33.382Z"
   },
   {
    "duration": 112,
    "start_time": "2024-02-12T20:08:33.550Z"
   },
   {
    "duration": 9,
    "start_time": "2024-02-12T20:08:33.663Z"
   },
   {
    "duration": 195,
    "start_time": "2024-02-12T20:08:33.673Z"
   },
   {
    "duration": 136,
    "start_time": "2024-02-12T20:08:33.869Z"
   },
   {
    "duration": 19,
    "start_time": "2024-02-12T20:08:34.007Z"
   },
   {
    "duration": 187,
    "start_time": "2024-02-12T20:08:34.028Z"
   },
   {
    "duration": 142,
    "start_time": "2024-02-12T20:08:34.226Z"
   },
   {
    "duration": 8,
    "start_time": "2024-02-12T20:08:34.372Z"
   },
   {
    "duration": 23,
    "start_time": "2024-02-12T20:08:34.382Z"
   },
   {
    "duration": 28,
    "start_time": "2024-02-12T20:08:34.411Z"
   },
   {
    "duration": 17,
    "start_time": "2024-02-12T20:08:34.441Z"
   },
   {
    "duration": 13,
    "start_time": "2024-02-12T20:08:34.460Z"
   },
   {
    "duration": 49,
    "start_time": "2024-02-12T20:08:34.474Z"
   },
   {
    "duration": 25,
    "start_time": "2024-02-12T20:08:34.527Z"
   },
   {
    "duration": 9,
    "start_time": "2024-02-12T20:08:34.554Z"
   },
   {
    "duration": 12,
    "start_time": "2024-02-12T20:08:34.565Z"
   },
   {
    "duration": 274,
    "start_time": "2024-02-12T20:08:34.579Z"
   },
   {
    "duration": 12,
    "start_time": "2024-02-12T20:08:34.855Z"
   },
   {
    "duration": 370,
    "start_time": "2024-02-12T20:08:34.869Z"
   },
   {
    "duration": 13,
    "start_time": "2024-02-12T20:08:35.246Z"
   },
   {
    "duration": 4,
    "start_time": "2024-02-12T20:08:35.260Z"
   },
   {
    "duration": 1254,
    "start_time": "2024-02-12T20:08:35.265Z"
   },
   {
    "duration": 32,
    "start_time": "2024-02-12T20:08:36.521Z"
   },
   {
    "duration": 4,
    "start_time": "2024-02-12T20:08:36.554Z"
   },
   {
    "duration": 1520,
    "start_time": "2024-02-12T20:08:36.560Z"
   },
   {
    "duration": 0,
    "start_time": "2024-02-12T20:08:38.081Z"
   },
   {
    "duration": 0,
    "start_time": "2024-02-12T20:08:38.083Z"
   },
   {
    "duration": 0,
    "start_time": "2024-02-12T20:08:38.084Z"
   },
   {
    "duration": 34,
    "start_time": "2024-02-12T20:11:39.378Z"
   },
   {
    "duration": 26,
    "start_time": "2024-02-12T20:13:06.979Z"
   },
   {
    "duration": 1387,
    "start_time": "2024-02-12T20:13:51.888Z"
   },
   {
    "duration": 77,
    "start_time": "2024-02-12T20:13:53.278Z"
   },
   {
    "duration": 13,
    "start_time": "2024-02-12T20:13:53.357Z"
   },
   {
    "duration": 9,
    "start_time": "2024-02-12T20:13:53.371Z"
   },
   {
    "duration": 45,
    "start_time": "2024-02-12T20:13:53.383Z"
   },
   {
    "duration": 15,
    "start_time": "2024-02-12T20:13:53.444Z"
   },
   {
    "duration": 8,
    "start_time": "2024-02-12T20:13:53.461Z"
   },
   {
    "duration": 47,
    "start_time": "2024-02-12T20:13:53.471Z"
   },
   {
    "duration": 22,
    "start_time": "2024-02-12T20:13:53.523Z"
   },
   {
    "duration": 10,
    "start_time": "2024-02-12T20:13:53.547Z"
   },
   {
    "duration": 6,
    "start_time": "2024-02-12T20:13:53.559Z"
   },
   {
    "duration": 8,
    "start_time": "2024-02-12T20:13:53.567Z"
   },
   {
    "duration": 5,
    "start_time": "2024-02-12T20:13:53.577Z"
   },
   {
    "duration": 16,
    "start_time": "2024-02-12T20:13:53.585Z"
   },
   {
    "duration": 11,
    "start_time": "2024-02-12T20:13:53.603Z"
   },
   {
    "duration": 13,
    "start_time": "2024-02-12T20:13:53.616Z"
   },
   {
    "duration": 5,
    "start_time": "2024-02-12T20:13:53.631Z"
   },
   {
    "duration": 214,
    "start_time": "2024-02-12T20:13:53.637Z"
   },
   {
    "duration": 118,
    "start_time": "2024-02-12T20:13:53.853Z"
   },
   {
    "duration": 179,
    "start_time": "2024-02-12T20:13:53.973Z"
   },
   {
    "duration": 115,
    "start_time": "2024-02-12T20:13:54.154Z"
   },
   {
    "duration": 8,
    "start_time": "2024-02-12T20:13:54.270Z"
   },
   {
    "duration": 200,
    "start_time": "2024-02-12T20:13:54.279Z"
   },
   {
    "duration": 170,
    "start_time": "2024-02-12T20:13:54.481Z"
   },
   {
    "duration": 9,
    "start_time": "2024-02-12T20:13:54.653Z"
   },
   {
    "duration": 214,
    "start_time": "2024-02-12T20:13:54.664Z"
   },
   {
    "duration": 135,
    "start_time": "2024-02-12T20:13:54.880Z"
   },
   {
    "duration": 20,
    "start_time": "2024-02-12T20:13:55.026Z"
   },
   {
    "duration": 15,
    "start_time": "2024-02-12T20:13:55.048Z"
   },
   {
    "duration": 20,
    "start_time": "2024-02-12T20:13:55.065Z"
   },
   {
    "duration": 31,
    "start_time": "2024-02-12T20:13:55.087Z"
   },
   {
    "duration": 35,
    "start_time": "2024-02-12T20:13:55.120Z"
   },
   {
    "duration": 15,
    "start_time": "2024-02-12T20:13:55.157Z"
   },
   {
    "duration": 15,
    "start_time": "2024-02-12T20:13:55.173Z"
   },
   {
    "duration": 26,
    "start_time": "2024-02-12T20:13:55.190Z"
   },
   {
    "duration": 29,
    "start_time": "2024-02-12T20:13:55.218Z"
   },
   {
    "duration": 264,
    "start_time": "2024-02-12T20:13:55.249Z"
   },
   {
    "duration": 21,
    "start_time": "2024-02-12T20:13:55.520Z"
   },
   {
    "duration": 476,
    "start_time": "2024-02-12T20:13:55.547Z"
   },
   {
    "duration": 19,
    "start_time": "2024-02-12T20:13:56.024Z"
   },
   {
    "duration": 9,
    "start_time": "2024-02-12T20:13:56.051Z"
   },
   {
    "duration": 1211,
    "start_time": "2024-02-12T20:13:56.063Z"
   },
   {
    "duration": 39,
    "start_time": "2024-02-12T20:13:57.275Z"
   },
   {
    "duration": 4,
    "start_time": "2024-02-12T20:13:57.316Z"
   },
   {
    "duration": 180,
    "start_time": "2024-02-12T20:13:57.323Z"
   },
   {
    "duration": 26,
    "start_time": "2024-02-12T20:13:57.505Z"
   },
   {
    "duration": 17,
    "start_time": "2024-02-12T20:13:57.533Z"
   },
   {
    "duration": 15,
    "start_time": "2024-02-12T20:13:57.551Z"
   },
   {
    "duration": 1385,
    "start_time": "2024-02-12T20:14:09.864Z"
   },
   {
    "duration": 92,
    "start_time": "2024-02-12T20:14:11.253Z"
   },
   {
    "duration": 15,
    "start_time": "2024-02-12T20:14:11.354Z"
   },
   {
    "duration": 10,
    "start_time": "2024-02-12T20:14:11.370Z"
   },
   {
    "duration": 27,
    "start_time": "2024-02-12T20:14:11.381Z"
   },
   {
    "duration": 25,
    "start_time": "2024-02-12T20:14:11.412Z"
   },
   {
    "duration": 11,
    "start_time": "2024-02-12T20:14:11.443Z"
   },
   {
    "duration": 16,
    "start_time": "2024-02-12T20:14:11.455Z"
   },
   {
    "duration": 5,
    "start_time": "2024-02-12T20:14:11.473Z"
   },
   {
    "duration": 22,
    "start_time": "2024-02-12T20:14:11.481Z"
   },
   {
    "duration": 20,
    "start_time": "2024-02-12T20:14:11.505Z"
   },
   {
    "duration": 43,
    "start_time": "2024-02-12T20:14:11.527Z"
   },
   {
    "duration": 17,
    "start_time": "2024-02-12T20:14:11.572Z"
   },
   {
    "duration": 20,
    "start_time": "2024-02-12T20:14:11.590Z"
   },
   {
    "duration": 37,
    "start_time": "2024-02-12T20:14:11.614Z"
   },
   {
    "duration": 12,
    "start_time": "2024-02-12T20:14:11.653Z"
   },
   {
    "duration": 5,
    "start_time": "2024-02-12T20:14:11.667Z"
   },
   {
    "duration": 211,
    "start_time": "2024-02-12T20:14:11.673Z"
   },
   {
    "duration": 149,
    "start_time": "2024-02-12T20:14:11.885Z"
   },
   {
    "duration": 185,
    "start_time": "2024-02-12T20:14:12.036Z"
   },
   {
    "duration": 128,
    "start_time": "2024-02-12T20:14:12.222Z"
   },
   {
    "duration": 8,
    "start_time": "2024-02-12T20:14:12.352Z"
   },
   {
    "duration": 243,
    "start_time": "2024-02-12T20:14:12.361Z"
   },
   {
    "duration": 147,
    "start_time": "2024-02-12T20:14:12.609Z"
   },
   {
    "duration": 12,
    "start_time": "2024-02-12T20:14:12.758Z"
   },
   {
    "duration": 207,
    "start_time": "2024-02-12T20:14:12.772Z"
   },
   {
    "duration": 150,
    "start_time": "2024-02-12T20:14:12.981Z"
   },
   {
    "duration": 14,
    "start_time": "2024-02-12T20:14:13.136Z"
   },
   {
    "duration": 9,
    "start_time": "2024-02-12T20:14:13.152Z"
   },
   {
    "duration": 27,
    "start_time": "2024-02-12T20:14:13.162Z"
   },
   {
    "duration": 22,
    "start_time": "2024-02-12T20:14:13.191Z"
   },
   {
    "duration": 33,
    "start_time": "2024-02-12T20:14:13.216Z"
   },
   {
    "duration": 12,
    "start_time": "2024-02-12T20:14:13.252Z"
   },
   {
    "duration": 15,
    "start_time": "2024-02-12T20:14:13.265Z"
   },
   {
    "duration": 31,
    "start_time": "2024-02-12T20:14:13.282Z"
   },
   {
    "duration": 32,
    "start_time": "2024-02-12T20:14:13.318Z"
   },
   {
    "duration": 278,
    "start_time": "2024-02-12T20:14:13.352Z"
   },
   {
    "duration": 21,
    "start_time": "2024-02-12T20:14:13.638Z"
   },
   {
    "duration": 411,
    "start_time": "2024-02-12T20:14:13.660Z"
   },
   {
    "duration": 13,
    "start_time": "2024-02-12T20:14:14.074Z"
   },
   {
    "duration": 8,
    "start_time": "2024-02-12T20:14:14.088Z"
   },
   {
    "duration": 1328,
    "start_time": "2024-02-12T20:14:14.098Z"
   },
   {
    "duration": 24,
    "start_time": "2024-02-12T20:14:15.432Z"
   },
   {
    "duration": 13,
    "start_time": "2024-02-12T20:14:15.458Z"
   },
   {
    "duration": 1589,
    "start_time": "2024-02-12T20:14:15.472Z"
   },
   {
    "duration": 0,
    "start_time": "2024-02-12T20:14:17.063Z"
   },
   {
    "duration": 0,
    "start_time": "2024-02-12T20:14:17.064Z"
   },
   {
    "duration": 0,
    "start_time": "2024-02-12T20:14:17.065Z"
   },
   {
    "duration": 1430,
    "start_time": "2024-02-12T20:14:59.217Z"
   },
   {
    "duration": 98,
    "start_time": "2024-02-12T20:15:00.649Z"
   },
   {
    "duration": 14,
    "start_time": "2024-02-12T20:15:00.749Z"
   },
   {
    "duration": 59,
    "start_time": "2024-02-12T20:15:00.765Z"
   },
   {
    "duration": 81,
    "start_time": "2024-02-12T20:15:00.827Z"
   },
   {
    "duration": 39,
    "start_time": "2024-02-12T20:15:00.911Z"
   },
   {
    "duration": 48,
    "start_time": "2024-02-12T20:15:00.951Z"
   },
   {
    "duration": 54,
    "start_time": "2024-02-12T20:15:01.005Z"
   },
   {
    "duration": 86,
    "start_time": "2024-02-12T20:15:01.061Z"
   },
   {
    "duration": 180,
    "start_time": "2024-02-12T20:15:01.149Z"
   },
   {
    "duration": 104,
    "start_time": "2024-02-12T20:15:01.331Z"
   },
   {
    "duration": 73,
    "start_time": "2024-02-12T20:15:01.438Z"
   },
   {
    "duration": 113,
    "start_time": "2024-02-12T20:15:01.525Z"
   },
   {
    "duration": 66,
    "start_time": "2024-02-12T20:15:01.640Z"
   },
   {
    "duration": 96,
    "start_time": "2024-02-12T20:15:01.711Z"
   },
   {
    "duration": 185,
    "start_time": "2024-02-12T20:15:01.816Z"
   },
   {
    "duration": 81,
    "start_time": "2024-02-12T20:15:02.004Z"
   },
   {
    "duration": 237,
    "start_time": "2024-02-12T20:15:02.087Z"
   },
   {
    "duration": 114,
    "start_time": "2024-02-12T20:15:02.327Z"
   },
   {
    "duration": 165,
    "start_time": "2024-02-12T20:15:02.443Z"
   },
   {
    "duration": 122,
    "start_time": "2024-02-12T20:15:02.613Z"
   },
   {
    "duration": 13,
    "start_time": "2024-02-12T20:15:02.742Z"
   },
   {
    "duration": 214,
    "start_time": "2024-02-12T20:15:02.761Z"
   },
   {
    "duration": 150,
    "start_time": "2024-02-12T20:15:02.976Z"
   },
   {
    "duration": 11,
    "start_time": "2024-02-12T20:15:03.129Z"
   },
   {
    "duration": 231,
    "start_time": "2024-02-12T20:15:03.143Z"
   },
   {
    "duration": 141,
    "start_time": "2024-02-12T20:15:03.376Z"
   },
   {
    "duration": 14,
    "start_time": "2024-02-12T20:15:03.522Z"
   },
   {
    "duration": 24,
    "start_time": "2024-02-12T20:15:03.538Z"
   },
   {
    "duration": 17,
    "start_time": "2024-02-12T20:15:03.563Z"
   },
   {
    "duration": 51,
    "start_time": "2024-02-12T20:15:03.582Z"
   },
   {
    "duration": 23,
    "start_time": "2024-02-12T20:15:03.643Z"
   },
   {
    "duration": 46,
    "start_time": "2024-02-12T20:15:03.668Z"
   },
   {
    "duration": 44,
    "start_time": "2024-02-12T20:15:03.718Z"
   },
   {
    "duration": 20,
    "start_time": "2024-02-12T20:15:03.764Z"
   },
   {
    "duration": 45,
    "start_time": "2024-02-12T20:15:03.786Z"
   },
   {
    "duration": 319,
    "start_time": "2024-02-12T20:15:03.835Z"
   },
   {
    "duration": 18,
    "start_time": "2024-02-12T20:15:04.156Z"
   },
   {
    "duration": 435,
    "start_time": "2024-02-12T20:15:04.176Z"
   },
   {
    "duration": 16,
    "start_time": "2024-02-12T20:15:04.614Z"
   },
   {
    "duration": 20,
    "start_time": "2024-02-12T20:15:04.633Z"
   },
   {
    "duration": 1310,
    "start_time": "2024-02-12T20:15:04.655Z"
   },
   {
    "duration": 3,
    "start_time": "2024-02-12T20:15:05.966Z"
   },
   {
    "duration": 6,
    "start_time": "2024-02-12T20:15:05.971Z"
   },
   {
    "duration": 194,
    "start_time": "2024-02-12T20:15:05.979Z"
   },
   {
    "duration": 24,
    "start_time": "2024-02-12T20:15:06.175Z"
   },
   {
    "duration": 7,
    "start_time": "2024-02-12T20:15:06.201Z"
   },
   {
    "duration": 11,
    "start_time": "2024-02-12T20:15:06.210Z"
   },
   {
    "duration": 6,
    "start_time": "2024-02-12T20:19:54.048Z"
   },
   {
    "duration": 63,
    "start_time": "2024-02-12T20:27:37.731Z"
   },
   {
    "duration": 10,
    "start_time": "2024-02-12T20:28:58.908Z"
   },
   {
    "duration": 90,
    "start_time": "2024-02-12T20:29:20.346Z"
   },
   {
    "duration": 1312,
    "start_time": "2024-02-12T20:42:29.731Z"
   },
   {
    "duration": 92,
    "start_time": "2024-02-12T20:42:31.044Z"
   },
   {
    "duration": 270,
    "start_time": "2024-02-12T20:42:31.138Z"
   },
   {
    "duration": 328,
    "start_time": "2024-02-12T20:42:31.411Z"
   },
   {
    "duration": 408,
    "start_time": "2024-02-12T20:42:31.740Z"
   },
   {
    "duration": 71,
    "start_time": "2024-02-12T20:42:32.149Z"
   },
   {
    "duration": 11,
    "start_time": "2024-02-12T20:42:32.222Z"
   },
   {
    "duration": 10,
    "start_time": "2024-02-12T20:42:32.235Z"
   },
   {
    "duration": 16,
    "start_time": "2024-02-12T20:42:32.247Z"
   },
   {
    "duration": 25,
    "start_time": "2024-02-12T20:42:32.265Z"
   },
   {
    "duration": 17,
    "start_time": "2024-02-12T20:42:32.301Z"
   },
   {
    "duration": 23,
    "start_time": "2024-02-12T20:42:32.320Z"
   },
   {
    "duration": 9,
    "start_time": "2024-02-12T20:42:32.344Z"
   },
   {
    "duration": 12,
    "start_time": "2024-02-12T20:42:32.355Z"
   },
   {
    "duration": 6,
    "start_time": "2024-02-12T20:42:32.369Z"
   },
   {
    "duration": 14,
    "start_time": "2024-02-12T20:42:32.376Z"
   },
   {
    "duration": 14,
    "start_time": "2024-02-12T20:42:32.391Z"
   },
   {
    "duration": 171,
    "start_time": "2024-02-12T20:42:32.407Z"
   },
   {
    "duration": 100,
    "start_time": "2024-02-12T20:42:32.579Z"
   },
   {
    "duration": 171,
    "start_time": "2024-02-12T20:42:32.681Z"
   },
   {
    "duration": 131,
    "start_time": "2024-02-12T20:42:32.854Z"
   },
   {
    "duration": 11,
    "start_time": "2024-02-12T20:42:32.987Z"
   },
   {
    "duration": 176,
    "start_time": "2024-02-12T20:42:33.000Z"
   },
   {
    "duration": 141,
    "start_time": "2024-02-12T20:42:33.178Z"
   },
   {
    "duration": 12,
    "start_time": "2024-02-12T20:42:33.322Z"
   },
   {
    "duration": 197,
    "start_time": "2024-02-12T20:42:33.335Z"
   },
   {
    "duration": 121,
    "start_time": "2024-02-12T20:42:33.534Z"
   },
   {
    "duration": 8,
    "start_time": "2024-02-12T20:42:33.659Z"
   },
   {
    "duration": 11,
    "start_time": "2024-02-12T20:42:33.668Z"
   },
   {
    "duration": 14,
    "start_time": "2024-02-12T20:42:33.681Z"
   },
   {
    "duration": 24,
    "start_time": "2024-02-12T20:42:33.696Z"
   },
   {
    "duration": 13,
    "start_time": "2024-02-12T20:42:33.727Z"
   },
   {
    "duration": 10,
    "start_time": "2024-02-12T20:42:33.742Z"
   },
   {
    "duration": 11,
    "start_time": "2024-02-12T20:42:33.754Z"
   },
   {
    "duration": 7,
    "start_time": "2024-02-12T20:42:33.767Z"
   },
   {
    "duration": 40,
    "start_time": "2024-02-12T20:42:33.776Z"
   },
   {
    "duration": 248,
    "start_time": "2024-02-12T20:42:33.819Z"
   },
   {
    "duration": 13,
    "start_time": "2024-02-12T20:42:34.068Z"
   },
   {
    "duration": 399,
    "start_time": "2024-02-12T20:42:34.082Z"
   },
   {
    "duration": 14,
    "start_time": "2024-02-12T20:42:34.483Z"
   },
   {
    "duration": 13,
    "start_time": "2024-02-12T20:42:34.499Z"
   },
   {
    "duration": 1084,
    "start_time": "2024-02-12T20:42:34.514Z"
   },
   {
    "duration": 7,
    "start_time": "2024-02-12T20:42:35.601Z"
   },
   {
    "duration": 6,
    "start_time": "2024-02-12T20:42:35.611Z"
   },
   {
    "duration": 169,
    "start_time": "2024-02-12T20:42:35.621Z"
   },
   {
    "duration": 33,
    "start_time": "2024-02-12T20:42:35.797Z"
   },
   {
    "duration": 6,
    "start_time": "2024-02-12T20:42:35.837Z"
   },
   {
    "duration": 5,
    "start_time": "2024-02-12T20:42:35.845Z"
   },
   {
    "duration": 117,
    "start_time": "2024-02-12T20:42:35.851Z"
   },
   {
    "duration": 1266,
    "start_time": "2024-02-12T20:42:54.382Z"
   },
   {
    "duration": 83,
    "start_time": "2024-02-12T20:42:55.650Z"
   },
   {
    "duration": 15,
    "start_time": "2024-02-12T20:42:55.735Z"
   },
   {
    "duration": 17,
    "start_time": "2024-02-12T20:42:55.752Z"
   },
   {
    "duration": 11,
    "start_time": "2024-02-12T20:42:55.770Z"
   },
   {
    "duration": 34,
    "start_time": "2024-02-12T20:42:55.783Z"
   },
   {
    "duration": 14,
    "start_time": "2024-02-12T20:42:55.819Z"
   },
   {
    "duration": 25,
    "start_time": "2024-02-12T20:42:55.835Z"
   },
   {
    "duration": 16,
    "start_time": "2024-02-12T20:42:55.862Z"
   },
   {
    "duration": 34,
    "start_time": "2024-02-12T20:42:55.881Z"
   },
   {
    "duration": 14,
    "start_time": "2024-02-12T20:42:55.917Z"
   },
   {
    "duration": 41,
    "start_time": "2024-02-12T20:42:55.933Z"
   },
   {
    "duration": 7,
    "start_time": "2024-02-12T20:42:55.976Z"
   },
   {
    "duration": 5,
    "start_time": "2024-02-12T20:42:55.985Z"
   },
   {
    "duration": 27,
    "start_time": "2024-02-12T20:42:55.992Z"
   },
   {
    "duration": 21,
    "start_time": "2024-02-12T20:42:56.026Z"
   },
   {
    "duration": 5,
    "start_time": "2024-02-12T20:42:56.049Z"
   },
   {
    "duration": 209,
    "start_time": "2024-02-12T20:42:56.056Z"
   },
   {
    "duration": 108,
    "start_time": "2024-02-12T20:42:56.267Z"
   },
   {
    "duration": 171,
    "start_time": "2024-02-12T20:42:56.377Z"
   },
   {
    "duration": 114,
    "start_time": "2024-02-12T20:42:56.550Z"
   },
   {
    "duration": 9,
    "start_time": "2024-02-12T20:42:56.666Z"
   },
   {
    "duration": 197,
    "start_time": "2024-02-12T20:42:56.677Z"
   },
   {
    "duration": 118,
    "start_time": "2024-02-12T20:42:56.876Z"
   },
   {
    "duration": 14,
    "start_time": "2024-02-12T20:42:56.998Z"
   },
   {
    "duration": 182,
    "start_time": "2024-02-12T20:42:57.015Z"
   },
   {
    "duration": 136,
    "start_time": "2024-02-12T20:42:57.200Z"
   },
   {
    "duration": 10,
    "start_time": "2024-02-12T20:42:57.340Z"
   },
   {
    "duration": 8,
    "start_time": "2024-02-12T20:42:57.352Z"
   },
   {
    "duration": 12,
    "start_time": "2024-02-12T20:42:57.362Z"
   },
   {
    "duration": 27,
    "start_time": "2024-02-12T20:42:57.396Z"
   },
   {
    "duration": 16,
    "start_time": "2024-02-12T20:42:57.425Z"
   },
   {
    "duration": 12,
    "start_time": "2024-02-12T20:42:57.442Z"
   },
   {
    "duration": 12,
    "start_time": "2024-02-12T20:42:57.455Z"
   },
   {
    "duration": 10,
    "start_time": "2024-02-12T20:42:57.469Z"
   },
   {
    "duration": 36,
    "start_time": "2024-02-12T20:42:57.493Z"
   },
   {
    "duration": 234,
    "start_time": "2024-02-12T20:42:57.533Z"
   },
   {
    "duration": 19,
    "start_time": "2024-02-12T20:42:57.768Z"
   },
   {
    "duration": 371,
    "start_time": "2024-02-12T20:42:57.798Z"
   },
   {
    "duration": 11,
    "start_time": "2024-02-12T20:42:58.171Z"
   },
   {
    "duration": 12,
    "start_time": "2024-02-12T20:42:58.184Z"
   },
   {
    "duration": 1188,
    "start_time": "2024-02-12T20:42:58.199Z"
   },
   {
    "duration": 9,
    "start_time": "2024-02-12T20:42:59.388Z"
   },
   {
    "duration": 13,
    "start_time": "2024-02-12T20:42:59.399Z"
   },
   {
    "duration": 162,
    "start_time": "2024-02-12T20:42:59.414Z"
   },
   {
    "duration": 40,
    "start_time": "2024-02-12T20:42:59.578Z"
   },
   {
    "duration": 7,
    "start_time": "2024-02-12T20:42:59.620Z"
   },
   {
    "duration": 13,
    "start_time": "2024-02-12T20:42:59.629Z"
   },
   {
    "duration": 119,
    "start_time": "2024-02-12T20:42:59.644Z"
   },
   {
    "duration": 1209,
    "start_time": "2024-02-12T21:05:02.864Z"
   },
   {
    "duration": 193,
    "start_time": "2024-02-12T21:05:04.075Z"
   },
   {
    "duration": 15,
    "start_time": "2024-02-12T21:05:04.270Z"
   },
   {
    "duration": 11,
    "start_time": "2024-02-12T21:05:04.287Z"
   },
   {
    "duration": 13,
    "start_time": "2024-02-12T21:05:04.299Z"
   },
   {
    "duration": 12,
    "start_time": "2024-02-12T21:05:04.314Z"
   },
   {
    "duration": 10,
    "start_time": "2024-02-12T21:05:04.328Z"
   },
   {
    "duration": 11,
    "start_time": "2024-02-12T21:05:04.340Z"
   },
   {
    "duration": 31,
    "start_time": "2024-02-12T21:05:04.353Z"
   },
   {
    "duration": 9,
    "start_time": "2024-02-12T21:05:04.388Z"
   },
   {
    "duration": 10,
    "start_time": "2024-02-12T21:05:04.399Z"
   },
   {
    "duration": 7,
    "start_time": "2024-02-12T21:05:04.411Z"
   },
   {
    "duration": 6,
    "start_time": "2024-02-12T21:05:04.420Z"
   },
   {
    "duration": 5,
    "start_time": "2024-02-12T21:05:04.428Z"
   },
   {
    "duration": 48,
    "start_time": "2024-02-12T21:05:04.435Z"
   },
   {
    "duration": 8,
    "start_time": "2024-02-12T21:05:04.485Z"
   },
   {
    "duration": 9,
    "start_time": "2024-02-12T21:05:04.495Z"
   },
   {
    "duration": 166,
    "start_time": "2024-02-12T21:05:04.506Z"
   },
   {
    "duration": 90,
    "start_time": "2024-02-12T21:05:04.674Z"
   },
   {
    "duration": 147,
    "start_time": "2024-02-12T21:05:04.766Z"
   },
   {
    "duration": 106,
    "start_time": "2024-02-12T21:05:04.915Z"
   },
   {
    "duration": 9,
    "start_time": "2024-02-12T21:05:05.023Z"
   },
   {
    "duration": 180,
    "start_time": "2024-02-12T21:05:05.035Z"
   },
   {
    "duration": 107,
    "start_time": "2024-02-12T21:05:05.217Z"
   },
   {
    "duration": 9,
    "start_time": "2024-02-12T21:05:05.325Z"
   },
   {
    "duration": 163,
    "start_time": "2024-02-12T21:05:05.336Z"
   },
   {
    "duration": 117,
    "start_time": "2024-02-12T21:05:05.500Z"
   },
   {
    "duration": 8,
    "start_time": "2024-02-12T21:05:05.620Z"
   },
   {
    "duration": 9,
    "start_time": "2024-02-12T21:05:05.630Z"
   },
   {
    "duration": 22,
    "start_time": "2024-02-12T21:05:05.641Z"
   },
   {
    "duration": 24,
    "start_time": "2024-02-12T21:05:05.665Z"
   },
   {
    "duration": 11,
    "start_time": "2024-02-12T21:05:05.691Z"
   },
   {
    "duration": 14,
    "start_time": "2024-02-12T21:05:05.704Z"
   },
   {
    "duration": 13,
    "start_time": "2024-02-12T21:05:05.719Z"
   },
   {
    "duration": 6,
    "start_time": "2024-02-12T21:05:05.734Z"
   },
   {
    "duration": 41,
    "start_time": "2024-02-12T21:05:05.742Z"
   },
   {
    "duration": 225,
    "start_time": "2024-02-12T21:05:05.784Z"
   },
   {
    "duration": 12,
    "start_time": "2024-02-12T21:05:06.011Z"
   },
   {
    "duration": 316,
    "start_time": "2024-02-12T21:05:06.024Z"
   },
   {
    "duration": 13,
    "start_time": "2024-02-12T21:05:06.341Z"
   },
   {
    "duration": 4,
    "start_time": "2024-02-12T21:05:06.355Z"
   },
   {
    "duration": 956,
    "start_time": "2024-02-12T21:05:06.383Z"
   },
   {
    "duration": 4,
    "start_time": "2024-02-12T21:05:07.340Z"
   },
   {
    "duration": 5,
    "start_time": "2024-02-12T21:05:07.345Z"
   },
   {
    "duration": 145,
    "start_time": "2024-02-12T21:05:07.352Z"
   },
   {
    "duration": 17,
    "start_time": "2024-02-12T21:05:07.499Z"
   },
   {
    "duration": 5,
    "start_time": "2024-02-12T21:05:07.518Z"
   },
   {
    "duration": 5,
    "start_time": "2024-02-12T21:05:07.525Z"
   },
   {
    "duration": 112,
    "start_time": "2024-02-12T21:05:07.531Z"
   },
   {
    "duration": 153,
    "start_time": "2024-02-12T21:08:21.301Z"
   },
   {
    "duration": 137,
    "start_time": "2024-02-12T21:08:24.086Z"
   },
   {
    "duration": 47,
    "start_time": "2024-02-17T15:27:27.014Z"
   },
   {
    "duration": 1246,
    "start_time": "2024-02-17T15:27:31.810Z"
   },
   {
    "duration": 290,
    "start_time": "2024-02-17T15:27:33.058Z"
   },
   {
    "duration": 13,
    "start_time": "2024-02-17T15:27:33.349Z"
   },
   {
    "duration": 77,
    "start_time": "2024-02-17T15:27:33.364Z"
   },
   {
    "duration": 101,
    "start_time": "2024-02-17T15:27:33.442Z"
   },
   {
    "duration": 159,
    "start_time": "2024-02-17T15:27:33.545Z"
   },
   {
    "duration": 56,
    "start_time": "2024-02-17T15:27:33.705Z"
   },
   {
    "duration": 27,
    "start_time": "2024-02-17T15:27:33.762Z"
   },
   {
    "duration": 7,
    "start_time": "2024-02-17T15:27:33.790Z"
   },
   {
    "duration": 10,
    "start_time": "2024-02-17T15:27:33.799Z"
   },
   {
    "duration": 23,
    "start_time": "2024-02-17T15:27:33.810Z"
   },
   {
    "duration": 9,
    "start_time": "2024-02-17T15:27:33.834Z"
   },
   {
    "duration": 7,
    "start_time": "2024-02-17T15:27:33.844Z"
   },
   {
    "duration": 8,
    "start_time": "2024-02-17T15:27:33.853Z"
   },
   {
    "duration": 8,
    "start_time": "2024-02-17T15:27:33.862Z"
   },
   {
    "duration": 15,
    "start_time": "2024-02-17T15:27:33.872Z"
   },
   {
    "duration": 15,
    "start_time": "2024-02-17T15:27:33.889Z"
   },
   {
    "duration": 147,
    "start_time": "2024-02-17T15:27:33.906Z"
   },
   {
    "duration": 88,
    "start_time": "2024-02-17T15:27:34.055Z"
   },
   {
    "duration": 123,
    "start_time": "2024-02-17T15:27:34.145Z"
   },
   {
    "duration": 94,
    "start_time": "2024-02-17T15:27:34.269Z"
   },
   {
    "duration": 8,
    "start_time": "2024-02-17T15:27:34.365Z"
   },
   {
    "duration": 145,
    "start_time": "2024-02-17T15:27:34.374Z"
   },
   {
    "duration": 104,
    "start_time": "2024-02-17T15:27:34.521Z"
   },
   {
    "duration": 9,
    "start_time": "2024-02-17T15:27:34.627Z"
   },
   {
    "duration": 145,
    "start_time": "2024-02-17T15:27:34.638Z"
   },
   {
    "duration": 93,
    "start_time": "2024-02-17T15:27:34.785Z"
   },
   {
    "duration": 13,
    "start_time": "2024-02-17T15:27:34.882Z"
   },
   {
    "duration": 10,
    "start_time": "2024-02-17T15:27:34.896Z"
   },
   {
    "duration": 23,
    "start_time": "2024-02-17T15:27:34.907Z"
   },
   {
    "duration": 33,
    "start_time": "2024-02-17T15:27:34.931Z"
   },
   {
    "duration": 39,
    "start_time": "2024-02-17T15:27:34.966Z"
   },
   {
    "duration": 42,
    "start_time": "2024-02-17T15:27:35.007Z"
   },
   {
    "duration": 32,
    "start_time": "2024-02-17T15:27:35.051Z"
   },
   {
    "duration": 42,
    "start_time": "2024-02-17T15:27:35.084Z"
   },
   {
    "duration": 38,
    "start_time": "2024-02-17T15:27:35.128Z"
   },
   {
    "duration": 191,
    "start_time": "2024-02-17T15:27:35.168Z"
   },
   {
    "duration": 10,
    "start_time": "2024-02-17T15:27:35.360Z"
   },
   {
    "duration": 284,
    "start_time": "2024-02-17T15:27:35.371Z"
   },
   {
    "duration": 10,
    "start_time": "2024-02-17T15:27:35.656Z"
   },
   {
    "duration": 22,
    "start_time": "2024-02-17T15:27:35.668Z"
   },
   {
    "duration": 910,
    "start_time": "2024-02-17T15:27:35.691Z"
   },
   {
    "duration": 3,
    "start_time": "2024-02-17T15:27:36.603Z"
   },
   {
    "duration": 33,
    "start_time": "2024-02-17T15:27:36.608Z"
   },
   {
    "duration": 138,
    "start_time": "2024-02-17T15:27:36.642Z"
   },
   {
    "duration": 16,
    "start_time": "2024-02-17T15:27:36.781Z"
   },
   {
    "duration": 17,
    "start_time": "2024-02-17T15:27:36.799Z"
   },
   {
    "duration": 24,
    "start_time": "2024-02-17T15:27:36.817Z"
   },
   {
    "duration": 70,
    "start_time": "2024-02-17T15:27:36.843Z"
   },
   {
    "duration": 123,
    "start_time": "2024-02-17T15:37:11.164Z"
   },
   {
    "duration": 124,
    "start_time": "2024-02-17T15:38:43.688Z"
   },
   {
    "duration": 127,
    "start_time": "2024-02-17T15:39:17.264Z"
   },
   {
    "duration": 134,
    "start_time": "2024-02-17T15:39:48.813Z"
   },
   {
    "duration": 84,
    "start_time": "2024-02-17T15:42:25.631Z"
   },
   {
    "duration": 84,
    "start_time": "2024-02-17T15:42:51.807Z"
   },
   {
    "duration": 81,
    "start_time": "2024-02-17T15:44:01.359Z"
   },
   {
    "duration": 1121,
    "start_time": "2024-02-17T15:45:18.228Z"
   },
   {
    "duration": 66,
    "start_time": "2024-02-17T15:45:19.350Z"
   },
   {
    "duration": 19,
    "start_time": "2024-02-17T15:45:19.418Z"
   },
   {
    "duration": 16,
    "start_time": "2024-02-17T15:45:19.439Z"
   },
   {
    "duration": 9,
    "start_time": "2024-02-17T15:45:19.457Z"
   },
   {
    "duration": 14,
    "start_time": "2024-02-17T15:45:19.468Z"
   },
   {
    "duration": 7,
    "start_time": "2024-02-17T15:45:19.483Z"
   },
   {
    "duration": 21,
    "start_time": "2024-02-17T15:45:19.491Z"
   },
   {
    "duration": 4,
    "start_time": "2024-02-17T15:45:19.514Z"
   },
   {
    "duration": 13,
    "start_time": "2024-02-17T15:45:19.520Z"
   },
   {
    "duration": 6,
    "start_time": "2024-02-17T15:45:19.534Z"
   },
   {
    "duration": 8,
    "start_time": "2024-02-17T15:45:19.541Z"
   },
   {
    "duration": 23,
    "start_time": "2024-02-17T15:45:19.550Z"
   },
   {
    "duration": 5,
    "start_time": "2024-02-17T15:45:19.575Z"
   },
   {
    "duration": 14,
    "start_time": "2024-02-17T15:45:19.582Z"
   },
   {
    "duration": 25,
    "start_time": "2024-02-17T15:45:19.597Z"
   },
   {
    "duration": 4,
    "start_time": "2024-02-17T15:45:19.624Z"
   },
   {
    "duration": 143,
    "start_time": "2024-02-17T15:45:19.630Z"
   },
   {
    "duration": 81,
    "start_time": "2024-02-17T15:45:19.774Z"
   },
   {
    "duration": 139,
    "start_time": "2024-02-17T15:45:19.856Z"
   },
   {
    "duration": 78,
    "start_time": "2024-02-17T15:45:19.997Z"
   },
   {
    "duration": 22,
    "start_time": "2024-02-17T15:45:20.077Z"
   },
   {
    "duration": 132,
    "start_time": "2024-02-17T15:45:20.101Z"
   },
   {
    "duration": 95,
    "start_time": "2024-02-17T15:45:20.234Z"
   },
   {
    "duration": 8,
    "start_time": "2024-02-17T15:45:20.331Z"
   },
   {
    "duration": 138,
    "start_time": "2024-02-17T15:45:20.341Z"
   },
   {
    "duration": 94,
    "start_time": "2024-02-17T15:45:20.480Z"
   },
   {
    "duration": 21,
    "start_time": "2024-02-17T15:45:20.577Z"
   },
   {
    "duration": 8,
    "start_time": "2024-02-17T15:45:20.599Z"
   },
   {
    "duration": 27,
    "start_time": "2024-02-17T15:45:20.608Z"
   },
   {
    "duration": 17,
    "start_time": "2024-02-17T15:45:20.636Z"
   },
   {
    "duration": 11,
    "start_time": "2024-02-17T15:45:20.654Z"
   },
   {
    "duration": 10,
    "start_time": "2024-02-17T15:45:20.666Z"
   },
   {
    "duration": 17,
    "start_time": "2024-02-17T15:45:20.677Z"
   },
   {
    "duration": 7,
    "start_time": "2024-02-17T15:45:20.695Z"
   },
   {
    "duration": 11,
    "start_time": "2024-02-17T15:45:20.703Z"
   },
   {
    "duration": 189,
    "start_time": "2024-02-17T15:45:20.715Z"
   },
   {
    "duration": 11,
    "start_time": "2024-02-17T15:45:20.905Z"
   },
   {
    "duration": 269,
    "start_time": "2024-02-17T15:45:20.917Z"
   },
   {
    "duration": 14,
    "start_time": "2024-02-17T15:45:21.188Z"
   },
   {
    "duration": 9,
    "start_time": "2024-02-17T15:45:21.204Z"
   },
   {
    "duration": 879,
    "start_time": "2024-02-17T15:45:21.215Z"
   },
   {
    "duration": 3,
    "start_time": "2024-02-17T15:45:22.096Z"
   },
   {
    "duration": 27,
    "start_time": "2024-02-17T15:45:22.100Z"
   },
   {
    "duration": 138,
    "start_time": "2024-02-17T15:45:22.128Z"
   },
   {
    "duration": 16,
    "start_time": "2024-02-17T15:45:22.267Z"
   },
   {
    "duration": 16,
    "start_time": "2024-02-17T15:45:22.284Z"
   },
   {
    "duration": 28,
    "start_time": "2024-02-17T15:45:22.302Z"
   },
   {
    "duration": 91,
    "start_time": "2024-02-17T15:45:22.332Z"
   },
   {
    "duration": 85,
    "start_time": "2024-02-17T15:46:43.182Z"
   },
   {
    "duration": 131,
    "start_time": "2024-02-17T15:47:35.431Z"
   },
   {
    "duration": 132,
    "start_time": "2024-02-17T15:48:14.763Z"
   },
   {
    "duration": 102,
    "start_time": "2024-02-17T15:48:46.692Z"
   },
   {
    "duration": 82,
    "start_time": "2024-02-17T15:49:06.654Z"
   },
   {
    "duration": 98,
    "start_time": "2024-02-17T15:52:21.090Z"
   },
   {
    "duration": 132,
    "start_time": "2024-02-17T15:52:42.598Z"
   },
   {
    "duration": 133,
    "start_time": "2024-02-17T15:52:49.049Z"
   },
   {
    "duration": 128,
    "start_time": "2024-02-17T15:53:00.912Z"
   },
   {
    "duration": 181,
    "start_time": "2024-02-17T15:53:58.667Z"
   },
   {
    "duration": 4,
    "start_time": "2024-02-17T15:56:24.875Z"
   },
   {
    "duration": 4,
    "start_time": "2024-02-17T15:57:03.197Z"
   },
   {
    "duration": 95,
    "start_time": "2024-02-17T15:57:05.667Z"
   },
   {
    "duration": 3,
    "start_time": "2024-02-17T15:57:29.950Z"
   },
   {
    "duration": 4,
    "start_time": "2024-02-17T16:00:00.124Z"
   },
   {
    "duration": 108,
    "start_time": "2024-02-17T16:01:56.601Z"
   },
   {
    "duration": 197,
    "start_time": "2024-02-17T16:02:04.246Z"
   },
   {
    "duration": 6,
    "start_time": "2024-02-17T16:17:45.416Z"
   },
   {
    "duration": 12,
    "start_time": "2024-02-17T16:19:00.095Z"
   },
   {
    "duration": 5,
    "start_time": "2024-02-17T16:43:34.421Z"
   },
   {
    "duration": 4,
    "start_time": "2024-02-17T16:44:22.299Z"
   },
   {
    "duration": 1164,
    "start_time": "2024-02-17T16:44:41.699Z"
   },
   {
    "duration": 66,
    "start_time": "2024-02-17T16:44:42.864Z"
   },
   {
    "duration": 13,
    "start_time": "2024-02-17T16:44:42.931Z"
   },
   {
    "duration": 34,
    "start_time": "2024-02-17T16:44:42.946Z"
   },
   {
    "duration": 42,
    "start_time": "2024-02-17T16:44:42.982Z"
   },
   {
    "duration": 54,
    "start_time": "2024-02-17T16:44:43.025Z"
   },
   {
    "duration": 17,
    "start_time": "2024-02-17T16:44:43.081Z"
   },
   {
    "duration": 20,
    "start_time": "2024-02-17T16:44:43.100Z"
   },
   {
    "duration": 33,
    "start_time": "2024-02-17T16:44:43.122Z"
   },
   {
    "duration": 40,
    "start_time": "2024-02-17T16:44:43.158Z"
   },
   {
    "duration": 40,
    "start_time": "2024-02-17T16:44:43.199Z"
   },
   {
    "duration": 34,
    "start_time": "2024-02-17T16:44:43.240Z"
   },
   {
    "duration": 59,
    "start_time": "2024-02-17T16:44:43.275Z"
   },
   {
    "duration": 38,
    "start_time": "2024-02-17T16:44:43.335Z"
   },
   {
    "duration": 21,
    "start_time": "2024-02-17T16:44:43.375Z"
   },
   {
    "duration": 34,
    "start_time": "2024-02-17T16:44:43.397Z"
   },
   {
    "duration": 21,
    "start_time": "2024-02-17T16:44:43.433Z"
   },
   {
    "duration": 159,
    "start_time": "2024-02-17T16:44:43.456Z"
   },
   {
    "duration": 78,
    "start_time": "2024-02-17T16:44:43.617Z"
   },
   {
    "duration": 141,
    "start_time": "2024-02-17T16:44:43.697Z"
   },
   {
    "duration": 114,
    "start_time": "2024-02-17T16:44:43.840Z"
   },
   {
    "duration": 7,
    "start_time": "2024-02-17T16:44:43.956Z"
   },
   {
    "duration": 150,
    "start_time": "2024-02-17T16:44:43.965Z"
   },
   {
    "duration": 113,
    "start_time": "2024-02-17T16:44:44.116Z"
   },
   {
    "duration": 7,
    "start_time": "2024-02-17T16:44:44.231Z"
   },
   {
    "duration": 145,
    "start_time": "2024-02-17T16:44:44.239Z"
   },
   {
    "duration": 94,
    "start_time": "2024-02-17T16:44:44.386Z"
   },
   {
    "duration": 8,
    "start_time": "2024-02-17T16:44:44.493Z"
   },
   {
    "duration": 27,
    "start_time": "2024-02-17T16:44:44.502Z"
   },
   {
    "duration": 19,
    "start_time": "2024-02-17T16:44:44.530Z"
   },
   {
    "duration": 46,
    "start_time": "2024-02-17T16:44:44.550Z"
   },
   {
    "duration": 36,
    "start_time": "2024-02-17T16:44:44.597Z"
   },
   {
    "duration": 39,
    "start_time": "2024-02-17T16:44:44.634Z"
   },
   {
    "duration": 24,
    "start_time": "2024-02-17T16:44:44.675Z"
   },
   {
    "duration": 35,
    "start_time": "2024-02-17T16:44:44.700Z"
   },
   {
    "duration": 24,
    "start_time": "2024-02-17T16:44:44.736Z"
   },
   {
    "duration": 46,
    "start_time": "2024-02-17T16:44:44.762Z"
   },
   {
    "duration": 33,
    "start_time": "2024-02-17T16:44:44.809Z"
   },
   {
    "duration": 37,
    "start_time": "2024-02-17T16:44:44.843Z"
   },
   {
    "duration": 53,
    "start_time": "2024-02-17T16:44:44.882Z"
   },
   {
    "duration": 235,
    "start_time": "2024-02-17T16:44:44.937Z"
   },
   {
    "duration": 11,
    "start_time": "2024-02-17T16:44:45.174Z"
   },
   {
    "duration": 293,
    "start_time": "2024-02-17T16:44:45.193Z"
   },
   {
    "duration": 14,
    "start_time": "2024-02-17T16:44:45.488Z"
   },
   {
    "duration": 4,
    "start_time": "2024-02-17T16:44:45.504Z"
   },
   {
    "duration": 850,
    "start_time": "2024-02-17T16:44:45.509Z"
   },
   {
    "duration": 3,
    "start_time": "2024-02-17T16:44:46.361Z"
   },
   {
    "duration": 6,
    "start_time": "2024-02-17T16:44:46.365Z"
   },
   {
    "duration": 126,
    "start_time": "2024-02-17T16:44:46.373Z"
   },
   {
    "duration": 17,
    "start_time": "2024-02-17T16:44:46.501Z"
   },
   {
    "duration": 20,
    "start_time": "2024-02-17T16:44:46.519Z"
   },
   {
    "duration": 32,
    "start_time": "2024-02-17T16:44:46.541Z"
   },
   {
    "duration": 21,
    "start_time": "2024-02-17T16:44:46.574Z"
   },
   {
    "duration": 4,
    "start_time": "2024-02-17T16:44:46.597Z"
   },
   {
    "duration": 320,
    "start_time": "2024-02-17T16:46:31.254Z"
   },
   {
    "duration": 277,
    "start_time": "2024-02-17T16:46:39.783Z"
   },
   {
    "duration": 213,
    "start_time": "2024-02-17T16:46:56.635Z"
   },
   {
    "duration": 209,
    "start_time": "2024-02-17T16:47:54.038Z"
   },
   {
    "duration": 226,
    "start_time": "2024-02-17T16:48:00.137Z"
   },
   {
    "duration": 210,
    "start_time": "2024-02-17T16:48:04.600Z"
   },
   {
    "duration": 193,
    "start_time": "2024-02-17T16:48:08.131Z"
   },
   {
    "duration": 197,
    "start_time": "2024-02-17T16:48:11.259Z"
   },
   {
    "duration": 288,
    "start_time": "2024-02-17T16:48:18.423Z"
   },
   {
    "duration": 199,
    "start_time": "2024-02-17T16:48:22.883Z"
   },
   {
    "duration": 192,
    "start_time": "2024-02-17T16:48:27.736Z"
   },
   {
    "duration": 191,
    "start_time": "2024-02-17T16:48:32.107Z"
   },
   {
    "duration": 267,
    "start_time": "2024-02-17T16:48:35.616Z"
   },
   {
    "duration": 151,
    "start_time": "2024-02-17T16:48:39.816Z"
   },
   {
    "duration": 186,
    "start_time": "2024-02-17T16:49:12.606Z"
   },
   {
    "duration": 190,
    "start_time": "2024-02-17T16:49:22.134Z"
   },
   {
    "duration": 207,
    "start_time": "2024-02-17T16:49:36.762Z"
   },
   {
    "duration": 185,
    "start_time": "2024-02-17T16:49:42.003Z"
   },
   {
    "duration": 179,
    "start_time": "2024-02-17T16:50:14.683Z"
   },
   {
    "duration": 271,
    "start_time": "2024-02-17T16:50:22.852Z"
   },
   {
    "duration": 179,
    "start_time": "2024-02-17T16:50:33.212Z"
   },
   {
    "duration": 193,
    "start_time": "2024-02-17T16:51:27.719Z"
   },
   {
    "duration": 200,
    "start_time": "2024-02-17T16:51:44.171Z"
   },
   {
    "duration": 191,
    "start_time": "2024-02-17T16:52:00.296Z"
   },
   {
    "duration": 201,
    "start_time": "2024-02-17T16:52:11.221Z"
   },
   {
    "duration": 11,
    "start_time": "2024-02-17T16:52:48.657Z"
   },
   {
    "duration": 221,
    "start_time": "2024-02-17T16:53:41.832Z"
   },
   {
    "duration": 235,
    "start_time": "2024-02-17T16:53:54.191Z"
   },
   {
    "duration": 217,
    "start_time": "2024-02-17T16:54:11.046Z"
   },
   {
    "duration": 205,
    "start_time": "2024-02-17T16:54:19.705Z"
   },
   {
    "duration": 14,
    "start_time": "2024-02-17T16:54:34.209Z"
   },
   {
    "duration": 11,
    "start_time": "2024-02-17T16:55:09.688Z"
   },
   {
    "duration": 1120,
    "start_time": "2024-02-17T17:26:26.100Z"
   },
   {
    "duration": 65,
    "start_time": "2024-02-17T17:26:27.221Z"
   },
   {
    "duration": 12,
    "start_time": "2024-02-17T17:26:27.288Z"
   },
   {
    "duration": 21,
    "start_time": "2024-02-17T17:26:27.301Z"
   },
   {
    "duration": 15,
    "start_time": "2024-02-17T17:26:27.323Z"
   },
   {
    "duration": 37,
    "start_time": "2024-02-17T17:26:27.339Z"
   },
   {
    "duration": 12,
    "start_time": "2024-02-17T17:26:27.378Z"
   },
   {
    "duration": 17,
    "start_time": "2024-02-17T17:26:27.392Z"
   },
   {
    "duration": 10,
    "start_time": "2024-02-17T17:26:27.411Z"
   },
   {
    "duration": 13,
    "start_time": "2024-02-17T17:26:27.423Z"
   },
   {
    "duration": 27,
    "start_time": "2024-02-17T17:26:27.437Z"
   },
   {
    "duration": 10,
    "start_time": "2024-02-17T17:26:27.466Z"
   },
   {
    "duration": 15,
    "start_time": "2024-02-17T17:26:27.478Z"
   },
   {
    "duration": 7,
    "start_time": "2024-02-17T17:26:27.494Z"
   },
   {
    "duration": 8,
    "start_time": "2024-02-17T17:26:27.502Z"
   },
   {
    "duration": 16,
    "start_time": "2024-02-17T17:26:27.511Z"
   },
   {
    "duration": 15,
    "start_time": "2024-02-17T17:26:27.528Z"
   },
   {
    "duration": 1115,
    "start_time": "2024-02-17T17:26:29.526Z"
   },
   {
    "duration": 67,
    "start_time": "2024-02-17T17:26:30.643Z"
   },
   {
    "duration": 13,
    "start_time": "2024-02-17T17:26:30.711Z"
   },
   {
    "duration": 112,
    "start_time": "2024-02-17T17:26:30.726Z"
   },
   {
    "duration": 70,
    "start_time": "2024-02-17T17:26:30.840Z"
   },
   {
    "duration": 41,
    "start_time": "2024-02-17T17:26:30.912Z"
   },
   {
    "duration": 60,
    "start_time": "2024-02-17T17:26:30.955Z"
   },
   {
    "duration": 61,
    "start_time": "2024-02-17T17:26:31.016Z"
   },
   {
    "duration": 81,
    "start_time": "2024-02-17T17:26:31.078Z"
   },
   {
    "duration": 64,
    "start_time": "2024-02-17T17:26:31.161Z"
   },
   {
    "duration": 34,
    "start_time": "2024-02-17T17:26:31.227Z"
   },
   {
    "duration": 26,
    "start_time": "2024-02-17T17:26:31.263Z"
   },
   {
    "duration": 35,
    "start_time": "2024-02-17T17:26:31.291Z"
   },
   {
    "duration": 57,
    "start_time": "2024-02-17T17:26:31.328Z"
   },
   {
    "duration": 57,
    "start_time": "2024-02-17T17:26:31.386Z"
   },
   {
    "duration": 27,
    "start_time": "2024-02-17T17:26:31.445Z"
   },
   {
    "duration": 29,
    "start_time": "2024-02-17T17:26:31.474Z"
   },
   {
    "duration": 146,
    "start_time": "2024-02-17T17:26:31.505Z"
   },
   {
    "duration": 79,
    "start_time": "2024-02-17T17:26:31.652Z"
   },
   {
    "duration": 138,
    "start_time": "2024-02-17T17:26:31.732Z"
   },
   {
    "duration": 89,
    "start_time": "2024-02-17T17:26:31.872Z"
   },
   {
    "duration": 8,
    "start_time": "2024-02-17T17:26:31.963Z"
   },
   {
    "duration": 143,
    "start_time": "2024-02-17T17:26:31.972Z"
   },
   {
    "duration": 107,
    "start_time": "2024-02-17T17:26:32.116Z"
   },
   {
    "duration": 19,
    "start_time": "2024-02-17T17:26:32.225Z"
   },
   {
    "duration": 235,
    "start_time": "2024-02-17T17:26:32.246Z"
   },
   {
    "duration": 104,
    "start_time": "2024-02-17T17:26:32.482Z"
   },
   {
    "duration": 9,
    "start_time": "2024-02-17T17:26:32.596Z"
   },
   {
    "duration": 142,
    "start_time": "2024-02-17T17:26:32.606Z"
   },
   {
    "duration": 64,
    "start_time": "2024-02-17T17:26:32.750Z"
   },
   {
    "duration": 72,
    "start_time": "2024-02-17T17:26:32.815Z"
   },
   {
    "duration": 15,
    "start_time": "2024-02-17T17:26:32.889Z"
   },
   {
    "duration": 36,
    "start_time": "2024-02-17T17:26:32.905Z"
   },
   {
    "duration": 107,
    "start_time": "2024-02-17T17:26:32.942Z"
   },
   {
    "duration": 106,
    "start_time": "2024-02-17T17:26:33.050Z"
   },
   {
    "duration": 70,
    "start_time": "2024-02-17T17:26:33.158Z"
   },
   {
    "duration": 10,
    "start_time": "2024-02-17T17:26:33.230Z"
   },
   {
    "duration": 21,
    "start_time": "2024-02-17T17:26:33.241Z"
   },
   {
    "duration": 7,
    "start_time": "2024-02-17T17:26:33.264Z"
   },
   {
    "duration": 15,
    "start_time": "2024-02-17T17:26:33.272Z"
   },
   {
    "duration": 262,
    "start_time": "2024-02-17T17:26:33.288Z"
   },
   {
    "duration": 12,
    "start_time": "2024-02-17T17:26:33.552Z"
   },
   {
    "duration": 230,
    "start_time": "2024-02-17T17:26:33.566Z"
   },
   {
    "duration": 12,
    "start_time": "2024-02-17T17:26:33.797Z"
   },
   {
    "duration": 4,
    "start_time": "2024-02-17T17:26:33.810Z"
   },
   {
    "duration": 894,
    "start_time": "2024-02-17T17:26:33.815Z"
   },
   {
    "duration": 4,
    "start_time": "2024-02-17T17:26:34.711Z"
   },
   {
    "duration": 11,
    "start_time": "2024-02-17T17:26:34.716Z"
   },
   {
    "duration": 122,
    "start_time": "2024-02-17T17:26:34.728Z"
   },
   {
    "duration": 18,
    "start_time": "2024-02-17T17:26:34.852Z"
   },
   {
    "duration": 5,
    "start_time": "2024-02-17T17:26:34.871Z"
   },
   {
    "duration": 19,
    "start_time": "2024-02-17T17:26:34.877Z"
   },
   {
    "duration": 10,
    "start_time": "2024-02-17T17:26:34.897Z"
   },
   {
    "duration": 25,
    "start_time": "2024-02-17T17:26:34.908Z"
   },
   {
    "duration": 1111,
    "start_time": "2024-02-17T17:26:59.058Z"
   },
   {
    "duration": 66,
    "start_time": "2024-02-17T17:27:00.171Z"
   },
   {
    "duration": 12,
    "start_time": "2024-02-17T17:27:00.239Z"
   },
   {
    "duration": 66,
    "start_time": "2024-02-17T17:27:00.253Z"
   },
   {
    "duration": 61,
    "start_time": "2024-02-17T17:27:00.320Z"
   },
   {
    "duration": 132,
    "start_time": "2024-02-17T17:27:00.383Z"
   },
   {
    "duration": 46,
    "start_time": "2024-02-17T17:27:00.516Z"
   },
   {
    "duration": 47,
    "start_time": "2024-02-17T17:27:00.564Z"
   },
   {
    "duration": 48,
    "start_time": "2024-02-17T17:27:00.612Z"
   },
   {
    "duration": 55,
    "start_time": "2024-02-17T17:27:00.662Z"
   },
   {
    "duration": 44,
    "start_time": "2024-02-17T17:27:00.719Z"
   },
   {
    "duration": 50,
    "start_time": "2024-02-17T17:27:00.764Z"
   },
   {
    "duration": 61,
    "start_time": "2024-02-17T17:27:00.816Z"
   },
   {
    "duration": 198,
    "start_time": "2024-02-17T17:27:00.879Z"
   },
   {
    "duration": 47,
    "start_time": "2024-02-17T17:27:01.079Z"
   },
   {
    "duration": 50,
    "start_time": "2024-02-17T17:27:01.128Z"
   },
   {
    "duration": 32,
    "start_time": "2024-02-17T17:27:01.180Z"
   },
   {
    "duration": 194,
    "start_time": "2024-02-17T17:27:01.213Z"
   },
   {
    "duration": 85,
    "start_time": "2024-02-17T17:27:01.409Z"
   },
   {
    "duration": 141,
    "start_time": "2024-02-17T17:27:01.495Z"
   },
   {
    "duration": 94,
    "start_time": "2024-02-17T17:27:01.638Z"
   },
   {
    "duration": 8,
    "start_time": "2024-02-17T17:27:01.734Z"
   },
   {
    "duration": 208,
    "start_time": "2024-02-17T17:27:01.743Z"
   },
   {
    "duration": 100,
    "start_time": "2024-02-17T17:27:01.952Z"
   },
   {
    "duration": 7,
    "start_time": "2024-02-17T17:27:02.054Z"
   },
   {
    "duration": 159,
    "start_time": "2024-02-17T17:27:02.063Z"
   },
   {
    "duration": 105,
    "start_time": "2024-02-17T17:27:02.224Z"
   },
   {
    "duration": 8,
    "start_time": "2024-02-17T17:27:02.332Z"
   },
   {
    "duration": 18,
    "start_time": "2024-02-17T17:27:02.342Z"
   },
   {
    "duration": 33,
    "start_time": "2024-02-17T17:27:02.361Z"
   },
   {
    "duration": 31,
    "start_time": "2024-02-17T17:27:02.395Z"
   },
   {
    "duration": 26,
    "start_time": "2024-02-17T17:27:02.428Z"
   },
   {
    "duration": 33,
    "start_time": "2024-02-17T17:27:02.455Z"
   },
   {
    "duration": 70,
    "start_time": "2024-02-17T17:27:02.489Z"
   },
   {
    "duration": 173,
    "start_time": "2024-02-17T17:27:02.560Z"
   },
   {
    "duration": 43,
    "start_time": "2024-02-17T17:27:02.734Z"
   },
   {
    "duration": 34,
    "start_time": "2024-02-17T17:27:02.779Z"
   },
   {
    "duration": 35,
    "start_time": "2024-02-17T17:27:02.815Z"
   },
   {
    "duration": 35,
    "start_time": "2024-02-17T17:27:02.851Z"
   },
   {
    "duration": 35,
    "start_time": "2024-02-17T17:27:02.887Z"
   },
   {
    "duration": 300,
    "start_time": "2024-02-17T17:27:02.924Z"
   },
   {
    "duration": 10,
    "start_time": "2024-02-17T17:27:03.226Z"
   },
   {
    "duration": 246,
    "start_time": "2024-02-17T17:27:03.237Z"
   },
   {
    "duration": 15,
    "start_time": "2024-02-17T17:27:03.485Z"
   },
   {
    "duration": 195,
    "start_time": "2024-02-17T17:27:03.502Z"
   },
   {
    "duration": 854,
    "start_time": "2024-02-17T17:27:03.699Z"
   },
   {
    "duration": 3,
    "start_time": "2024-02-17T17:27:04.554Z"
   },
   {
    "duration": 23,
    "start_time": "2024-02-17T17:27:04.558Z"
   },
   {
    "duration": 125,
    "start_time": "2024-02-17T17:27:04.583Z"
   },
   {
    "duration": 15,
    "start_time": "2024-02-17T17:27:04.710Z"
   },
   {
    "duration": 20,
    "start_time": "2024-02-17T17:27:04.727Z"
   },
   {
    "duration": 12,
    "start_time": "2024-02-17T17:27:04.749Z"
   },
   {
    "duration": 18,
    "start_time": "2024-02-17T17:27:04.762Z"
   },
   {
    "duration": 4,
    "start_time": "2024-02-17T17:27:04.781Z"
   },
   {
    "duration": 1090,
    "start_time": "2024-02-17T23:43:05.713Z"
   },
   {
    "duration": 185,
    "start_time": "2024-02-17T23:43:06.805Z"
   },
   {
    "duration": 12,
    "start_time": "2024-02-17T23:43:06.991Z"
   },
   {
    "duration": 7,
    "start_time": "2024-02-17T23:43:07.005Z"
   },
   {
    "duration": 18,
    "start_time": "2024-02-17T23:43:07.014Z"
   },
   {
    "duration": 9,
    "start_time": "2024-02-17T23:43:07.033Z"
   },
   {
    "duration": 5,
    "start_time": "2024-02-17T23:43:07.044Z"
   },
   {
    "duration": 8,
    "start_time": "2024-02-17T23:43:07.049Z"
   },
   {
    "duration": 2,
    "start_time": "2024-02-17T23:43:07.059Z"
   },
   {
    "duration": 7,
    "start_time": "2024-02-17T23:43:07.063Z"
   },
   {
    "duration": 4,
    "start_time": "2024-02-17T23:43:07.071Z"
   },
   {
    "duration": 5,
    "start_time": "2024-02-17T23:43:07.076Z"
   },
   {
    "duration": 22,
    "start_time": "2024-02-17T23:43:07.082Z"
   },
   {
    "duration": 3,
    "start_time": "2024-02-17T23:43:07.105Z"
   },
   {
    "duration": 4,
    "start_time": "2024-02-17T23:43:07.109Z"
   },
   {
    "duration": 6,
    "start_time": "2024-02-17T23:43:07.114Z"
   },
   {
    "duration": 3,
    "start_time": "2024-02-17T23:43:07.121Z"
   },
   {
    "duration": 136,
    "start_time": "2024-02-17T23:43:07.125Z"
   },
   {
    "duration": 71,
    "start_time": "2024-02-17T23:43:07.263Z"
   },
   {
    "duration": 110,
    "start_time": "2024-02-17T23:43:07.336Z"
   },
   {
    "duration": 78,
    "start_time": "2024-02-17T23:43:07.447Z"
   },
   {
    "duration": 6,
    "start_time": "2024-02-17T23:43:07.526Z"
   },
   {
    "duration": 120,
    "start_time": "2024-02-17T23:43:07.533Z"
   },
   {
    "duration": 91,
    "start_time": "2024-02-17T23:43:07.655Z"
   },
   {
    "duration": 7,
    "start_time": "2024-02-17T23:43:07.747Z"
   },
   {
    "duration": 118,
    "start_time": "2024-02-17T23:43:07.755Z"
   },
   {
    "duration": 88,
    "start_time": "2024-02-17T23:43:07.874Z"
   },
   {
    "duration": 7,
    "start_time": "2024-02-17T23:43:07.965Z"
   },
   {
    "duration": 13,
    "start_time": "2024-02-17T23:43:07.973Z"
   },
   {
    "duration": 11,
    "start_time": "2024-02-17T23:43:07.987Z"
   },
   {
    "duration": 9,
    "start_time": "2024-02-17T23:43:07.999Z"
   },
   {
    "duration": 15,
    "start_time": "2024-02-17T23:43:08.010Z"
   },
   {
    "duration": 12,
    "start_time": "2024-02-17T23:43:08.026Z"
   },
   {
    "duration": 11,
    "start_time": "2024-02-17T23:43:08.039Z"
   },
   {
    "duration": 14,
    "start_time": "2024-02-17T23:43:08.051Z"
   },
   {
    "duration": 9,
    "start_time": "2024-02-17T23:43:08.066Z"
   },
   {
    "duration": 7,
    "start_time": "2024-02-17T23:43:08.076Z"
   },
   {
    "duration": 9,
    "start_time": "2024-02-17T23:43:08.084Z"
   },
   {
    "duration": 7,
    "start_time": "2024-02-17T23:43:08.094Z"
   },
   {
    "duration": 9,
    "start_time": "2024-02-17T23:43:08.102Z"
   },
   {
    "duration": 212,
    "start_time": "2024-02-17T23:43:08.112Z"
   },
   {
    "duration": 9,
    "start_time": "2024-02-17T23:43:08.325Z"
   },
   {
    "duration": 185,
    "start_time": "2024-02-17T23:43:08.335Z"
   },
   {
    "duration": 8,
    "start_time": "2024-02-17T23:43:08.521Z"
   },
   {
    "duration": 2,
    "start_time": "2024-02-17T23:43:08.531Z"
   },
   {
    "duration": 848,
    "start_time": "2024-02-17T23:43:08.534Z"
   },
   {
    "duration": 3,
    "start_time": "2024-02-17T23:43:09.383Z"
   },
   {
    "duration": 15,
    "start_time": "2024-02-17T23:43:09.387Z"
   },
   {
    "duration": 109,
    "start_time": "2024-02-17T23:43:09.403Z"
   },
   {
    "duration": 12,
    "start_time": "2024-02-17T23:43:09.514Z"
   },
   {
    "duration": 6,
    "start_time": "2024-02-17T23:43:09.528Z"
   },
   {
    "duration": 6,
    "start_time": "2024-02-17T23:43:09.536Z"
   },
   {
    "duration": 10,
    "start_time": "2024-02-17T23:43:09.543Z"
   },
   {
    "duration": 15,
    "start_time": "2024-02-17T23:43:09.554Z"
   }
  ],
  "kernelspec": {
   "display_name": "Python 3 (ipykernel)",
   "language": "python",
   "name": "python3"
  },
  "language_info": {
   "codemirror_mode": {
    "name": "ipython",
    "version": 3
   },
   "file_extension": ".py",
   "mimetype": "text/x-python",
   "name": "python",
   "nbconvert_exporter": "python",
   "pygments_lexer": "ipython3",
   "version": "3.11.5"
  },
  "toc": {
   "base_numbering": 1,
   "nav_menu": {},
   "number_sections": true,
   "sideBar": true,
   "skip_h1_title": true,
   "title_cell": "Table of Contents",
   "title_sidebar": "Contents",
   "toc_cell": false,
   "toc_position": {
    "height": "calc(100% - 180px)",
    "left": "10px",
    "top": "150px",
    "width": "335.994px"
   },
   "toc_section_display": true,
   "toc_window_display": true
  }
 },
 "nbformat": 4,
 "nbformat_minor": 5
}
